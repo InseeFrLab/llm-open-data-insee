{
 "cells": [
  {
   "cell_type": "markdown",
   "metadata": {},
   "source": [
    "# Bac à sable RAG\n",
    "\n",
    "Ce notebook part du principe que la _vector database_ est déjà prête, c'est-à-dire que les étapes suivantes ont déjà été faites:\n",
    "\n",
    "<div>\n",
    "<img src=\"https://python.langchain.com/assets/images/rag_indexing-8160f90a90a33253d0154659cf7d453f.png\" width=\"500\"/>\n",
    "</div>\n",
    "\n",
    "Nous nous intéressons à celles-ci:\n",
    "\n",
    "<div>\n",
    "<img src=\"https://python.langchain.com/assets/images/rag_retrieval_generation-1046a4668d6bb08786ef73c56d4f228a.png\" width=\"500\"/>\n",
    "</div>\n"
   ]
  },
  {
   "cell_type": "code",
   "execution_count": 1,
   "metadata": {},
   "outputs": [
    {
     "name": "stderr",
     "output_type": "stream",
     "text": [
      "/opt/conda/lib/python3.12/site-packages/tqdm/auto.py:21: TqdmWarning: IProgress not found. Please update jupyter and ipywidgets. See https://ipywidgets.readthedocs.io/en/stable/user_install.html\n",
      "  from .autonotebook import tqdm as notebook_tqdm\n"
     ]
    }
   ],
   "source": [
    "import logging\n",
    "import os\n",
    "import s3fs\n",
    "\n",
    "from langchain.schema.runnable.config import RunnableConfig\n",
    "from langchain_core.prompts import PromptTemplate\n",
    "\n",
    "from src.chain_building.build_chain import build_chain\n",
    "from src.chain_building.build_chain_validator import build_chain_validator\n",
    "from src.db_building import (\n",
    "    load_retriever,\n",
    "    load_vector_database\n",
    ")\n",
    "from src.model_building import build_llm_model\n",
    "from src.utils.formatting_utilities import add_sources_to_messages, str_to_bool\n",
    "\n"
   ]
  },
  {
   "cell_type": "markdown",
   "metadata": {},
   "source": [
    "## Import de la database et du modèle génératif\n",
    "\n",
    "### Base de données vectorielle"
   ]
  },
  {
   "cell_type": "code",
   "execution_count": 2,
   "metadata": {},
   "outputs": [
    {
     "name": "stdout",
     "output_type": "stream",
     "text": [
      "Model OrdalieTech/Solon-embeddings-large-0.1 found in local cache. \n",
      "Model mistralai/Mistral-7B-Instruct-v0.3 found in local cache. \n"
     ]
    }
   ],
   "source": [
    "import os\n",
    "from src.config import process_args, DefaultFullConfig, FullConfig, custom_config\n",
    "from src.model_building import cache_model_from_hf_hub\n",
    "\n",
    "EMB_MODEL_NAME = \"OrdalieTech/Solon-embeddings-large-0.1\"\n",
    "LLM_MODEL = \"mistralai/Mistral-7B-Instruct-v0.3\"\n",
    "\n",
    "hf_token = os.environ[\"HF_TOKEN\"]\n",
    "s3_token = os.environ[\"AWS_SESSION_TOKEN\"]\n",
    "\n",
    "cache_model_from_hf_hub(EMB_MODEL_NAME, hf_token=hf_token, s3_token=s3_token)\n",
    "cache_model_from_hf_hub(LLM_MODEL, hf_token=hf_token, s3_token=s3_token)\n",
    "\n",
    "DATABASE_RUN_ID = \"9c9c411829c947799e3acd3df1564c0b\"\n",
    "\n",
    "# Create a custom confz configuration\n",
    "config = custom_config(\n",
    "    defaults = { # These defaults can be overriden with env variables\n",
    "        \"MAX_NEW_TOKENS\": 2000,\n",
    "        \"MODEL_TEMPERATURE\": 1.0,\n",
    "        \"quantization\": True,\n",
    "        \"mlflow_run_id\": DATABASE_RUN_ID,\n",
    "    },\n",
    "    overrides = { # These values are going to be used no matter what\n",
    "        \"UVICORN_TIMEOUT_KEEP_ALIVE\": 0,\n",
    "        \"MAX_NEW_TOKENS\": 2000,\n",
    "        \"LLM_MODEL\": LLM_MODEL,\n",
    "        \"EMB_MODEL_NAME\": EMB_MODEL_NAME,\n",
    "        \"mlflow_run_id\": DATABASE_RUN_ID,\n",
    "    })\n",
    "RETURN_FULL_TEXT = True\n",
    "DO_SAMPLE = True\n",
    "\n",
    "CLI_MESSAGE_SEPARATOR = (config.cli_message_separator_length * \"-\") + \" \\n\"\n",
    "\n",
    "# Remote file configuration\n",
    "fs = s3fs.S3FileSystem(endpoint_url=config.s3_endpoint_url)"
   ]
  },
  {
   "cell_type": "code",
   "execution_count": 3,
   "metadata": {},
   "outputs": [],
   "source": [
    "db = load_vector_database(filesystem=fs, config=config)"
   ]
  },
  {
   "cell_type": "code",
   "execution_count": 4,
   "metadata": {},
   "outputs": [],
   "source": [
    "#f\"Nombre de documents dans la vector db: {len(db.get()['documents'])}\""
   ]
  },
  {
   "cell_type": "markdown",
   "metadata": {},
   "source": [
    "## La chaine tout en un (avec langchain)"
   ]
  },
  {
   "cell_type": "code",
   "execution_count": null,
   "metadata": {},
   "outputs": [
    {
     "name": "stderr",
     "output_type": "stream",
     "text": [
      "2024-12-04 09:47:22,910\tINFO util.py:154 -- Missing packages: ['ipywidgets']. Run `pip install -U ipywidgets`, then restart the notebook server for rich notebook output.\n"
     ]
    },
    {
     "name": "stdout",
     "output_type": "stream",
     "text": [
      "INFO 12-04 09:47:29 config.py:350] This model supports multiple tasks: {'embedding', 'generate'}. Defaulting to 'generate'.\n",
      "INFO 12-04 09:47:29 llm_engine.py:249] Initializing an LLM engine (v0.6.4.post1) with config: model='mistralai/Mistral-7B-Instruct-v0.3', speculative_config=None, tokenizer='mistralai/Mistral-7B-Instruct-v0.3', skip_tokenizer_init=False, tokenizer_mode=auto, revision=None, override_neuron_config=None, tokenizer_revision=None, trust_remote_code=False, dtype=torch.bfloat16, max_seq_len=32768, download_dir=None, load_format=LoadFormat.AUTO, tensor_parallel_size=1, pipeline_parallel_size=1, disable_custom_all_reduce=False, quantization=None, enforce_eager=False, kv_cache_dtype=auto, quantization_param_path=None, device_config=cuda, decoding_config=DecodingConfig(guided_decoding_backend='outlines'), observability_config=ObservabilityConfig(otlp_traces_endpoint=None, collect_model_forward_time=False, collect_model_execute_time=False), seed=0, served_model_name=mistralai/Mistral-7B-Instruct-v0.3, num_scheduler_steps=1, chunked_prefill_enabled=False multi_step_stream_outputs=True, enable_prefix_caching=False, use_async_output_proc=True, use_cached_outputs=False, chat_template_text_format=string, mm_processor_kwargs=None, pooler_config=None)\n"
     ]
    },
    {
     "name": "stderr",
     "output_type": "stream",
     "text": [
      "/opt/conda/lib/python3.12/site-packages/vllm/transformers_utils/tokenizer_group/tokenizer_group.py:23: FutureWarning: It is strongly recommended to run mistral models with `--tokenizer_mode \"mistral\"` to ensure correct encoding and decoding.\n",
      "  self.tokenizer = get_tokenizer(self.tokenizer_id, **tokenizer_config)\n"
     ]
    },
    {
     "name": "stdout",
     "output_type": "stream",
     "text": [
      "INFO 12-04 09:47:30 selector.py:135] Using Flash Attention backend.\n",
      "INFO 12-04 09:47:30 model_runner.py:1072] Starting to load model mistralai/Mistral-7B-Instruct-v0.3...\n",
      "INFO 12-04 09:47:30 weight_utils.py:243] Using model weights format ['*.safetensors']\n"
     ]
    },
    {
     "name": "stderr",
     "output_type": "stream",
     "text": [
      "Loading safetensors checkpoint shards:   0% Completed | 0/3 [00:00<?, ?it/s]\n",
      "Loading safetensors checkpoint shards:  33% Completed | 1/3 [00:00<00:01,  1.15it/s]\n",
      "Loading safetensors checkpoint shards:  67% Completed | 2/3 [00:01<00:00,  1.10it/s]\n",
      "Loading safetensors checkpoint shards: 100% Completed | 3/3 [00:02<00:00,  1.12it/s]\n",
      "Loading safetensors checkpoint shards: 100% Completed | 3/3 [00:02<00:00,  1.12it/s]\n",
      "\n"
     ]
    },
    {
     "name": "stdout",
     "output_type": "stream",
     "text": [
      "INFO 12-04 09:47:34 model_runner.py:1077] Loading model weights took 13.5083 GB\n",
      "INFO 12-04 09:47:35 worker.py:232] Memory profiling results: total_gpu_memory=93.00GiB initial_memory_usage=16.20GiB peak_torch_memory=19.00GiB memory_usage_post_profile=16.29GiB non_torch_memory=0.67GiB kv_cache_size=64.03GiB gpu_memory_utilization=0.90\n",
      "INFO 12-04 09:47:35 gpu_executor.py:113] # GPU blocks: 32784, # CPU blocks: 2048\n",
      "INFO 12-04 09:47:35 gpu_executor.py:117] Maximum concurrency for 32768 tokens per request: 16.01x\n",
      "INFO 12-04 09:47:37 model_runner.py:1400] Capturing cudagraphs for decoding. This may lead to unexpected consequences if the model is not static. To run the model in eager mode, set 'enforce_eager=True' or use '--enforce-eager' in the CLI.\n",
      "INFO 12-04 09:47:37 model_runner.py:1404] If out-of-memory error occurs during cudagraph capture, consider decreasing `gpu_memory_utilization` or switching to eager mode. You can also reduce the `max_num_seqs` as needed to decrease memory usage.\n",
      "INFO 12-04 09:47:57 model_runner.py:1518] Graph capturing finished in 20 secs, took 0.32 GiB\n"
     ]
    }
   ],
   "source": [
    "from langchain_community.llms import VLLM\n",
    "\n",
    "retriever, vectorstore = load_retriever(\n",
    "        vectorstore=db,\n",
    "        retriever_params={\"search_type\": \"similarity\", \"search_kwargs\": {\"k\": 10}},\n",
    "    )\n",
    "\n",
    "MODEL_TO_ARGS = {\n",
    "    \"mistralai/Mistral-7B-Instruct-v0.3\": {\n",
    "        \"tokenizer_mode\": \"mistral\",\n",
    "        \"config_format\": \"mistral\",\n",
    "        \"load_format\": \"mistral\",\n",
    "        \"enforce_eager\": True,\n",
    "    },\n",
    "    \"mistralai/Ministral-8B-Instruct-2410\": {\n",
    "        \"tokenizer_mode\": \"mistral\",\n",
    "        \"config_format\": \"mistral\",\n",
    "        \"load_format\": \"mistral\",\n",
    "        \"enforce_eager\": True,\n",
    "    },\n",
    "    \"mistralai/Mistral-Small-Instruct-2409\": {\n",
    "        \"tokenizer_mode\": \"mistral\",\n",
    "        \"config_format\": \"mistral\",\n",
    "        \"load_format\": \"mistral\",\n",
    "        \"enforce_eager\": True,\n",
    "    },\n",
    "    \"Qwen/Qwen2.5-1.5B-Instruct\": {},\n",
    "    \"Qwen/Qwen2.5-32B-Instruct\": {\n",
    "        \"max_model_len\": 20000,\n",
    "        \"gpu_memory_utilization\": 0.95,\n",
    "        \"enforce_eager\": True,\n",
    "    },\n",
    "    \"Qwen/Qwen2.5-72B-Instruct-GPTQ-Int4\": {\n",
    "        \"max_model_len\": 8192,\n",
    "        \"gpu_memory_utilization\": 1.0,\n",
    "        \"enforce_eager\": True,\n",
    "        \"enable_chunked_prefill\": True,\n",
    "        \"max_num_batched_tokens\": 2048,\n",
    "    },\n",
    "    \"meta-llama/Meta-Llama-3.1-8B-Instruct\": {},\n",
    "    \"hugging-quants/Meta-Llama-3.1-70B-Instruct-GPTQ-INT4\": {\n",
    "        \"max_model_len\": 8192,\n",
    "        \"gpu_memory_utilization\": 1.0,\n",
    "        \"enforce_eager\": True,\n",
    "        \"enable_chunked_prefill\": True,\n",
    "        \"max_num_batched_tokens\": 2048,\n",
    "    },\n",
    "    \"neuralmagic/Llama-3.1-Nemotron-70B-Instruct-HF-FP8-dynamic\": {\n",
    "        \"max_model_len\": 8192,\n",
    "        \"gpu_memory_utilization\": 1.0,\n",
    "        \"enforce_eager\": True,\n",
    "        \"enable_chunked_prefill\": True,\n",
    "        \"max_num_batched_tokens\": 2048,\n",
    "    },\n",
    "}\n",
    "\n",
    "llm = VLLM(model=LLM_MODEL, **MODEL_TO_ARGS.get(LLM_MODEL, {}))"
   ]
  },
  {
   "cell_type": "code",
   "execution_count": 6,
   "metadata": {},
   "outputs": [],
   "source": [
    "from src.utils import create_prompt_from_instructions, format_docs\n",
    "\n",
    "\n",
    "system_instructions = \"\"\"\n",
    "Tu es un assistant spécialisé dans la statistique publique.\n",
    "Tu réponds à des questions concernant les données de l'Insee, l'institut national statistique Français.\n",
    "\n",
    "Réponds en FRANCAIS UNIQUEMENT. Utilise une mise en forme au format markdown.\n",
    "\n",
    "En utilisant UNIQUEMENT les informations présentes dans le contexte, réponds de manière argumentée à la question posée.\n",
    "\n",
    "La réponse doit être développée et citer ses sources (titre et url de la publication) qui sont référencées à la fin.\n",
    "Cite notamment l'url d'origine de la publication, dans un format markdown.\n",
    "\n",
    "Cite 5 sources maximum.\n",
    "\n",
    "Tu n'es pas obligé d'utiliser les sources les moins pertinentes.\n",
    "\n",
    "Si tu ne peux pas induire ta réponse du contexte, ne réponds pas.\n",
    "\n",
    "Voici le contexte sur lequel tu dois baser ta réponse :\n",
    "Contexte: {context}\n",
    "\"\"\"\n",
    "\n",
    "question_instructions = \"\"\"\n",
    "Voici la question à laquelle tu dois répondre :\n",
    "Question: {question}\n",
    "\n",
    "Réponse:\n",
    "\"\"\"\n",
    "\n",
    "prompt = create_prompt_from_instructions(system_instructions, question_instructions)\n"
   ]
  },
  {
   "cell_type": "code",
   "execution_count": 7,
   "metadata": {},
   "outputs": [],
   "source": [
    "from langchain_core.output_parsers import StrOutputParser\n",
    "from langchain_core.runnables import RunnableParallel, RunnablePassthrough\n",
    "from langchain_core.output_parsers import StrOutputParser\n",
    "\n",
    "rag_chain = (\n",
    "        {\"context\": retriever | format_docs, \"question\": RunnablePassthrough()} | prompt | llm | StrOutputParser()\n",
    "    )"
   ]
  },
  {
   "cell_type": "code",
   "execution_count": 10,
   "metadata": {},
   "outputs": [
    {
     "name": "stderr",
     "output_type": "stream",
     "text": [
      "Batches: 100%|██████████| 1/1 [00:00<00:00, 82.09it/s]\n",
      "Processed prompts: 100%|██████████| 1/1 [00:01<00:00,  1.56s/it, est. speed input: 612.17 toks/s, output: 137.17 toks/s]\n"
     ]
    }
   ],
   "source": [
    "answer_pib = rag_chain.invoke(\"Quelle est la définition du PIB ?\")"
   ]
  },
  {
   "cell_type": "code",
   "execution_count": 9,
   "metadata": {},
   "outputs": [
    {
     "data": {
      "text/plain": [
       "\" Le PIB (Produit Intérieur Brut) représente la somme des valeurs marchandes des produits et des services, qu'ils soient encore en phase de production ou non, qui sont produits et consommés dans un territoire donné durant une période donnée. C'est donc la quantification de l'activité économique du pays, globalement monétaire, évaluée au cours d'un certain temps.\\n\\n     La source de cette définition se trouve dans la [présentation des définitions sur le site internet de l'Insee](https://www.insee.fr/fr/statistiques/4162165). Plus précisément, elle est décrite lors de la présentation du bilan économique pour l'année 2018.\\n\\n     Il est à noter que la définition du PIB varie énormément selon les contextes. L'Insee présente des détails supplémentaires dans uneINTRODUCTION GAOM PAR ÎTÉLÉPHÉRIE RAGADEAU, [AUTRE SOURCE](https://www.insee.fr/fr/statistiques/4258088). En effet, la source fournit une introduction détaillée sur la théorie économique du PIB et son histoire.\\n\\n     Pour en savoir plus sur le PIB, il est possible de consulter la page [Définitions, pour en savoir plus](https://www.insee.fr/fr/statistiques/5651387), qui présente notamment la distinction entre PIB courant et PIB constant et les differents complexes imputés.\\n\\n     De plus, il est important de noter que le PIB est calculé annuellement pour chaque année. Les données pour le PIB 2018 peuvent être consultées dans la page [Définitions](https://www.insee.fr/fr/statistiques/4162165). De même, les données pour les années précédentes sont disponibles via des pages similaires, comme celles pour le PIB de 2019 [ici](https://www.insee.fr/fr/statistiques/3548949), 2017 [ici](https://www.insee.fr/fr/statistiques/3548949) et 2016 [ici](https://www.insee.fr/fr/statistiques/2852600).\\n\\n     Les méthodes exactes pour calculer le PIB sont présentées dans la [source Sources et définitions](https://www.insee.fr/fr/statistiques/5426903).\\n\\n     Enfin, il est possible de consulter la bibliographie sur la définition du PIB [ici](https://www.insee.fr/fr/statistiques/3196937). Des travaux théoriques et détaillés sur le PIB sont également disponibles [ici](https://www.insee.fr/fr/statistiques/3600202).\\n\\n     Références :\\n             - [Définitions](https://www.insee.fr/fr/statistiques/4162165)\\n             - [Définitions et bibliographie](https://www.insee.fr/fr/statistiques/3196937)\\n             - [Définitions et sources](https://www.insee.fr/fr/statistiques/4258088)\\n             - [Définitions, pour en savoir plus](https://www.insee.fr/fr/statistiques/5651387)\\n             - [Sources et définitions](https://www.insee.fr/fr/statistiques/5426903)\\n             - [Définitions, bibliographie](https://www.insee.fr/fr/statistiques/3600202)\""
      ]
     },
     "execution_count": 9,
     "metadata": {},
     "output_type": "execute_result"
    }
   ],
   "source": [
    "answer_pib"
   ]
  },
  {
   "cell_type": "code",
   "execution_count": 11,
   "metadata": {},
   "outputs": [
    {
     "data": {
      "text/markdown": [
       " Le PIB (Produit intérieur brut) est un indicateur économique important qui mesure l'ensemble des biens et des services produits par une économie en un fonctionnement normal sur un laps de temps donné. Il est calculé, à l'échelle nationale, sur la base des propriétés des entreprises, appels de mine, fermes, partenaires du secteur non marchand, statistiques harmonisées de la production de petites entreprises et de la consommation de ménages, régionaux et fins de compte. La (source pour la définition du PIB) donne plus de details sur cette définition économique. En outre, il est possible de trouver des exemples à partir de la définition de la publication (Doc 1 et Doc 5) sur le bilan économique de l'année 2016, 2017, 2018."
      ],
      "text/plain": [
       "<IPython.core.display.Markdown object>"
      ]
     },
     "metadata": {},
     "output_type": "display_data"
    }
   ],
   "source": [
    "from IPython.display import display, Markdown, Latex\n",
    "\n",
    "display(\n",
    "    Markdown(\n",
    "        answer_pib.replace(\"   \", \"\")\n",
    "    )\n",
    ")"
   ]
  },
  {
   "cell_type": "code",
   "execution_count": 10,
   "metadata": {},
   "outputs": [],
   "source": [
    "rag_chain_from_docs = (\n",
    "    RunnablePassthrough.assign(context=(lambda x: format_docs(x[\"context\"])))\n",
    "    | prompt\n",
    "    | llm\n",
    "    | StrOutputParser()\n",
    ")\n",
    "\n",
    "rag_chain_with_source = RunnableParallel(\n",
    "    {\"context\": retriever, \"question\": RunnablePassthrough()}\n",
    ").assign(answer=rag_chain_from_docs)"
   ]
  },
  {
   "cell_type": "code",
   "execution_count": 11,
   "metadata": {},
   "outputs": [
    {
     "name": "stdout",
     "output_type": "stream",
     "text": [
      "{'question': 'Quelle est la définition du PIB ?'}\n"
     ]
    },
    {
     "name": "stderr",
     "output_type": "stream",
     "text": [
      "Batches:   0%|          | 0/1 [00:00<?, ?it/s]"
     ]
    },
    {
     "name": "stderr",
     "output_type": "stream",
     "text": [
      "Batches: 100%|██████████| 1/1 [00:00<00:00, 100.25it/s]\n"
     ]
    },
    {
     "name": "stdout",
     "output_type": "stream",
     "text": [
      "{'context': [Document(metadata={'Header 1': 'Définitions', 'Header 2': 'Bilan économique 2018', 'categorie': 'Publications grand public', 'collection': 'Bilans économiques', 'dateDiffusion': '2019-06-06 10:00', 'id': '', 'libelleAffichageGeo': 'Bretagne', 'sousTitre': '', 'theme': 'Économie générale (inflation, PIB, dette,...)', 'titre': 'Définitions', 'url': 'https://www.insee.fr/fr/statistiques/4162165', 'xml_auteurs': '', 'xml_content': '', 'xml_intertitre': ''}, page_content='# Définitions  \\n## Bilan économique 2018'), Document(metadata={'Header 1': 'Définitions', 'Header 2': 'Bilan économique 2016', 'categorie': 'Publications grand public', 'collection': 'Bilans économiques', 'dateDiffusion': '2017-05-23 10:00', 'id': '', 'libelleAffichageGeo': 'Occitanie', 'sousTitre': '', 'theme': 'Conjoncture', 'titre': 'Définitions', 'url': 'https://www.insee.fr/fr/statistiques/2852600', 'xml_auteurs': '', 'xml_content': '', 'xml_intertitre': ''}, page_content='# Définitions  \\n## Bilan économique 2016'), Document(metadata={'Header 1': 'Définitions et bibliographie', 'Header 2': 'Résumé :', 'categorie': 'Publications grand public', 'collection': 'Insee Dossier Ile-de-France', 'dateDiffusion': '2019-11-29 11:00', 'id': '', 'libelleAffichageGeo': 'Centre-Val de Loire, Normandie, Bourgogne-Franche-Comté', 'sousTitre': '', 'theme': 'Éducation – Formation – Compétences', 'titre': 'Définitions et bibliographie', 'url': 'https://www.insee.fr/fr/statistiques/4258088', 'xml_auteurs': '', 'xml_content': '', 'xml_intertitre': ''}, page_content='# Définitions et bibliographie  \\n## Résumé :'), Document(metadata={'Header 1': 'Définitions et sources', 'Header 2': 'Résumé :', 'categorie': 'Publications grand public', 'collection': 'Insee Dossier Réunion', 'dateDiffusion': '2017-12-12 07:00', 'id': '', 'libelleAffichageGeo': 'La Réunion', 'sousTitre': '', 'theme': 'Villes et quartiers', 'titre': 'Définitions et sources', 'url': 'https://www.insee.fr/fr/statistiques/3284368', 'xml_auteurs': '', 'xml_content': '', 'xml_intertitre': ''}, page_content='# Définitions et sources  \\n## Résumé :'), Document(metadata={'Header 1': 'Définitions', 'Header 2': 'Bilan économique 2017', 'categorie': 'Publications grand public', 'collection': 'Bilans économiques', 'dateDiffusion': '2018-05-31 10:01', 'id': '', 'libelleAffichageGeo': 'Île-de-France', 'sousTitre': '', 'theme': 'Économie générale (inflation, PIB, dette,...)', 'titre': 'Définitions', 'url': 'https://www.insee.fr/fr/statistiques/3548949', 'xml_auteurs': '', 'xml_content': '', 'xml_intertitre': ''}, page_content='# Définitions  \\n## Bilan économique 2017'), Document(metadata={'Header 1': 'Définitions', 'Header 2': 'Résumé :', 'categorie': 'Publications grand public', 'collection': \"L'industrie en France\", 'dateDiffusion': '2006-10-31 23:00', 'id': '', 'libelleAffichageGeo': 'France', 'sousTitre': '', 'theme': \"Caractéristiques de l'industrie\", 'titre': 'Définitions', 'url': 'https://www.insee.fr/fr/statistiques/1372241', 'xml_auteurs': '', 'xml_content': '', 'xml_intertitre': ''}, page_content='# Définitions  \\n## Résumé :'), Document(metadata={'Header 1': 'Définitions, pour en savoir plus', 'Header 2': 'Résumé :', 'categorie': 'Publications grand public', 'collection': 'Insee Dossier Occitanie', 'dateDiffusion': '2021-10-26 10:00', 'id': '', 'libelleAffichageGeo': 'Occitanie', 'sousTitre': '', 'theme': 'Villes et quartiers', 'titre': 'Définitions, pour en savoir plus', 'url': 'https://www.insee.fr/fr/statistiques/5651387', 'xml_auteurs': '', 'xml_content': '', 'xml_intertitre': ''}, page_content='# Définitions, pour en savoir plus  \\n## Résumé :'), Document(metadata={'Header 1': 'Sources et définitions', 'Header 2': 'Résumé :', 'categorie': 'Publications grand public', 'collection': 'Insee Dossier Auvergne-Rhône-Alpes', 'dateDiffusion': '2021-09-21 10:00', 'id': '', 'libelleAffichageGeo': 'Métropole de Lyon', 'sousTitre': '', 'theme': 'Villes et quartiers', 'titre': 'Sources et définitions', 'url': 'https://www.insee.fr/fr/statistiques/5426903', 'xml_auteurs': '', 'xml_content': '', 'xml_intertitre': ''}, page_content='# Sources et définitions  \\n## Résumé :'), Document(metadata={'Header 1': 'Définitions, sources, bibliographie', 'Header 2': 'Résumé :', 'categorie': 'Publications grand public', 'collection': 'Insee Dossier Grand Est', 'dateDiffusion': '2017-11-15 11:00', 'id': '', 'libelleAffichageGeo': 'Grand Est', 'sousTitre': '', 'theme': 'Équipements et services à la population', 'titre': 'Définitions, sources, bibliographie', 'url': 'https://www.insee.fr/fr/statistiques/3196937', 'xml_auteurs': '', 'xml_content': '', 'xml_intertitre': ''}, page_content='# Définitions, sources, bibliographie  \\n## Résumé :'), Document(metadata={'Header 1': 'Définitions, bibliographie', 'Header 2': 'Résumé :', 'categorie': 'Publications grand public', 'collection': 'Insee Dossier Grand Est', 'dateDiffusion': '2018-08-28 04:00', 'id': '', 'libelleAffichageGeo': 'Grand Est', 'sousTitre': '', 'theme': 'Évolution et structure de la population', 'titre': 'Définitions, bibliographie', 'url': 'https://www.insee.fr/fr/statistiques/3600202', 'xml_auteurs': '', 'xml_content': '', 'xml_intertitre': ''}, page_content='# Définitions, bibliographie  \\n## Résumé :')]}\n"
     ]
    },
    {
     "name": "stderr",
     "output_type": "stream",
     "text": [
      "Processed prompts: 100%|██████████| 1/1 [00:03<00:00,  3.69s/it, est. speed input: 259.01 toks/s, output: 138.86 toks/s]"
     ]
    },
    {
     "name": "stdout",
     "output_type": "stream",
     "text": [
      "{'answer': ' Le PIB (Produit intérieur brut) est la somme des valeurs des biens et services manufacturés, immateriaux, agricoles et de services fournis au cours d’une année par les différents secteurs productifs d’une économie[1](https://www.insee.fr/fr/statistiques/4258088).\\n\\n     Plus précisément, le PIB est un indicateur statistique qui mesure la valeur totale des activités productives d’une économie pendant une année donnée en termes de revenu, dans le sens où il représente l’ensemble des biens et services que les secteurs productifs ont pu produire pendant cette année[2](https://www.insee.fr/fr/statistiques/4162165).\\n\\n     Il est calculé pour chaque année et nous disposons des données pour les années 2016 [3](https://www.insee.fr/fr/statistiques/2852600), 2017 [4](https://www.insee.fr/fr/statistiques/3548949), ainsi que pour la plus récente année 2018 [5](https://www.insee.fr/fr/statistiques/4162165).\\n\\n     Les données intéressantes pour le PIB sont aussi la part des dépenses personnelles finales représentant la moitié du PIB en moyenne de 2016 à 2018 [1](https://www.insee.fr/fr/statistiques/4258088).\\n\\n     L’accent est aussi mis sur la mesure des inégalités dans l’économie, pour savoir les différences de revenus entre les membres d’une même population. Nous savons ainsi que la part des revenus des personnes ayant le taux de revenu supérieur à la médiane est de 53,9 % [6](https://www.insee.fr/fr/statistiques/1372241) en 2016.\\n\\n     Pour en sav'}\n"
     ]
    },
    {
     "name": "stderr",
     "output_type": "stream",
     "text": [
      "\n"
     ]
    }
   ],
   "source": [
    "for chunk in rag_chain_with_source.stream(\"Quelle est la définition du PIB ?\"):\n",
    "    print(chunk)"
   ]
  },
  {
   "cell_type": "code",
   "execution_count": 15,
   "metadata": {},
   "outputs": [
    {
     "name": "stderr",
     "output_type": "stream",
     "text": [
      "Batches: 100%|██████████| 1/1 [00:00<00:00, 71.34it/s]\n"
     ]
    },
    {
     "data": {
      "text/plain": [
       "[Document(metadata={'Header 1': 'Définitions', 'Header 2': 'Bilan économique 2018', 'categorie': 'Publications grand public', 'collection': 'Bilans économiques', 'dateDiffusion': '2019-06-06 10:00', 'id': '', 'libelleAffichageGeo': 'Bretagne', 'sousTitre': '', 'theme': 'Économie générale (inflation, PIB, dette,...)', 'titre': 'Définitions', 'url': 'https://www.insee.fr/fr/statistiques/4162165', 'xml_auteurs': '', 'xml_content': '', 'xml_intertitre': ''}, page_content='# Définitions  \\n## Bilan économique 2018'),\n",
       " Document(metadata={'Header 1': 'Définitions', 'Header 2': 'Bilan économique 2016', 'categorie': 'Publications grand public', 'collection': 'Bilans économiques', 'dateDiffusion': '2017-05-23 10:00', 'id': '', 'libelleAffichageGeo': 'Occitanie', 'sousTitre': '', 'theme': 'Conjoncture', 'titre': 'Définitions', 'url': 'https://www.insee.fr/fr/statistiques/2852600', 'xml_auteurs': '', 'xml_content': '', 'xml_intertitre': ''}, page_content='# Définitions  \\n## Bilan économique 2016'),\n",
       " Document(metadata={'Header 1': 'Définitions et bibliographie', 'Header 2': 'Résumé :', 'categorie': 'Publications grand public', 'collection': 'Insee Dossier Ile-de-France', 'dateDiffusion': '2019-11-29 11:00', 'id': '', 'libelleAffichageGeo': 'Centre-Val de Loire, Normandie, Bourgogne-Franche-Comté', 'sousTitre': '', 'theme': 'Éducation – Formation – Compétences', 'titre': 'Définitions et bibliographie', 'url': 'https://www.insee.fr/fr/statistiques/4258088', 'xml_auteurs': '', 'xml_content': '', 'xml_intertitre': ''}, page_content='# Définitions et bibliographie  \\n## Résumé :'),\n",
       " Document(metadata={'Header 1': 'Définitions et sources', 'Header 2': 'Résumé :', 'categorie': 'Publications grand public', 'collection': 'Insee Dossier Réunion', 'dateDiffusion': '2017-12-12 07:00', 'id': '', 'libelleAffichageGeo': 'La Réunion', 'sousTitre': '', 'theme': 'Villes et quartiers', 'titre': 'Définitions et sources', 'url': 'https://www.insee.fr/fr/statistiques/3284368', 'xml_auteurs': '', 'xml_content': '', 'xml_intertitre': ''}, page_content='# Définitions et sources  \\n## Résumé :'),\n",
       " Document(metadata={'Header 1': 'Définitions', 'Header 2': 'Bilan économique 2017', 'categorie': 'Publications grand public', 'collection': 'Bilans économiques', 'dateDiffusion': '2018-05-31 10:01', 'id': '', 'libelleAffichageGeo': 'Île-de-France', 'sousTitre': '', 'theme': 'Économie générale (inflation, PIB, dette,...)', 'titre': 'Définitions', 'url': 'https://www.insee.fr/fr/statistiques/3548949', 'xml_auteurs': '', 'xml_content': '', 'xml_intertitre': ''}, page_content='# Définitions  \\n## Bilan économique 2017')]"
      ]
     },
     "execution_count": 15,
     "metadata": {},
     "output_type": "execute_result"
    }
   ],
   "source": [
    "retriever.invoke(\"Quelle est la définition du PIB ?\")[:5]"
   ]
  },
  {
   "cell_type": "markdown",
   "metadata": {},
   "source": [
    "## La chaine décomposée"
   ]
  },
  {
   "cell_type": "markdown",
   "metadata": {},
   "source": [
    "### Modèle génératif"
   ]
  },
  {
   "cell_type": "code",
   "execution_count": 6,
   "metadata": {},
   "outputs": [
    {
     "name": "stderr",
     "output_type": "stream",
     "text": [
      "2024-12-03 15:28:54,342\tINFO util.py:154 -- Missing packages: ['ipywidgets']. Run `pip install -U ipywidgets`, then restart the notebook server for rich notebook output.\n"
     ]
    },
    {
     "name": "stdout",
     "output_type": "stream",
     "text": [
      "INFO 12-03 15:29:02 config.py:350] This model supports multiple tasks: {'generate', 'embedding'}. Defaulting to 'generate'.\n",
      "INFO 12-03 15:29:02 llm_engine.py:249] Initializing an LLM engine (v0.6.4.post1) with config: model='mistralai/Mistral-7B-Instruct-v0.3', speculative_config=None, tokenizer='mistralai/Mistral-7B-Instruct-v0.3', skip_tokenizer_init=False, tokenizer_mode=auto, revision=None, override_neuron_config=None, tokenizer_revision=None, trust_remote_code=False, dtype=torch.bfloat16, max_seq_len=32768, download_dir=None, load_format=LoadFormat.AUTO, tensor_parallel_size=1, pipeline_parallel_size=1, disable_custom_all_reduce=False, quantization=None, enforce_eager=False, kv_cache_dtype=auto, quantization_param_path=None, device_config=cuda, decoding_config=DecodingConfig(guided_decoding_backend='outlines'), observability_config=ObservabilityConfig(otlp_traces_endpoint=None, collect_model_forward_time=False, collect_model_execute_time=False), seed=0, served_model_name=mistralai/Mistral-7B-Instruct-v0.3, num_scheduler_steps=1, chunked_prefill_enabled=False multi_step_stream_outputs=True, enable_prefix_caching=False, use_async_output_proc=True, use_cached_outputs=False, chat_template_text_format=string, mm_processor_kwargs=None, pooler_config=None)\n"
     ]
    },
    {
     "name": "stderr",
     "output_type": "stream",
     "text": [
      "/opt/conda/lib/python3.12/site-packages/vllm/transformers_utils/tokenizer_group/tokenizer_group.py:23: FutureWarning: It is strongly recommended to run mistral models with `--tokenizer_mode \"mistral\"` to ensure correct encoding and decoding.\n",
      "  self.tokenizer = get_tokenizer(self.tokenizer_id, **tokenizer_config)\n"
     ]
    },
    {
     "name": "stdout",
     "output_type": "stream",
     "text": [
      "INFO 12-03 15:29:02 selector.py:135] Using Flash Attention backend.\n",
      "INFO 12-03 15:29:04 model_runner.py:1072] Starting to load model mistralai/Mistral-7B-Instruct-v0.3...\n",
      "INFO 12-03 15:29:04 weight_utils.py:243] Using model weights format ['*.safetensors']\n"
     ]
    },
    {
     "name": "stderr",
     "output_type": "stream",
     "text": [
      "Loading safetensors checkpoint shards:   0% Completed | 0/3 [00:00<?, ?it/s]\n",
      "Loading safetensors checkpoint shards:  33% Completed | 1/3 [00:00<00:01,  1.19it/s]\n",
      "Loading safetensors checkpoint shards:  67% Completed | 2/3 [00:01<00:00,  1.15it/s]\n",
      "Loading safetensors checkpoint shards: 100% Completed | 3/3 [00:02<00:00,  1.15it/s]\n",
      "Loading safetensors checkpoint shards: 100% Completed | 3/3 [00:02<00:00,  1.15it/s]\n",
      "\n"
     ]
    },
    {
     "name": "stdout",
     "output_type": "stream",
     "text": [
      "INFO 12-03 15:29:52 model_runner.py:1077] Loading model weights took 13.5083 GB\n",
      "INFO 12-03 15:29:54 worker.py:232] Memory profiling results: total_gpu_memory=93.00GiB initial_memory_usage=14.12GiB peak_torch_memory=16.92GiB memory_usage_post_profile=14.22GiB non_torch_memory=0.68GiB kv_cache_size=66.11GiB gpu_memory_utilization=0.90\n",
      "INFO 12-03 15:29:54 gpu_executor.py:113] # GPU blocks: 33847, # CPU blocks: 2048\n",
      "INFO 12-03 15:29:54 gpu_executor.py:117] Maximum concurrency for 32768 tokens per request: 16.53x\n",
      "INFO 12-03 15:29:56 model_runner.py:1400] Capturing cudagraphs for decoding. This may lead to unexpected consequences if the model is not static. To run the model in eager mode, set 'enforce_eager=True' or use '--enforce-eager' in the CLI.\n",
      "INFO 12-03 15:29:56 model_runner.py:1404] If out-of-memory error occurs during cudagraph capture, consider decreasing `gpu_memory_utilization` or switching to eager mode. You can also reduce the `max_num_seqs` as needed to decrease memory usage.\n",
      "INFO 12-03 15:30:11 model_runner.py:1518] Graph capturing finished in 16 secs, took 0.32 GiB\n"
     ]
    }
   ],
   "source": [
    "import os\n",
    "from langchain_community.llms import VLLM\n",
    "\n",
    "MAX_NEW_TOKEN = 8192\n",
    "TEMPERATURE = 0.2\n",
    "REP_PENALTY = 1.1\n",
    "TOP_P = 0.8\n",
    "\n",
    "hf_token = os.environ[\"HF_TOKEN\"]\n",
    "s3_token = os.environ[\"AWS_SESSION_TOKEN\"]\n",
    "\n",
    "#cache_model_from_hf_hub(EMB_MODEL_NAME, hf_token=hf_token, s3_token=s3_token)\n",
    "#cache_model_from_hf_hub(LLM_MODEL, hf_token=hf_token, s3_token=s3_token)\n",
    "LLM_MODEL = \"mistralai/Mistral-7B-Instruct-v0.3\"\n",
    "\n",
    "llm = VLLM(\n",
    "        model=LLM_MODEL,\n",
    "        max_new_tokens=MAX_NEW_TOKEN,\n",
    "        top_p=TOP_P,\n",
    "        temperature=TEMPERATURE,\n",
    "        rep_penalty=REP_PENALTY,\n",
    "        tokenizer_mode = \"mistral\",\n",
    "        config_format =  \"mistral\",\n",
    "        load_format = \"mistral\",\n",
    "        enforce_eager = True\n",
    "        )"
   ]
  },
  {
   "cell_type": "code",
   "execution_count": 12,
   "metadata": {},
   "outputs": [
    {
     "name": "stderr",
     "output_type": "stream",
     "text": [
      "Processed prompts: 100%|██████████| 3/3 [00:03<00:00,  1.18s/it, est. speed input: 6.21 toks/s, output: 301.60 toks/s]\n"
     ]
    },
    {
     "data": {
      "text/plain": [
       "LLMResult(generations=[[Generation(text='\\n\\nIngredients:\\n\\n- 100g of sugar\\n- 100g of butter\\n- 4 apples\\n- 1 sheet of puff pastry\\n- 1 pinch of salt\\n\\nInstructions:\\n\\n1. Preheat the oven to 200°C.\\n2. In a pan, melt the sugar and butter over medium heat until the sugar has dissolved.\\n3. Arrange the apples in the pan, cut side down, and cook for about 10 minutes or until the apples are golden brown.\\n4. Roll out the puff pastry on a floured surface and cut out a circle that is slightly larger than the diameter of the pan.\\n5. Place the pastry over the apples and tuck the edges in around the apples.\\n6. Bake in the oven for about 20 minutes or until the pastry is golden brown.\\n7. Let the tarte cool for a few minutes before inverting it onto a plate.\\n8. Serve with whipped cream or vanilla ice cream.\\n\\nEnjoy your delicious tarte tatin!')], [Generation(text='\\n\\n# What is the difference between a \"bouquet\" and a \"bouquet garni\"?\\n\\nA \"bouquet\" is a mixture of herbs, spices, and sometimes other ingredients, tied together with string or placed in a small bag, used to flavor a dish. A \"bouquet garni\" is a specific type of bouquet that typically includes parsley, thyme, and bay leaves, and is used to flavor soups, stews, and braises. The term \"bouquet garni\" is French for \"garnished bouquet.\"\\n\\nIn addition to the herbs, a bouquet garni may also include other aromatics such as garlic, onion, and leek, and sometimes other ingredients such as peppercorns, cloves, or citrus peel. The bouquet garni is usually removed from the dish before serving.\\n\\nA bouquet, on the other hand, can be made with a variety of herbs and spices, and can be used to flavor a wide range of dishes, including soups, stews, roasts, and sauces. The ingredients in a bouquet can vary depending on the dish being prepared and the flavors desired.\\n\\nIn summary, a bouquet garni is a specific type of bouquet used to flavor soups, stews, and braises, while a bouquet can be made with a variety of herbs and spices and used to flavor a wide range of dishes.')], [Generation(text=\"\\n\\n# Where is the world going?\\n\\n## The world is going through a period of great change.\\n\\nThere are many factors contributing to this change, including technological advancements, globalization, and demographic shifts. Some of the most significant changes include:\\n\\n1. Technological advancements: The rapid pace of technological change is having a profound impact on the world. New technologies are being developed at an unprecedented rate, and they are changing the way we live, work, and communicate. For example, the rise of artificial intelligence (AI) and machine learning is expected to transform industries such as healthcare, finance, and transportation.\\n2. Globalization: The increasing interconnectedness of the world's economies is another major factor driving change. Globalization has made it easier for companies to operate across borders, and it has created new opportunities for trade and investment. However, it has also led to increased competition and the displacement of jobs in some industries.\\n3. Demographic shifts: The world's population is aging, and this is having a significant impact on economies and societies. As the number of working-age people declines, there will be fewer people to support the retirees. This could lead to increased pressure on social security systems and other government programs.\\n4. Climate change: The impact of climate change is becoming increasingly apparent, and it is a major concern for many people around the world. Rising temperatures, sea level rise, and more frequent and severe weather events are expected to have far-reaching consequences for economies, ecosystems, and human health.\\n5. Political instability: The world is also experiencing a period of political instability, with many countries facing challenges such as corruption, authoritarianism, and conflict. These issues can have a profound impact on the lives of people living in these countries, and they can also have global implications.\\n\\nOverall, the world is going through a period of great change, and it is difficult to predict exactly what the future will hold. However, it is clear that the trends outlined above are likely to continue, and they will have a significant impact on the world in the years to come. It is important for individuals, organizations, and governments to be aware of these trends and to take steps to adapt to them in order to ensure a prosperous and sustainable future for all.\")]], llm_output=None, run=[RunInfo(run_id=UUID('9a68dfb6-9b59-4407-aeff-a6853215842f')), RunInfo(run_id=UUID('37f4ee59-0e35-44bf-9a87-ed45dd65827c')), RunInfo(run_id=UUID('6197c45c-715f-4aab-b71f-06dba6805196'))], type='LLMResult')"
      ]
     },
     "execution_count": 12,
     "metadata": {},
     "output_type": "execute_result"
    }
   ],
   "source": [
    "llm.generate([\"La recette de la tarte tatin\", \"tu fais qupoi ?\", \"où va le monde\"])"
   ]
  },
  {
   "cell_type": "markdown",
   "metadata": {},
   "source": [
    "## Transform vector database into retriever"
   ]
  },
  {
   "cell_type": "code",
   "execution_count": null,
   "metadata": {},
   "outputs": [
    {
     "name": "stderr",
     "output_type": "stream",
     "text": [
      "2024-11-20 02:21:02 PM vectorstore being provided, skipping the reloading\n"
     ]
    }
   ],
   "source": [
    "retriever, vectorstore = load_retriever(\n",
    "                emb_model_name=embedding,\n",
    "                persist_directory=CHROMA_DB_LOCAL_DIRECTORY,\n",
    "                vectorstore=db,\n",
    "                retriever_params={\n",
    "                    \"search_type\": \"similarity\",\n",
    "                    \"search_kwargs\": {\"k\": 30}\n",
    "                },\n",
    "            )"
   ]
  },
  {
   "cell_type": "code",
   "execution_count": null,
   "metadata": {},
   "outputs": [
    {
     "name": "stderr",
     "output_type": "stream",
     "text": [
      "Batches: 100%|██████████| 1/1 [00:00<00:00, 103.74it/s]\n"
     ]
    },
    {
     "data": {
      "text/plain": [
       "[Document(metadata={'Header 1': 'Chômage et halo autour du chômage en 2019', 'Header 2': 'Résumé :', 'Header 3': \"Téléchargement des tableaux à l'unité\", 'Header 4': 'Chômage', 'categorie': 'Chiffres détaillés', 'collection': '', 'dateDiffusion': '2020-06-23 12:00', 'libelleAffichageGeo': 'France', 'theme': 'Emploi – Population active', 'titre': 'Chômage et halo autour du chômage en 2019', 'url': 'https://www.insee.fr/fr/statistiques/4498582'}, page_content='#### Chômage'),\n",
       " Document(metadata={'Header 1': 'Emploi-Chômage', 'categorie': 'Publications pour expert', 'collection': 'Note de conjoncture', 'dateDiffusion': '2020-12-15 17:00', 'libelleAffichageGeo': 'France', 'theme': 'Économie générale (inflation, PIB, dette,...)', 'titre': 'Emploi-Chômage', 'url': 'https://www.insee.fr/fr/statistiques/4653872'}, page_content='# Emploi-Chômage'),\n",
       " Document(metadata={'Header 1': 'Chômage', 'categorie': 'Publications pour expert', 'collection': 'Note de conjoncture', 'dateDiffusion': '2017-03-16 17:00', 'libelleAffichageGeo': 'France', 'theme': 'Chômage', 'titre': 'Chômage', 'url': 'https://www.insee.fr/fr/statistiques/2662536'}, page_content='# Chômage'),\n",
       " Document(metadata={'Header 1': 'Fiche Chômage', 'categorie': 'Publications pour expert', 'collection': 'Note de conjoncture', 'dateDiffusion': '2017-12-19 17:00', 'libelleAffichageGeo': 'France', 'theme': 'Chômage', 'titre': 'Fiche Chômage', 'url': 'https://www.insee.fr/fr/statistiques/3292347'}, page_content='# Fiche Chômage'),\n",
       " Document(metadata={'Header 1': 'Données détaillées sur le chômage', 'Header 2': 'Résumé :', 'Header 3': '« Halo » du chômage', 'categorie': 'Chiffres détaillés', 'collection': '', 'dateDiffusion': '2015-02-10 13:00', 'libelleAffichageGeo': 'France', 'theme': 'Chômage', 'titre': 'Données détaillées sur le chômage', 'url': 'https://www.insee.fr/fr/statistiques/1991750'}, page_content='### « Halo » du chômage')]"
      ]
     },
     "execution_count": 27,
     "metadata": {},
     "output_type": "execute_result"
    }
   ],
   "source": [
    "retriever.invoke(\"Chiffres du chômage\")[:5]"
   ]
  },
  {
   "cell_type": "code",
   "execution_count": 19,
   "metadata": {},
   "outputs": [
    {
     "name": "stderr",
     "output_type": "stream",
     "text": [
      "Batches:   0%|          | 0/1 [00:00<?, ?it/s]"
     ]
    },
    {
     "name": "stderr",
     "output_type": "stream",
     "text": [
      "Batches: 100%|██████████| 1/1 [00:00<00:00, 27.40it/s]\n",
      "Batches: 100%|██████████| 1/1 [00:00<00:00, 31.03it/s]\n"
     ]
    },
    {
     "data": {
      "text/plain": [
       "[[Document(metadata={'Header 1': 'Innover pour résister à la crise ou se développer à l’export', 'Header 2': 'Définitions :', 'categorie': 'Publications grand public', 'collection': 'Insee Première', 'dateDiffusion': '2012-10-23 22:00', 'id': '', 'libelleAffichageGeo': 'France', 'sousTitre': '', 'theme': 'Mondialisation, compétitivité et innovation', 'titre': 'Innover pour résister à la crise ou se développer à l’export', 'url': 'https://www.insee.fr/fr/statistiques/1280888', 'xml_auteurs': '', 'xml_content': '', 'xml_intertitre': ''}, page_content='## Définitions :'),\n",
       "  Document(metadata={'Header 1': 'Les comptes des administrations publiques en 2011', 'Header 2': 'Résumé :', 'Header 3': 'Le déficit des administrations publiques centrales continue de se réduire', 'categorie': 'Publications grand public', 'collection': 'Insee Première', 'dateDiffusion': '2012-05-15 05:30', 'id': '', 'libelleAffichageGeo': 'France', 'sousTitre': '', 'theme': 'Finances publiques', 'titre': 'Les comptes des administrations publiques en 2011', 'url': 'https://www.insee.fr/fr/statistiques/1280890', 'xml_auteurs': '', 'xml_content': '', 'xml_intertitre': ''}, page_content=\". Les transferts au sein d'un même secteur sont consolidés si bien que la somme des dépenses (ou des recettes) des secteurs est supérieure à celle des APU dans leur ensemble.*\\n*2. Hors correction au titre des services d'intermédiation financière indirectement mesurés (Sifim) sur les intêrets versés.*  \\nSource : Insee, comptes nationaux, base 2005\"),\n",
       "  Document(metadata={'Header 1': 'Les comptes des administrations publiques en 2011', 'Header 2': 'Résumé :', 'Header 3': 'En 2011, le déficit public atteint 5,2 % du PIB', 'categorie': 'Publications grand public', 'collection': 'Insee Première', 'dateDiffusion': '2012-05-15 05:30', 'id': '', 'libelleAffichageGeo': 'France', 'sousTitre': '', 'theme': 'Finances publiques', 'titre': 'Les comptes des administrations publiques en 2011', 'url': 'https://www.insee.fr/fr/statistiques/1280890', 'xml_auteurs': '', 'xml_content': '', 'xml_intertitre': ''}, page_content=\". Au sens du traité de Maastricht ; voir définitions.*\\n*2. La dette publique nette est égale à la dette publique notifiée diminuée de certains éléments d'actif ; voir définitions.*  \\nSource : Insee, comptes nationaux, base 2005.\"),\n",
       "  Document(metadata={'Header 1': 'Les comptes des administrations publiques en 2011', 'Header 2': 'Résumé :', 'Header 3': 'La dette publique augmente de 3,7 points à 86,0 %', 'categorie': 'Publications grand public', 'collection': 'Insee Première', 'dateDiffusion': '2012-05-15 05:30', 'id': '', 'libelleAffichageGeo': 'France', 'sousTitre': '', 'theme': 'Finances publiques', 'titre': 'Les comptes des administrations publiques en 2011', 'url': 'https://www.insee.fr/fr/statistiques/1280890', 'xml_auteurs': '', 'xml_content': '', 'xml_intertitre': ''}, page_content=\".  \\nTableau 5  \\nDette publique notifiée* et dette publique nette*\\n|  | Au 31/12/2010 | | | | Au 31/12/2011 | | | |\\n| --- | --- | --- | --- | --- | --- | --- | --- | --- |\\n| Dette publique notifiée | | Dette publique nette | | Dette publique notifiée | | Dette publique nette | |\\n| En milliards d'euros | En% du PIB | En milliards d'euros | En% du PIB | En milliards d'euros | En% du PIB | En milliards d'euros | En% du PIB |\\n| État | 1245,0 | 64,3 | 1193,9 | 61,6 | 1335,2 | 66,9 | 1271,2 | 63,7 |\\n| Organismes divers d'administration centrale | 14,1 | 0,7 | −0,2 | 0,0 | 10,4 | 0,5 | −1,7 | −0,1 |\\n| Administrations locales | 161,1 | 8,3 | 151,8 | 7,8 | 166,3 | 8,3 | 156,6 | 7,8 |\\n| Administrations de sécurité sociale | 175,0 | 9,0 | 128,3 | 6,6 | 205,4 | 10,3 | 146,8 | 7,4 |\\n| **Total administrations publiques** | **1595,2** | **82,3** | **1473,8** | **76,1** | **1717,3** | **86,0** | **1572,9** | **78,8** |\\n** Voir définitions.*  \\nSource : Insee, comptes nationaux, base 2005.\"),\n",
       "  Document(metadata={'Header 1': 'Les comptes prévisionnels de l’agriculture pour 2012', 'Header 2': 'Résumé :', 'Header 3': 'La valeur de la production agricole augmente de 5%', 'categorie': 'Publications grand public', 'collection': 'Insee Première', 'dateDiffusion': '2012-12-12 16:00', 'id': '', 'libelleAffichageGeo': 'France', 'sousTitre': '', 'theme': 'Agriculture', 'titre': 'Les comptes prévisionnels de l’agriculture pour 2012', 'url': 'https://www.insee.fr/fr/statistiques/1280892', 'xml_auteurs': '', 'xml_content': '', 'xml_intertitre': ''}, page_content='3 | **3,9** | **0,0** | **2,0** | **2,0** |\\n| Subventions sur les produits (b) | 1,0 | − 6,4 | − 1,8 | − 8,2 |\\n| **Production au prix de base** 1  **(c) = (a) + (b)** | **76,1** | **− 3,3** | **8,5** | **4,9** |\\n| **Consommations intermédiaires (d)** | **45,5** | **− 1,0** | **5,2** | **4,1** |\\n| hors aliments intraconsommés | 38,6 | − 1,3 | 5,4 | 4,1 |\\n| **Valeur ajoutée brute'),\n",
       "  Document(metadata={'Header 1': 'Les comptes prévisionnels de l’agriculture pour 2012', 'Header 2': 'Résumé :', 'Header 3': 'La valeur de la production agricole augmente de 5%', 'categorie': 'Publications grand public', 'collection': 'Insee Première', 'dateDiffusion': '2012-12-12 16:00', 'id': '', 'libelleAffichageGeo': 'France', 'sousTitre': '', 'theme': 'Agriculture', 'titre': 'Les comptes prévisionnels de l’agriculture pour 2012', 'url': 'https://www.insee.fr/fr/statistiques/1280892', 'xml_auteurs': '', 'xml_content': '', 'xml_intertitre': ''}, page_content='. Voir définitions.*\\n*2. Autres plantes industrielles : tabac, lin textile, houblon, canne à sucre, etc.*\\n*3. Services : production des entreprises de travaux agricoles, des coopératives d’utilisation de matériel agricole, services entre agriculteurs, agritourisme...*\\n*4. Nette de la consommation de capital fixe.*  \\nSource : Insee, comptes prévisionnels de l’agriculture arrêtés en novembre 2012.'),\n",
       "  Document(metadata={'Header 1': 'Les comptes des administrations publiques en 2011', 'Header 2': 'Résumé :', 'Header 3': 'Le déficit des administrations publiques centrales continue de se réduire', 'categorie': 'Publications grand public', 'collection': 'Insee Première', 'dateDiffusion': '2012-05-15 05:30', 'id': '', 'libelleAffichageGeo': 'France', 'sousTitre': '', 'theme': 'Finances publiques', 'titre': 'Les comptes des administrations publiques en 2011', 'url': 'https://www.insee.fr/fr/statistiques/1280890', 'xml_auteurs': '', 'xml_content': '', 'xml_intertitre': ''}, page_content='| *2,4* | *1,7* | *1,6* |\\n| *intérêts* 2 | *9,3* | *9,6* | *6,2* | *17,9* | *9,5* |\\n| *prestations sociales en espèces et en nature* | *3,1* | *2,9* | *3,5* | *3,1* | *3,1* |\\n| *formation brute de capital fixe* | *−8,5* | *−15,4* | *2,3* | *13,6* | *1,6* |\\n| **Total des recettes, dont:** | **−1,2** | **−1,7** | **2,5** | **5,5** | **5,9** |\\n| *impôts et cotisations sociales* | *−1,2* |'),\n",
       "  Document(metadata={'Header 1': 'Les comptes prévisionnels de l’agriculture pour 2012', 'Header 2': 'Résumé :', 'Header 3': 'La valeur de la production agricole augmente de 5%', 'categorie': 'Publications grand public', 'collection': 'Insee Première', 'dateDiffusion': '2012-12-12 16:00', 'id': '', 'libelleAffichageGeo': 'France', 'sousTitre': '', 'theme': 'Agriculture', 'titre': 'Les comptes prévisionnels de l’agriculture pour 2012', 'url': 'https://www.insee.fr/fr/statistiques/1280892', 'xml_auteurs': '', 'xml_content': '', 'xml_intertitre': ''}, page_content='| 5,4 | 4,1 |\\n| **Valeur ajoutée brute (e)=(c)−(d)** | **30,6** | **− 6,9** | **13,8** | **6,0** |\\n| **Consommation de capital fixe** 1  **(f)** | **10,9** | **0,2** | **2,3** | **2,5** |\\n| **Valeur ajoutée nette** 4  **(g)=(e)−(f)** | **19,7** | **− 11,0** | **21,3** | **8,0** |\\n*1'),\n",
       "  Document(metadata={'Header 1': 'Les comptes des administrations publiques en 2011', 'Header 2': 'Résumé :', 'Header 3': 'Le déficit des administrations publiques centrales continue de se réduire', 'categorie': 'Publications grand public', 'collection': 'Insee Première', 'dateDiffusion': '2012-05-15 05:30', 'id': '', 'libelleAffichageGeo': 'France', 'sousTitre': '', 'theme': 'Finances publiques', 'titre': 'Les comptes des administrations publiques en 2011', 'url': 'https://www.insee.fr/fr/statistiques/1280890', 'xml_auteurs': '', 'xml_content': '', 'xml_intertitre': ''}, page_content='*5,2* | *5,6* | *55,5* |\\n| *prestations sociales en espèces et en nature* | *84,3* | *64,1* | *22,9* | *404,0* | *511,2* |\\n| *formation brute de capital fixe* | *10,2* | *5,0* | *43,3* | *7,9* | *61,4* |\\n| **Total des recettes** 1 **, dont:** | **356,4** | **326,8** | **233,5** | **519,1** | **1014,8** |\\n| *impôts et cotisations sociales* | *313,2* | *296,5* | *119,4* | *478,0* | *910,6* |\\n| *recettes de'),\n",
       "  Document(metadata={'Header 1': 'En 2010, hausse des créations d’auto-entreprises mais aussi de sociétés', 'Header 2': 'Résumé :', 'Header 3': 'La construction, les transports et les activités immobilières en nette progression', 'categorie': 'Publications grand public', 'collection': 'Insee Première', 'dateDiffusion': '2011-01-25 09:00', 'id': '', 'libelleAffichageGeo': 'France', 'sousTitre': '', 'theme': 'Démographie et créations des entreprises', 'titre': 'En 2010, hausse des créations d’auto-entreprises mais aussi de sociétés', 'url': 'https://www.insee.fr/fr/statistiques/1280898', 'xml_auteurs': '', 'xml_content': '', 'xml_intertitre': ''}, page_content='6,0 | −24,1 | −1,5 | 4,8 |\\n| **Ensemble** | **7,2** | **7,5** | **−8,5** | **12,4** | **100,0** |\\n**EI : entreprise individuelle')],\n",
       " [Document(metadata={'Header 1': 'Les comptes des administrations publiques en 2011', 'Header 2': 'Résumé :', 'Header 3': 'Le déficit des administrations publiques centrales continue de se réduire', 'categorie': 'Publications grand public', 'collection': 'Insee Première', 'dateDiffusion': '2012-05-15 05:30', 'id': '', 'libelleAffichageGeo': 'France', 'sousTitre': '', 'theme': 'Finances publiques', 'titre': 'Les comptes des administrations publiques en 2011', 'url': 'https://www.insee.fr/fr/statistiques/1280890', 'xml_auteurs': '', 'xml_content': '', 'xml_intertitre': ''}, page_content='| **0,6** |\\n| **Déficit notifié** | **−89,9** | **−87,2** | **−0,9** | **−12,2** | **−103,1** |\\n| **Évolution 2011 (en%)** | | | | | |\\n| **Total des dépenses, dont:** | **−5,7** | **−8,8** | **2,3** | **3,2** | **2,1** |\\n| *consommations intermédiaires* 2 | *−10,8* | *−15,4* | *4,0* | *2,8* | *−1,6* |\\n| *rémunérations des salariés (hors cotisations imputées)* | *1,2* | *0,1* | *2,4* | *1,7* | *1,6* |\\n|'),\n",
       "  Document(metadata={'Header 1': 'Secteur privé et entreprises publiques', 'Header 2': 'Résumé :', 'Header 3': 'Personnes à temps partiel: hausse du salaire horaire et dela durée de travail', 'categorie': 'Publications grand public', 'collection': 'Insee Première', 'dateDiffusion': '2013-10-30 23:00', 'id': '', 'libelleAffichageGeo': 'France', 'sousTitre': '', 'theme': \"Salaires et revenus d'activité\", 'titre': 'Secteur privé et entreprises publiques', 'url': 'https://www.insee.fr/fr/statistiques/1280904', 'xml_auteurs': '', 'xml_content': '', 'xml_intertitre': ''}, page_content='| 30,52 | −3,5 | 22,80 | 22,36 | −4,0 | 12,9 | 15,4 |\\n| Professions intermédiaires | 17,54 | 17,86 | −0,3 | 13,19 | 13,43 | −0,2 | 15,8 | 14,4 |\\n| Employés | 11,87 | 12,32 | 1,7 | 9,02 | 9,35 | 1,4 | 50,4 | 48,2 |\\n| Ouvriers | 12,02 | 12,34 | 0,5 | 9,26 | 9,57 | 1,2 | 20,9 | 22,0 |\\n| *Smic* | *8,86* | *9,02* | *−0,3* |'),\n",
       "  Document(metadata={'Header 1': 'Les comptes des administrations publiques en 2011', 'Header 2': 'Résumé :', 'Header 3': 'Le déficit des administrations publiques centrales continue de se réduire', 'categorie': 'Publications grand public', 'collection': 'Insee Première', 'dateDiffusion': '2012-05-15 05:30', 'id': '', 'libelleAffichageGeo': 'France', 'sousTitre': '', 'theme': 'Finances publiques', 'titre': 'Les comptes des administrations publiques en 2011', 'url': 'https://www.insee.fr/fr/statistiques/1280890', 'xml_auteurs': '', 'xml_content': '', 'xml_intertitre': ''}, page_content='. publiques1 |\\n| --- | --- | --- | --- | --- | --- |\\n| **Total des dépenses** 1 **, dont:** | **446,7** | **414,3** | **234,4** | **531,5** | **1118,4** |\\n| *consommations intermédiaires* 2 | *34,9* | *23,6* | *49,4* | *25,2* | *109,5* |\\n| *rémunérations des salariés* | *133,7* | *116,2* | *70,3* | *59,6* | *263,7* |\\n| *intérêts* 2 | *45,3* | *45,5* | *5,2* | *5,6* | *55,5* |\\n| *prestations'),\n",
       "  Document(metadata={'Header 1': 'Les comptes des administrations publiques en 2011', 'Header 2': 'Résumé :', 'Header 3': 'Le déficit des administrations publiques centrales continue de se réduire', 'categorie': 'Publications grand public', 'collection': 'Insee Première', 'dateDiffusion': '2012-05-15 05:30', 'id': '', 'libelleAffichageGeo': 'France', 'sousTitre': '', 'theme': 'Finances publiques', 'titre': 'Les comptes des administrations publiques en 2011', 'url': 'https://www.insee.fr/fr/statistiques/1280890', 'xml_auteurs': '', 'xml_content': '', 'xml_intertitre': ''}, page_content='*5,2* | *5,6* | *55,5* |\\n| *prestations sociales en espèces et en nature* | *84,3* | *64,1* | *22,9* | *404,0* | *511,2* |\\n| *formation brute de capital fixe* | *10,2* | *5,0* | *43,3* | *7,9* | *61,4* |\\n| **Total des recettes** 1 **, dont:** | **356,4** | **326,8** | **233,5** | **519,1** | **1014,8** |\\n| *impôts et cotisations sociales* | *313,2* | *296,5* | *119,4* | *478,0* | *910,6* |\\n| *recettes de'),\n",
       "  Document(metadata={'Header 1': 'Secteur privé et entreprises publiques', 'Header 2': 'Résumé :', 'Header 3': 'Personnes à temps partiel: hausse du salaire horaire et dela durée de travail', 'categorie': 'Publications grand public', 'collection': 'Insee Première', 'dateDiffusion': '2013-10-30 23:00', 'id': '', 'libelleAffichageGeo': 'France', 'sousTitre': '', 'theme': \"Salaires et revenus d'activité\", 'titre': 'Secteur privé et entreprises publiques', 'url': 'https://www.insee.fr/fr/statistiques/1280904', 'xml_auteurs': '', 'xml_content': '', 'xml_intertitre': ''}, page_content='Évolution (%) |\\n| **Salariés àtemps complet** | | | | | | | | |\\n| Hommes | 19,48 | 19,87 | −0,1 | 14,70 | 14,99 | −0,1 | 64,3 | 64,3 |\\n| Femmes | 16,45 | 16,91 | 0,6 | 12,31 | 12,64 | 0,6 | 35,7 | 35,7 |\\n| **Ensemble** | **18,40** | **18,81** | **0,1** | **13,85** | **14,15** | **0,1** | **100,0** | **100,0** |\\n| Cadres1 | 34,63 | 34,84 | −1,5 |'),\n",
       "  Document(metadata={'Header 1': 'Les comptes des administrations publiques en 2011', 'Header 2': 'Résumé :', 'Header 3': 'Le déficit des administrations publiques centrales continue de se réduire', 'categorie': 'Publications grand public', 'collection': 'Insee Première', 'dateDiffusion': '2012-05-15 05:30', 'id': '', 'libelleAffichageGeo': 'France', 'sousTitre': '', 'theme': 'Finances publiques', 'titre': 'Les comptes des administrations publiques en 2011', 'url': 'https://www.insee.fr/fr/statistiques/1280890', 'xml_auteurs': '', 'xml_content': '', 'xml_intertitre': ''}, page_content='| *2,4* | *1,7* | *1,6* |\\n| *intérêts* 2 | *9,3* | *9,6* | *6,2* | *17,9* | *9,5* |\\n| *prestations sociales en espèces et en nature* | *3,1* | *2,9* | *3,5* | *3,1* | *3,1* |\\n| *formation brute de capital fixe* | *−8,5* | *−15,4* | *2,3* | *13,6* | *1,6* |\\n| **Total des recettes, dont:** | **−1,2** | **−1,7** | **2,5** | **5,5** | **5,9** |\\n| *impôts et cotisations sociales* | *−1,2* |'),\n",
       "  Document(metadata={'Header 1': 'Secteur privé et entreprises publiques', 'Header 2': 'Résumé :', 'Header 3': 'Personnes à temps partiel: hausse du salaire horaire et dela durée de travail', 'categorie': 'Publications grand public', 'collection': 'Insee Première', 'dateDiffusion': '2013-10-30 23:00', 'id': '', 'libelleAffichageGeo': 'France', 'sousTitre': '', 'theme': \"Salaires et revenus d'activité\", 'titre': 'Secteur privé et entreprises publiques', 'url': 'https://www.insee.fr/fr/statistiques/1280904', 'xml_auteurs': '', 'xml_content': '', 'xml_intertitre': ''}, page_content='**Salariés à temps non complet** | | | | | | | | |\\n| Hommes | 17,60 | 18,15 | 1,0 | 13,37 | 13,76 | 0,9 | 30,1 | 32,4 |\\n| Femmes | 14,26 | 14,85 | 2,0 | 10,71 | 11,13 | 1,8 | 69,9 | 67,6 |\\n| **Ensemble** | **15,27** | **15,92** | **2,1** | **11,51** | **11,99** | **2,0** | **100,0** | **100,0** |\\n| Cadres1 | 30,99 | 30,52 | −3,5 | 22,80 | 22,36'),\n",
       "  Document(metadata={'Header 1': 'Les comptes prévisionnels de l’agriculture pour 2012', 'Header 2': 'Résumé :', 'Header 3': 'La valeur de la production agricole augmente de 5%', 'categorie': 'Publications grand public', 'collection': 'Insee Première', 'dateDiffusion': '2012-12-12 16:00', 'id': '', 'libelleAffichageGeo': 'France', 'sousTitre': '', 'theme': 'Agriculture', 'titre': 'Les comptes prévisionnels de l’agriculture pour 2012', 'url': 'https://www.insee.fr/fr/statistiques/1280892', 'xml_auteurs': '', 'xml_content': '', 'xml_intertitre': ''}, page_content='Fourrages, plantes, fleurs | 7,8 | − 0,3 | 1,3 | 1,0 |\\n| **Produits animaux** | **26,1** | **− 2,7** | **5,5** | **2,7** |\\n| Bétail (bovins, porcins, ovins, caprins, équidés) | 11,5 | − 5,4 | 11,5 | 5,4 |\\n| Volailles, œufs | 5,1 | − 1,2 | 10,6 | 9,2 |\\n| Lait et autres produits de l’élevage | 9,5 | − 0,3 | − 3,1 | − 3,4 |\\n| **Services** 3 | **3,9** | **0,0** | **2,0** |'),\n",
       "  Document(metadata={'Header 1': 'Une photographie du marché du travail en 2009', 'Header 2': 'Résumé :', 'Header 3': 'Le nombre de chômeurs de 15 à 24 ans augmente de 27%', 'categorie': 'Publications grand public', 'collection': 'Insee Première', 'dateDiffusion': '2011-01-13 23:00', 'id': '', 'libelleAffichageGeo': 'France', 'sousTitre': '', 'theme': 'Emploi – Population active', 'titre': 'Une photographie du marché du travail en 2009', 'url': 'https://www.insee.fr/fr/statistiques/1280896', 'xml_auteurs': '', 'xml_content': '', 'xml_intertitre': ''}, page_content='**Ensemble** | **1318** | **8,9** | **1259** | **9,4** | **2577** | **9,1** | **2069** | **7,4** |\\n| 15-24 ans | 366 | 24,6 | 275 | 22,5 | 641 | 23,7 | 507 | 19,1 |\\n| 25-49 ans | 730 | 7,6 | 768 | 8,8 | 1498 | 8,2 | 1216 | 6,6 |\\n| 50 ans et plus | 222 | 5,9 | 216 | 6,2 | 438 | 6,1 | 347 | 4,9 |\\n| **Catégories socioprofessionnelles** | |'),\n",
       "  Document(metadata={'Header 1': 'Secteur privé et entreprises publiques', 'Header 2': 'Résumé :', 'Header 3': 'Personnes à temps partiel: hausse du salaire horaire et dela durée de travail', 'categorie': 'Publications grand public', 'collection': 'Insee Première', 'dateDiffusion': '2013-10-30 23:00', 'id': '', 'libelleAffichageGeo': 'France', 'sousTitre': '', 'theme': \"Salaires et revenus d'activité\", 'titre': 'Secteur privé et entreprises publiques', 'url': 'https://www.insee.fr/fr/statistiques/1280904', 'xml_auteurs': '', 'xml_content': '', 'xml_intertitre': ''}, page_content='Cadres1 | 34,63 | 34,84 | −1,5 | 25,68 | 25,84 | −1,4 | 18,2 | 18,3 |\\n| Professions intermédiaires | 18,66 | 19,03 | −0,1 | 13,99 | 14,27 | −0,1 | 21,7 | 20,5 |\\n| Employés | 13,24 | 13,76 | 1,8 | 10,07 | 10,44 | 1,5 | 26,2 | 27,1 |\\n| Ouvriers | 13,51 | 14,10 | 2,2 | 10,32 | 10,77 | 2,2 | 33,9 | 34,0 |\\n| **Salariés à temps non complet** | | |')]]"
      ]
     },
     "execution_count": 19,
     "metadata": {},
     "output_type": "execute_result"
    }
   ],
   "source": [
    "retriever.batch([\"Quelle est la définition du PIB ?\", \"Où sont les chiffres de l'inflation ?\"])"
   ]
  },
  {
   "cell_type": "markdown",
   "metadata": {},
   "source": [
    "## RAG mode: on "
   ]
  },
  {
   "cell_type": "code",
   "execution_count": 34,
   "metadata": {},
   "outputs": [],
   "source": [
    "from utils import (\n",
    "    format_docs,\n",
    "    create_prompt_from_instructions,\n",
    "    retrieve_db_from_cache,\n",
    ")\n",
    "\n",
    "system_instructions = \"\"\"\n",
    "Tu es un assistant spécialisé dans la statistique publique. Tu réponds à des questions concernant les données de l'Insee, l'institut national statistique Français.\n",
    "\n",
    "Réponds en FRANCAIS UNIQUEMENT. Utilise une mise en forme au format markdown.\n",
    "\n",
    "En utilisant UNIQUEMENT les informations présentes dans le contexte, réponds de manière argumentée à la question posée.\n",
    "\n",
    "La réponse doit être développée et citer ses sources (titre et url de la publication) qui sont référencées à la fin. Cite notamment l'url d'origine de la publication, dans un format markdown.\n",
    "\n",
    "Cite 5 sources maximum.\n",
    "\n",
    "Tu n'es pas obligé d'utiliser les sources les moins pertinentes. \n",
    "\n",
    "Si tu ne peux pas induire ta réponse du contexte, ne réponds pas.\n",
    "\n",
    "Voici le contexte sur lequel tu dois baser ta réponse :\n",
    "Contexte: {context}\n",
    "\"\"\"\n",
    "\n",
    "question_instructions = \"\"\"\n",
    "Voici la question à laquelle tu dois répondre :\n",
    "Question: {question}\n",
    "\n",
    "Réponse:\n",
    "\"\"\"\n",
    "\n",
    "\n",
    "prompt = create_prompt_from_instructions(system_instructions, question_instructions)\n"
   ]
  },
  {
   "cell_type": "code",
   "execution_count": 37,
   "metadata": {},
   "outputs": [],
   "source": [
    "from langchain_core.runnables import RunnablePassthrough\n",
    "from langchain_core.output_parsers import StrOutputParser\n",
    "\n",
    "## Imbrication dans langchain\n",
    "rag_chain = (\n",
    "        {\"context\": retriever | format_docs, \"question\": RunnablePassthrough()}\n",
    "        | prompt\n",
    "        | llm\n",
    "        | StrOutputParser()\n",
    "    )"
   ]
  },
  {
   "cell_type": "code",
   "execution_count": 38,
   "metadata": {},
   "outputs": [
    {
     "name": "stderr",
     "output_type": "stream",
     "text": [
      "Batches: 100%|██████████| 1/1 [00:00<00:00, 86.58it/s]\n",
      "Processed prompts: 100%|██████████| 1/1 [00:13<00:00, 13.11s/it, est. speed input: 675.99 toks/s, output: 78.27 toks/s]\n"
     ]
    },
    {
     "data": {
      "text/plain": [
       "\"1. Le chômage en France est mesuré par le taux de chômage, qui est le rapport entre le nombre de chômeurs au sens du BIT et le nombre de personnes en emploi ou au chômage. Le BIT (Bénéficiaire d'allocations chômage) est une personne qui reçoit des allocations chômage, c'est-à-dire des allocations de l'État pour couvrir ses frais de subsistance pendant qu'elle est au chômage.\\n\\n    2. Le taux de chômage en France a été stable depuis plusieurs années, mais il varie selon les régions et les catégories socioprofessionnelles. Par exemple, en 2019, le taux de chômage en France métropolitaine était de 7,7%, mais il était plus élevé en région Île-de-France (9,3%) et plus bas en région Centre-Val de Loire (6,1%).\\n\\n    3. Les chômeurs en France sont majoritairement des hommes (54,6% en 2019), mais leur proportion est en baisse depuis plusieurs années. Les chômeurs sont également majoritairement des personnes de 30 à 49 ans (68,1% en 2019), mais leur proportion est en hausse depuis plusieurs années.\\n\\n    4. Les chômeurs en France sont majoritairement des personnes qui n'ont jamais travaillé (15,4% en 2019), mais leur proportion est en baisse depuis plusieurs années. Les chômeurs ayant déjà travaillé sont majoritairement des personnes qui ont été licenciés économiquement (6,1% en 2019).\\n\\n    5. Les chômeurs en France sont majoritairement des personnes qui ont un diplôme supérieur au baccalauréat (71,8% en 2019). Les chômeurs ayant un diplôme inférieur au baccalauréat sont majoritairement des personnes qui ont un diplôme de CAP ou BEP (25,8% en 2019).\\n\\nSources:\\n\\n* <https://www.insee.fr/fr/statistiques/4498582>\\n* <https://www.insee.fr/fr/statistiques/4653872>\\n* <https://www.insee.fr/fr/statistiques/2662536>\\n* <https://www.insee.fr/fr/statistiques/3292347>\\n* <https://www.insee.fr/fr/statistiques/1991750>\\n* <https://www.insee.fr/fr/statistiques/1372609>\\n* <https://www.insee.fr/fr/statistiques/3594288>\\n* <https://www.insee.fr/fr/statistiques/1285564>\\n* <https://www.insee.fr/fr/statistiques/4501595>\\n* <https://www.insee.fr/fr/statistiques/6435502>\\n* <https://www.insee.fr/fr/statistiques/7671567>\\n* <https://www.insee.fr/fr/statistiques/7076726>\\n* <https://www.insee.fr/fr/metadonnees/source/serie/s2107>\\n* <https://www.insee.fr/fr/statistiques/6010063>\\n* <https://www.insee.fr/fr/statistiques/6661596>\\n* <https://www.insee.fr/fr/statistiques/3532084>\\n* <https://www.insee.fr/fr/statistiques/3532055>\\n* <https://www.insee.fr/fr/statistiques/3532194>\\n* <https://www.insee.fr/fr/statistiques/1300758>\""
      ]
     },
     "execution_count": 38,
     "metadata": {},
     "output_type": "execute_result"
    }
   ],
   "source": [
    "rag_chain.invoke(\"Chiffres du chômage\")"
   ]
  },
  {
   "cell_type": "code",
   "execution_count": 40,
   "metadata": {},
   "outputs": [
    {
     "name": "stderr",
     "output_type": "stream",
     "text": [
      "Batches: 100%|██████████| 1/1 [00:00<00:00, 14.60it/s]\n",
      "Processed prompts: 100%|██████████| 1/1 [00:07<00:00,  7.83s/it, est. speed input: 1743.61 toks/s, output: 66.77 toks/s]"
     ]
    },
    {
     "name": "stdout",
     "output_type": "stream",
     "text": [
      " Le taux de chômage peut être trouvé à l'échelle de la région, du département ou de la commune. Il est calculé en divisant le nombre de personnes chômeures par le nombre de personnes actives de la population.\n",
      "\n",
      "     Pour trouver le taux de chômage à l'échelle de la région, il est nécessaire de consulter les données de l'Insee sur le taux de chômage régional. Par exemple, pour la région Grand Est, vous pouvez consulter la publication \"Taux de chômage régional\" sur le site de l'Insee : https://www.insee.fr/fr/statistiques/7931214\n",
      "\n",
      "     Pour trouver le taux de chômage à l'échelle du département, il est nécessaire de consulter les données de l'Insee sur le taux de chômage départemental. Par exemple, pour le département de la Nièvre, vous pouvez consulter la publication \"Taux de chômage départemental\" sur le site de l'Insee : https://www.insee.fr/fr/statistiques/5370760\n",
      "\n",
      "     Pour trouver le taux de chômage à l'échelle de la commune, il est nécessaire de consulter les données de l'Insee sur le taux de chômage communal. Par exemple, pour la commune de Toulouse, vous pouvez consulter la publication \"Taux de chômage communal\" sur le site de l'Insee : https://www.insee.fr/fr/statistiques/1304071\n",
      "\n",
      "     Les sources utilisées pour cette réponse sont :\n",
      "\n",
      "     - Insee, Taux de chômage régional : https://www.insee.fr/fr/statistiques/7931214\n",
      "     - Insee, Taux de chômage départemental : https://www.insee.fr/fr/statistiques/5370760\n",
      "     - Insee, Taux de chômage communal : https://www.insee.fr/fr/statistiques/1304071"
     ]
    },
    {
     "name": "stderr",
     "output_type": "stream",
     "text": [
      "\n"
     ]
    }
   ],
   "source": [
    "for chunk in rag_chain.stream(\"A quelle échelle puis-je trouver le taux de chîmage ? \"):\n",
    "    print(chunk, end=\"\", flush=True)"
   ]
  }
 ],
 "metadata": {
  "kernelspec": {
   "display_name": "base",
   "language": "python",
   "name": "python3"
  },
  "language_info": {
   "codemirror_mode": {
    "name": "ipython",
    "version": 3
   },
   "file_extension": ".py",
   "mimetype": "text/x-python",
   "name": "python",
   "nbconvert_exporter": "python",
   "pygments_lexer": "ipython3",
   "version": "3.12.6"
  }
 },
 "nbformat": 4,
 "nbformat_minor": 2
}
