{
 "cells": [
  {
   "cell_type": "markdown",
   "metadata": {},
   "source": [
    "# RAG Evaluation : Eval Dataset Generation"
   ]
  },
  {
   "cell_type": "markdown",
   "metadata": {},
   "source": [
    "## Build a synthetic dataset for evaluation"
   ]
  },
  {
   "cell_type": "markdown",
   "metadata": {},
   "source": [
    "If we do not have access to a real Q&A datset, we can use LLMs to generate synthetic Question and Answer couples based on a given context. This method is a very common approach, the well-known RAGAS package is based on synthetic Q&A. Furthermore, the zero-shot or few-short learning LLM abilities allow to filter out these generated proposals by asking (with a specific prompt) to evaluate (give a grade between 1 and 5) human understandable criteria (like groundedness, relevence,...) in a specific format like JSON. "
   ]
  },
  {
   "cell_type": "code",
   "execution_count": 4,
   "metadata": {},
   "outputs": [],
   "source": [
    "import pandas as pd \n",
    "data = pd.read_csv(\"/home/onyxia/work/llm-open-data-insee/data_complete.csv\", low_memory=False) #we assume the textual information have already been extracted. "
   ]
  },
  {
   "cell_type": "code",
   "execution_count": 5,
   "metadata": {},
   "outputs": [
    {
     "name": "stderr",
     "output_type": "stream",
     "text": [
      "0it [00:00, ?it/s]"
     ]
    },
    {
     "name": "stderr",
     "output_type": "stream",
     "text": [
      "43226it [01:47, 401.25it/s] \n"
     ]
    }
   ],
   "source": [
    "from db_building import extract_paragraphs\n",
    "results = extract_paragraphs(data) #gather textual information from the same page together "
   ]
  },
  {
   "cell_type": "code",
   "execution_count": 6,
   "metadata": {},
   "outputs": [],
   "source": [
    "ds = pd.DataFrame.from_dict(results)\n",
    "ds.to_csv(\"insee_documents.csv\", index=False)"
   ]
  },
  {
   "cell_type": "code",
   "execution_count": 7,
   "metadata": {},
   "outputs": [
    {
     "name": "stderr",
     "output_type": "stream",
     "text": [
      "34567it [00:02, 12286.48it/s]\n"
     ]
    }
   ],
   "source": [
    "from tqdm import tqdm\n",
    "from langchain.docstore.document import Document as LangchainDocument\n",
    "import pandas as pd\n",
    "\n",
    "ds = pd.read_csv(\"insee_documents.csv\")\n",
    "langchain_docs = [LangchainDocument(page_content=doc[\"document\"], metadata={\"source\": doc[\"url_source\"], \"title\": doc[\"title\"], \"insee_id\": doc[\"id_origin\"]}) for _, doc in tqdm(ds.iterrows())]"
   ]
  },
  {
   "cell_type": "code",
   "execution_count": 8,
   "metadata": {},
   "outputs": [
    {
     "name": "stderr",
     "output_type": "stream",
     "text": [
      "  0%|          | 0/34567 [00:00<?, ?it/s]"
     ]
    },
    {
     "name": "stderr",
     "output_type": "stream",
     "text": [
      "100%|██████████| 34567/34567 [00:04<00:00, 6925.16it/s] \n"
     ]
    }
   ],
   "source": [
    "from langchain.text_splitter import RecursiveCharacterTextSplitter\n",
    "\n",
    "text_splitter = RecursiveCharacterTextSplitter(\n",
    "    chunk_size=2000, #define the size of the chunck\n",
    "    chunk_overlap=200, #define the overlapping between following chunks\n",
    "    add_start_index=True,\n",
    "    separators=[\"\\n\\n\", \"\\n\", \".\", \" \", \"\"],\n",
    ")\n",
    "\n",
    "docs_processed = []\n",
    "for doc in tqdm(langchain_docs):\n",
    "    docs_processed += text_splitter.split_documents([doc])"
   ]
  },
  {
   "cell_type": "code",
   "execution_count": 9,
   "metadata": {},
   "outputs": [
    {
     "data": {
      "text/plain": [
       "90730"
      ]
     },
     "execution_count": 9,
     "metadata": {},
     "output_type": "execute_result"
    }
   ],
   "source": [
    "len(docs_processed)"
   ]
  },
  {
   "cell_type": "markdown",
   "metadata": {},
   "source": [
    "Note : Phi3 microsoft SLM is not yet in HF official package version. Loading a Development version is required. "
   ]
  },
  {
   "cell_type": "code",
   "execution_count": null,
   "metadata": {},
   "outputs": [],
   "source": [
    "#!pip uninstall -y transformers && pip install git+https://github.com/huggingface/transformers\n",
    "from transformers import BitsAndBytesConfig,  AutoModelForCausalLM, AutoTokenizer,  AutoConfig\n",
    "import torch\n",
    "\n",
    "#model_name = \"microsoft/Phi-3-mini-128k-instruct\" #(to download)\n",
    "#path_model = \"microsoft-Phi-3-mini-128k-instruct\" #(to load)\n",
    "#model.save_pretrained(\"microsoft-Phi-3-mini-128k-instruct\")\n",
    "\n",
    "model_name = \"microsoft/Phi-3-mini-4k-instruct\" #smaller model \n",
    "\n",
    "#load LLM config \n",
    "config = AutoConfig.from_pretrained(model_name, trust_remote_code=True)\n",
    "#config.max_position_embeddings = 8096\n",
    "#load quantization config \n",
    "quantization_config = BitsAndBytesConfig(\n",
    "        load_in_4bit=True,\n",
    "        bnb_4bit_quant_type=\"nf4\",\n",
    "        bnb_4bit_compute_dtype=\"float16\",\n",
    "        bnb_4bit_use_double_quant=False,\n",
    "    )\n",
    "\n",
    "tokenizer = AutoTokenizer.from_pretrained(model_name) \n",
    "model = AutoModelForCausalLM.from_pretrained(\n",
    "            model_name,\n",
    "            config=config,\n",
    "            quantization_config=quantization_config,\n",
    "            device_map=\"cuda\", \n",
    "            torch_dtype=\"auto\", \n",
    "            trust_remote_code=True,\n",
    "        )\n",
    "model"
   ]
  },
  {
   "cell_type": "markdown",
   "metadata": {},
   "source": [
    "The aim is to generate **questions** and **answers** based on large **context** (part of INSEE documents). "
   ]
  },
  {
   "cell_type": "code",
   "execution_count": 8,
   "metadata": {},
   "outputs": [],
   "source": [
    "QA_generation_prompt = \"\"\"\n",
    "<|user|>\n",
    "Ta tâche consiste à écrire une question factuelle et sa réponse en te basant sur un contexte donné.\n",
    "Ta question factuelle doit pouvoir être répondue par une information factuelle spécifique et concise tirée du contexte.\n",
    "Ta question factuelle doit être formulée dans le même style que les questions que les utilisateurs pourraient poser dans un moteur de recherche.\n",
    "Cela signifie que ta question factuelle NE DOIT PAS mentionner des phrases comme \"selon le passage\" ou \"le contexte\".\n",
    "<|user|>\n",
    "<|assistant|>\n",
    "Voici maintenant le contexte.\n",
    "\n",
    "Contexte : {context}\n",
    "\n",
    "Question factuelle : (ta question factuelle)\n",
    "Réponse : (ta réponse à la question factuelle)\n",
    "<|assistant|>\n",
    "\"\"\""
   ]
  },
  {
   "cell_type": "code",
   "execution_count": 14,
   "metadata": {},
   "outputs": [
    {
     "name": "stdout",
     "output_type": "stream",
     "text": [
      "\n",
      "<|user|>\n",
      "Ta tâche consiste à écrire une question factuelle et sa réponse en te basant sur un contexte donné.\n",
      "Ta question factuelle doit pouvoir être répondue par une information factuelle spécifique et concise tirée du contexte.\n",
      "Ta question factuelle doit être formulée dans le même style que les questions que les utilisateurs pourraient poser dans un moteur de recherche.\n",
      "Cela signifie que ta question factuelle NE DOIT PAS mentionner des phrases comme \"selon le passage\" ou \"le contexte\".\n",
      "<|user|>\n",
      "<|assistant|>\n",
      "Voici maintenant le contexte.\n",
      "\n",
      "Contexte : En avril 2021, la confiance des ménages dans la situation économique est stable: l’indicateur qui la synthétise se maintient à 94, en dessous de sa moyenne de longue période (100). En avril 2021, la confiance des ménages dans la situation économique est stable: l’indicateur qui la synthétise se maintient à 94, en dessous de sa moyenne de longue période (100). En avril, le solde d’opinion des ménages relatif à leur situation financière future perd quatre points et repasse en dessous de sa moyenne de longue période. À l’inverse, le solde d’opinion relatif à leur situation financière personnelle passée augmente légèrement. Il gagne un point et demeure supérieur à sa moyenne. La proportion de ménages estimant qu’il est opportun de faire des achats importants augmente. Le solde correspondant gagne deux points par rapport au mois précédent et dépasse sa moyenne de longue période. En avril, la part des ménages estimant qu’il est opportun d’épargner continue d’augmenter. Le solde correspondant gagne deux points et atteint un nouveau plus haut historique. Le solde d’opinion des ménages relatif à leur capacité d’épargne future gagne également deux points. Le solde relatif à leur capacité d’épargne actuelle est quant à lui stable, nettement au-dessus de sa moyenne. En avril, la part des ménages qui considèrent que le niveau de vie en France s’est amélioré au cours des douze derniers mois est quasi stable. Le solde correspondant gagne un point mais reste très en dessous de sa moyenne de longue période. La part des ménages qui considèrent que le niveau de vie en France va s’améliorer au cours des douze prochains mois est stable. Le solde correspondant reste bien en dessous de sa moyenne. Les craintes des ménages concernant l’évolution du chômage sont quasi stables en avril, à un niveau élevé. Le solde correspondant perd un point, mais reste très au-dessus de sa moyenne de longue période\n",
      "\n",
      "Question factuelle : (ta question factuelle)\n",
      "Réponse : (ta réponse à la question factuelle)\n",
      "<|assistant|>\n",
      "\n"
     ]
    }
   ],
   "source": [
    "import numpy as np \n",
    "cont_sam = docs_processed[int(np.random.choice(range(len(docs_processed)), 1)[0])]\n",
    "print(QA_generation_prompt.format(context=cont_sam.page_content))"
   ]
  },
  {
   "cell_type": "code",
   "execution_count": null,
   "metadata": {},
   "outputs": [],
   "source": [
    "from transformers import pipeline\n",
    "import torch \n",
    "device = \"cuda\" if torch.cuda.is_available() else \"cpu\"\n",
    "pipe = pipeline(\"text-generation\", model = model, tokenizer=tokenizer)"
   ]
  },
  {
   "cell_type": "code",
   "execution_count": 10,
   "metadata": {},
   "outputs": [
    {
     "data": {
      "text/plain": [
       "device(type='cuda')"
      ]
     },
     "execution_count": 10,
     "metadata": {},
     "output_type": "execute_result"
    }
   ],
   "source": [
    "pipe.device"
   ]
  },
  {
   "cell_type": "code",
   "execution_count": 11,
   "metadata": {},
   "outputs": [],
   "source": [
    "def clean_output(s):\n",
    "    \"\"\" remove unwanted characters \"\"\"\n",
    "    return s.replace(\"\\n\", \"\")"
   ]
  },
  {
   "cell_type": "code",
   "execution_count": 12,
   "metadata": {},
   "outputs": [],
   "source": [
    "import time \n",
    "from transformers import pipeline\n",
    "import random \n",
    "generation_args = {\n",
    "    \"max_new_tokens\": 300,\n",
    "    \"return_full_text\": False,\n",
    "    \"do_sample\": False,\n",
    "}\n",
    "\n",
    "import torch \n",
    "def generate_test_dataset(pipeline, docs_processed, N_GENERATIONS, BATCH_SIZE):\n",
    "    \n",
    "    torch.cuda.empty_cache()\n",
    "    print(f\"Generating {N_GENERATIONS} QA couples...\")\n",
    "    t0 = time.time()\n",
    "    outputs = []\n",
    "    docs_sampled = random.sample(docs_processed, N_GENERATIONS)\n",
    "    # Process documents in batches\n",
    "    batch_contexts = [doc.page_content for doc in docs_sampled]\n",
    "    # Generate QA couples for the batch\n",
    "    generation_args[\"batch_size\"] = BATCH_SIZE\n",
    "    batch_prompts = [QA_generation_prompt.format(context=ctx) for ctx in batch_contexts]\n",
    "    \n",
    "    with torch.no_grad():\n",
    "        generated_out = pipeline(batch_prompts, **generation_args)\n",
    "\n",
    "    for output, sampled_context in zip(generated_out, docs_sampled):\n",
    "        output_QA_couple = output[0][\"generated_text\"]\n",
    "        question = output_QA_couple.split(\"Question factuelle : \")[-1].split(\"Réponse : \")[0]\n",
    "        answer = output_QA_couple.split(\"Réponse : \")[-1]\n",
    "\n",
    "        outputs.append(\n",
    "            {\n",
    "                \"context\": sampled_context.page_content,\n",
    "                \"question\": clean_output(question),\n",
    "                \"answer\": clean_output(answer),\n",
    "                \"source_doc\": sampled_context.metadata[\"source\"],\n",
    "            }\n",
    "        )\n",
    "    print(\"run in \", time.time() - t0, \"s\")\n",
    "\n",
    "    return outputs\n"
   ]
  },
  {
   "cell_type": "code",
   "execution_count": 13,
   "metadata": {},
   "outputs": [
    {
     "name": "stdout",
     "output_type": "stream",
     "text": [
      "Generating 200 QA couples...\n"
     ]
    },
    {
     "name": "stderr",
     "output_type": "stream",
     "text": [
      "You are not running the flash-attention implementation, expect numerical differences.\n"
     ]
    },
    {
     "name": "stdout",
     "output_type": "stream",
     "text": [
      "run in  163.5787217617035 s\n"
     ]
    }
   ],
   "source": [
    "outputs = generate_test_dataset(pipe , docs_processed, N_GENERATIONS=200, BATCH_SIZE=32)"
   ]
  },
  {
   "cell_type": "code",
   "execution_count": 14,
   "metadata": {},
   "outputs": [
    {
     "data": {
      "text/html": [
       "<div>\n",
       "<style scoped>\n",
       "    .dataframe tbody tr th:only-of-type {\n",
       "        vertical-align: middle;\n",
       "    }\n",
       "\n",
       "    .dataframe tbody tr th {\n",
       "        vertical-align: top;\n",
       "    }\n",
       "\n",
       "    .dataframe thead th {\n",
       "        text-align: right;\n",
       "    }\n",
       "</style>\n",
       "<table border=\"1\" class=\"dataframe\">\n",
       "  <thead>\n",
       "    <tr style=\"text-align: right;\">\n",
       "      <th></th>\n",
       "      <th>context</th>\n",
       "      <th>question</th>\n",
       "      <th>answer</th>\n",
       "      <th>source_doc</th>\n",
       "    </tr>\n",
       "  </thead>\n",
       "  <tbody>\n",
       "    <tr>\n",
       "      <th>0</th>\n",
       "      <td>Au quatrième trimestre 2021, le PIB français s...</td>\n",
       "      <td>Quelle est l'évolution prévue du PIB français ...</td>\n",
       "      <td>L'évolution prévue du PIB français au premier ...</td>\n",
       "      <td>https://www.insee.fr/fr/information/6215215</td>\n",
       "    </tr>\n",
       "    <tr>\n",
       "      <th>1</th>\n",
       "      <td>. Pendant les périodes d’activité partielle, l...</td>\n",
       "      <td>Quels secteurs sont particulièrement exposés a...</td>\n",
       "      <td>Les secteurs particulièrement exposés aux cons...</td>\n",
       "      <td>https://www.insee.fr/fr/statistiques/6216009</td>\n",
       "    </tr>\n",
       "    <tr>\n",
       "      <th>2</th>\n",
       "      <td>Près de 200 000 habitants résident sur le Terr...</td>\n",
       "      <td>Quelle était la population du Territoire de la...</td>\n",
       "      <td>La population du Territoire de la Côte Ouest é...</td>\n",
       "      <td>https://www.insee.fr/fr/statistiques/1293858</td>\n",
       "    </tr>\n",
       "    <tr>\n",
       "      <th>3</th>\n",
       "      <td>. Un métier pour lequel la part des femmes se ...</td>\n",
       "      <td>Quelles mesures ont été mises en place pour pr...</td>\n",
       "      <td>Des mesures telles que la loi Génisson (2001),...</td>\n",
       "      <td>https://www.insee.fr/fr/statistiques/1285800</td>\n",
       "    </tr>\n",
       "    <tr>\n",
       "      <th>4</th>\n",
       "      <td>Les données de population au 1er janvier 2021 ...</td>\n",
       "      <td>Quand Mayotte a-t-elle commencé à utiliser la ...</td>\n",
       "      <td>Mayotte a commencé à utiliser la méthode commu...</td>\n",
       "      <td>https://www.insee.fr/fr/statistiques/7728787</td>\n",
       "    </tr>\n",
       "  </tbody>\n",
       "</table>\n",
       "</div>"
      ],
      "text/plain": [
       "                                             context  \\\n",
       "0  Au quatrième trimestre 2021, le PIB français s...   \n",
       "1  . Pendant les périodes d’activité partielle, l...   \n",
       "2  Près de 200 000 habitants résident sur le Terr...   \n",
       "3  . Un métier pour lequel la part des femmes se ...   \n",
       "4  Les données de population au 1er janvier 2021 ...   \n",
       "\n",
       "                                            question  \\\n",
       "0  Quelle est l'évolution prévue du PIB français ...   \n",
       "1  Quels secteurs sont particulièrement exposés a...   \n",
       "2  Quelle était la population du Territoire de la...   \n",
       "3  Quelles mesures ont été mises en place pour pr...   \n",
       "4  Quand Mayotte a-t-elle commencé à utiliser la ...   \n",
       "\n",
       "                                              answer  \\\n",
       "0  L'évolution prévue du PIB français au premier ...   \n",
       "1  Les secteurs particulièrement exposés aux cons...   \n",
       "2  La population du Territoire de la Côte Ouest é...   \n",
       "3  Des mesures telles que la loi Génisson (2001),...   \n",
       "4  Mayotte a commencé à utiliser la méthode commu...   \n",
       "\n",
       "                                     source_doc  \n",
       "0   https://www.insee.fr/fr/information/6215215  \n",
       "1  https://www.insee.fr/fr/statistiques/6216009  \n",
       "2  https://www.insee.fr/fr/statistiques/1293858  \n",
       "3  https://www.insee.fr/fr/statistiques/1285800  \n",
       "4  https://www.insee.fr/fr/statistiques/7728787  "
      ]
     },
     "metadata": {},
     "output_type": "display_data"
    }
   ],
   "source": [
    "display(pd.DataFrame(outputs).head(5))"
   ]
  },
  {
   "cell_type": "code",
   "execution_count": 16,
   "metadata": {},
   "outputs": [],
   "source": [
    "#SSP Cloud access : mc cp s3/projet-llm-insee-open-data/data/eval_data/q_and_a_insee_200.csv /home/onyxia/work/llm-open-data-insee/data/test\n",
    "q_and_a_data = pd.DataFrame(outputs)\n",
    "q_and_a_data.to_csv(\"q_and_a_insee_200.csv\")"
   ]
  },
  {
   "cell_type": "markdown",
   "metadata": {},
   "source": [
    "### Setup critique agents \n",
    "Need to evaluate if the generated questions are relevant\n",
    "- Groundedness \n",
    "- Relevance\n",
    "- Stand-alone question : Can the question be answerable without the linked document. (Is it a general knowledge question)\n",
    "\n",
    "These 3 tests are done using prompting and asking the model to share its explanations and then its score. \n",
    "The scale is between 1 and 5.\n",
    "At the end, the remaining questions received 4+"
   ]
  },
  {
   "cell_type": "code",
   "execution_count": 24,
   "metadata": {},
   "outputs": [
    {
     "data": {
      "text/html": [
       "<div>\n",
       "<style scoped>\n",
       "    .dataframe tbody tr th:only-of-type {\n",
       "        vertical-align: middle;\n",
       "    }\n",
       "\n",
       "    .dataframe tbody tr th {\n",
       "        vertical-align: top;\n",
       "    }\n",
       "\n",
       "    .dataframe thead th {\n",
       "        text-align: right;\n",
       "    }\n",
       "</style>\n",
       "<table border=\"1\" class=\"dataframe\">\n",
       "  <thead>\n",
       "    <tr style=\"text-align: right;\">\n",
       "      <th></th>\n",
       "      <th>context</th>\n",
       "      <th>question</th>\n",
       "      <th>answer</th>\n",
       "      <th>source_doc</th>\n",
       "    </tr>\n",
       "  </thead>\n",
       "  <tbody>\n",
       "    <tr>\n",
       "      <th>0</th>\n",
       "      <td>Au quatrième trimestre 2021, le PIB français s...</td>\n",
       "      <td>Quelle est l'évolution prévue du PIB français ...</td>\n",
       "      <td>L'évolution prévue du PIB français au premier ...</td>\n",
       "      <td>https://www.insee.fr/fr/information/6215215</td>\n",
       "    </tr>\n",
       "    <tr>\n",
       "      <th>1</th>\n",
       "      <td>. Pendant les périodes d’activité partielle, l...</td>\n",
       "      <td>Quels secteurs sont particulièrement exposés a...</td>\n",
       "      <td>Les secteurs particulièrement exposés aux cons...</td>\n",
       "      <td>https://www.insee.fr/fr/statistiques/6216009</td>\n",
       "    </tr>\n",
       "    <tr>\n",
       "      <th>2</th>\n",
       "      <td>Près de 200 000 habitants résident sur le Terr...</td>\n",
       "      <td>Quelle était la population du Territoire de la...</td>\n",
       "      <td>La population du Territoire de la Côte Ouest é...</td>\n",
       "      <td>https://www.insee.fr/fr/statistiques/1293858</td>\n",
       "    </tr>\n",
       "    <tr>\n",
       "      <th>3</th>\n",
       "      <td>. Un métier pour lequel la part des femmes se ...</td>\n",
       "      <td>Quelles mesures ont été mises en place pour pr...</td>\n",
       "      <td>Des mesures telles que la loi Génisson (2001),...</td>\n",
       "      <td>https://www.insee.fr/fr/statistiques/1285800</td>\n",
       "    </tr>\n",
       "    <tr>\n",
       "      <th>4</th>\n",
       "      <td>Les données de population au 1er janvier 2021 ...</td>\n",
       "      <td>Quand Mayotte a-t-elle commencé à utiliser la ...</td>\n",
       "      <td>Mayotte a commencé à utiliser la méthode commu...</td>\n",
       "      <td>https://www.insee.fr/fr/statistiques/7728787</td>\n",
       "    </tr>\n",
       "  </tbody>\n",
       "</table>\n",
       "</div>"
      ],
      "text/plain": [
       "                                             context  \\\n",
       "0  Au quatrième trimestre 2021, le PIB français s...   \n",
       "1  . Pendant les périodes d’activité partielle, l...   \n",
       "2  Près de 200 000 habitants résident sur le Terr...   \n",
       "3  . Un métier pour lequel la part des femmes se ...   \n",
       "4  Les données de population au 1er janvier 2021 ...   \n",
       "\n",
       "                                            question  \\\n",
       "0  Quelle est l'évolution prévue du PIB français ...   \n",
       "1  Quels secteurs sont particulièrement exposés a...   \n",
       "2  Quelle était la population du Territoire de la...   \n",
       "3  Quelles mesures ont été mises en place pour pr...   \n",
       "4  Quand Mayotte a-t-elle commencé à utiliser la ...   \n",
       "\n",
       "                                              answer  \\\n",
       "0  L'évolution prévue du PIB français au premier ...   \n",
       "1  Les secteurs particulièrement exposés aux cons...   \n",
       "2  La population du Territoire de la Côte Ouest é...   \n",
       "3  Des mesures telles que la loi Génisson (2001),...   \n",
       "4  Mayotte a commencé à utiliser la méthode commu...   \n",
       "\n",
       "                                     source_doc  \n",
       "0   https://www.insee.fr/fr/information/6215215  \n",
       "1  https://www.insee.fr/fr/statistiques/6216009  \n",
       "2  https://www.insee.fr/fr/statistiques/1293858  \n",
       "3  https://www.insee.fr/fr/statistiques/1285800  \n",
       "4  https://www.insee.fr/fr/statistiques/7728787  "
      ]
     },
     "execution_count": 24,
     "metadata": {},
     "output_type": "execute_result"
    }
   ],
   "source": [
    "q_and_a_data.head()"
   ]
  },
  {
   "cell_type": "code",
   "execution_count": 36,
   "metadata": {},
   "outputs": [],
   "source": [
    "question_groundedness_critique_prompt = \"\"\"\n",
    "<|user|>\n",
    "Vous allez recevoir un contexte et une question.\n",
    "Votre tâche est de fournir une évaluation globale notant dans quelle mesure on peut répondre de manière non ambiguë à la question donnée avec le contexte donné.\n",
    "Donnez votre réponse sur une échelle de 1 à 5, où 1 signifie que la question n'est pas du tout répondable compte tenu du contexte, et 5 signifie que la question est clairement et sans ambiguïté répondable avec le contexte.\n",
    "\n",
    "Fournissez votre réponse comme suit :\n",
    "\n",
    "Évaluation : (votre justification de la note, sous forme de texte)\n",
    "Note totale : (votre note, entre 1 et 5)\n",
    "\n",
    "Vous DEVEZ fournir des valeurs pour 'Évaluation :' et 'Note totale :' dans votre réponse et rien d'autre. \n",
    "\n",
    "Maintenant, voici la question et le contexte.\n",
    "Question : {question}\n",
    "Contexte : {context}\n",
    "<|end|>\n",
    "<|assistant|>\n",
    "\"\"\"\n",
    "question_relevance_critique_prompt  = \"\"\"\n",
    "<|user|>\n",
    "Vous allez recevoir une question.\n",
    "Votre tâche est de fournir une 'notation globale' représentant à quel point cette question peut être utile pour les agents de l'institut de statistique public français.\n",
    "Donnez votre réponse sur une échelle de 1 à 5, où 1 signifie que la question n'est pas du tout utile, et 5 signifie que la question est extrêmement utile.\n",
    "\n",
    "Fournissez votre réponse comme suit :\n",
    "\n",
    "Évaluation : (votre justification de la note, sous forme de texte)\n",
    "Note totale : (votre note, sous forme d'un nombre entre 1 et 5)\n",
    "\n",
    "Vous DEVEZ fournir des valeurs pour 'Évaluation :' et 'Note totale :' dans votre réponse.\n",
    "\n",
    "Maintenant, voici la question.\n",
    "\n",
    "Question : {question}\n",
    "<|end|>\n",
    "<|assistant|>\n",
    "\"\"\"\n",
    "\n",
    "question_standalone_critique_prompt = \"\"\" \n",
    "<|user|>\n",
    "Vous allez recevoir une question.\n",
    "Votre tâche est de fournir une 'notation globale' représentant à quel point cette question est indépendante du contexte.\n",
    "Donnez votre réponse sur une échelle de 1 à 5, où 1 signifie que la question dépend d'informations supplémentaires pour être comprise, et 5 signifie que la question a du sens par elle-même.\n",
    "Par exemple, si la question fait référence à un cadre particulier, comme 'dans le contexte' ou 'dans le document', la note doit être de 1.\n",
    "Les questions peuvent contenir des noms techniques obscurs ou des acronymes comme INSEE ou du vocabulaire propre au statistiques et obtenir tout de même une note de 5 : il suffit simplement qu'un agent d'un institut de statistique public ayant accès à la documentation comprenne de quoi parle la question.\n",
    "\n",
    "Fournissez votre réponse comme suit :\n",
    "\n",
    "Évaluation : (votre justification de la note, sous forme de texte)\n",
    "Note totale : (votre note, sous forme d'un nombre entre 1 et 5)\n",
    "\n",
    "Vous DEVEZ fournir des valeurs pour 'Évaluation :' et 'Note totale :' dans votre réponse.\n",
    "\n",
    "Maintenant, voici la question.\n",
    "\n",
    "Question : {question}\\n\n",
    "<|end|>\n",
    "<|assistant|>\n",
    "\"\"\"\n"
   ]
  },
  {
   "cell_type": "code",
   "execution_count": 78,
   "metadata": {},
   "outputs": [],
   "source": [
    "import re\n",
    "import pandas as pd\n",
    "from tqdm import tqdm\n",
    "\n",
    "def extract_btw_tag(text, tag_1, tag_2):\n",
    "    pattern = f'{tag_1}(.*?){tag_2}'\n",
    "    return re.findall(pattern, text)[0] if re.findall(pattern, text) else None\n",
    "    \n",
    "def extract_score_eval(text):\n",
    "    eval_text = extract_btw_tag(text, tag_1=\"Évaluation : \", tag_2=\"\\n\")\n",
    "    score_text = extract_btw_tag(text, tag_1=\"Note totale : \", tag_2=\"\\n\")\n",
    "    score = int(score_text) if score_text else None\n",
    "    return score, eval_text \n",
    "\n",
    "def critique_Q_and_A(pipeline, dataset, args, k=2):\n",
    "\n",
    "    data = dataset.copy()\n",
    "\n",
    "    num_rows = len(data)\n",
    "\n",
    "    for batch_start in tqdm(range(0, num_rows, k)):\n",
    "        batch_end = min(batch_start + k, num_rows)  # Adjust batch end to handle the last incomplete batch\n",
    "        batch_prompts = []\n",
    "\n",
    "        for idx in range(batch_start, batch_end):\n",
    "            row = data.iloc[idx]\n",
    "            batch_prompts.extend([\n",
    "                question_groundedness_critique_prompt.format(context=row.context, question=row.question), \n",
    "                question_relevance_critique_prompt.format(question=row.question), \n",
    "                question_standalone_critique_prompt.format(question=row.question)\n",
    "            ])\n",
    "\n",
    "        outputs = pipeline(batch_prompts, **args)\n",
    "\n",
    "        try:\n",
    "            for j, idx in enumerate(range(batch_start, batch_end)):\n",
    "                metrics = {}\n",
    "                metrics[\"groundedness_score\"], metrics[\"groundedness_eval\"] = extract_score_eval(outputs[3*j][0]['generated_text']) \n",
    "                metrics[\"relevance_score\"], metrics[\"relevance_eval\"] = extract_score_eval(outputs[3*j + 1][0]['generated_text'])\n",
    "                metrics[\"standalone_score\"], metrics[\"standalone_eval\"] = extract_score_eval(outputs[3*j + 2][0]['generated_text'])\n",
    "                \n",
    "                data.loc[idx, list(metrics.keys())] = list(metrics.values())\n",
    "\n",
    "        except Exception as e:\n",
    "            print('Error:', e)\n",
    "            continue\n",
    "    \n",
    "    return data \n"
   ]
  },
  {
   "cell_type": "code",
   "execution_count": 28,
   "metadata": {},
   "outputs": [
    {
     "data": {
      "text/plain": [
       "\"\\n<|user|>\\nVous allez recevoir un contexte et une question.\\nVotre tâche est de fournir une évaluation globale notant dans quelle mesure on peut répondre de manière non ambiguë à la question donnée avec le contexte donné.\\nDonnez votre réponse sur une échelle de 1 à 5, où 1 signifie que la question n'est pas du tout répondable compte tenu du contexte, et 5 signifie que la question est clairement et sans ambiguïté répondable avec le contexte.\\n\\nFournissez votre réponse comme suit :\\n\\nÉvaluation : (votre justification de la note, sous forme de texte)\\nNote totale : (votre note, entre 1 et 5)\\n\\nVous DEVEZ fournir des valeurs pour 'Évaluation :' et 'Note totale :' dans votre réponse et rien d'autre. \\n\\nMaintenant, voici la question et le contexte.\\nQuestion : Quelle est l'évolution prévue du PIB français au premier trimestre 2022 par rapport au quatrième trimestre 2021?\\nContexte : Au quatrième trimestre 2021, le PIB français s’est situé à 0,9% au-dessus de son niveau d’avant la crise sanitaire, poursuivant son rattrapage dans plusieurs secteurs des services (commerce, transports, services aux ménages...). Les trois premiers mois de l’année 2022 apparaissent plus contrastés. Lemois de janvier a été caractérisé par la dégradation de la situation sanitaire (vague Omicron) et ses conséquences (recours accru au télétravail, mise en place du passe vaccinal, jauges pour certains évènements, etc.). Enfévrier, la plupart des restrictions ont été progressivement levées, et les enquêtes de conjoncture laissaient alors augurer une réaccélération de l’activité. Lemois de mars est quant à lui marqué par les premières conséquences du déclenchement de la guerre en Ukraine, s’ajoutant aux difficultés d’offre (difficultés d’approvisionnement, difficultés de recrutement) et aux tensions sur les prix qui préexistaient. Dans ce contexte, l’évolution du PIB français au premier trimestre 2022 serait le reflet, en moyenne, de ces évolutions contrastées. Ilralentirait ainsi, avec une progression prévue de +0,3% (après +0,7% au quatrième trimestre). Après une progression annuelle du PIB de +7,0% en 2021 par rapport à 2020, l’acquis de croissance pour l’année 2022 à l’issue du premier trimestre –c’est-à-dire la croissance annuelle qui serait observée si le PIB trimestriel restait stable sur le reste de l’année– serait alors de +2,7%...\\n<|end|>\\n<|assistant|>\\n\""
      ]
     },
     "execution_count": 28,
     "metadata": {},
     "output_type": "execute_result"
    }
   ],
   "source": [
    "row = q_and_a_data.iloc[0]\n",
    "prompt_final = question_groundedness_critique_prompt.format(context=row.context, question=row.question)\n",
    "prompt_final"
   ]
  },
  {
   "cell_type": "code",
   "execution_count": 81,
   "metadata": {},
   "outputs": [
    {
     "name": "stderr",
     "output_type": "stream",
     "text": [
      " 85%|████████▌ | 17/20 [07:36<01:21, 27.17s/it]"
     ]
    },
    {
     "name": "stdout",
     "output_type": "stream",
     "text": [
      "Error: invalid literal for int() with base 10: '3/5'\n"
     ]
    },
    {
     "name": "stderr",
     "output_type": "stream",
     "text": [
      " 90%|█████████ | 18/20 [08:03<00:54, 27.07s/it]"
     ]
    },
    {
     "name": "stdout",
     "output_type": "stream",
     "text": [
      "Error: invalid literal for int() with base 10: '4/5'\n"
     ]
    },
    {
     "name": "stderr",
     "output_type": "stream",
     "text": [
      "100%|██████████| 20/20 [08:56<00:00, 26.84s/it]\n"
     ]
    }
   ],
   "source": [
    "generated_questions = critique_Q_and_A(pipe, q_and_a_data, generation_args, k=10)"
   ]
  },
  {
   "cell_type": "code",
   "execution_count": 83,
   "metadata": {},
   "outputs": [
    {
     "data": {
      "text/html": [
       "<div>\n",
       "<style scoped>\n",
       "    .dataframe tbody tr th:only-of-type {\n",
       "        vertical-align: middle;\n",
       "    }\n",
       "\n",
       "    .dataframe tbody tr th {\n",
       "        vertical-align: top;\n",
       "    }\n",
       "\n",
       "    .dataframe thead th {\n",
       "        text-align: right;\n",
       "    }\n",
       "</style>\n",
       "<table border=\"1\" class=\"dataframe\">\n",
       "  <thead>\n",
       "    <tr style=\"text-align: right;\">\n",
       "      <th></th>\n",
       "      <th>context</th>\n",
       "      <th>question</th>\n",
       "      <th>answer</th>\n",
       "      <th>source_doc</th>\n",
       "      <th>groundedness_score</th>\n",
       "      <th>groundedness_eval</th>\n",
       "      <th>relevance_score</th>\n",
       "      <th>relevance_eval</th>\n",
       "      <th>standalone_score</th>\n",
       "      <th>standalone_eval</th>\n",
       "    </tr>\n",
       "  </thead>\n",
       "  <tbody>\n",
       "    <tr>\n",
       "      <th>0</th>\n",
       "      <td>Au quatrième trimestre 2021, le PIB français s’est situé à 0,9% au-dessus de son niveau d’avant la crise sanitaire, poursuivant son rattrapage dans plusieurs secteurs des services (commerce, transports, services aux ménages...). Les trois premiers mois de l’année 2022 apparaissent plus contrastés. Lemois de janvier a été caractérisé par la dégradation de la situation sanitaire (vague Omicron) et ses conséquences (recours accru au télétravail, mise en place du passe vaccinal, jauges pour certains évènements, etc.). Enfévrier, la plupart des restrictions ont été progressivement levées, et les enquêtes de conjoncture laissaient alors augurer une réaccélération de l’activité. Lemois de mars est quant à lui marqué par les premières conséquences du déclenchement de la guerre en Ukraine, s’ajoutant aux difficultés d’offre (difficultés d’approvisionnement, difficultés de recrutement) et aux tensions sur les prix qui préexistaient. Dans ce contexte, l’évolution du PIB français au premier trimestre 2022 serait le reflet, en moyenne, de ces évolutions contrastées. Ilralentirait ainsi, avec une progression prévue de +0,3% (après +0,7% au quatrième trimestre). Après une progression annuelle du PIB de +7,0% en 2021 par rapport à 2020, l’acquis de croissance pour l’année 2022 à l’issue du premier trimestre –c’est-à-dire la croissance annuelle qui serait observée si le PIB trimestriel restait stable sur le reste de l’année– serait alors de +2,7%...</td>\n",
       "      <td>Quelle est l'évolution prévue du PIB français au premier trimestre 2022 par rapport au quatrième trimestre 2021?</td>\n",
       "      <td>L'évolution prévue du PIB français au premier trimestre 2022 serait de +0,3%, après une augmentation de +0,7% au quatrième trimestre 2021.</td>\n",
       "      <td>https://www.insee.fr/fr/information/6215215</td>\n",
       "      <td>None</td>\n",
       "      <td>Le contexte fournit des informations sur les conditions économiques et les facteurs qui ont influencé le PIB français au quatrième trimestre 2021 et au début de l'année 2022. Il mentionne également une estimation de l'évolution du PIB pour le premier trimestre 2022.</td>\n",
       "      <td>5.0</td>\n",
       "      <td>Cette question est très pertinente pour les agents de l'institut de statistique public français car elle concerne une analyse économique directe et spécifique qui pourrait être utilisée pour des prévisions, des rapports ou des analyses économiques. Elle demande une connaissance des tendances économiques et des données historiques, ce qui est au cœur de leur travail.</td>\n",
       "      <td>5.0</td>\n",
       "      <td>La question mentionne des périodes spécifiques (premier trimestre 2022 et quatrième trimestre 2021) et un indicateur économique (PIB français), qui sont des informations qui peuvent être trouvées dans des données économiques publiques ou des rapports d'institutions comme l'INSEE. Il n'est pas nécessaire d'avoir un contexte plus large pour comprendre la question.</td>\n",
       "    </tr>\n",
       "  </tbody>\n",
       "</table>\n",
       "</div>"
      ],
      "text/plain": [
       "                                                                                                                                                                                                                                                                                                                                                                                                                                                                                                                                                                                                                                                                                                                                                                                                                                                                                                                                                                                                                                                                                                                                                                                                                                                                                                                                                                                                                                                                                                            context  \\\n",
       "0  Au quatrième trimestre 2021, le PIB français s’est situé à 0,9% au-dessus de son niveau d’avant la crise sanitaire, poursuivant son rattrapage dans plusieurs secteurs des services (commerce, transports, services aux ménages...). Les trois premiers mois de l’année 2022 apparaissent plus contrastés. Lemois de janvier a été caractérisé par la dégradation de la situation sanitaire (vague Omicron) et ses conséquences (recours accru au télétravail, mise en place du passe vaccinal, jauges pour certains évènements, etc.). Enfévrier, la plupart des restrictions ont été progressivement levées, et les enquêtes de conjoncture laissaient alors augurer une réaccélération de l’activité. Lemois de mars est quant à lui marqué par les premières conséquences du déclenchement de la guerre en Ukraine, s’ajoutant aux difficultés d’offre (difficultés d’approvisionnement, difficultés de recrutement) et aux tensions sur les prix qui préexistaient. Dans ce contexte, l’évolution du PIB français au premier trimestre 2022 serait le reflet, en moyenne, de ces évolutions contrastées. Ilralentirait ainsi, avec une progression prévue de +0,3% (après +0,7% au quatrième trimestre). Après une progression annuelle du PIB de +7,0% en 2021 par rapport à 2020, l’acquis de croissance pour l’année 2022 à l’issue du premier trimestre –c’est-à-dire la croissance annuelle qui serait observée si le PIB trimestriel restait stable sur le reste de l’année– serait alors de +2,7%...   \n",
       "\n",
       "                                                                                                           question  \\\n",
       "0  Quelle est l'évolution prévue du PIB français au premier trimestre 2022 par rapport au quatrième trimestre 2021?   \n",
       "\n",
       "                                                                                                                                       answer  \\\n",
       "0  L'évolution prévue du PIB français au premier trimestre 2022 serait de +0,3%, après une augmentation de +0,7% au quatrième trimestre 2021.   \n",
       "\n",
       "                                    source_doc groundedness_score  \\\n",
       "0  https://www.insee.fr/fr/information/6215215               None   \n",
       "\n",
       "                                                                                                                                                                                                                                                            groundedness_eval  \\\n",
       "0  Le contexte fournit des informations sur les conditions économiques et les facteurs qui ont influencé le PIB français au quatrième trimestre 2021 et au début de l'année 2022. Il mentionne également une estimation de l'évolution du PIB pour le premier trimestre 2022.   \n",
       "\n",
       "   relevance_score  \\\n",
       "0              5.0   \n",
       "\n",
       "                                                                                                                                                                                                                                                                                                                                                                     relevance_eval  \\\n",
       "0  Cette question est très pertinente pour les agents de l'institut de statistique public français car elle concerne une analyse économique directe et spécifique qui pourrait être utilisée pour des prévisions, des rapports ou des analyses économiques. Elle demande une connaissance des tendances économiques et des données historiques, ce qui est au cœur de leur travail.   \n",
       "\n",
       "   standalone_score  \\\n",
       "0               5.0   \n",
       "\n",
       "                                                                                                                                                                                                                                                                                                                                                                standalone_eval  \n",
       "0  La question mentionne des périodes spécifiques (premier trimestre 2022 et quatrième trimestre 2021) et un indicateur économique (PIB français), qui sont des informations qui peuvent être trouvées dans des données économiques publiques ou des rapports d'institutions comme l'INSEE. Il n'est pas nécessaire d'avoir un contexte plus large pour comprendre la question.  "
      ]
     },
     "execution_count": 83,
     "metadata": {},
     "output_type": "execute_result"
    }
   ],
   "source": [
    "generated_questions.head(1)"
   ]
  },
  {
   "cell_type": "markdown",
   "metadata": {},
   "source": [
    "Filter out bad questions based on our critique agent scores"
   ]
  },
  {
   "cell_type": "code",
   "execution_count": 84,
   "metadata": {},
   "outputs": [
    {
     "name": "stdout",
     "output_type": "stream",
     "text": [
      "Evaluation dataset before filtering:\n"
     ]
    },
    {
     "data": {
      "text/html": [
       "<div>\n",
       "<style scoped>\n",
       "    .dataframe tbody tr th:only-of-type {\n",
       "        vertical-align: middle;\n",
       "    }\n",
       "\n",
       "    .dataframe tbody tr th {\n",
       "        vertical-align: top;\n",
       "    }\n",
       "\n",
       "    .dataframe thead th {\n",
       "        text-align: right;\n",
       "    }\n",
       "</style>\n",
       "<table border=\"1\" class=\"dataframe\">\n",
       "  <thead>\n",
       "    <tr style=\"text-align: right;\">\n",
       "      <th></th>\n",
       "      <th>question</th>\n",
       "      <th>answer</th>\n",
       "      <th>groundedness_score</th>\n",
       "      <th>relevance_score</th>\n",
       "      <th>standalone_score</th>\n",
       "    </tr>\n",
       "  </thead>\n",
       "  <tbody>\n",
       "    <tr>\n",
       "      <th>0</th>\n",
       "      <td>Quelle est l'évolution prévue du PIB français au premier trimestre 2022 par rapport au quatrième trimestre 2021?</td>\n",
       "      <td>L'évolution prévue du PIB français au premier trimestre 2022 serait de +0,3%, après une augmentation de +0,7% au quatrième trimestre 2021.</td>\n",
       "      <td>None</td>\n",
       "      <td>5.0</td>\n",
       "      <td>5.0</td>\n",
       "    </tr>\n",
       "    <tr>\n",
       "      <th>1</th>\n",
       "      <td>Quels secteurs sont particulièrement exposés aux conséquences de la crise Covid-19 dans l'est de la région et au sud de Clermont-Ferrand?</td>\n",
       "      <td>Les secteurs particulièrement exposés aux conséquences de la crise Covid-19 dans l'est de la région et au sud de Clermont-Ferrand sont ceux de montagne, plasturgie et décolletage.</td>\n",
       "      <td>3</td>\n",
       "      <td>4.0</td>\n",
       "      <td>4.0</td>\n",
       "    </tr>\n",
       "    <tr>\n",
       "      <th>2</th>\n",
       "      <td>Quelle était la population du Territoire de la Côte Ouest au 1er janvier 2006 et quel était le taux de croissance annuel de la population depuis 1999?</td>\n",
       "      <td>La population du Territoire de la Côte Ouest était de 200 000 habitants au 1er janvier 2006. La population avait connu une croissance annuelle de 1,5 % depuis 1999.</td>\n",
       "      <td>4</td>\n",
       "      <td>5.0</td>\n",
       "      <td>5.0</td>\n",
       "    </tr>\n",
       "    <tr>\n",
       "      <th>3</th>\n",
       "      <td>Quelles mesures ont été mises en place pour promouvoir la mixité professionnelle et l'égalité des sexes dans le marché du travail en France?</td>\n",
       "      <td>Des mesures telles que la loi Génisson (2001), l'accord national interprofessionnel sur la mixité et l'égalité professionnelle (2004), la création du contrat pour la mixité des emplois et l'égalité (2011), l'instauration progressive de quotas de femmes dans les conseils d'administration et de surveillance des entreprises (2011), et la loi cadre pour l’égalité réelle entre les femmes et les hommes (2014) ont été mises en place pour promouvoir la mixité professionnelle et l'égalité des sexes dans le marché du travail en France.</td>\n",
       "      <td>5</td>\n",
       "      <td>4.0</td>\n",
       "      <td>4.0</td>\n",
       "    </tr>\n",
       "    <tr>\n",
       "      <th>4</th>\n",
       "      <td>Quand Mayotte a-t-elle commencé à utiliser la méthode commune de recensement de la population, et quand devrait-on attendre la première population légale authentifiée après cette méthode?</td>\n",
       "      <td>Mayotte a commencé à utiliser la méthode commune de recensement de la population en 2021. La première population légale authentifiée après l'adoption de cette méthode devrait être attendue à la fin de 2025.</td>\n",
       "      <td>5</td>\n",
       "      <td>4.0</td>\n",
       "      <td>4.0</td>\n",
       "    </tr>\n",
       "    <tr>\n",
       "      <th>...</th>\n",
       "      <td>...</td>\n",
       "      <td>...</td>\n",
       "      <td>...</td>\n",
       "      <td>...</td>\n",
       "      <td>...</td>\n",
       "    </tr>\n",
       "    <tr>\n",
       "      <th>195</th>\n",
       "      <td>Quelle est la baisse la plus importante du chômage dans les régions métropolitaines au quatrième trimestre 2016 et dans quelle région cela s'est produit-elle?</td>\n",
       "      <td>La baisse la plus importante du chômage dans les régions métropolitaines au quatrième trimestre 2016 s'est produite dans la Meuse, Meurthe-et-Moselle et les Vosges avec une baisse de 2,1%, 1,2% et 0,9% respectivement.</td>\n",
       "      <td>5</td>\n",
       "      <td>5.0</td>\n",
       "      <td>2.0</td>\n",
       "    </tr>\n",
       "    <tr>\n",
       "      <th>196</th>\n",
       "      <td>Quelle est la différence entre le taux de natalité du Grand Est et celui de la France métropolitaine en 2015?</td>\n",
       "      <td>En 2015, le taux de natalité du Grand Est était de 10,8 naissances pour 1000 habitants, soit un taux de natalité sensiblement inférieur à celui de la France métropolitaine qui était de 11,8‰.</td>\n",
       "      <td>3</td>\n",
       "      <td>4.0</td>\n",
       "      <td>5.0</td>\n",
       "    </tr>\n",
       "    <tr>\n",
       "      <th>197</th>\n",
       "      <td>Quelle industrie a connu une augmentation de +2,7% en décembre, après une baisse de -1,1%?</td>\n",
       "      <td>L'industrie pharmaceutique a connu une augmentation de +2,7% en décembre, après une baisse de -1,1%.</td>\n",
       "      <td>5</td>\n",
       "      <td>4.0</td>\n",
       "      <td>5.0</td>\n",
       "    </tr>\n",
       "    <tr>\n",
       "      <th>198</th>\n",
       "      <td>Quelle est la différence de pourcentage entre la baisse des entreprises immatriculées en Midi-Pyrénées et la baisse du nombre total d'entreprises créées en France au 2e trimestre 2013?</td>\n",
       "      <td>La différence de pourcentage est de 12% (8% pour les auto-entreprises en Midi-Pyrénées et 3% pour le nombre total d'entreprises en France).</td>\n",
       "      <td>2</td>\n",
       "      <td>4.0</td>\n",
       "      <td>5.0</td>\n",
       "    </tr>\n",
       "    <tr>\n",
       "      <th>199</th>\n",
       "      <td>Comment l'Insee mesure-t-elle le solde migratoire?</td>\n",
       "      <td>L'Insee mesure le solde migratoire en différenciant la variation de la population et le solde naturel.</td>\n",
       "      <td>None</td>\n",
       "      <td>4.0</td>\n",
       "      <td>4.0</td>\n",
       "    </tr>\n",
       "  </tbody>\n",
       "</table>\n",
       "<p>200 rows × 5 columns</p>\n",
       "</div>"
      ],
      "text/plain": [
       "                                                                                                                                                                                        question  \\\n",
       "0                                                                               Quelle est l'évolution prévue du PIB français au premier trimestre 2022 par rapport au quatrième trimestre 2021?   \n",
       "1                                                      Quels secteurs sont particulièrement exposés aux conséquences de la crise Covid-19 dans l'est de la région et au sud de Clermont-Ferrand?   \n",
       "2                                         Quelle était la population du Territoire de la Côte Ouest au 1er janvier 2006 et quel était le taux de croissance annuel de la population depuis 1999?   \n",
       "3                                                   Quelles mesures ont été mises en place pour promouvoir la mixité professionnelle et l'égalité des sexes dans le marché du travail en France?   \n",
       "4    Quand Mayotte a-t-elle commencé à utiliser la méthode commune de recensement de la population, et quand devrait-on attendre la première population légale authentifiée après cette méthode?   \n",
       "..                                                                                                                                                                                           ...   \n",
       "195                               Quelle est la baisse la plus importante du chômage dans les régions métropolitaines au quatrième trimestre 2016 et dans quelle région cela s'est produit-elle?   \n",
       "196                                                                                Quelle est la différence entre le taux de natalité du Grand Est et celui de la France métropolitaine en 2015?   \n",
       "197                                                                                                   Quelle industrie a connu une augmentation de +2,7% en décembre, après une baisse de -1,1%?   \n",
       "198     Quelle est la différence de pourcentage entre la baisse des entreprises immatriculées en Midi-Pyrénées et la baisse du nombre total d'entreprises créées en France au 2e trimestre 2013?   \n",
       "199                                                                                                                                           Comment l'Insee mesure-t-elle le solde migratoire?   \n",
       "\n",
       "                                                                                                                                                                                                                                                                                                                                                                                                                                                                                                                                                  answer  \\\n",
       "0                                                                                                                                                                                                                                                                                                                                                                                                             L'évolution prévue du PIB français au premier trimestre 2022 serait de +0,3%, après une augmentation de +0,7% au quatrième trimestre 2021.   \n",
       "1                                                                                                                                                                                                                                                                                                                                                                    Les secteurs particulièrement exposés aux conséquences de la crise Covid-19 dans l'est de la région et au sud de Clermont-Ferrand sont ceux de montagne, plasturgie et décolletage.   \n",
       "2                                                                                                                                                                                                                                                                                                                                                                                   La population du Territoire de la Côte Ouest était de 200 000 habitants au 1er janvier 2006. La population avait connu une croissance annuelle de 1,5 % depuis 1999.   \n",
       "3    Des mesures telles que la loi Génisson (2001), l'accord national interprofessionnel sur la mixité et l'égalité professionnelle (2004), la création du contrat pour la mixité des emplois et l'égalité (2011), l'instauration progressive de quotas de femmes dans les conseils d'administration et de surveillance des entreprises (2011), et la loi cadre pour l’égalité réelle entre les femmes et les hommes (2014) ont été mises en place pour promouvoir la mixité professionnelle et l'égalité des sexes dans le marché du travail en France.   \n",
       "4                                                                                                                                                                                                                                                                                                                                         Mayotte a commencé à utiliser la méthode commune de recensement de la population en 2021. La première population légale authentifiée après l'adoption de cette méthode devrait être attendue à la fin de 2025.   \n",
       "..                                                                                                                                                                                                                                                                                                                                                                                                                                                                                                                                                   ...   \n",
       "195                                                                                                                                                                                                                                                                                                                            La baisse la plus importante du chômage dans les régions métropolitaines au quatrième trimestre 2016 s'est produite dans la Meuse, Meurthe-et-Moselle et les Vosges avec une baisse de 2,1%, 1,2% et 0,9% respectivement.   \n",
       "196                                                                                                                                                                                                                                                                                                                                                      En 2015, le taux de natalité du Grand Est était de 10,8 naissances pour 1000 habitants, soit un taux de natalité sensiblement inférieur à celui de la France métropolitaine qui était de 11,8‰.   \n",
       "197                                                                                                                                                                                                                                                                                                                                                                                                                                                 L'industrie pharmaceutique a connu une augmentation de +2,7% en décembre, après une baisse de -1,1%.   \n",
       "198                                                                                                                                                                                                                                                                                                                                                                                                          La différence de pourcentage est de 12% (8% pour les auto-entreprises en Midi-Pyrénées et 3% pour le nombre total d'entreprises en France).   \n",
       "199                                                                                                                                                                                                                                                                                                                                                                                                                                               L'Insee mesure le solde migratoire en différenciant la variation de la population et le solde naturel.   \n",
       "\n",
       "    groundedness_score  relevance_score  standalone_score  \n",
       "0                 None              5.0               5.0  \n",
       "1                    3              4.0               4.0  \n",
       "2                    4              5.0               5.0  \n",
       "3                    5              4.0               4.0  \n",
       "4                    5              4.0               4.0  \n",
       "..                 ...              ...               ...  \n",
       "195                  5              5.0               2.0  \n",
       "196                  3              4.0               5.0  \n",
       "197                  5              4.0               5.0  \n",
       "198                  2              4.0               5.0  \n",
       "199               None              4.0               4.0  \n",
       "\n",
       "[200 rows x 5 columns]"
      ]
     },
     "metadata": {},
     "output_type": "display_data"
    },
    {
     "name": "stdout",
     "output_type": "stream",
     "text": [
      "number of selected Q&A couple :  77\n",
      "============================================\n",
      "Final evaluation dataset:\n"
     ]
    },
    {
     "data": {
      "text/html": [
       "<div>\n",
       "<style scoped>\n",
       "    .dataframe tbody tr th:only-of-type {\n",
       "        vertical-align: middle;\n",
       "    }\n",
       "\n",
       "    .dataframe tbody tr th {\n",
       "        vertical-align: top;\n",
       "    }\n",
       "\n",
       "    .dataframe thead th {\n",
       "        text-align: right;\n",
       "    }\n",
       "</style>\n",
       "<table border=\"1\" class=\"dataframe\">\n",
       "  <thead>\n",
       "    <tr style=\"text-align: right;\">\n",
       "      <th></th>\n",
       "      <th>question</th>\n",
       "      <th>answer</th>\n",
       "      <th>groundedness_score</th>\n",
       "      <th>relevance_score</th>\n",
       "      <th>standalone_score</th>\n",
       "    </tr>\n",
       "  </thead>\n",
       "  <tbody>\n",
       "    <tr>\n",
       "      <th>2</th>\n",
       "      <td>Quelle était la population du Territoire de la Côte Ouest au 1er janvier 2006 et quel était le taux de croissance annuel de la population depuis 1999?</td>\n",
       "      <td>La population du Territoire de la Côte Ouest était de 200 000 habitants au 1er janvier 2006. La population avait connu une croissance annuelle de 1,5 % depuis 1999.</td>\n",
       "      <td>4</td>\n",
       "      <td>5.0</td>\n",
       "      <td>5.0</td>\n",
       "    </tr>\n",
       "    <tr>\n",
       "      <th>3</th>\n",
       "      <td>Quelles mesures ont été mises en place pour promouvoir la mixité professionnelle et l'égalité des sexes dans le marché du travail en France?</td>\n",
       "      <td>Des mesures telles que la loi Génisson (2001), l'accord national interprofessionnel sur la mixité et l'égalité professionnelle (2004), la création du contrat pour la mixité des emplois et l'égalité (2011), l'instauration progressive de quotas de femmes dans les conseils d'administration et de surveillance des entreprises (2011), et la loi cadre pour l’égalité réelle entre les femmes et les hommes (2014) ont été mises en place pour promouvoir la mixité professionnelle et l'égalité des sexes dans le marché du travail en France.</td>\n",
       "      <td>5</td>\n",
       "      <td>4.0</td>\n",
       "      <td>4.0</td>\n",
       "    </tr>\n",
       "    <tr>\n",
       "      <th>4</th>\n",
       "      <td>Quand Mayotte a-t-elle commencé à utiliser la méthode commune de recensement de la population, et quand devrait-on attendre la première population légale authentifiée après cette méthode?</td>\n",
       "      <td>Mayotte a commencé à utiliser la méthode commune de recensement de la population en 2021. La première population légale authentifiée après l'adoption de cette méthode devrait être attendue à la fin de 2025.</td>\n",
       "      <td>5</td>\n",
       "      <td>4.0</td>\n",
       "      <td>4.0</td>\n",
       "    </tr>\n",
       "    <tr>\n",
       "      <th>10</th>\n",
       "      <td>Combien d'emplois sont considérés comme liés au tourisme dans les secteurs d'activités partiellement touristiques?</td>\n",
       "      <td>Pour les secteurs d'activités partiellement touristiques, l'emploi lié au tourisme est estimé en soustrayant à l'emploi total un emploi théorique lié aux résidents.</td>\n",
       "      <td>4</td>\n",
       "      <td>4.0</td>\n",
       "      <td>4.0</td>\n",
       "    </tr>\n",
       "    <tr>\n",
       "      <th>13</th>\n",
       "      <td>Quelle est la différence de nombre de décès entre la période du 1er mars au 30 avril 2020 et le même laps de temps en 2019 dans la région de Bourgogne-Franche-Comté?</td>\n",
       "      <td>La différence de nombre de décès entre le 1er mars et le 30 avril 2020 et le même laps de temps en 2019 dans la région de Bourgogne-Franche-Comté est de 4450 décès, soit une augmentation de 26%.</td>\n",
       "      <td>5</td>\n",
       "      <td>5.0</td>\n",
       "      <td>5.0</td>\n",
       "    </tr>\n",
       "    <tr>\n",
       "      <th>...</th>\n",
       "      <td>...</td>\n",
       "      <td>...</td>\n",
       "      <td>...</td>\n",
       "      <td>...</td>\n",
       "      <td>...</td>\n",
       "    </tr>\n",
       "    <tr>\n",
       "      <th>176</th>\n",
       "      <td>Quelle est la différence de rémunération moyenne entre les accords décentralisés et les accords de branche en France?</td>\n",
       "      <td>La différence de rémunération moyenne entre les accords décentralisés et les accords de branche en France est d'environ 9% (5,5% pour les accords de branche et 13,5% pour les accords décentralisés).</td>\n",
       "      <td>5</td>\n",
       "      <td>4.0</td>\n",
       "      <td>4.0</td>\n",
       "    </tr>\n",
       "    <tr>\n",
       "      <th>180</th>\n",
       "      <td>Quelle est la progression de l'emploi salarié dans le secteur tertiaire marchand hors intérim, en particulier dans les activités spécialisées, scientifiques et techniques, depuis le dernier trimestre?</td>\n",
       "      <td>La progression de l'emploi salarié dans le secteur tertiaire marchand hors intérim, en particulier dans les activités spécialisées, scientifiques et techniques, est de +0,9% d'un trimestre à l'autre.</td>\n",
       "      <td>5</td>\n",
       "      <td>4.0</td>\n",
       "      <td>5.0</td>\n",
       "    </tr>\n",
       "    <tr>\n",
       "      <th>188</th>\n",
       "      <td>Quelle est la tendance démographique de la population régionale de Bourgogne-Franche-Comté depuis 2015 et quelles sont les principales causes de cette tendance?</td>\n",
       "      <td>La population régionale de Bourgogne-Franche-Comté a une tendance à la baisse depuis 2015. Cette tendance est principalement due à une diminution marquée du nombre de naissances et à une augmentation sans précédent du nombre de décès. Le solde naturel n'a jamais été aussi négatif dans cette région, ce qui contribue à l'accroissement naturel négatif de -2,9 pour mille habitants.</td>\n",
       "      <td>5</td>\n",
       "      <td>5.0</td>\n",
       "      <td>4.0</td>\n",
       "    </tr>\n",
       "    <tr>\n",
       "      <th>190</th>\n",
       "      <td>Quels sont les sujets principaux traités dans le rapport annuel \"L'Économie française - Comptes et dossiers\"?</td>\n",
       "      <td>Les sujets principaux traités dans le rapport annuel \"L'Économie française - Comptes et dossiers\" sont les mouvements essentiels ayant affecté les économies française et mondiale au cours de l'année écoulée.</td>\n",
       "      <td>4</td>\n",
       "      <td>5.0</td>\n",
       "      <td>5.0</td>\n",
       "    </tr>\n",
       "    <tr>\n",
       "      <th>197</th>\n",
       "      <td>Quelle industrie a connu une augmentation de +2,7% en décembre, après une baisse de -1,1%?</td>\n",
       "      <td>L'industrie pharmaceutique a connu une augmentation de +2,7% en décembre, après une baisse de -1,1%.</td>\n",
       "      <td>5</td>\n",
       "      <td>4.0</td>\n",
       "      <td>5.0</td>\n",
       "    </tr>\n",
       "  </tbody>\n",
       "</table>\n",
       "<p>77 rows × 5 columns</p>\n",
       "</div>"
      ],
      "text/plain": [
       "                                                                                                                                                                                                     question  \\\n",
       "2                                                      Quelle était la population du Territoire de la Côte Ouest au 1er janvier 2006 et quel était le taux de croissance annuel de la population depuis 1999?   \n",
       "3                                                                Quelles mesures ont été mises en place pour promouvoir la mixité professionnelle et l'égalité des sexes dans le marché du travail en France?   \n",
       "4                 Quand Mayotte a-t-elle commencé à utiliser la méthode commune de recensement de la population, et quand devrait-on attendre la première population légale authentifiée après cette méthode?   \n",
       "10                                                                                         Combien d'emplois sont considérés comme liés au tourisme dans les secteurs d'activités partiellement touristiques?   \n",
       "13                                      Quelle est la différence de nombre de décès entre la période du 1er mars au 30 avril 2020 et le même laps de temps en 2019 dans la région de Bourgogne-Franche-Comté?   \n",
       "..                                                                                                                                                                                                        ...   \n",
       "176                                                                                     Quelle est la différence de rémunération moyenne entre les accords décentralisés et les accords de branche en France?   \n",
       "180  Quelle est la progression de l'emploi salarié dans le secteur tertiaire marchand hors intérim, en particulier dans les activités spécialisées, scientifiques et techniques, depuis le dernier trimestre?   \n",
       "188                                          Quelle est la tendance démographique de la population régionale de Bourgogne-Franche-Comté depuis 2015 et quelles sont les principales causes de cette tendance?   \n",
       "190                                                                                             Quels sont les sujets principaux traités dans le rapport annuel \"L'Économie française - Comptes et dossiers\"?   \n",
       "197                                                                                                                Quelle industrie a connu une augmentation de +2,7% en décembre, après une baisse de -1,1%?   \n",
       "\n",
       "                                                                                                                                                                                                                                                                                                                                                                                                                                                                                                                                                  answer  \\\n",
       "2                                                                                                                                                                                                                                                                                                                                                                                   La population du Territoire de la Côte Ouest était de 200 000 habitants au 1er janvier 2006. La population avait connu une croissance annuelle de 1,5 % depuis 1999.   \n",
       "3    Des mesures telles que la loi Génisson (2001), l'accord national interprofessionnel sur la mixité et l'égalité professionnelle (2004), la création du contrat pour la mixité des emplois et l'égalité (2011), l'instauration progressive de quotas de femmes dans les conseils d'administration et de surveillance des entreprises (2011), et la loi cadre pour l’égalité réelle entre les femmes et les hommes (2014) ont été mises en place pour promouvoir la mixité professionnelle et l'égalité des sexes dans le marché du travail en France.   \n",
       "4                                                                                                                                                                                                                                                                                                                                         Mayotte a commencé à utiliser la méthode commune de recensement de la population en 2021. La première population légale authentifiée après l'adoption de cette méthode devrait être attendue à la fin de 2025.   \n",
       "10                                                                                                                                                                                                                                                                                                                                                                                  Pour les secteurs d'activités partiellement touristiques, l'emploi lié au tourisme est estimé en soustrayant à l'emploi total un emploi théorique lié aux résidents.   \n",
       "13                                                                                                                                                                                                                                                                                                                                                    La différence de nombre de décès entre le 1er mars et le 30 avril 2020 et le même laps de temps en 2019 dans la région de Bourgogne-Franche-Comté est de 4450 décès, soit une augmentation de 26%.   \n",
       "..                                                                                                                                                                                                                                                                                                                                                                                                                                                                                                                                                   ...   \n",
       "176                                                                                                                                                                                                                                                                                                                                               La différence de rémunération moyenne entre les accords décentralisés et les accords de branche en France est d'environ 9% (5,5% pour les accords de branche et 13,5% pour les accords décentralisés).   \n",
       "180                                                                                                                                                                                                                                                                                                                                              La progression de l'emploi salarié dans le secteur tertiaire marchand hors intérim, en particulier dans les activités spécialisées, scientifiques et techniques, est de +0,9% d'un trimestre à l'autre.   \n",
       "188                                                                                                                                                         La population régionale de Bourgogne-Franche-Comté a une tendance à la baisse depuis 2015. Cette tendance est principalement due à une diminution marquée du nombre de naissances et à une augmentation sans précédent du nombre de décès. Le solde naturel n'a jamais été aussi négatif dans cette région, ce qui contribue à l'accroissement naturel négatif de -2,9 pour mille habitants.   \n",
       "190                                                                                                                                                                                                                                                                                                                                      Les sujets principaux traités dans le rapport annuel \"L'Économie française - Comptes et dossiers\" sont les mouvements essentiels ayant affecté les économies française et mondiale au cours de l'année écoulée.   \n",
       "197                                                                                                                                                                                                                                                                                                                                                                                                                                                 L'industrie pharmaceutique a connu une augmentation de +2,7% en décembre, après une baisse de -1,1%.   \n",
       "\n",
       "    groundedness_score  relevance_score  standalone_score  \n",
       "2                    4              5.0               5.0  \n",
       "3                    5              4.0               4.0  \n",
       "4                    5              4.0               4.0  \n",
       "10                   4              4.0               4.0  \n",
       "13                   5              5.0               5.0  \n",
       "..                 ...              ...               ...  \n",
       "176                  5              4.0               4.0  \n",
       "180                  5              4.0               5.0  \n",
       "188                  5              5.0               4.0  \n",
       "190                  4              5.0               5.0  \n",
       "197                  5              4.0               5.0  \n",
       "\n",
       "[77 rows x 5 columns]"
      ]
     },
     "metadata": {},
     "output_type": "display_data"
    }
   ],
   "source": [
    "import pandas as pd\n",
    "\n",
    "pd.set_option(\"display.max_colwidth\", None)\n",
    "\n",
    "print(\"Evaluation dataset before filtering:\")\n",
    "\n",
    "display(\n",
    "    generated_questions[\n",
    "        [\n",
    "            \"question\", # question generated based on given context\n",
    "            \"answer\", # answer generated based on given context (and generated question)\n",
    "            \"groundedness_score\", #score \n",
    "            \"relevance_score\", #score \n",
    "            \"standalone_score\", #score \n",
    "        ]\n",
    "    ]\n",
    ")\n",
    "\n",
    "#Select only the most relevant questions\n",
    "generated_questions = generated_questions.loc[\n",
    "    (generated_questions[\"groundedness_score\"] >= 4)\n",
    "    & (generated_questions[\"relevance_score\"] >= 4)\n",
    "    & (generated_questions[\"standalone_score\"] >= 4)\n",
    "]\n",
    "print(\"number of selected Q&A couple : \", len(generated_questions))\n",
    "\n",
    "print(\"============================================\")\n",
    "print(\"Final evaluation dataset:\")\n",
    "display(\n",
    "    generated_questions[\n",
    "        [\n",
    "            \"question\",\n",
    "            \"answer\",\n",
    "            \"groundedness_score\",\n",
    "            \"relevance_score\",\n",
    "            \"standalone_score\",\n",
    "        ]\n",
    "    ]\n",
    ")\n"
   ]
  },
  {
   "cell_type": "code",
   "execution_count": 87,
   "metadata": {},
   "outputs": [],
   "source": [
    "generated_questions.to_csv(\"eval_dataset.csv\", index=False)"
   ]
  },
  {
   "cell_type": "code",
   "execution_count": 86,
   "metadata": {},
   "outputs": [
    {
     "name": "stdout",
     "output_type": "stream",
     "text": [
      "...ataset.csv: 240.80 KiB / 240.80 KiB ┃▓▓▓▓▓▓▓▓▓▓▓▓▓▓▓▓▓▓▓▓▓▓▓▓▓┃ 1.51 MiB/s 0s\u001b[0;22m\u001b[0m\u001b[m\u001b[32;1m\u001b[m\u001b[32;1m"
     ]
    }
   ],
   "source": [
    "!mc cp /home/onyxia/work/eval_dataset.csv s3/projet-llm-insee-open-data/data/eval_data/"
   ]
  }
 ],
 "metadata": {
  "kernelspec": {
   "display_name": "base",
   "language": "python",
   "name": "python3"
  },
  "language_info": {
   "codemirror_mode": {
    "name": "ipython",
    "version": 3
   },
   "file_extension": ".py",
   "mimetype": "text/x-python",
   "name": "python",
   "nbconvert_exporter": "python",
   "pygments_lexer": "ipython3",
   "version": "3.12.4"
  }
 },
 "nbformat": 4,
 "nbformat_minor": 2
}
