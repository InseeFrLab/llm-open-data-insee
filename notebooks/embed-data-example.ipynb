{
 "cells": [
  {
   "cell_type": "code",
   "execution_count": null,
   "metadata": {},
   "outputs": [],
   "source": [
    "import os\n",
    "import s3fs\n",
    "\n",
    "# Add the root project to the path to be able to load from src\n",
    "module_path = os.path.abspath(os.path.join('..'))\n",
    "if module_path not in sys.path:\n",
    "    sys.path.append(module_path)"
   ]
  },
  {
   "cell_type": "code",
   "execution_count": null,
   "metadata": {},
   "outputs": [],
   "source": [
    "from src.config import RAGConfig\n",
    "\n",
    "# Default config loaded from default values and environment variables\n",
    "config = custom_config(\n",
    "    defaults = { # These defaults can be overriden with env variables\n",
    "    },\n",
    "    overrides = { # These values are going to be used no matter what\n",
    "        \"emb_model\": \"Alibaba-NLP/gte-Qwen2-1.5B-instruct\",\n",
    "        \"use_tokenizer_to_chunk\": True\n",
    "    })\n",
    "\n",
    "filesystem = s3fs.S3FileSystem(endpoint_url=config.s3_endpoint_url)"
   ]
  },
  {
   "cell_type": "code",
   "execution_count": null,
   "metadata": {},
   "outputs": [],
   "source": [
    "from src.db_building.corpus_building import build_or_load_document_database\n",
    "df, all_splits = build_or_load_document_database(filesystem, config)"
   ]
  },
  {
   "cell_type": "code",
   "execution_count": null,
   "metadata": {},
   "outputs": [],
   "source": [
    "from langchain_huggingface import HuggingFaceEmbeddings\n",
    "\n",
    "embedding_model = modelid\n",
    "embedding_device = \"cuda\"\n",
    "\n",
    "emb_model = HuggingFaceEmbeddings(\n",
    "    model_name=embedding_model,\n",
    "    model_kwargs={\"device\": embedding_device},\n",
    "    encode_kwargs={\"normalize_embeddings\": True},  # set True for cosine similarity\n",
    "    show_progress=False,\n",
    ")"
   ]
  },
  {
   "cell_type": "code",
   "execution_count": null,
   "metadata": {},
   "outputs": [],
   "source": [
    "from langchain_chroma import Chroma\n",
    "\n",
    "vector_store = Chroma(\n",
    "    collection_name=\"insee_data\",\n",
    "    embedding_function=emb_model,\n",
    "    persist_directory=\"./chroma_langchain_db\",  # Where to save data locally, remove if not necessary\n",
    ")"
   ]
  },
  {
   "cell_type": "code",
   "execution_count": null,
   "metadata": {},
   "outputs": [],
   "source": [
    "ids = [i for i, _ in enumerate(all_splits)]\n",
    "\n",
    "vector_store.add_documents(documents=all_splits, ids=ids)"
   ]
  }
 ],
 "metadata": {
  "kernelspec": {
   "display_name": "base",
   "language": "python",
   "name": "python3"
  },
  "language_info": {
   "codemirror_mode": {
    "name": "ipython",
    "version": 3
   },
   "file_extension": ".py",
   "mimetype": "text/x-python",
   "name": "python",
   "nbconvert_exporter": "python",
   "pygments_lexer": "ipython3",
   "version": "3.12.6"
  }
 },
 "nbformat": 4,
 "nbformat_minor": 2
}
