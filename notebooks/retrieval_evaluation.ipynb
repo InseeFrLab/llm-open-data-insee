{
 "cells": [
  {
   "cell_type": "code",
   "execution_count": 1,
   "id": "a7e00577-59ac-4f3e-8257-76eee59b63f0",
   "metadata": {},
   "outputs": [],
   "source": [
    "import sys\n",
    "sys.path.append(\"../src\")"
   ]
  },
  {
   "cell_type": "markdown",
   "id": "d78c882b",
   "metadata": {},
   "source": [
    "### Load Q&A test data"
   ]
  },
  {
   "cell_type": "code",
   "execution_count": 3,
   "id": "66e1b828",
   "metadata": {},
   "outputs": [
    {
     "name": "stdout",
     "output_type": "stream",
     "text": [
      "...struct.csv: 281.66 KiB / 281.66 KiB ┃▓▓▓▓▓▓▓▓▓▓▓▓▓▓▓▓▓▓▓▓▓▓▓┃ 555.67 KiB/s 0s\u001b[0;22m\u001b[0m\u001b[m\u001b[32;1m\u001b[m\u001b[32;1m\u001b[m\u001b[32;1m\u001b[m\u001b[32;1m"
     ]
    }
   ],
   "source": [
    "!mc cp s3/projet-llm-insee-open-data/data/eval_data/eval_retrieval/q_and_a_scored_filtered_Phi-3-mini-128k-instruct.csv ../data/q_and_a_ref_retrieval_evaluation_Phi-3-mini-128k-instruct.csv"
   ]
  },
  {
   "cell_type": "markdown",
   "id": "cd9b8f5f",
   "metadata": {},
   "source": [
    "### Load Knowledge Data"
   ]
  },
  {
   "cell_type": "code",
   "execution_count": 9,
   "id": "79677726",
   "metadata": {},
   "outputs": [
    {
     "name": "stdout",
     "output_type": "stream",
     "text": [
      "...uation.csv: 4.69 MiB / 4.69 MiB ┃▓▓▓▓▓▓▓▓▓▓▓▓▓▓▓▓▓▓▓▓▓▓▓▓▓▓▓▓▓┃ 8.54 MiB/s 0s\u001b[0;22m\u001b[0m\u001b[m\u001b[32;1m\u001b[m\u001b[32;1m\u001b[m\u001b[32;1m\u001b[m\u001b[32;1m\u001b[m\u001b[32;1m"
     ]
    }
   ],
   "source": [
    "!mc cp s3/projet-llm-insee-open-data/data/eval_data/eval_retrieval/insee_documents_sample_ref_retrieval_evaluation.csv ../data/insee_documents_sample_ref_retrieval_evaluation.csv"
   ]
  },
  {
   "cell_type": "code",
   "execution_count": 2,
   "id": "f2aa7a03-43a3-408f-834b-39a9ddea77ea",
   "metadata": {},
   "outputs": [],
   "source": [
    "import pandas as pd \n",
    "\n",
    "#question and answer\n",
    "path_qa = \"../data/q_and_a_ref_retrieval_evaluation_Phi-3-mini-128k-instruct.csv\"\n",
    "test = pd.read_csv(path_qa)\n",
    "\n",
    "df_dict = {}\n",
    "df_dict[\"the_df_dataset\"] = test\n",
    "\n",
    "#knowledge data \n",
    "path_knowledge = \"../data/insee_documents_sample_ref_retrieval_evaluation.csv\"\n",
    "data = pd.read_csv(path_knowledge)"
   ]
  },
  {
   "cell_type": "code",
   "execution_count": 3,
   "id": "98c2924e",
   "metadata": {},
   "outputs": [
    {
     "data": {
      "text/html": [
       "<div>\n",
       "<style scoped>\n",
       "    .dataframe tbody tr th:only-of-type {\n",
       "        vertical-align: middle;\n",
       "    }\n",
       "\n",
       "    .dataframe tbody tr th {\n",
       "        vertical-align: top;\n",
       "    }\n",
       "\n",
       "    .dataframe thead th {\n",
       "        text-align: right;\n",
       "    }\n",
       "</style>\n",
       "<table border=\"1\" class=\"dataframe\">\n",
       "  <thead>\n",
       "    <tr style=\"text-align: right;\">\n",
       "      <th></th>\n",
       "      <th>context</th>\n",
       "      <th>question</th>\n",
       "      <th>answer</th>\n",
       "      <th>source_doc</th>\n",
       "      <th>groundedness_score</th>\n",
       "      <th>groundedness_eval</th>\n",
       "      <th>relevance_score</th>\n",
       "      <th>relevance_eval</th>\n",
       "      <th>standalone_score</th>\n",
       "      <th>standalone_eval</th>\n",
       "    </tr>\n",
       "  </thead>\n",
       "  <tbody>\n",
       "    <tr>\n",
       "      <th>0</th>\n",
       "      <td>. L’approche coût-efficacité apparaît plus con...</td>\n",
       "      <td>Quelle est l'approche qui s'aligne sur l'objec...</td>\n",
       "      <td>L'approche coût-efficacité est celle qui s'ali...</td>\n",
       "      <td>https://www.insee.fr/fr/information/4796342</td>\n",
       "      <td>5.0</td>\n",
       "      <td>Le contexte fourni donne des informations sur ...</td>\n",
       "      <td>4.0</td>\n",
       "      <td>Cette question est très pertinente pour les ag...</td>\n",
       "      <td>5.0</td>\n",
       "      <td>La question mentionne explicitement l'accord d...</td>\n",
       "    </tr>\n",
       "    <tr>\n",
       "      <th>1</th>\n",
       "      <td>. A contrario, pour les femmes de 30à 34ans, i...</td>\n",
       "      <td>Quelle est l'évolution de l'âge moyen à la mat...</td>\n",
       "      <td>L'âge moyen à la maternité pour les femmes de ...</td>\n",
       "      <td>https://www.insee.fr/fr/statistiques/4238437</td>\n",
       "      <td>5.0</td>\n",
       "      <td>La question demande une évolution spécifique c...</td>\n",
       "      <td>5.0</td>\n",
       "      <td>Cette question est très pertinente pour les ag...</td>\n",
       "      <td>5.0</td>\n",
       "      <td>Cette question est indépendante du contexte ca...</td>\n",
       "    </tr>\n",
       "    <tr>\n",
       "      <th>2</th>\n",
       "      <td>. Points d’entrées pour la France dans les coo...</td>\n",
       "      <td>Quelle est la part des mineurs dans les cas de...</td>\n",
       "      <td>La part des mineurs a diminué de 7 points pour...</td>\n",
       "      <td>https://www.insee.fr/fr/statistiques/5763625</td>\n",
       "      <td>4.0</td>\n",
       "      <td>Le contexte fournit des informations détaillée...</td>\n",
       "      <td>4.0</td>\n",
       "      <td>Cette question est très pertinente pour les ag...</td>\n",
       "      <td>4.0</td>\n",
       "      <td>Cette question est assez indépendante du conte...</td>\n",
       "    </tr>\n",
       "    <tr>\n",
       "      <th>3</th>\n",
       "      <td>. L’empreinte énergétique directe du numérique...</td>\n",
       "      <td>Quelle est la part du numérique dans les émiss...</td>\n",
       "      <td>En 2017, le numérique représentait plus de 3,7...</td>\n",
       "      <td>https://www.insee.fr/fr/statistiques/4126596</td>\n",
       "      <td>5.0</td>\n",
       "      <td>Le contexte fourni donne des informations spéc...</td>\n",
       "      <td>5.0</td>\n",
       "      <td>Cette question est très pertinente pour les ag...</td>\n",
       "      <td>4.0</td>\n",
       "      <td>Cette question demande des informations spécif...</td>\n",
       "    </tr>\n",
       "    <tr>\n",
       "      <th>4</th>\n",
       "      <td>.  La collecte d’Acemo Covid s’étend sur deux ...</td>\n",
       "      <td>Quels sont les codes APE utilisés pour représe...</td>\n",
       "      <td>Les codes APE utilisés pour représenter la res...</td>\n",
       "      <td>https://www.insee.fr/fr/statistiques/5392036</td>\n",
       "      <td>5.0</td>\n",
       "      <td>La question demande de nommer les codes APE co...</td>\n",
       "      <td>4.0</td>\n",
       "      <td>Cette question est directement liée aux activi...</td>\n",
       "      <td>5.0</td>\n",
       "      <td>La question demande une information spécifique...</td>\n",
       "    </tr>\n",
       "  </tbody>\n",
       "</table>\n",
       "</div>"
      ],
      "text/plain": [
       "                                             context  \\\n",
       "0  . L’approche coût-efficacité apparaît plus con...   \n",
       "1  . A contrario, pour les femmes de 30à 34ans, i...   \n",
       "2  . Points d’entrées pour la France dans les coo...   \n",
       "3  . L’empreinte énergétique directe du numérique...   \n",
       "4  .  La collecte d’Acemo Covid s’étend sur deux ...   \n",
       "\n",
       "                                            question  \\\n",
       "0  Quelle est l'approche qui s'aligne sur l'objec...   \n",
       "1  Quelle est l'évolution de l'âge moyen à la mat...   \n",
       "2  Quelle est la part des mineurs dans les cas de...   \n",
       "3  Quelle est la part du numérique dans les émiss...   \n",
       "4  Quels sont les codes APE utilisés pour représe...   \n",
       "\n",
       "                                              answer  \\\n",
       "0  L'approche coût-efficacité est celle qui s'ali...   \n",
       "1  L'âge moyen à la maternité pour les femmes de ...   \n",
       "2  La part des mineurs a diminué de 7 points pour...   \n",
       "3  En 2017, le numérique représentait plus de 3,7...   \n",
       "4  Les codes APE utilisés pour représenter la res...   \n",
       "\n",
       "                                     source_doc  groundedness_score  \\\n",
       "0   https://www.insee.fr/fr/information/4796342                 5.0   \n",
       "1  https://www.insee.fr/fr/statistiques/4238437                 5.0   \n",
       "2  https://www.insee.fr/fr/statistiques/5763625                 4.0   \n",
       "3  https://www.insee.fr/fr/statistiques/4126596                 5.0   \n",
       "4  https://www.insee.fr/fr/statistiques/5392036                 5.0   \n",
       "\n",
       "                                   groundedness_eval  relevance_score  \\\n",
       "0  Le contexte fourni donne des informations sur ...              4.0   \n",
       "1  La question demande une évolution spécifique c...              5.0   \n",
       "2  Le contexte fournit des informations détaillée...              4.0   \n",
       "3  Le contexte fourni donne des informations spéc...              5.0   \n",
       "4  La question demande de nommer les codes APE co...              4.0   \n",
       "\n",
       "                                      relevance_eval  standalone_score  \\\n",
       "0  Cette question est très pertinente pour les ag...               5.0   \n",
       "1  Cette question est très pertinente pour les ag...               5.0   \n",
       "2  Cette question est très pertinente pour les ag...               4.0   \n",
       "3  Cette question est très pertinente pour les ag...               4.0   \n",
       "4  Cette question est directement liée aux activi...               5.0   \n",
       "\n",
       "                                     standalone_eval  \n",
       "0  La question mentionne explicitement l'accord d...  \n",
       "1  Cette question est indépendante du contexte ca...  \n",
       "2  Cette question est assez indépendante du conte...  \n",
       "3  Cette question demande des informations spécif...  \n",
       "4  La question demande une information spécifique...  "
      ]
     },
     "metadata": {},
     "output_type": "display_data"
    },
    {
     "data": {
      "text/html": [
       "<div>\n",
       "<style scoped>\n",
       "    .dataframe tbody tr th:only-of-type {\n",
       "        vertical-align: middle;\n",
       "    }\n",
       "\n",
       "    .dataframe tbody tr th {\n",
       "        vertical-align: top;\n",
       "    }\n",
       "\n",
       "    .dataframe thead th {\n",
       "        text-align: right;\n",
       "    }\n",
       "</style>\n",
       "<table border=\"1\" class=\"dataframe\">\n",
       "  <thead>\n",
       "    <tr style=\"text-align: right;\">\n",
       "      <th></th>\n",
       "      <th>content</th>\n",
       "      <th>source</th>\n",
       "      <th>title</th>\n",
       "      <th>insee_id</th>\n",
       "      <th>categories</th>\n",
       "      <th>date_diffusion</th>\n",
       "      <th>themes</th>\n",
       "      <th>collections</th>\n",
       "      <th>libelleAffichageGeo</th>\n",
       "      <th>intertitres</th>\n",
       "      <th>authors</th>\n",
       "      <th>subtitle</th>\n",
       "    </tr>\n",
       "  </thead>\n",
       "  <tbody>\n",
       "    <tr>\n",
       "      <th>0</th>\n",
       "      <td>La Base tous salariés (BTS), extraite de la Dé...</td>\n",
       "      <td>https://www.insee.fr/fr/information/2407785</td>\n",
       "      <td>Base Tous Salariés</td>\n",
       "      <td>2407785</td>\n",
       "      <td>Services</td>\n",
       "      <td>2023-10-03T12:04:14.154Z</td>\n",
       "      <td>NaN</td>\n",
       "      <td>NaN</td>\n",
       "      <td>NaN</td>\n",
       "      <td>Description des variables des différents fichi...</td>\n",
       "      <td>[]</td>\n",
       "      <td>BTS</td>\n",
       "    </tr>\n",
       "    <tr>\n",
       "      <th>1</th>\n",
       "      <td>En France, en mars-avril 2020, un surcroît de ...</td>\n",
       "      <td>https://www.insee.fr/fr/statistiques/4797670</td>\n",
       "      <td>Les inégalités sociales à l’épreuve de la cris...</td>\n",
       "      <td>4797670</td>\n",
       "      <td>Publications grand public</td>\n",
       "      <td>2020-12-03T17:00:25.538Z</td>\n",
       "      <td>[\"Revenus – Niveaux de vie – Pouvoir d'achat\"]</td>\n",
       "      <td>France, portrait social</td>\n",
       "      <td>France</td>\n",
       "      <td>Décrire au mieux l’impact de la crise sanitair...</td>\n",
       "      <td>['Meriam Barhoumi (Depp)', 'Anne Jonchery', 'P...</td>\n",
       "      <td>NaN</td>\n",
       "    </tr>\n",
       "    <tr>\n",
       "      <th>2</th>\n",
       "      <td>L'Insee a conçu une base historique des Recens...</td>\n",
       "      <td>https://www.insee.fr/fr/information/1303688</td>\n",
       "      <td>RP Historiques et Données harmonisées des rece...</td>\n",
       "      <td>1303688</td>\n",
       "      <td>Services</td>\n",
       "      <td>2023-04-25T09:00:14.283Z</td>\n",
       "      <td>NaN</td>\n",
       "      <td>NaN</td>\n",
       "      <td>NaN</td>\n",
       "      <td>Description des variables des différents\\n    ...</td>\n",
       "      <td>[]</td>\n",
       "      <td>NaN</td>\n",
       "    </tr>\n",
       "    <tr>\n",
       "      <th>3</th>\n",
       "      <td>Il ne faut pas confondre l'arrondissement, sub...</td>\n",
       "      <td>https://www.insee.fr/fr/information/1303686</td>\n",
       "      <td>Recensement de la population de 2006 à 2020</td>\n",
       "      <td>1303686</td>\n",
       "      <td>Services</td>\n",
       "      <td>2023-09-06T06:37:14.496Z</td>\n",
       "      <td>NaN</td>\n",
       "      <td>NaN</td>\n",
       "      <td>NaN</td>\n",
       "      <td>Description des variables des différents\\n    ...</td>\n",
       "      <td>[]</td>\n",
       "      <td>NaN</td>\n",
       "    </tr>\n",
       "    <tr>\n",
       "      <th>4</th>\n",
       "      <td>En 2018, l’économie française ralentit: le pro...</td>\n",
       "      <td>https://www.insee.fr/fr/statistiques/4174895</td>\n",
       "      <td>En 2018, l’économie française ralentit, après ...</td>\n",
       "      <td>4174895</td>\n",
       "      <td>Publications grand public</td>\n",
       "      <td>2019-06-28T16:00:00Z</td>\n",
       "      <td>['Évolution et structure de la population']</td>\n",
       "      <td>L'économie française - Comptes et dossiers</td>\n",
       "      <td>France</td>\n",
       "      <td>Figure 1 - Contribution des principaux agrégat...</td>\n",
       "      <td>['Victor\\xa0Barry', 'Thibault Cruzet', 'Domini...</td>\n",
       "      <td>NaN</td>\n",
       "    </tr>\n",
       "  </tbody>\n",
       "</table>\n",
       "</div>"
      ],
      "text/plain": [
       "                                             content  \\\n",
       "0  La Base tous salariés (BTS), extraite de la Dé...   \n",
       "1  En France, en mars-avril 2020, un surcroît de ...   \n",
       "2  L'Insee a conçu une base historique des Recens...   \n",
       "3  Il ne faut pas confondre l'arrondissement, sub...   \n",
       "4  En 2018, l’économie française ralentit: le pro...   \n",
       "\n",
       "                                         source  \\\n",
       "0   https://www.insee.fr/fr/information/2407785   \n",
       "1  https://www.insee.fr/fr/statistiques/4797670   \n",
       "2   https://www.insee.fr/fr/information/1303688   \n",
       "3   https://www.insee.fr/fr/information/1303686   \n",
       "4  https://www.insee.fr/fr/statistiques/4174895   \n",
       "\n",
       "                                               title  insee_id  \\\n",
       "0                                 Base Tous Salariés   2407785   \n",
       "1  Les inégalités sociales à l’épreuve de la cris...   4797670   \n",
       "2  RP Historiques et Données harmonisées des rece...   1303688   \n",
       "3        Recensement de la population de 2006 à 2020   1303686   \n",
       "4  En 2018, l’économie française ralentit, après ...   4174895   \n",
       "\n",
       "                  categories            date_diffusion  \\\n",
       "0                   Services  2023-10-03T12:04:14.154Z   \n",
       "1  Publications grand public  2020-12-03T17:00:25.538Z   \n",
       "2                   Services  2023-04-25T09:00:14.283Z   \n",
       "3                   Services  2023-09-06T06:37:14.496Z   \n",
       "4  Publications grand public      2019-06-28T16:00:00Z   \n",
       "\n",
       "                                           themes  \\\n",
       "0                                             NaN   \n",
       "1  [\"Revenus – Niveaux de vie – Pouvoir d'achat\"]   \n",
       "2                                             NaN   \n",
       "3                                             NaN   \n",
       "4     ['Évolution et structure de la population']   \n",
       "\n",
       "                                  collections libelleAffichageGeo  \\\n",
       "0                                         NaN                 NaN   \n",
       "1                     France, portrait social              France   \n",
       "2                                         NaN                 NaN   \n",
       "3                                         NaN                 NaN   \n",
       "4  L'économie française - Comptes et dossiers              France   \n",
       "\n",
       "                                         intertitres  \\\n",
       "0  Description des variables des différents fichi...   \n",
       "1  Décrire au mieux l’impact de la crise sanitair...   \n",
       "2  Description des variables des différents\\n    ...   \n",
       "3  Description des variables des différents\\n    ...   \n",
       "4  Figure 1 - Contribution des principaux agrégat...   \n",
       "\n",
       "                                             authors subtitle  \n",
       "0                                                 []      BTS  \n",
       "1  ['Meriam Barhoumi (Depp)', 'Anne Jonchery', 'P...      NaN  \n",
       "2                                                 []      NaN  \n",
       "3                                                 []      NaN  \n",
       "4  ['Victor\\xa0Barry', 'Thibault Cruzet', 'Domini...      NaN  "
      ]
     },
     "metadata": {},
     "output_type": "display_data"
    }
   ],
   "source": [
    "display(test.head())\n",
    "display(data.head())"
   ]
  },
  {
   "cell_type": "code",
   "execution_count": 4,
   "id": "0a4754fe",
   "metadata": {},
   "outputs": [
    {
     "name": "stderr",
     "output_type": "stream",
     "text": [
      "2024-07-03 14:59:52,307 - INFO - Loading faiss with AVX512 support.\n",
      "2024-07-03 14:59:52,718 - INFO - Successfully loaded faiss with AVX512 support.\n",
      "2024-07-03 14:59:53,457 - INFO - Start of evaluation run for dataset: the_df_dataset and configuration: ensemble\n",
      "2024-07-03 14:59:53,471 - INFO - Anonymized telemetry enabled. See                     https://docs.trychroma.com/telemetry for more information.\n",
      "2024-07-03 14:59:53,595 - INFO - The database will be created\n",
      "2024-07-03 14:59:53,714 - INFO - The database will be stored in ./data/chroma_db\n",
      "2024-07-03 14:59:53,716 - INFO - Building the list of Document objects\n",
      "--- Logging error ---\n",
      "Traceback (most recent call last):\n",
      "  File \"/opt/mamba/lib/python3.12/logging/__init__.py\", line 1160, in emit\n",
      "    msg = self.format(record)\n",
      "          ^^^^^^^^^^^^^^^^^^^\n",
      "  File \"/opt/mamba/lib/python3.12/logging/__init__.py\", line 999, in format\n",
      "    return fmt.format(record)\n",
      "           ^^^^^^^^^^^^^^^^^^\n",
      "  File \"/opt/mamba/lib/python3.12/logging/__init__.py\", line 703, in format\n",
      "    record.message = record.getMessage()\n",
      "                     ^^^^^^^^^^^^^^^^^^^\n",
      "  File \"/opt/mamba/lib/python3.12/logging/__init__.py\", line 392, in getMessage\n",
      "    msg = msg % self.args\n",
      "          ~~~~^~~~~~~~~~~\n",
      "TypeError: not all arguments converted during string formatting\n",
      "Call stack:\n",
      "  File \"<frozen runpy>\", line 198, in _run_module_as_main\n",
      "  File \"<frozen runpy>\", line 88, in _run_code\n",
      "  File \"/opt/mamba/lib/python3.12/site-packages/ipykernel_launcher.py\", line 18, in <module>\n",
      "    app.launch_new_instance()\n",
      "  File \"/opt/mamba/lib/python3.12/site-packages/traitlets/config/application.py\", line 1075, in launch_instance\n",
      "    app.start()\n",
      "  File \"/opt/mamba/lib/python3.12/site-packages/ipykernel/kernelapp.py\", line 739, in start\n",
      "    self.io_loop.start()\n",
      "  File \"/opt/mamba/lib/python3.12/site-packages/tornado/platform/asyncio.py\", line 205, in start\n",
      "    self.asyncio_loop.run_forever()\n",
      "  File \"/opt/mamba/lib/python3.12/asyncio/base_events.py\", line 641, in run_forever\n",
      "    self._run_once()\n",
      "  File \"/opt/mamba/lib/python3.12/asyncio/base_events.py\", line 1987, in _run_once\n",
      "    handle._run()\n",
      "  File \"/opt/mamba/lib/python3.12/asyncio/events.py\", line 88, in _run\n",
      "    self._context.run(self._callback, *self._args)\n",
      "  File \"/opt/mamba/lib/python3.12/site-packages/ipykernel/kernelbase.py\", line 545, in dispatch_queue\n",
      "    await self.process_one()\n",
      "  File \"/opt/mamba/lib/python3.12/site-packages/ipykernel/kernelbase.py\", line 534, in process_one\n",
      "    await dispatch(*args)\n",
      "  File \"/opt/mamba/lib/python3.12/site-packages/ipykernel/kernelbase.py\", line 437, in dispatch_shell\n",
      "    await result\n",
      "  File \"/opt/mamba/lib/python3.12/site-packages/ipykernel/ipkernel.py\", line 362, in execute_request\n",
      "    await super().execute_request(stream, ident, parent)\n",
      "  File \"/opt/mamba/lib/python3.12/site-packages/ipykernel/kernelbase.py\", line 778, in execute_request\n",
      "    reply_content = await reply_content\n",
      "  File \"/opt/mamba/lib/python3.12/site-packages/ipykernel/ipkernel.py\", line 449, in do_execute\n",
      "    res = shell.run_cell(\n",
      "  File \"/opt/mamba/lib/python3.12/site-packages/ipykernel/zmqshell.py\", line 549, in run_cell\n",
      "    return super().run_cell(*args, **kwargs)\n",
      "  File \"/opt/mamba/lib/python3.12/site-packages/IPython/core/interactiveshell.py\", line 3075, in run_cell\n",
      "    result = self._run_cell(\n",
      "  File \"/opt/mamba/lib/python3.12/site-packages/IPython/core/interactiveshell.py\", line 3130, in _run_cell\n",
      "    result = runner(coro)\n",
      "  File \"/opt/mamba/lib/python3.12/site-packages/IPython/core/async_helpers.py\", line 129, in _pseudo_sync_runner\n",
      "    coro.send(None)\n",
      "  File \"/opt/mamba/lib/python3.12/site-packages/IPython/core/interactiveshell.py\", line 3334, in run_cell_async\n",
      "    has_raised = await self.run_ast_nodes(code_ast.body, cell_name,\n",
      "  File \"/opt/mamba/lib/python3.12/site-packages/IPython/core/interactiveshell.py\", line 3517, in run_ast_nodes\n",
      "    if await self.run_code(code, result, async_=asy):\n",
      "  File \"/opt/mamba/lib/python3.12/site-packages/IPython/core/interactiveshell.py\", line 3577, in run_code\n",
      "    exec(code_obj, self.user_global_ns, self.user_ns)\n",
      "  File \"/tmp/ipykernel_61096/1867787908.py\", line 87, in <module>\n",
      "    results = RetrievalEvaluator.run(\n",
      "  File \"/home/onyxia/work/llm-open-data-insee/notebooks/../src/evaluation/retrieval_evaluator.py\", line 97, in run\n",
      "    vector_db = build_vector_database(\n",
      "  File \"/home/onyxia/work/llm-open-data-insee/notebooks/../src/evaluation/retrieval_evaluator.py\", line 60, in build_vector_database\n",
      "    vector_db = build_database_from_dataframe(\n",
      "  File \"/home/onyxia/work/llm-open-data-insee/notebooks/../src/db_building/build_database.py\", line 55, in build_database_from_dataframe\n",
      "    all_splits = build_documents_from_dataframe(\n",
      "  File \"/home/onyxia/work/llm-open-data-insee/notebooks/../src/doc_building/build_documents_from_dataframe.py\", line 42, in build_documents_from_dataframe\n",
      "    logging.info(\"chunk size : \", chunk_size)\n",
      "Message: 'chunk size : '\n",
      "Arguments: (512,)\n",
      "--- Logging error ---\n",
      "Traceback (most recent call last):\n",
      "  File \"/opt/mamba/lib/python3.12/logging/__init__.py\", line 1160, in emit\n",
      "    msg = self.format(record)\n",
      "          ^^^^^^^^^^^^^^^^^^^\n",
      "  File \"/opt/mamba/lib/python3.12/logging/__init__.py\", line 999, in format\n",
      "    return fmt.format(record)\n",
      "           ^^^^^^^^^^^^^^^^^^\n",
      "  File \"/opt/mamba/lib/python3.12/logging/__init__.py\", line 703, in format\n",
      "    record.message = record.getMessage()\n",
      "                     ^^^^^^^^^^^^^^^^^^^\n",
      "  File \"/opt/mamba/lib/python3.12/logging/__init__.py\", line 392, in getMessage\n",
      "    msg = msg % self.args\n",
      "          ~~~~^~~~~~~~~~~\n",
      "TypeError: not all arguments converted during string formatting\n",
      "Call stack:\n",
      "  File \"<frozen runpy>\", line 198, in _run_module_as_main\n",
      "  File \"<frozen runpy>\", line 88, in _run_code\n",
      "  File \"/opt/mamba/lib/python3.12/site-packages/ipykernel_launcher.py\", line 18, in <module>\n",
      "    app.launch_new_instance()\n",
      "  File \"/opt/mamba/lib/python3.12/site-packages/traitlets/config/application.py\", line 1075, in launch_instance\n",
      "    app.start()\n",
      "  File \"/opt/mamba/lib/python3.12/site-packages/ipykernel/kernelapp.py\", line 739, in start\n",
      "    self.io_loop.start()\n",
      "  File \"/opt/mamba/lib/python3.12/site-packages/tornado/platform/asyncio.py\", line 205, in start\n",
      "    self.asyncio_loop.run_forever()\n",
      "  File \"/opt/mamba/lib/python3.12/asyncio/base_events.py\", line 641, in run_forever\n",
      "    self._run_once()\n",
      "  File \"/opt/mamba/lib/python3.12/asyncio/base_events.py\", line 1987, in _run_once\n",
      "    handle._run()\n",
      "  File \"/opt/mamba/lib/python3.12/asyncio/events.py\", line 88, in _run\n",
      "    self._context.run(self._callback, *self._args)\n",
      "  File \"/opt/mamba/lib/python3.12/site-packages/ipykernel/kernelbase.py\", line 545, in dispatch_queue\n",
      "    await self.process_one()\n",
      "  File \"/opt/mamba/lib/python3.12/site-packages/ipykernel/kernelbase.py\", line 534, in process_one\n",
      "    await dispatch(*args)\n",
      "  File \"/opt/mamba/lib/python3.12/site-packages/ipykernel/kernelbase.py\", line 437, in dispatch_shell\n",
      "    await result\n",
      "  File \"/opt/mamba/lib/python3.12/site-packages/ipykernel/ipkernel.py\", line 362, in execute_request\n",
      "    await super().execute_request(stream, ident, parent)\n",
      "  File \"/opt/mamba/lib/python3.12/site-packages/ipykernel/kernelbase.py\", line 778, in execute_request\n",
      "    reply_content = await reply_content\n",
      "  File \"/opt/mamba/lib/python3.12/site-packages/ipykernel/ipkernel.py\", line 449, in do_execute\n",
      "    res = shell.run_cell(\n",
      "  File \"/opt/mamba/lib/python3.12/site-packages/ipykernel/zmqshell.py\", line 549, in run_cell\n",
      "    return super().run_cell(*args, **kwargs)\n",
      "  File \"/opt/mamba/lib/python3.12/site-packages/IPython/core/interactiveshell.py\", line 3075, in run_cell\n",
      "    result = self._run_cell(\n",
      "  File \"/opt/mamba/lib/python3.12/site-packages/IPython/core/interactiveshell.py\", line 3130, in _run_cell\n",
      "    result = runner(coro)\n",
      "  File \"/opt/mamba/lib/python3.12/site-packages/IPython/core/async_helpers.py\", line 129, in _pseudo_sync_runner\n",
      "    coro.send(None)\n",
      "  File \"/opt/mamba/lib/python3.12/site-packages/IPython/core/interactiveshell.py\", line 3334, in run_cell_async\n",
      "    has_raised = await self.run_ast_nodes(code_ast.body, cell_name,\n",
      "  File \"/opt/mamba/lib/python3.12/site-packages/IPython/core/interactiveshell.py\", line 3517, in run_ast_nodes\n",
      "    if await self.run_code(code, result, async_=asy):\n",
      "  File \"/opt/mamba/lib/python3.12/site-packages/IPython/core/interactiveshell.py\", line 3577, in run_code\n",
      "    exec(code_obj, self.user_global_ns, self.user_ns)\n",
      "  File \"/tmp/ipykernel_61096/1867787908.py\", line 87, in <module>\n",
      "    results = RetrievalEvaluator.run(\n",
      "  File \"/home/onyxia/work/llm-open-data-insee/notebooks/../src/evaluation/retrieval_evaluator.py\", line 97, in run\n",
      "    vector_db = build_vector_database(\n",
      "  File \"/home/onyxia/work/llm-open-data-insee/notebooks/../src/evaluation/retrieval_evaluator.py\", line 60, in build_vector_database\n",
      "    vector_db = build_database_from_dataframe(\n",
      "  File \"/home/onyxia/work/llm-open-data-insee/notebooks/../src/db_building/build_database.py\", line 55, in build_database_from_dataframe\n",
      "    all_splits = build_documents_from_dataframe(\n",
      "  File \"/home/onyxia/work/llm-open-data-insee/notebooks/../src/doc_building/build_documents_from_dataframe.py\", line 43, in build_documents_from_dataframe\n",
      "    logging.info(\"chunk overlap size : \", chunk_overlap)\n",
      "Message: 'chunk overlap size : '\n",
      "Arguments: (51,)\n",
      "2024-07-03 14:59:55,184 - INFO - The associated collection name : OrdalieTech/Solon-embeddings-large-0.1_512_51\n",
      "Token indices sequence length is longer than the specified maximum sequence length for this model (549 > 512). Running this sequence through the model will result in indexing errors\n",
      "2024-07-03 15:00:02,491 - INFO - Number of created chuncks : 2757 in the Vector Database\n",
      "2024-07-03 15:00:02,671 - INFO - Storing the Document objects\n",
      "2024-07-03 15:00:02,673 - INFO - Load pretrained SentenceTransformer: OrdalieTech/Solon-embeddings-large-0.1\n",
      "2024-07-03 15:00:47,777 - INFO - The database has been built\n",
      "2024-07-03 15:00:48,893 - INFO - Use pytorch device: cuda\n",
      "2024-07-03 15:00:49,845 - INFO - Retriever sucessfully built\n",
      "2024-07-03 15:00:49,976 - INFO - Queries have been embedded\n",
      "0it [00:00, ?it/s]/opt/mamba/lib/python3.12/site-packages/langchain_core/_api/deprecation.py:119: LangChainDeprecationWarning: The method `BaseRetriever.get_relevant_documents` was deprecated in langchain-core 0.1.46 and will be removed in 0.3.0. Use invoke instead.\n",
      "  warn_deprecated(\n"
     ]
    },
    {
     "data": {
      "application/vnd.jupyter.widget-view+json": {
       "model_id": "17695e63c050422ea6a9bd041e3b6949",
       "version_major": 2,
       "version_minor": 0
      },
      "text/plain": [
       "Batches:   0%|          | 0/2 [00:00<?, ?it/s]"
      ]
     },
     "metadata": {},
     "output_type": "display_data"
    },
    {
     "name": "stderr",
     "output_type": "stream",
     "text": [
      "\n",
      "\u001b[A\n",
      "100%|██████████| 2/2 [00:00<00:00,  5.59it/s]\n",
      "1it [00:00,  1.21it/s]"
     ]
    },
    {
     "data": {
      "application/vnd.jupyter.widget-view+json": {
       "model_id": "3c80d24b6b644d9a94d8a46da1231eb9",
       "version_major": 2,
       "version_minor": 0
      },
      "text/plain": [
       "Batches:   0%|          | 0/2 [00:00<?, ?it/s]"
      ]
     },
     "metadata": {},
     "output_type": "display_data"
    },
    {
     "name": "stderr",
     "output_type": "stream",
     "text": [
      "\n",
      "100%|██████████| 2/2 [00:00<00:00, 22.30it/s]\n",
      "2it [00:01,  1.88it/s]"
     ]
    },
    {
     "data": {
      "application/vnd.jupyter.widget-view+json": {
       "model_id": "02083cabb4b54da8a560a7ef4cd19801",
       "version_major": 2,
       "version_minor": 0
      },
      "text/plain": [
       "Batches:   0%|          | 0/2 [00:00<?, ?it/s]"
      ]
     },
     "metadata": {},
     "output_type": "display_data"
    },
    {
     "name": "stderr",
     "output_type": "stream",
     "text": [
      "\n",
      "\u001b[A\n",
      "100%|██████████| 2/2 [00:00<00:00, 13.98it/s]\n",
      "3it [00:01,  2.27it/s]"
     ]
    },
    {
     "data": {
      "application/vnd.jupyter.widget-view+json": {
       "model_id": "654507787d6b4957aab9b1454ebaa384",
       "version_major": 2,
       "version_minor": 0
      },
      "text/plain": [
       "Batches:   0%|          | 0/2 [00:00<?, ?it/s]"
      ]
     },
     "metadata": {},
     "output_type": "display_data"
    },
    {
     "name": "stderr",
     "output_type": "stream",
     "text": [
      "\n",
      "\u001b[A\n",
      "100%|██████████| 2/2 [00:00<00:00, 15.67it/s]\n",
      "4it [00:01,  2.47it/s]"
     ]
    },
    {
     "data": {
      "application/vnd.jupyter.widget-view+json": {
       "model_id": "13aae1f193c04be78d0479f1ec4a36bd",
       "version_major": 2,
       "version_minor": 0
      },
      "text/plain": [
       "Batches:   0%|          | 0/2 [00:00<?, ?it/s]"
      ]
     },
     "metadata": {},
     "output_type": "display_data"
    },
    {
     "name": "stderr",
     "output_type": "stream",
     "text": [
      "\n",
      "100%|██████████| 2/2 [00:00<00:00, 26.59it/s]\n",
      "5it [00:02,  2.62it/s]"
     ]
    },
    {
     "data": {
      "application/vnd.jupyter.widget-view+json": {
       "model_id": "5fc7d472b317420f9850f1eded4c3870",
       "version_major": 2,
       "version_minor": 0
      },
      "text/plain": [
       "Batches:   0%|          | 0/2 [00:00<?, ?it/s]"
      ]
     },
     "metadata": {},
     "output_type": "display_data"
    },
    {
     "name": "stderr",
     "output_type": "stream",
     "text": [
      "\n",
      "\u001b[A\n",
      "100%|██████████| 2/2 [00:00<00:00, 15.52it/s]\n",
      "6it [00:02,  2.68it/s]"
     ]
    },
    {
     "data": {
      "application/vnd.jupyter.widget-view+json": {
       "model_id": "f5c66c11ae1b4fb19dd015f1a2f38f0d",
       "version_major": 2,
       "version_minor": 0
      },
      "text/plain": [
       "Batches:   0%|          | 0/2 [00:00<?, ?it/s]"
      ]
     },
     "metadata": {},
     "output_type": "display_data"
    },
    {
     "name": "stderr",
     "output_type": "stream",
     "text": [
      "\n",
      "\u001b[A\n",
      "100%|██████████| 2/2 [00:00<00:00, 13.12it/s]\n",
      "7it [00:02,  2.53it/s]"
     ]
    },
    {
     "data": {
      "application/vnd.jupyter.widget-view+json": {
       "model_id": "20e128c48be94fe89d4e325dc5edae6c",
       "version_major": 2,
       "version_minor": 0
      },
      "text/plain": [
       "Batches:   0%|          | 0/2 [00:00<?, ?it/s]"
      ]
     },
     "metadata": {},
     "output_type": "display_data"
    },
    {
     "name": "stderr",
     "output_type": "stream",
     "text": [
      "\n",
      "\u001b[A\n",
      "100%|██████████| 2/2 [00:00<00:00, 15.64it/s]\n",
      "8it [00:03,  2.57it/s]"
     ]
    },
    {
     "data": {
      "application/vnd.jupyter.widget-view+json": {
       "model_id": "53ad6a7d7c034543b4196667f0ec7acc",
       "version_major": 2,
       "version_minor": 0
      },
      "text/plain": [
       "Batches:   0%|          | 0/2 [00:00<?, ?it/s]"
      ]
     },
     "metadata": {},
     "output_type": "display_data"
    },
    {
     "name": "stderr",
     "output_type": "stream",
     "text": [
      "\n",
      "\u001b[A\n",
      "100%|██████████| 2/2 [00:00<00:00, 16.91it/s]\n",
      "9it [00:03,  2.58it/s]"
     ]
    },
    {
     "data": {
      "application/vnd.jupyter.widget-view+json": {
       "model_id": "43889d603b98466b9f3e37b883e9b656",
       "version_major": 2,
       "version_minor": 0
      },
      "text/plain": [
       "Batches:   0%|          | 0/2 [00:00<?, ?it/s]"
      ]
     },
     "metadata": {},
     "output_type": "display_data"
    },
    {
     "name": "stderr",
     "output_type": "stream",
     "text": [
      "\n",
      "\u001b[A\n",
      "100%|██████████| 2/2 [00:00<00:00, 13.09it/s]\n",
      "10it [00:04,  2.59it/s]"
     ]
    },
    {
     "data": {
      "application/vnd.jupyter.widget-view+json": {
       "model_id": "916833881183440c8969820f7388fa82",
       "version_major": 2,
       "version_minor": 0
      },
      "text/plain": [
       "Batches:   0%|          | 0/2 [00:00<?, ?it/s]"
      ]
     },
     "metadata": {},
     "output_type": "display_data"
    },
    {
     "name": "stderr",
     "output_type": "stream",
     "text": [
      "\n",
      "\u001b[A\n",
      "100%|██████████| 2/2 [00:00<00:00, 12.68it/s]\n",
      "11it [00:04,  2.59it/s]"
     ]
    },
    {
     "data": {
      "application/vnd.jupyter.widget-view+json": {
       "model_id": "ba6e939df9a3482ab958a8c2326119b8",
       "version_major": 2,
       "version_minor": 0
      },
      "text/plain": [
       "Batches:   0%|          | 0/2 [00:00<?, ?it/s]"
      ]
     },
     "metadata": {},
     "output_type": "display_data"
    },
    {
     "name": "stderr",
     "output_type": "stream",
     "text": [
      "\n",
      "\u001b[A\n",
      "100%|██████████| 2/2 [00:00<00:00, 11.96it/s]\n",
      "12it [00:04,  2.60it/s]"
     ]
    },
    {
     "data": {
      "application/vnd.jupyter.widget-view+json": {
       "model_id": "322db7d27a5c4e79b8b6c83459b12f95",
       "version_major": 2,
       "version_minor": 0
      },
      "text/plain": [
       "Batches:   0%|          | 0/2 [00:00<?, ?it/s]"
      ]
     },
     "metadata": {},
     "output_type": "display_data"
    },
    {
     "name": "stderr",
     "output_type": "stream",
     "text": [
      "\n",
      "\u001b[A\n",
      "100%|██████████| 2/2 [00:00<00:00, 12.31it/s]\n",
      "13it [00:05,  2.62it/s]"
     ]
    },
    {
     "data": {
      "application/vnd.jupyter.widget-view+json": {
       "model_id": "72af07c5f3c740578ead33308afdcbb0",
       "version_major": 2,
       "version_minor": 0
      },
      "text/plain": [
       "Batches:   0%|          | 0/2 [00:00<?, ?it/s]"
      ]
     },
     "metadata": {},
     "output_type": "display_data"
    },
    {
     "name": "stderr",
     "output_type": "stream",
     "text": [
      "\n",
      "\u001b[A\n",
      "100%|██████████| 2/2 [00:00<00:00, 13.98it/s]\n",
      "14it [00:05,  2.61it/s]"
     ]
    },
    {
     "data": {
      "application/vnd.jupyter.widget-view+json": {
       "model_id": "a3b7ab7d4fe040fcaf9dd9b07e43d762",
       "version_major": 2,
       "version_minor": 0
      },
      "text/plain": [
       "Batches:   0%|          | 0/2 [00:00<?, ?it/s]"
      ]
     },
     "metadata": {},
     "output_type": "display_data"
    },
    {
     "name": "stderr",
     "output_type": "stream",
     "text": [
      "\n",
      "\u001b[A\n",
      "100%|██████████| 2/2 [00:00<00:00, 12.43it/s]\n",
      "15it [00:06,  2.59it/s]"
     ]
    },
    {
     "data": {
      "application/vnd.jupyter.widget-view+json": {
       "model_id": "26c57a0086a2481f950879a3ada27b97",
       "version_major": 2,
       "version_minor": 0
      },
      "text/plain": [
       "Batches:   0%|          | 0/2 [00:00<?, ?it/s]"
      ]
     },
     "metadata": {},
     "output_type": "display_data"
    },
    {
     "name": "stderr",
     "output_type": "stream",
     "text": [
      "\n",
      "\u001b[A\n",
      "100%|██████████| 2/2 [00:00<00:00, 12.79it/s]\n",
      "16it [00:06,  2.62it/s]"
     ]
    },
    {
     "data": {
      "application/vnd.jupyter.widget-view+json": {
       "model_id": "2d11a0c52b814f39b13606921154f46d",
       "version_major": 2,
       "version_minor": 0
      },
      "text/plain": [
       "Batches:   0%|          | 0/2 [00:00<?, ?it/s]"
      ]
     },
     "metadata": {},
     "output_type": "display_data"
    },
    {
     "name": "stderr",
     "output_type": "stream",
     "text": [
      "\n",
      "\u001b[A\n",
      "100%|██████████| 2/2 [00:00<00:00, 12.57it/s]\n",
      "17it [00:06,  2.66it/s]"
     ]
    },
    {
     "data": {
      "application/vnd.jupyter.widget-view+json": {
       "model_id": "86a8638d71614039937f741a3e437365",
       "version_major": 2,
       "version_minor": 0
      },
      "text/plain": [
       "Batches:   0%|          | 0/2 [00:00<?, ?it/s]"
      ]
     },
     "metadata": {},
     "output_type": "display_data"
    },
    {
     "name": "stderr",
     "output_type": "stream",
     "text": [
      "\n",
      "\u001b[A\n",
      "100%|██████████| 2/2 [00:00<00:00, 12.98it/s]\n",
      "18it [00:07,  2.67it/s]"
     ]
    },
    {
     "data": {
      "application/vnd.jupyter.widget-view+json": {
       "model_id": "405d20cfd6474478a1f7c7c34cac92e9",
       "version_major": 2,
       "version_minor": 0
      },
      "text/plain": [
       "Batches:   0%|          | 0/2 [00:00<?, ?it/s]"
      ]
     },
     "metadata": {},
     "output_type": "display_data"
    },
    {
     "name": "stderr",
     "output_type": "stream",
     "text": [
      "\n",
      "\u001b[A\n",
      "100%|██████████| 2/2 [00:00<00:00, 10.77it/s]\n",
      "19it [00:07,  2.66it/s]"
     ]
    },
    {
     "data": {
      "application/vnd.jupyter.widget-view+json": {
       "model_id": "904a41ead9b84f89b4e749df147b2446",
       "version_major": 2,
       "version_minor": 0
      },
      "text/plain": [
       "Batches:   0%|          | 0/2 [00:00<?, ?it/s]"
      ]
     },
     "metadata": {},
     "output_type": "display_data"
    },
    {
     "name": "stderr",
     "output_type": "stream",
     "text": [
      "\n",
      "\u001b[A\n",
      "100%|██████████| 2/2 [00:00<00:00, 17.30it/s]\n",
      "20it [00:07,  2.69it/s]"
     ]
    },
    {
     "data": {
      "application/vnd.jupyter.widget-view+json": {
       "model_id": "faf7d74e955e4ef49e38b3276c168597",
       "version_major": 2,
       "version_minor": 0
      },
      "text/plain": [
       "Batches:   0%|          | 0/2 [00:00<?, ?it/s]"
      ]
     },
     "metadata": {},
     "output_type": "display_data"
    },
    {
     "name": "stderr",
     "output_type": "stream",
     "text": [
      "\n",
      "\u001b[A\n",
      "100%|██████████| 2/2 [00:00<00:00, 18.81it/s]\n",
      "21it [00:08,  2.71it/s]"
     ]
    },
    {
     "data": {
      "application/vnd.jupyter.widget-view+json": {
       "model_id": "df4f8d1ee09d4426b50ada7eda1d0d89",
       "version_major": 2,
       "version_minor": 0
      },
      "text/plain": [
       "Batches:   0%|          | 0/2 [00:00<?, ?it/s]"
      ]
     },
     "metadata": {},
     "output_type": "display_data"
    },
    {
     "name": "stderr",
     "output_type": "stream",
     "text": [
      "\n",
      "\u001b[A\n",
      "100%|██████████| 2/2 [00:00<00:00, 16.72it/s]\n",
      "22it [00:08,  2.70it/s]"
     ]
    },
    {
     "data": {
      "application/vnd.jupyter.widget-view+json": {
       "model_id": "74d971e663824222b8ab17cbffe1a11e",
       "version_major": 2,
       "version_minor": 0
      },
      "text/plain": [
       "Batches:   0%|          | 0/2 [00:00<?, ?it/s]"
      ]
     },
     "metadata": {},
     "output_type": "display_data"
    },
    {
     "name": "stderr",
     "output_type": "stream",
     "text": [
      "\n",
      "\u001b[A\n",
      "100%|██████████| 2/2 [00:00<00:00, 12.90it/s]\n",
      "23it [00:09,  2.67it/s]"
     ]
    },
    {
     "data": {
      "application/vnd.jupyter.widget-view+json": {
       "model_id": "5167e0435ad9423f8df4a76fca863d1a",
       "version_major": 2,
       "version_minor": 0
      },
      "text/plain": [
       "Batches:   0%|          | 0/2 [00:00<?, ?it/s]"
      ]
     },
     "metadata": {},
     "output_type": "display_data"
    },
    {
     "name": "stderr",
     "output_type": "stream",
     "text": [
      "\n",
      "\u001b[A\n",
      "100%|██████████| 2/2 [00:00<00:00, 15.39it/s]\n",
      "24it [00:09,  2.67it/s]"
     ]
    },
    {
     "data": {
      "application/vnd.jupyter.widget-view+json": {
       "model_id": "d496d88076e6456e8a0e368abf94dc61",
       "version_major": 2,
       "version_minor": 0
      },
      "text/plain": [
       "Batches:   0%|          | 0/2 [00:00<?, ?it/s]"
      ]
     },
     "metadata": {},
     "output_type": "display_data"
    },
    {
     "name": "stderr",
     "output_type": "stream",
     "text": [
      "\n",
      "\u001b[A\n",
      "100%|██████████| 2/2 [00:00<00:00, 12.99it/s]\n",
      "25it [00:09,  2.68it/s]"
     ]
    },
    {
     "data": {
      "application/vnd.jupyter.widget-view+json": {
       "model_id": "19cb5f12362444bea509a1c8a1abbff9",
       "version_major": 2,
       "version_minor": 0
      },
      "text/plain": [
       "Batches:   0%|          | 0/2 [00:00<?, ?it/s]"
      ]
     },
     "metadata": {},
     "output_type": "display_data"
    },
    {
     "name": "stderr",
     "output_type": "stream",
     "text": [
      "\n",
      "\u001b[A\n",
      "100%|██████████| 2/2 [00:00<00:00, 12.37it/s]\n",
      "26it [00:10,  2.70it/s]"
     ]
    },
    {
     "data": {
      "application/vnd.jupyter.widget-view+json": {
       "model_id": "8f4e9f5d4de6465999926bcfc3926d46",
       "version_major": 2,
       "version_minor": 0
      },
      "text/plain": [
       "Batches:   0%|          | 0/2 [00:00<?, ?it/s]"
      ]
     },
     "metadata": {},
     "output_type": "display_data"
    },
    {
     "name": "stderr",
     "output_type": "stream",
     "text": [
      "\n",
      "\u001b[A\n",
      "100%|██████████| 2/2 [00:00<00:00, 15.15it/s]\n",
      "27it [00:10,  2.69it/s]"
     ]
    },
    {
     "data": {
      "application/vnd.jupyter.widget-view+json": {
       "model_id": "12e1e8077c5145a79f57359d1335d37c",
       "version_major": 2,
       "version_minor": 0
      },
      "text/plain": [
       "Batches:   0%|          | 0/2 [00:00<?, ?it/s]"
      ]
     },
     "metadata": {},
     "output_type": "display_data"
    },
    {
     "name": "stderr",
     "output_type": "stream",
     "text": [
      "\n",
      "\u001b[A\n",
      "100%|██████████| 2/2 [00:00<00:00, 14.26it/s]\n",
      "28it [00:10,  2.68it/s]"
     ]
    },
    {
     "data": {
      "application/vnd.jupyter.widget-view+json": {
       "model_id": "fa420df01a45455f806ec843ca8c359b",
       "version_major": 2,
       "version_minor": 0
      },
      "text/plain": [
       "Batches:   0%|          | 0/2 [00:00<?, ?it/s]"
      ]
     },
     "metadata": {},
     "output_type": "display_data"
    },
    {
     "name": "stderr",
     "output_type": "stream",
     "text": [
      "\n",
      "\u001b[A\n",
      "100%|██████████| 2/2 [00:00<00:00, 12.50it/s]\n",
      "29it [00:11,  2.70it/s]"
     ]
    },
    {
     "data": {
      "application/vnd.jupyter.widget-view+json": {
       "model_id": "cad6d36d48914abcb5879b14667d9f1b",
       "version_major": 2,
       "version_minor": 0
      },
      "text/plain": [
       "Batches:   0%|          | 0/2 [00:00<?, ?it/s]"
      ]
     },
     "metadata": {},
     "output_type": "display_data"
    },
    {
     "name": "stderr",
     "output_type": "stream",
     "text": [
      "\n",
      "\u001b[A\n",
      "100%|██████████| 2/2 [00:00<00:00, 14.29it/s]\n",
      "30it [00:11,  2.75it/s]"
     ]
    },
    {
     "data": {
      "application/vnd.jupyter.widget-view+json": {
       "model_id": "a5681538c5fc455d983115e0ed42cf98",
       "version_major": 2,
       "version_minor": 0
      },
      "text/plain": [
       "Batches:   0%|          | 0/2 [00:00<?, ?it/s]"
      ]
     },
     "metadata": {},
     "output_type": "display_data"
    },
    {
     "name": "stderr",
     "output_type": "stream",
     "text": [
      "\n",
      "\u001b[A\n",
      "100%|██████████| 2/2 [00:00<00:00, 16.38it/s]\n",
      "31it [00:11,  2.75it/s]"
     ]
    },
    {
     "data": {
      "application/vnd.jupyter.widget-view+json": {
       "model_id": "639d7af0b6824b0fa6fa3b20e29ebcc0",
       "version_major": 2,
       "version_minor": 0
      },
      "text/plain": [
       "Batches:   0%|          | 0/2 [00:00<?, ?it/s]"
      ]
     },
     "metadata": {},
     "output_type": "display_data"
    },
    {
     "name": "stderr",
     "output_type": "stream",
     "text": [
      "\n",
      "\u001b[A\n",
      "100%|██████████| 2/2 [00:00<00:00, 16.02it/s]\n",
      "32it [00:12,  2.77it/s]"
     ]
    },
    {
     "data": {
      "application/vnd.jupyter.widget-view+json": {
       "model_id": "70ce14240da2498c8e1e5628227ef970",
       "version_major": 2,
       "version_minor": 0
      },
      "text/plain": [
       "Batches:   0%|          | 0/2 [00:00<?, ?it/s]"
      ]
     },
     "metadata": {},
     "output_type": "display_data"
    },
    {
     "name": "stderr",
     "output_type": "stream",
     "text": [
      "\n",
      "\u001b[A\n",
      "100%|██████████| 2/2 [00:00<00:00, 14.37it/s]\n",
      "33it [00:12,  2.74it/s]"
     ]
    },
    {
     "data": {
      "application/vnd.jupyter.widget-view+json": {
       "model_id": "a568302ea3b64d2a8dcd42b2e9df1b3d",
       "version_major": 2,
       "version_minor": 0
      },
      "text/plain": [
       "Batches:   0%|          | 0/2 [00:00<?, ?it/s]"
      ]
     },
     "metadata": {},
     "output_type": "display_data"
    },
    {
     "name": "stderr",
     "output_type": "stream",
     "text": [
      "\n",
      "\u001b[A\n",
      "100%|██████████| 2/2 [00:00<00:00, 12.72it/s]\n",
      "34it [00:13,  2.70it/s]"
     ]
    },
    {
     "data": {
      "application/vnd.jupyter.widget-view+json": {
       "model_id": "c9d5380261174f87838a2f63ceb50590",
       "version_major": 2,
       "version_minor": 0
      },
      "text/plain": [
       "Batches:   0%|          | 0/2 [00:00<?, ?it/s]"
      ]
     },
     "metadata": {},
     "output_type": "display_data"
    },
    {
     "name": "stderr",
     "output_type": "stream",
     "text": [
      "\n",
      "\u001b[A\n",
      "100%|██████████| 2/2 [00:00<00:00, 16.55it/s]\n",
      "35it [00:13,  2.75it/s]"
     ]
    },
    {
     "data": {
      "application/vnd.jupyter.widget-view+json": {
       "model_id": "35b99e90bbc84620ac8d47fd674c9ad1",
       "version_major": 2,
       "version_minor": 0
      },
      "text/plain": [
       "Batches:   0%|          | 0/2 [00:00<?, ?it/s]"
      ]
     },
     "metadata": {},
     "output_type": "display_data"
    },
    {
     "name": "stderr",
     "output_type": "stream",
     "text": [
      "\n",
      "\u001b[A\n",
      "100%|██████████| 2/2 [00:00<00:00, 18.82it/s]\n",
      "36it [00:13,  2.74it/s]"
     ]
    },
    {
     "data": {
      "application/vnd.jupyter.widget-view+json": {
       "model_id": "f97b4c99587a440a8c1d03dfc6670d02",
       "version_major": 2,
       "version_minor": 0
      },
      "text/plain": [
       "Batches:   0%|          | 0/2 [00:00<?, ?it/s]"
      ]
     },
     "metadata": {},
     "output_type": "display_data"
    },
    {
     "name": "stderr",
     "output_type": "stream",
     "text": [
      "\n",
      "\u001b[A\n",
      "100%|██████████| 2/2 [00:00<00:00, 14.49it/s]\n",
      "37it [00:14,  2.76it/s]"
     ]
    },
    {
     "data": {
      "application/vnd.jupyter.widget-view+json": {
       "model_id": "f280dd746f2a4bd989dbb841ebd46a20",
       "version_major": 2,
       "version_minor": 0
      },
      "text/plain": [
       "Batches:   0%|          | 0/2 [00:00<?, ?it/s]"
      ]
     },
     "metadata": {},
     "output_type": "display_data"
    },
    {
     "name": "stderr",
     "output_type": "stream",
     "text": [
      "\n",
      "100%|██████████| 2/2 [00:00<00:00, 20.89it/s]\n",
      "38it [00:14,  2.79it/s]"
     ]
    },
    {
     "data": {
      "application/vnd.jupyter.widget-view+json": {
       "model_id": "557d014a1d8842929d9b9ec5635e292c",
       "version_major": 2,
       "version_minor": 0
      },
      "text/plain": [
       "Batches:   0%|          | 0/2 [00:00<?, ?it/s]"
      ]
     },
     "metadata": {},
     "output_type": "display_data"
    },
    {
     "name": "stderr",
     "output_type": "stream",
     "text": [
      "\n",
      "\u001b[A\n",
      "100%|██████████| 2/2 [00:00<00:00, 15.57it/s]\n",
      "39it [00:14,  2.73it/s]"
     ]
    },
    {
     "data": {
      "application/vnd.jupyter.widget-view+json": {
       "model_id": "2a8b8d5fd1374a1b9c226272ac039c80",
       "version_major": 2,
       "version_minor": 0
      },
      "text/plain": [
       "Batches:   0%|          | 0/2 [00:00<?, ?it/s]"
      ]
     },
     "metadata": {},
     "output_type": "display_data"
    },
    {
     "name": "stderr",
     "output_type": "stream",
     "text": [
      "\n",
      "\u001b[A\n",
      "100%|██████████| 2/2 [00:00<00:00, 15.20it/s]\n",
      "40it [00:15,  2.75it/s]"
     ]
    },
    {
     "data": {
      "application/vnd.jupyter.widget-view+json": {
       "model_id": "483b2dbea1d04da0adce025a44f22a02",
       "version_major": 2,
       "version_minor": 0
      },
      "text/plain": [
       "Batches:   0%|          | 0/2 [00:00<?, ?it/s]"
      ]
     },
     "metadata": {},
     "output_type": "display_data"
    },
    {
     "name": "stderr",
     "output_type": "stream",
     "text": [
      "\n",
      "\u001b[A\n",
      "100%|██████████| 2/2 [00:00<00:00, 12.14it/s]\n",
      "41it [00:15,  2.74it/s]"
     ]
    },
    {
     "data": {
      "application/vnd.jupyter.widget-view+json": {
       "model_id": "d206030b518742c3b992fd835b293020",
       "version_major": 2,
       "version_minor": 0
      },
      "text/plain": [
       "Batches:   0%|          | 0/2 [00:00<?, ?it/s]"
      ]
     },
     "metadata": {},
     "output_type": "display_data"
    },
    {
     "name": "stderr",
     "output_type": "stream",
     "text": [
      "\n",
      "\u001b[A\n",
      "100%|██████████| 2/2 [00:00<00:00, 13.64it/s]\n",
      "42it [00:15,  2.75it/s]"
     ]
    },
    {
     "data": {
      "application/vnd.jupyter.widget-view+json": {
       "model_id": "a5ce6c15bff44059ad373b494b6300d3",
       "version_major": 2,
       "version_minor": 0
      },
      "text/plain": [
       "Batches:   0%|          | 0/2 [00:00<?, ?it/s]"
      ]
     },
     "metadata": {},
     "output_type": "display_data"
    },
    {
     "name": "stderr",
     "output_type": "stream",
     "text": [
      "\n",
      "\u001b[A\n",
      "100%|██████████| 2/2 [00:00<00:00, 16.70it/s]\n",
      "43it [00:16,  2.78it/s]"
     ]
    },
    {
     "data": {
      "application/vnd.jupyter.widget-view+json": {
       "model_id": "5fa630a9e342403baa5ee75be13b907b",
       "version_major": 2,
       "version_minor": 0
      },
      "text/plain": [
       "Batches:   0%|          | 0/2 [00:00<?, ?it/s]"
      ]
     },
     "metadata": {},
     "output_type": "display_data"
    },
    {
     "name": "stderr",
     "output_type": "stream",
     "text": [
      "\n",
      "\u001b[A\n",
      "100%|██████████| 2/2 [00:00<00:00, 13.22it/s]\n",
      "44it [00:16,  2.79it/s]"
     ]
    },
    {
     "data": {
      "application/vnd.jupyter.widget-view+json": {
       "model_id": "32008e613de74a52afa4747e418c7196",
       "version_major": 2,
       "version_minor": 0
      },
      "text/plain": [
       "Batches:   0%|          | 0/2 [00:00<?, ?it/s]"
      ]
     },
     "metadata": {},
     "output_type": "display_data"
    },
    {
     "name": "stderr",
     "output_type": "stream",
     "text": [
      "\n",
      "\u001b[A\n",
      "100%|██████████| 2/2 [00:00<00:00, 13.39it/s]\n",
      "45it [00:17,  2.80it/s]"
     ]
    },
    {
     "data": {
      "application/vnd.jupyter.widget-view+json": {
       "model_id": "fd16cf19e39749f0840f911bd33e3af7",
       "version_major": 2,
       "version_minor": 0
      },
      "text/plain": [
       "Batches:   0%|          | 0/2 [00:00<?, ?it/s]"
      ]
     },
     "metadata": {},
     "output_type": "display_data"
    },
    {
     "name": "stderr",
     "output_type": "stream",
     "text": [
      "\n",
      "\u001b[A\n",
      "100%|██████████| 2/2 [00:00<00:00, 13.81it/s]\n",
      "46it [00:17,  2.80it/s]"
     ]
    },
    {
     "data": {
      "application/vnd.jupyter.widget-view+json": {
       "model_id": "1ec3e66464d14fceb2044decb80c1be6",
       "version_major": 2,
       "version_minor": 0
      },
      "text/plain": [
       "Batches:   0%|          | 0/2 [00:00<?, ?it/s]"
      ]
     },
     "metadata": {},
     "output_type": "display_data"
    },
    {
     "name": "stderr",
     "output_type": "stream",
     "text": [
      "\n",
      "\u001b[A\n",
      "100%|██████████| 2/2 [00:00<00:00, 17.02it/s]\n",
      "47it [00:17,  2.75it/s]"
     ]
    },
    {
     "data": {
      "application/vnd.jupyter.widget-view+json": {
       "model_id": "caf4b0aed40d48d7b0f7532af38db72b",
       "version_major": 2,
       "version_minor": 0
      },
      "text/plain": [
       "Batches:   0%|          | 0/2 [00:00<?, ?it/s]"
      ]
     },
     "metadata": {},
     "output_type": "display_data"
    },
    {
     "name": "stderr",
     "output_type": "stream",
     "text": [
      "\n",
      "\u001b[A\n",
      "100%|██████████| 2/2 [00:00<00:00, 13.84it/s]\n",
      "48it [00:18,  2.75it/s]"
     ]
    },
    {
     "data": {
      "application/vnd.jupyter.widget-view+json": {
       "model_id": "a165ccbfd9b14a409d4a22914f840a6d",
       "version_major": 2,
       "version_minor": 0
      },
      "text/plain": [
       "Batches:   0%|          | 0/2 [00:00<?, ?it/s]"
      ]
     },
     "metadata": {},
     "output_type": "display_data"
    },
    {
     "name": "stderr",
     "output_type": "stream",
     "text": [
      "\n",
      "\u001b[A\n",
      "100%|██████████| 2/2 [00:00<00:00, 13.00it/s]\n",
      "49it [00:18,  2.77it/s]"
     ]
    },
    {
     "data": {
      "application/vnd.jupyter.widget-view+json": {
       "model_id": "0914b0df11dd4ab2bfc48271b67fe2c0",
       "version_major": 2,
       "version_minor": 0
      },
      "text/plain": [
       "Batches:   0%|          | 0/2 [00:00<?, ?it/s]"
      ]
     },
     "metadata": {},
     "output_type": "display_data"
    },
    {
     "name": "stderr",
     "output_type": "stream",
     "text": [
      "\n",
      "\u001b[A\n",
      "100%|██████████| 2/2 [00:00<00:00, 13.11it/s]\n",
      "50it [00:18,  2.76it/s]"
     ]
    },
    {
     "data": {
      "application/vnd.jupyter.widget-view+json": {
       "model_id": "85b6ddde7f184c5597f0ff247a4e89c8",
       "version_major": 2,
       "version_minor": 0
      },
      "text/plain": [
       "Batches:   0%|          | 0/2 [00:00<?, ?it/s]"
      ]
     },
     "metadata": {},
     "output_type": "display_data"
    },
    {
     "name": "stderr",
     "output_type": "stream",
     "text": [
      "\n",
      "\u001b[A\n",
      "100%|██████████| 2/2 [00:00<00:00, 14.90it/s]\n",
      "51it [00:19,  2.76it/s]"
     ]
    },
    {
     "data": {
      "application/vnd.jupyter.widget-view+json": {
       "model_id": "b3a714406fe148b788280158c7849add",
       "version_major": 2,
       "version_minor": 0
      },
      "text/plain": [
       "Batches:   0%|          | 0/2 [00:00<?, ?it/s]"
      ]
     },
     "metadata": {},
     "output_type": "display_data"
    },
    {
     "name": "stderr",
     "output_type": "stream",
     "text": [
      "\n",
      "\u001b[A\n",
      "100%|██████████| 2/2 [00:00<00:00, 16.51it/s]\n",
      "52it [00:19,  2.76it/s]"
     ]
    },
    {
     "data": {
      "application/vnd.jupyter.widget-view+json": {
       "model_id": "ccf34ba8d48e4798bc154dc9bd209615",
       "version_major": 2,
       "version_minor": 0
      },
      "text/plain": [
       "Batches:   0%|          | 0/2 [00:00<?, ?it/s]"
      ]
     },
     "metadata": {},
     "output_type": "display_data"
    },
    {
     "name": "stderr",
     "output_type": "stream",
     "text": [
      "\n",
      "\u001b[A\n",
      "100%|██████████| 2/2 [00:00<00:00, 17.58it/s]\n",
      "53it [00:19,  2.77it/s]"
     ]
    },
    {
     "data": {
      "application/vnd.jupyter.widget-view+json": {
       "model_id": "a5632b4783a44fa7bb57c09d4aefdd55",
       "version_major": 2,
       "version_minor": 0
      },
      "text/plain": [
       "Batches:   0%|          | 0/2 [00:00<?, ?it/s]"
      ]
     },
     "metadata": {},
     "output_type": "display_data"
    },
    {
     "name": "stderr",
     "output_type": "stream",
     "text": [
      "\n",
      "\u001b[A\n",
      "100%|██████████| 2/2 [00:00<00:00, 13.15it/s]\n",
      "54it [00:20,  2.75it/s]"
     ]
    },
    {
     "data": {
      "application/vnd.jupyter.widget-view+json": {
       "model_id": "5bdada3d31a74af597ced92faca428b1",
       "version_major": 2,
       "version_minor": 0
      },
      "text/plain": [
       "Batches:   0%|          | 0/2 [00:00<?, ?it/s]"
      ]
     },
     "metadata": {},
     "output_type": "display_data"
    },
    {
     "name": "stderr",
     "output_type": "stream",
     "text": [
      "\n",
      "\u001b[A\n",
      "100%|██████████| 2/2 [00:00<00:00, 12.57it/s]\n",
      "55it [00:20,  2.75it/s]"
     ]
    },
    {
     "data": {
      "application/vnd.jupyter.widget-view+json": {
       "model_id": "d2d5b889f62441a9bceb831203160ec8",
       "version_major": 2,
       "version_minor": 0
      },
      "text/plain": [
       "Batches:   0%|          | 0/2 [00:00<?, ?it/s]"
      ]
     },
     "metadata": {},
     "output_type": "display_data"
    },
    {
     "name": "stderr",
     "output_type": "stream",
     "text": [
      "\n",
      "\u001b[A\n",
      "100%|██████████| 2/2 [00:00<00:00, 15.35it/s]\n",
      "56it [00:20,  2.76it/s]"
     ]
    },
    {
     "data": {
      "application/vnd.jupyter.widget-view+json": {
       "model_id": "18c4572c18174b58a88485e4ffadfa5c",
       "version_major": 2,
       "version_minor": 0
      },
      "text/plain": [
       "Batches:   0%|          | 0/2 [00:00<?, ?it/s]"
      ]
     },
     "metadata": {},
     "output_type": "display_data"
    },
    {
     "name": "stderr",
     "output_type": "stream",
     "text": [
      "\n",
      "\u001b[A\n",
      "100%|██████████| 2/2 [00:00<00:00, 14.50it/s]\n",
      "57it [00:21,  2.74it/s]"
     ]
    },
    {
     "data": {
      "application/vnd.jupyter.widget-view+json": {
       "model_id": "787c444b41214443b7a1edb41e784d7b",
       "version_major": 2,
       "version_minor": 0
      },
      "text/plain": [
       "Batches:   0%|          | 0/2 [00:00<?, ?it/s]"
      ]
     },
     "metadata": {},
     "output_type": "display_data"
    },
    {
     "name": "stderr",
     "output_type": "stream",
     "text": [
      "\n",
      "\u001b[A\n",
      "100%|██████████| 2/2 [00:00<00:00, 14.14it/s]\n",
      "58it [00:21,  2.74it/s]"
     ]
    },
    {
     "data": {
      "application/vnd.jupyter.widget-view+json": {
       "model_id": "c3653b023875463da58c7d81250fc7a8",
       "version_major": 2,
       "version_minor": 0
      },
      "text/plain": [
       "Batches:   0%|          | 0/2 [00:00<?, ?it/s]"
      ]
     },
     "metadata": {},
     "output_type": "display_data"
    },
    {
     "name": "stderr",
     "output_type": "stream",
     "text": [
      "\n",
      "100%|██████████| 2/2 [00:00<00:00, 21.87it/s]\n",
      "59it [00:22,  2.75it/s]"
     ]
    },
    {
     "data": {
      "application/vnd.jupyter.widget-view+json": {
       "model_id": "8bcd695f5fc143129ea4c1de2eabdafb",
       "version_major": 2,
       "version_minor": 0
      },
      "text/plain": [
       "Batches:   0%|          | 0/2 [00:00<?, ?it/s]"
      ]
     },
     "metadata": {},
     "output_type": "display_data"
    },
    {
     "name": "stderr",
     "output_type": "stream",
     "text": [
      "\n",
      "\u001b[A\n",
      "100%|██████████| 2/2 [00:00<00:00, 18.43it/s]\n",
      "60it [00:22,  2.72it/s]"
     ]
    },
    {
     "data": {
      "application/vnd.jupyter.widget-view+json": {
       "model_id": "61d2f215916d4953a16c452cc7a579d1",
       "version_major": 2,
       "version_minor": 0
      },
      "text/plain": [
       "Batches:   0%|          | 0/2 [00:00<?, ?it/s]"
      ]
     },
     "metadata": {},
     "output_type": "display_data"
    },
    {
     "name": "stderr",
     "output_type": "stream",
     "text": [
      "\n",
      "\u001b[A\n",
      "100%|██████████| 2/2 [00:00<00:00, 14.04it/s]\n",
      "61it [00:22,  2.69it/s]"
     ]
    },
    {
     "data": {
      "application/vnd.jupyter.widget-view+json": {
       "model_id": "ca4e19489fec495b834b913e3289c6d2",
       "version_major": 2,
       "version_minor": 0
      },
      "text/plain": [
       "Batches:   0%|          | 0/2 [00:00<?, ?it/s]"
      ]
     },
     "metadata": {},
     "output_type": "display_data"
    },
    {
     "name": "stderr",
     "output_type": "stream",
     "text": [
      "\n",
      "\u001b[A\n",
      "100%|██████████| 2/2 [00:00<00:00, 12.90it/s]\n",
      "62it [00:23,  2.69it/s]"
     ]
    },
    {
     "data": {
      "application/vnd.jupyter.widget-view+json": {
       "model_id": "eac876ed588f4d6a800df6ef4c31f6ae",
       "version_major": 2,
       "version_minor": 0
      },
      "text/plain": [
       "Batches:   0%|          | 0/2 [00:00<?, ?it/s]"
      ]
     },
     "metadata": {},
     "output_type": "display_data"
    },
    {
     "name": "stderr",
     "output_type": "stream",
     "text": [
      "\n",
      "\u001b[A\n",
      "100%|██████████| 2/2 [00:00<00:00, 13.81it/s]\n",
      "63it [00:23,  2.68it/s]"
     ]
    },
    {
     "data": {
      "application/vnd.jupyter.widget-view+json": {
       "model_id": "c940ce29034d42fc94ac2e4f04b53916",
       "version_major": 2,
       "version_minor": 0
      },
      "text/plain": [
       "Batches:   0%|          | 0/2 [00:00<?, ?it/s]"
      ]
     },
     "metadata": {},
     "output_type": "display_data"
    },
    {
     "name": "stderr",
     "output_type": "stream",
     "text": [
      "\n",
      "\u001b[A\n",
      "100%|██████████| 2/2 [00:00<00:00, 16.76it/s]\n",
      "64it [00:24,  2.63it/s]"
     ]
    },
    {
     "data": {
      "application/vnd.jupyter.widget-view+json": {
       "model_id": "f9ee6c8c3ca3422ead7fcd7f0fb83592",
       "version_major": 2,
       "version_minor": 0
      },
      "text/plain": [
       "Batches:   0%|          | 0/2 [00:00<?, ?it/s]"
      ]
     },
     "metadata": {},
     "output_type": "display_data"
    },
    {
     "name": "stderr",
     "output_type": "stream",
     "text": [
      "\n",
      "\u001b[A\n",
      "100%|██████████| 2/2 [00:00<00:00, 12.15it/s]\n",
      "65it [00:24,  2.61it/s]"
     ]
    },
    {
     "data": {
      "application/vnd.jupyter.widget-view+json": {
       "model_id": "f7831dee0b6d491897599a327ae46dcd",
       "version_major": 2,
       "version_minor": 0
      },
      "text/plain": [
       "Batches:   0%|          | 0/2 [00:00<?, ?it/s]"
      ]
     },
     "metadata": {},
     "output_type": "display_data"
    },
    {
     "name": "stderr",
     "output_type": "stream",
     "text": [
      "\n",
      "\u001b[A\n",
      "100%|██████████| 2/2 [00:00<00:00, 17.20it/s]\n",
      "66it [00:24,  2.65it/s]"
     ]
    },
    {
     "data": {
      "application/vnd.jupyter.widget-view+json": {
       "model_id": "f4041ad8bd6548d5a07c413922123010",
       "version_major": 2,
       "version_minor": 0
      },
      "text/plain": [
       "Batches:   0%|          | 0/2 [00:00<?, ?it/s]"
      ]
     },
     "metadata": {},
     "output_type": "display_data"
    },
    {
     "name": "stderr",
     "output_type": "stream",
     "text": [
      "\n",
      "\u001b[A\n",
      "100%|██████████| 2/2 [00:00<00:00, 15.34it/s]\n",
      "67it [00:25,  2.65it/s]"
     ]
    },
    {
     "data": {
      "application/vnd.jupyter.widget-view+json": {
       "model_id": "14cda91a44a74d91b2ab20380f61bfa1",
       "version_major": 2,
       "version_minor": 0
      },
      "text/plain": [
       "Batches:   0%|          | 0/2 [00:00<?, ?it/s]"
      ]
     },
     "metadata": {},
     "output_type": "display_data"
    },
    {
     "name": "stderr",
     "output_type": "stream",
     "text": [
      "\n",
      "\u001b[A\n",
      "100%|██████████| 2/2 [00:00<00:00, 12.85it/s]\n",
      "68it [00:25,  2.57it/s]"
     ]
    },
    {
     "data": {
      "application/vnd.jupyter.widget-view+json": {
       "model_id": "3c743bdcf70e4fc0b9e76c2585b3306f",
       "version_major": 2,
       "version_minor": 0
      },
      "text/plain": [
       "Batches:   0%|          | 0/2 [00:00<?, ?it/s]"
      ]
     },
     "metadata": {},
     "output_type": "display_data"
    },
    {
     "name": "stderr",
     "output_type": "stream",
     "text": [
      "\n",
      "\u001b[A\n",
      "100%|██████████| 2/2 [00:00<00:00, 13.28it/s]\n",
      "69it [00:25,  2.59it/s]"
     ]
    },
    {
     "data": {
      "application/vnd.jupyter.widget-view+json": {
       "model_id": "8c1a4c92574e46b8b021fcf486c4f87f",
       "version_major": 2,
       "version_minor": 0
      },
      "text/plain": [
       "Batches:   0%|          | 0/2 [00:00<?, ?it/s]"
      ]
     },
     "metadata": {},
     "output_type": "display_data"
    },
    {
     "name": "stderr",
     "output_type": "stream",
     "text": [
      "\n",
      "\u001b[A\n",
      "100%|██████████| 2/2 [00:00<00:00, 14.79it/s]\n",
      "70it [00:26,  2.64it/s]"
     ]
    },
    {
     "data": {
      "application/vnd.jupyter.widget-view+json": {
       "model_id": "b936ca02c4f94223a4daf7b6a4279da8",
       "version_major": 2,
       "version_minor": 0
      },
      "text/plain": [
       "Batches:   0%|          | 0/2 [00:00<?, ?it/s]"
      ]
     },
     "metadata": {},
     "output_type": "display_data"
    },
    {
     "name": "stderr",
     "output_type": "stream",
     "text": [
      "\n",
      "\u001b[A\n",
      "100%|██████████| 2/2 [00:00<00:00, 16.38it/s]\n",
      "71it [00:26,  2.64it/s]"
     ]
    },
    {
     "data": {
      "application/vnd.jupyter.widget-view+json": {
       "model_id": "a8498ef7100a434998b368e56c183a21",
       "version_major": 2,
       "version_minor": 0
      },
      "text/plain": [
       "Batches:   0%|          | 0/2 [00:00<?, ?it/s]"
      ]
     },
     "metadata": {},
     "output_type": "display_data"
    },
    {
     "name": "stderr",
     "output_type": "stream",
     "text": [
      "\n",
      "\u001b[A\n",
      "100%|██████████| 2/2 [00:00<00:00, 14.85it/s]\n",
      "72it [00:27,  2.68it/s]"
     ]
    },
    {
     "data": {
      "application/vnd.jupyter.widget-view+json": {
       "model_id": "e55984fe9be04af7b78c18e2ff116da0",
       "version_major": 2,
       "version_minor": 0
      },
      "text/plain": [
       "Batches:   0%|          | 0/2 [00:00<?, ?it/s]"
      ]
     },
     "metadata": {},
     "output_type": "display_data"
    },
    {
     "name": "stderr",
     "output_type": "stream",
     "text": [
      "\n",
      "100%|██████████| 2/2 [00:00<00:00, 22.75it/s]\n",
      "73it [00:27,  2.75it/s]"
     ]
    },
    {
     "data": {
      "application/vnd.jupyter.widget-view+json": {
       "model_id": "98ca11e9ff7a43328edbcabbf6b29eb4",
       "version_major": 2,
       "version_minor": 0
      },
      "text/plain": [
       "Batches:   0%|          | 0/2 [00:00<?, ?it/s]"
      ]
     },
     "metadata": {},
     "output_type": "display_data"
    },
    {
     "name": "stderr",
     "output_type": "stream",
     "text": [
      "\n",
      "\u001b[A\n",
      "100%|██████████| 2/2 [00:00<00:00, 13.12it/s]\n",
      "74it [00:27,  2.76it/s]"
     ]
    },
    {
     "data": {
      "application/vnd.jupyter.widget-view+json": {
       "model_id": "ed22a7c22af544af93673f212a9db5c0",
       "version_major": 2,
       "version_minor": 0
      },
      "text/plain": [
       "Batches:   0%|          | 0/2 [00:00<?, ?it/s]"
      ]
     },
     "metadata": {},
     "output_type": "display_data"
    },
    {
     "name": "stderr",
     "output_type": "stream",
     "text": [
      "\n",
      "100%|██████████| 2/2 [00:00<00:00, 22.51it/s]\n",
      "75it [00:28,  2.80it/s]"
     ]
    },
    {
     "data": {
      "application/vnd.jupyter.widget-view+json": {
       "model_id": "8aaed20cffc940f999dd6a8877b580ab",
       "version_major": 2,
       "version_minor": 0
      },
      "text/plain": [
       "Batches:   0%|          | 0/2 [00:00<?, ?it/s]"
      ]
     },
     "metadata": {},
     "output_type": "display_data"
    },
    {
     "name": "stderr",
     "output_type": "stream",
     "text": [
      "\n",
      "\u001b[A\n",
      "100%|██████████| 2/2 [00:00<00:00, 14.48it/s]\n",
      "76it [00:28,  2.74it/s]"
     ]
    },
    {
     "data": {
      "application/vnd.jupyter.widget-view+json": {
       "model_id": "e0242d10442a4f4fa5c1de8a1fc6e43c",
       "version_major": 2,
       "version_minor": 0
      },
      "text/plain": [
       "Batches:   0%|          | 0/2 [00:00<?, ?it/s]"
      ]
     },
     "metadata": {},
     "output_type": "display_data"
    },
    {
     "name": "stderr",
     "output_type": "stream",
     "text": [
      "\n",
      "\u001b[A\n",
      "100%|██████████| 2/2 [00:00<00:00, 13.13it/s]\n",
      "77it [00:28,  2.74it/s]"
     ]
    },
    {
     "data": {
      "application/vnd.jupyter.widget-view+json": {
       "model_id": "8bde9961a99d4535ba12d37072129930",
       "version_major": 2,
       "version_minor": 0
      },
      "text/plain": [
       "Batches:   0%|          | 0/2 [00:00<?, ?it/s]"
      ]
     },
     "metadata": {},
     "output_type": "display_data"
    },
    {
     "name": "stderr",
     "output_type": "stream",
     "text": [
      "\n",
      "\u001b[A\n",
      "100%|██████████| 2/2 [00:00<00:00, 15.02it/s]\n",
      "78it [00:29,  2.67it/s]\n",
      "2024-07-03 15:01:19,162 - INFO -       length of all_individual recalls is 78\n"
     ]
    },
    {
     "name": "stdout",
     "output_type": "stream",
     "text": [
      "{'the_df_dataset': {'ensemble': {'recall': {1: 0.9743589743589743, 2: 1.0, 3: 1.0, 5: 1.0, 10: 1.0, 20: 1.0, 30: 1.0, 50: 1.0}, 'precision': {1: 0.9743589743589743, 2: 0.5, 3: 0.3329999999999999, 5: 0.19999999999999993, 10: 0.10688461538461536, 20: 0.09821794871794871, 30: 0.09821794871794871, 50: 0.09821794871794871}, 'mrr': {1: 0.9743589743589743, 2: 0.9871794871794872, 3: 0.9871794871794872, 5: 0.9871794871794872, 10: 0.9871794871794872, 20: 0.9871794871794872, 30: 0.9871794871794872, 50: 0.9871794871794872}, 'ndcg': {1: 0.9743589743589743, 2: 0.990536660347986, 3: 0.986191796191406, 5: 0.9743825480465784, 10: 0.9463535209257392, 20: 0.9406236861216087, 30: 0.9406236861216087, 50: 0.9406236861216087}, 'runtime': 85.7068305015564}}}\n"
     ]
    }
   ],
   "source": [
    "from evaluation import RetrievalConfiguration, RetrievalEvaluator\n",
    "\n",
    "# Define retrieval configurations\n",
    "\"\"\"eval_configs = [\n",
    "    RetrievalConfiguration(\n",
    "        name='test1',\n",
    "        database=\"chromadb\",\n",
    "        database_path=\"../data/insee_documents_sample_ref_retrieval_evaluation.csv\",\n",
    "        collection=\"test_data\",\n",
    "        embedding_model_name=\"OrdalieTech/Solon-embeddings-large-0.1\",\n",
    "        reranker_type='BM25',\n",
    "        reranker_name=None,\n",
    "        k_values=[1, 2, 3, 5, 10, 20, 30, 50]\n",
    "    ),\n",
    "    RetrievalConfiguration(\n",
    "        name='test1',\n",
    "        database=\"chromadb\",\n",
    "        database_path=\"../data/insee_documents_sample_ref_retrieval_evaluation.csv\",\n",
    "        collection=\"test_data\",\n",
    "        embedding_model_name=\"OrdalieTech/Solon-embeddings-large-0.1\",\n",
    "        reranker_type=None,\n",
    "        reranker_name=None,\n",
    "        k_values=[1, 2, 3, 5, 10, 20, 30, 50]\n",
    "    ),\n",
    "    RetrievalConfiguration(\n",
    "        name='test1',\n",
    "        database=\"chromadb\",\n",
    "        database_path=\"../data/insee_documents_sample_ref_retrieval_evaluation.csv\",\n",
    "        collection=\"test_data\",\n",
    "        embedding_model_name=\"OrdalieTech/Solon-embeddings-large-0.1\",\n",
    "        reranker_type=\"Cross-encoder\",\n",
    "        reranker_name=\"BAAI/bge-reranker-base\",\n",
    "        k_values=[1, 2, 3, 5, 10, 20, 30, 50]\n",
    "    )\n",
    "]\n",
    "RetrievalConfiguration(\n",
    "            name='test1',\n",
    "            database=\"chromadb\",\n",
    "            database_path=\"../data/insee_documents_sample_ref_retrieval_evaluation.csv\",\n",
    "            collection=\"test_data\",\n",
    "            embedding_model_name=\"OrdalieTech/Solon-embeddings-large-0.1\",\n",
    "            reranker_type=None,\n",
    "            reranker_name=None,\n",
    "            k_values=[1, 2, 3, 5, 10, 20, 30, 50]\n",
    "RetrievalConfiguration(\n",
    "        name='ColBERT',\n",
    "        database=\"chromadb\",\n",
    "        collection=\"Solon-embeddings-large-0.1\",\n",
    "        database_path=\"../data/insee_documents_sample_ref_retrieval_evaluation.csv\",\n",
    "        embedding_model_name=\"OrdalieTech/Solon-embeddings-large-0.1\",\n",
    "        reranker_type=\"ColBERT\",\n",
    "        reranker_name=\"antoinelouis/colbertv2-camembert-L4-mmarcoFR\",\n",
    "        k_values=[1, 2, 3, 5, 10, 20, 30, 50]\n",
    "    )\n",
    "\"\"\"\n",
    "eval_configs = [\n",
    "    RetrievalConfiguration(\n",
    "        name='ensemble',\n",
    "        database=\"chromadb\",\n",
    "        collection=\"data_test\",\n",
    "        database_path=\"../data/insee_documents_sample_ref_retrieval_evaluation.csv\",\n",
    "        embedding_model_name=\"OrdalieTech/Solon-embeddings-large-0.1\",\n",
    "        reranker_type=\"Ensemble\",\n",
    "        param_ensemble = [\n",
    "            {\"reranker_type\":\"Cross-encoder\",\n",
    "             \"reranker_name\":\"BAAI/bge-reranker-base\",\n",
    "             \"reranker_weight\": 1/4\n",
    "            },\n",
    "            {\"reranker_type\":\"BM25\",\n",
    "             \"reranker_name\": None,\n",
    "             \"reranker_weight\": 1/4\n",
    "            },\n",
    "            {\"reranker_type\":\"ColBERT\",\n",
    "             \"reranker_name\": \"antoinelouis/colbertv2-camembert-L4-mmarcoFR\",\n",
    "             \"reranker_weight\": 1/4\n",
    "            },\n",
    "            {\"reranker_type\":\"Metadata\",\n",
    "             \"reranker_name\": \"title\",\n",
    "             \"reranker_weight\": 1/4\n",
    "            },\n",
    "        ],\n",
    "        k_values=[1, 2, 3, 5, 10, 20, 30, 50]\n",
    "    )\n",
    "    ]\n",
    "\n",
    "# Run the evaluator\n",
    "results = RetrievalEvaluator.run(\n",
    "    eval_configurations=eval_configs,\n",
    "    eval_dict=df_dict,  # Ensure 'df_dict' is a dictionary containing pandas DataFrames with the required structure\n",
    ")\n",
    "\n",
    "# Print or process results\n",
    "print(results)"
   ]
  },
  {
   "cell_type": "code",
   "execution_count": 4,
   "id": "33efae9d",
   "metadata": {},
   "outputs": [
    {
     "data": {
      "text/plain": [
       "{'the_df_dataset': {'emsemble': {'recall': {1: 0.9743589743589743,\n",
       "    2: 0.9743589743589743,\n",
       "    3: 0.9871794871794872,\n",
       "    5: 0.9871794871794872,\n",
       "    10: 1.0,\n",
       "    20: 1.0,\n",
       "    30: 1.0,\n",
       "    50: 1.0},\n",
       "   'precision': {1: 0.9743589743589743,\n",
       "    2: 0.48717948717948717,\n",
       "    3: 0.3287307692307691,\n",
       "    5: 0.19743589743589737,\n",
       "    10: 0.13102564102564102,\n",
       "    20: 0.13102564102564102,\n",
       "    30: 0.13102564102564102,\n",
       "    50: 0.13102564102564102},\n",
       "   'mrr': {1: 0.9743589743589743,\n",
       "    2: 0.9743589743589743,\n",
       "    3: 0.9786324786324786,\n",
       "    5: 0.9786324786324786,\n",
       "    10: 0.98005698005698,\n",
       "    20: 0.98005698005698,\n",
       "    30: 0.98005698005698,\n",
       "    50: 0.98005698005698},\n",
       "   'ndcg': {1: 0.9743589743589743,\n",
       "    2: 0.9743589743589743,\n",
       "    3: 0.9725354655536602,\n",
       "    5: 0.9536700630295223,\n",
       "    10: 0.9408502157228187,\n",
       "    20: 0.9408502157228187,\n",
       "    30: 0.9408502157228187,\n",
       "    50: 0.9408502157228187},\n",
       "   'runtime': 38.57651972770691}}}"
      ]
     },
     "execution_count": 4,
     "metadata": {},
     "output_type": "execute_result"
    }
   ],
   "source": [
    "results"
   ]
  },
  {
   "cell_type": "code",
   "execution_count": 5,
   "id": "90cfff44",
   "metadata": {},
   "outputs": [
    {
     "data": {
      "text/plain": [
       "[RetrievalConfiguration(name='emsemble', database='chromadb', database_path='../data/insee_documents_sample_ref_retrieval_evaluation.csv', embedding_model_name='OrdalieTech/Solon-embeddings-large-0.1', collection='insee_data', chunk_size=2000, overlap_size=500, reranker_type='Ensemble', reranker_name=None, param_ensemble=[{'reranker_type': 'Cross-encoder', 'reranker_name': 'BAAI/bge-reranker-base', 'reranker_weight': 0.5}, {'reranker_type': 'BM25', 'reranker_name': None, 'reranker_weight': 0.5}], use_metadata=None, rerank_k=5, k_values=[1, 2, 3, 5, 10, 20, 30, 50], markdown_separator=['\\n\\n', '\\n', '.', ' ', ''])]"
      ]
     },
     "execution_count": 5,
     "metadata": {},
     "output_type": "execute_result"
    }
   ],
   "source": [
    "eval_configs"
   ]
  },
  {
   "cell_type": "markdown",
   "id": "2cab10c5",
   "metadata": {},
   "source": [
    "## Test 28/06/2024 - Update Retrieval Evaluation process"
   ]
  }
 ],
 "metadata": {
  "kernelspec": {
   "display_name": "Python 3 (ipykernel)",
   "language": "python",
   "name": "python3"
  },
  "language_info": {
   "codemirror_mode": {
    "name": "ipython",
    "version": 3
   },
   "file_extension": ".py",
   "mimetype": "text/x-python",
   "name": "python",
   "nbconvert_exporter": "python",
   "pygments_lexer": "ipython3",
   "version": "3.12.3"
  }
 },
 "nbformat": 4,
 "nbformat_minor": 5
}
