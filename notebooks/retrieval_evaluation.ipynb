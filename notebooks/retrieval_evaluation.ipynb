{
 "cells": [
  {
   "cell_type": "code",
   "execution_count": 1,
   "id": "befa333c-2750-4f6e-94f5-f2dea87dd3fc",
   "metadata": {},
   "outputs": [],
   "source": [
    "%load_ext autoreload\n",
    "%autoreload 2"
   ]
  },
  {
   "cell_type": "code",
   "execution_count": 2,
   "id": "a7e00577-59ac-4f3e-8257-76eee59b63f0",
   "metadata": {},
   "outputs": [],
   "source": [
    "import sys\n",
    "\n",
    "sys.path.append(\"../src\")"
   ]
  },
  {
   "cell_type": "code",
   "execution_count": 3,
   "id": "1b90e920",
   "metadata": {},
   "outputs": [
    {
     "data": {
      "text/plain": [
       "['/opt/mamba/lib/python312.zip',\n",
       " '/opt/mamba/lib/python3.12',\n",
       " '/opt/mamba/lib/python3.12/lib-dynload',\n",
       " '',\n",
       " '/opt/mamba/lib/python3.12/site-packages',\n",
       " '../src']"
      ]
     },
     "execution_count": 3,
     "metadata": {},
     "output_type": "execute_result"
    }
   ],
   "source": [
    "sys.path"
   ]
  },
  {
   "cell_type": "code",
   "execution_count": 11,
   "id": "f2aa7a03-43a3-408f-834b-39a9ddea77ea",
   "metadata": {},
   "outputs": [],
   "source": [
    "path = \"./data/q_and_a_ref_retrieval_evaluation_Phi-3-mini-128k-instruct.csv\"\n",
    "df = pd.read_csv(path)\n",
    "\n",
    "df_dict = {}\n",
    "df_dict[\"the_df_dataset\"] = df"
   ]
  },
  {
   "cell_type": "code",
   "execution_count": null,
   "id": "459c1ce1-ce78-4578-b5a7-13232abaef45",
   "metadata": {},
   "outputs": [],
   "source": [
    "db = reload_database_from_local_dir()"
   ]
  },
  {
   "cell_type": "code",
   "execution_count": null,
   "id": "5e7cd728-8943-4ee3-a971-2beba6c984ff",
   "metadata": {},
   "outputs": [],
   "source": [
    "eval_configs = [RetrievalConfiguration(\"conf_1\"), RetrievalConfiguration(\"conf_2\")]\n",
    "\n",
    "d = RetrievalEvaluator.run(\n",
    "    eval_configs,\n",
    "    db,\n",
    "    df_dict,\n",
    ")"
   ]
  },
  {
   "cell_type": "code",
   "execution_count": 13,
   "id": "26d74466-7499-4bb0-8e7e-56212d83a5ba",
   "metadata": {},
   "outputs": [
    {
     "data": {
      "text/plain": [
       "{'the_df_dataset': {'conf_1': {'recall': {5: 0.685, 10: 0.73, 15: 0.745},\n",
       "   'precision': {5: 0.13699999999999998, 10: 0.073, 15: 0.049915}},\n",
       "  'conf_2': {'recall': {5: 0.685, 10: 0.73, 15: 0.745},\n",
       "   'precision': {5: 0.13699999999999998, 10: 0.073, 15: 0.049915}}}}"
      ]
     },
     "execution_count": 13,
     "metadata": {},
     "output_type": "execute_result"
    }
   ],
   "source": [
    "d"
   ]
  },
  {
   "cell_type": "code",
   "execution_count": null,
   "id": "cc2aa281-13f0-42ef-82d2-b02d066d1a8d",
   "metadata": {},
   "outputs": [],
   "source": [
    "////////////////////////////////////////////////////////////////////////////"
   ]
  },
  {
   "cell_type": "raw",
   "id": "89e4bedb-263b-4fb8-9e7d-4069c6f9cfe4",
   "metadata": {},
   "source": [
    "DOC:\n",
    "\n",
    "docs = retriever.get()['documents']\n",
    "retriever.get()['ids']\n",
    "Document(page_content='', metadata={})\n",
    "\n",
    "db = Chroma.from_documents(docs, embedding_function, ids=ids)\n",
    "docs = db.similarity_search(query)\n",
    "print(docs[0].metadata)"
   ]
  },
  {
   "cell_type": "markdown",
   "id": "2cab10c5",
   "metadata": {},
   "source": [
    "## Test 28/06/2024 - Update Retrieval Evaluation process"
   ]
  },
  {
   "cell_type": "markdown",
   "id": "021f9ea1",
   "metadata": {},
   "source": []
  }
 ],
 "metadata": {
  "kernelspec": {
   "display_name": "Python 3 (ipykernel)",
   "language": "python",
   "name": "python3"
  },
  "language_info": {
   "codemirror_mode": {
    "name": "ipython",
    "version": 3
   },
   "file_extension": ".py",
   "mimetype": "text/x-python",
   "name": "python",
   "nbconvert_exporter": "python",
   "pygments_lexer": "ipython3",
   "version": "3.12.3"
  }
 },
 "nbformat": 4,
 "nbformat_minor": 5
}
