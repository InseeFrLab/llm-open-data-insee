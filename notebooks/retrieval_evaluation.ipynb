{
 "cells": [
  {
   "cell_type": "code",
   "execution_count": 1,
   "id": "a7e00577-59ac-4f3e-8257-76eee59b63f0",
   "metadata": {},
   "outputs": [],
   "source": [
    "import sys\n",
    "sys.path.append(\"../src\")"
   ]
  },
  {
   "cell_type": "markdown",
   "id": "d78c882b",
   "metadata": {},
   "source": [
    "### Load Q&A test data"
   ]
  },
  {
   "cell_type": "code",
   "execution_count": 3,
   "id": "66e1b828",
   "metadata": {},
   "outputs": [
    {
     "name": "stdout",
     "output_type": "stream",
     "text": [
      "...struct.csv: 281.66 KiB / 281.66 KiB ┃▓▓▓▓▓▓▓▓▓▓▓▓▓▓▓▓▓▓▓▓▓▓▓┃ 555.67 KiB/s 0s\u001b[0;22m\u001b[0m\u001b[m\u001b[32;1m\u001b[m\u001b[32;1m\u001b[m\u001b[32;1m\u001b[m\u001b[32;1m"
     ]
    }
   ],
   "source": [
    "!mc cp s3/projet-llm-insee-open-data/data/eval_data/eval_retrieval/q_and_a_scored_filtered_Phi-3-mini-128k-instruct.csv ../data/q_and_a_ref_retrieval_evaluation_Phi-3-mini-128k-instruct.csv"
   ]
  },
  {
   "cell_type": "markdown",
   "id": "cd9b8f5f",
   "metadata": {},
   "source": [
    "### Load Knowledge Data"
   ]
  },
  {
   "cell_type": "code",
   "execution_count": 9,
   "id": "79677726",
   "metadata": {},
   "outputs": [
    {
     "name": "stdout",
     "output_type": "stream",
     "text": [
      "...uation.csv: 4.69 MiB / 4.69 MiB ┃▓▓▓▓▓▓▓▓▓▓▓▓▓▓▓▓▓▓▓▓▓▓▓▓▓▓▓▓▓┃ 8.54 MiB/s 0s\u001b[0;22m\u001b[0m\u001b[m\u001b[32;1m\u001b[m\u001b[32;1m\u001b[m\u001b[32;1m\u001b[m\u001b[32;1m\u001b[m\u001b[32;1m"
     ]
    }
   ],
   "source": [
    "!mc cp s3/projet-llm-insee-open-data/data/eval_data/eval_retrieval/insee_documents_sample_ref_retrieval_evaluation.csv ../data/insee_documents_sample_ref_retrieval_evaluation.csv"
   ]
  },
  {
   "cell_type": "code",
   "execution_count": 2,
   "id": "f2aa7a03-43a3-408f-834b-39a9ddea77ea",
   "metadata": {},
   "outputs": [],
   "source": [
    "import pandas as pd \n",
    "\n",
    "#question and answer\n",
    "path_qa = \"../data/q_and_a_ref_retrieval_evaluation_Phi-3-mini-128k-instruct.csv\"\n",
    "test = pd.read_csv(path_qa)\n",
    "\n",
    "df_dict = {}\n",
    "df_dict[\"the_df_dataset\"] = test\n",
    "\n",
    "#knowledge data \n",
    "path_knowledge = \"../data/insee_documents_sample_ref_retrieval_evaluation.csv\"\n",
    "data = pd.read_csv(path_knowledge)"
   ]
  },
  {
   "cell_type": "code",
   "execution_count": null,
   "id": "98c2924e",
   "metadata": {},
   "outputs": [],
   "source": [
    "display(test.head())\n",
    "display(data.head())"
   ]
  },
  {
   "cell_type": "code",
   "execution_count": null,
   "id": "0a4754fe",
   "metadata": {},
   "outputs": [],
   "source": [
    "\n",
    "# Define retrieval configurations\n",
    "\"\"\"\n",
    "RetrievalConfiguration(\n",
    "    name='test1',\n",
    "    database=\"chromadb\",\n",
    "    database_path=\"../data/insee_documents_sample_ref_retrieval_evaluation.csv\",\n",
    "    collection=\"test_data\",\n",
    "    embedding_model_name=\"OrdalieTech/Solon-embeddings-large-0.1\",\n",
    "    reranker_type='BM25',\n",
    "    reranker_name=None,\n",
    "    k_values=[1, 2, 3, 5, 10, 20, 30, 50]\n",
    ")\n",
    "RetrievalConfiguration(\n",
    "    name='test1',\n",
    "    database=\"chromadb\",\n",
    "    database_path=\"../data/insee_documents_sample_ref_retrieval_evaluation.csv\",\n",
    "    collection=\"test_data\",\n",
    "    embedding_model_name=\"OrdalieTech/Solon-embeddings-large-0.1\",\n",
    "    reranker_type=None,\n",
    "    reranker_name=None,\n",
    "    k_values=[1, 2, 3, 5, 10, 20, 30, 50]\n",
    ")\n",
    "RetrievalConfiguration(\n",
    "    name='test1',\n",
    "    database=\"chromadb\",\n",
    "    database_path=\"../data/insee_documents_sample_ref_retrieval_evaluation.csv\",\n",
    "    collection=\"test_data\",\n",
    "    embedding_model_name=\"OrdalieTech/Solon-embeddings-large-0.1\",\n",
    "    reranker_type=\"Cross-encoder\",\n",
    "    reranker_name=\"BAAI/bge-reranker-base\",\n",
    "    k_values=[1, 2, 3, 5, 10, 20, 30, 50]\n",
    "    )\n",
    "RetrievalConfiguration(\n",
    "            name='test1',\n",
    "            database=\"chromadb\",\n",
    "            database_path=\"../data/insee_documents_sample_ref_retrieval_evaluation.csv\",\n",
    "            collection=\"test_data\",\n",
    "            embedding_model_name=\"OrdalieTech/Solon-embeddings-large-0.1\",\n",
    "            reranker_type=None,\n",
    "            reranker_name=None,\n",
    "            k_values=[1, 2, 3, 5, 10, 20, 30, 50]\n",
    "RetrievalConfiguration(\n",
    "        name='ColBERT',\n",
    "        database=\"chromadb\",\n",
    "        collection=\"Solon-embeddings-large-0.1\",\n",
    "        database_path=\"../data/insee_documents_sample_ref_retrieval_evaluation.csv\",\n",
    "        embedding_model_name=\"OrdalieTech/Solon-embeddings-large-0.1\",\n",
    "        reranker_type=\"ColBERT\",\n",
    "        reranker_name=\"antoinelouis/colbertv2-camembert-L4-mmarcoFR\",\n",
    "        k_values=[1, 2, 3, 5, 10, 20, 30, 50]\n",
    "    )\n",
    " RetrievalConfiguration(\n",
    "        name='ensemble',\n",
    "        database=\"chromadb\",\n",
    "        collection=\"data_test\",\n",
    "        database_path=\"../data/insee_documents_sample_ref_retrieval_evaluation.csv\",\n",
    "        embedding_model_name=\"OrdalieTech/Solon-embeddings-large-0.1\",\n",
    "        reranker_type=\"Ensemble\",\n",
    "        param_ensemble = [\n",
    "            {\"reranker_type\":\"Cross-encoder\",\n",
    "             \"reranker_name\":\"BAAI/bge-reranker-base\",\n",
    "             \"reranker_weight\": 1/4\n",
    "            },\n",
    "            {\"reranker_type\":\"BM25\",\n",
    "             \"reranker_name\": None,\n",
    "             \"reranker_weight\": 1/4\n",
    "            },\n",
    "            {\"reranker_type\":\"ColBERT\",\n",
    "             \"reranker_name\": \"antoinelouis/colbertv2-camembert-L4-mmarcoFR\",\n",
    "             \"reranker_weight\": 1/4\n",
    "            },\n",
    "            {\"reranker_type\":\"Metadata\",\n",
    "             \"reranker_name\": \"title\",\n",
    "             \"reranker_weight\": 1/4\n",
    "            },\n",
    "        ],\n",
    "        k_values=[1, 2, 3, 5, 10, 20, 30, 50],\n",
    "        rerank_k= 50\n",
    "    )\n",
    "\"\"\"\n",
    "\n",
    "# Run the evaluator\n",
    "results = RetrievalEvaluator.run(\n",
    "    eval_configurations=eval_configs,\n",
    "    eval_dict=df_dict,  # Ensure 'df_dict' is a dictionary containing pandas DataFrames with the required structure\n",
    ")\n"
   ]
  },
  {
   "cell_type": "code",
   "execution_count": 5,
   "id": "90cfff44",
   "metadata": {},
   "outputs": [
    {
     "data": {
      "text/plain": [
       "[RetrievalConfiguration(name='ensemble', database='chromadb', database_path='../data/insee_documents_sample_ref_retrieval_evaluation.csv', embedding_model_name='OrdalieTech/Solon-embeddings-large-0.1', collection='data_test', chunk_size=2000, overlap_size=500, reranker_type='Ensemble', reranker_name=None, param_ensemble=[{'reranker_type': 'Cross-encoder', 'reranker_name': 'BAAI/bge-reranker-base', 'reranker_weight': 0.25}, {'reranker_type': 'BM25', 'reranker_name': None, 'reranker_weight': 0.25}, {'reranker_type': 'ColBERT', 'reranker_name': 'antoinelouis/colbertv2-camembert-L4-mmarcoFR', 'reranker_weight': 0.25}, {'reranker_type': 'Metadata', 'reranker_name': 'title', 'reranker_weight': 0.25}], use_metadata=None, rerank_k=50, k_values=[1, 2, 3, 5, 10, 20, 30, 50], markdown_separator=['\\n\\n', '\\n', '.', ' ', ''])]"
      ]
     },
     "execution_count": 5,
     "metadata": {},
     "output_type": "execute_result"
    }
   ],
   "source": [
    "eval_configs"
   ]
  },
  {
   "cell_type": "markdown",
   "id": "2cab10c5",
   "metadata": {},
   "source": [
    "## Test 03/07/2024 - Update Retrieval Evaluation process"
   ]
  },
  {
   "cell_type": "markdown",
   "id": "152af5c6",
   "metadata": {},
   "source": [
    "### Test Cross-encoder"
   ]
  },
  {
   "cell_type": "code",
   "execution_count": null,
   "id": "b259d8f7",
   "metadata": {},
   "outputs": [],
   "source": [
    "from evaluation import RetrievalConfiguration, RetrievalEvaluator\n",
    "\n",
    "cross_encoders = [\"dangvantuan/CrossEncoder-camembert-large\",\"antoinelouis/crossencoder-electra-base-french-mmarcoFR\",\"BAAI/bge-reranker-base\"]\n",
    "\n",
    "eval_configs = [RetrievalConfiguration(\n",
    "        name=f'test_cross_encoder_{i}',\n",
    "        database=\"chromadb\",\n",
    "        collection=\"Solon-embeddings-large-0.1_512_51\",\n",
    "        database_path=\"../data/insee_documents_sample_ref_retrieval_evaluation.csv\",\n",
    "        embedding_model_name=\"OrdalieTech/Solon-embeddings-large-0.1\",\n",
    "        reranker_type=\"Cross-encoder\",\n",
    "        reranker_name=cross_encoder,\n",
    "        rerank_k=50,\n",
    "        k_values=[1, 2, 3, 5, 10, 20, 30, 50]\n",
    "    ) for i,cross_encoder in enumerate(cross_encoders)]\n",
    "\n",
    "# Run the evaluator\n",
    "results = RetrievalEvaluator.run(\n",
    "    eval_configurations=eval_configs,\n",
    "    eval_dict=df_dict,  # Ensure 'df_dict' is a dictionary containing pandas DataFrames with the required structure\n",
    ")"
   ]
  },
  {
   "cell_type": "code",
   "execution_count": null,
   "id": "02465d93",
   "metadata": {},
   "outputs": [],
   "source": [
    "\n",
    "for config, result in zip(eval_configs, results[\"the_df_dataset\"].values()):\n",
    "    print(config.reranker_name)\n",
    "    print(result)"
   ]
  },
  {
   "cell_type": "code",
   "execution_count": null,
   "id": "71cc4281",
   "metadata": {},
   "outputs": [],
   "source": []
  }
 ],
 "metadata": {
  "kernelspec": {
   "display_name": "Python 3 (ipykernel)",
   "language": "python",
   "name": "python3"
  },
  "language_info": {
   "codemirror_mode": {
    "name": "ipython",
    "version": 3
   },
   "file_extension": ".py",
   "mimetype": "text/x-python",
   "name": "python",
   "nbconvert_exporter": "python",
   "pygments_lexer": "ipython3",
   "version": "3.12.3"
  }
 },
 "nbformat": 4,
 "nbformat_minor": 5
}
