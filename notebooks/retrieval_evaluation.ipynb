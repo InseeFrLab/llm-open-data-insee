{
 "cells": [
  {
   "cell_type": "code",
   "execution_count": 2,
   "id": "a7e00577-59ac-4f3e-8257-76eee59b63f0",
   "metadata": {},
   "outputs": [],
   "source": [
    "import sys\n",
    "\n",
    "sys.path.append(\"../src\")"
   ]
  },
  {
   "cell_type": "markdown",
   "id": "d78c882b",
   "metadata": {},
   "source": [
    "### Load Q&A test data"
   ]
  },
  {
   "cell_type": "code",
   "execution_count": 3,
   "id": "66e1b828",
   "metadata": {},
   "outputs": [
    {
     "name": "stdout",
     "output_type": "stream",
     "text": [
      "...struct.csv: 281.66 KiB / 281.66 KiB ┃▓▓▓▓▓▓▓▓▓▓▓▓▓▓▓▓▓▓▓▓▓▓▓┃ 555.67 KiB/s 0s\u001b[0;22m\u001b[0m\u001b[m\u001b[32;1m\u001b[m\u001b[32;1m\u001b[m\u001b[32;1m\u001b[m\u001b[32;1m"
     ]
    }
   ],
   "source": [
    "!mc cp s3/projet-llm-insee-open-data/data/eval_data/eval_retrieval/q_and_a_scored_filtered_Phi-3-mini-128k-instruct.csv ../data/q_and_a_ref_retrieval_evaluation_Phi-3-mini-128k-instruct.csv"
   ]
  },
  {
   "cell_type": "markdown",
   "id": "cd9b8f5f",
   "metadata": {},
   "source": [
    "### Load Knowledge Data"
   ]
  },
  {
   "cell_type": "code",
   "execution_count": 9,
   "id": "79677726",
   "metadata": {},
   "outputs": [
    {
     "name": "stdout",
     "output_type": "stream",
     "text": [
      "...uation.csv: 4.69 MiB / 4.69 MiB ┃▓▓▓▓▓▓▓▓▓▓▓▓▓▓▓▓▓▓▓▓▓▓▓▓▓▓▓▓▓┃ 8.54 MiB/s 0s\u001b[0;22m\u001b[0m\u001b[m\u001b[32;1m\u001b[m\u001b[32;1m\u001b[m\u001b[32;1m\u001b[m\u001b[32;1m\u001b[m\u001b[32;1m"
     ]
    }
   ],
   "source": [
    "!mc cp s3/projet-llm-insee-open-data/data/eval_data/eval_retrieval/insee_documents_sample_ref_retrieval_evaluation.csv ../data/insee_documents_sample_ref_retrieval_evaluation.csv"
   ]
  },
  {
   "cell_type": "code",
   "execution_count": 3,
   "id": "f2aa7a03-43a3-408f-834b-39a9ddea77ea",
   "metadata": {},
   "outputs": [],
   "source": [
    "import pandas as pd \n",
    "\n",
    "#question and answer\n",
    "path_qa = \"../data/q_and_a_ref_retrieval_evaluation_Phi-3-mini-128k-instruct.csv\"\n",
    "test = pd.read_csv(path_qa)\n",
    "\n",
    "df_dict = {}\n",
    "df_dict[\"the_df_dataset\"] = test\n",
    "\n",
    "#knowledge data \n",
    "path_knowledge = \"../data/insee_documents_sample_ref_retrieval_evaluation.csv\"\n",
    "data = pd.read_csv(path_knowledge)"
   ]
  },
  {
   "cell_type": "code",
   "execution_count": 3,
   "id": "98c2924e",
   "metadata": {},
   "outputs": [
    {
     "data": {
      "text/html": [
       "<div>\n",
       "<style scoped>\n",
       "    .dataframe tbody tr th:only-of-type {\n",
       "        vertical-align: middle;\n",
       "    }\n",
       "\n",
       "    .dataframe tbody tr th {\n",
       "        vertical-align: top;\n",
       "    }\n",
       "\n",
       "    .dataframe thead th {\n",
       "        text-align: right;\n",
       "    }\n",
       "</style>\n",
       "<table border=\"1\" class=\"dataframe\">\n",
       "  <thead>\n",
       "    <tr style=\"text-align: right;\">\n",
       "      <th></th>\n",
       "      <th>context</th>\n",
       "      <th>question</th>\n",
       "      <th>answer</th>\n",
       "      <th>source_doc</th>\n",
       "      <th>groundedness_score</th>\n",
       "      <th>groundedness_eval</th>\n",
       "      <th>relevance_score</th>\n",
       "      <th>relevance_eval</th>\n",
       "      <th>standalone_score</th>\n",
       "      <th>standalone_eval</th>\n",
       "    </tr>\n",
       "  </thead>\n",
       "  <tbody>\n",
       "    <tr>\n",
       "      <th>0</th>\n",
       "      <td>. L’approche coût-efficacité apparaît plus con...</td>\n",
       "      <td>Quelle est l'approche qui s'aligne sur l'objec...</td>\n",
       "      <td>L'approche coût-efficacité est celle qui s'ali...</td>\n",
       "      <td>https://www.insee.fr/fr/information/4796342</td>\n",
       "      <td>5.0</td>\n",
       "      <td>Le contexte fourni donne des informations sur ...</td>\n",
       "      <td>4.0</td>\n",
       "      <td>Cette question est très pertinente pour les ag...</td>\n",
       "      <td>5.0</td>\n",
       "      <td>La question mentionne explicitement l'accord d...</td>\n",
       "    </tr>\n",
       "    <tr>\n",
       "      <th>1</th>\n",
       "      <td>. A contrario, pour les femmes de 30à 34ans, i...</td>\n",
       "      <td>Quelle est l'évolution de l'âge moyen à la mat...</td>\n",
       "      <td>L'âge moyen à la maternité pour les femmes de ...</td>\n",
       "      <td>https://www.insee.fr/fr/statistiques/4238437</td>\n",
       "      <td>5.0</td>\n",
       "      <td>La question demande une évolution spécifique c...</td>\n",
       "      <td>5.0</td>\n",
       "      <td>Cette question est très pertinente pour les ag...</td>\n",
       "      <td>5.0</td>\n",
       "      <td>Cette question est indépendante du contexte ca...</td>\n",
       "    </tr>\n",
       "    <tr>\n",
       "      <th>2</th>\n",
       "      <td>. Points d’entrées pour la France dans les coo...</td>\n",
       "      <td>Quelle est la part des mineurs dans les cas de...</td>\n",
       "      <td>La part des mineurs a diminué de 7 points pour...</td>\n",
       "      <td>https://www.insee.fr/fr/statistiques/5763625</td>\n",
       "      <td>4.0</td>\n",
       "      <td>Le contexte fournit des informations détaillée...</td>\n",
       "      <td>4.0</td>\n",
       "      <td>Cette question est très pertinente pour les ag...</td>\n",
       "      <td>4.0</td>\n",
       "      <td>Cette question est assez indépendante du conte...</td>\n",
       "    </tr>\n",
       "    <tr>\n",
       "      <th>3</th>\n",
       "      <td>. L’empreinte énergétique directe du numérique...</td>\n",
       "      <td>Quelle est la part du numérique dans les émiss...</td>\n",
       "      <td>En 2017, le numérique représentait plus de 3,7...</td>\n",
       "      <td>https://www.insee.fr/fr/statistiques/4126596</td>\n",
       "      <td>5.0</td>\n",
       "      <td>Le contexte fourni donne des informations spéc...</td>\n",
       "      <td>5.0</td>\n",
       "      <td>Cette question est très pertinente pour les ag...</td>\n",
       "      <td>4.0</td>\n",
       "      <td>Cette question demande des informations spécif...</td>\n",
       "    </tr>\n",
       "    <tr>\n",
       "      <th>4</th>\n",
       "      <td>.  La collecte d’Acemo Covid s’étend sur deux ...</td>\n",
       "      <td>Quels sont les codes APE utilisés pour représe...</td>\n",
       "      <td>Les codes APE utilisés pour représenter la res...</td>\n",
       "      <td>https://www.insee.fr/fr/statistiques/5392036</td>\n",
       "      <td>5.0</td>\n",
       "      <td>La question demande de nommer les codes APE co...</td>\n",
       "      <td>4.0</td>\n",
       "      <td>Cette question est directement liée aux activi...</td>\n",
       "      <td>5.0</td>\n",
       "      <td>La question demande une information spécifique...</td>\n",
       "    </tr>\n",
       "  </tbody>\n",
       "</table>\n",
       "</div>"
      ],
      "text/plain": [
       "                                             context  \\\n",
       "0  . L’approche coût-efficacité apparaît plus con...   \n",
       "1  . A contrario, pour les femmes de 30à 34ans, i...   \n",
       "2  . Points d’entrées pour la France dans les coo...   \n",
       "3  . L’empreinte énergétique directe du numérique...   \n",
       "4  .  La collecte d’Acemo Covid s’étend sur deux ...   \n",
       "\n",
       "                                            question  \\\n",
       "0  Quelle est l'approche qui s'aligne sur l'objec...   \n",
       "1  Quelle est l'évolution de l'âge moyen à la mat...   \n",
       "2  Quelle est la part des mineurs dans les cas de...   \n",
       "3  Quelle est la part du numérique dans les émiss...   \n",
       "4  Quels sont les codes APE utilisés pour représe...   \n",
       "\n",
       "                                              answer  \\\n",
       "0  L'approche coût-efficacité est celle qui s'ali...   \n",
       "1  L'âge moyen à la maternité pour les femmes de ...   \n",
       "2  La part des mineurs a diminué de 7 points pour...   \n",
       "3  En 2017, le numérique représentait plus de 3,7...   \n",
       "4  Les codes APE utilisés pour représenter la res...   \n",
       "\n",
       "                                     source_doc  groundedness_score  \\\n",
       "0   https://www.insee.fr/fr/information/4796342                 5.0   \n",
       "1  https://www.insee.fr/fr/statistiques/4238437                 5.0   \n",
       "2  https://www.insee.fr/fr/statistiques/5763625                 4.0   \n",
       "3  https://www.insee.fr/fr/statistiques/4126596                 5.0   \n",
       "4  https://www.insee.fr/fr/statistiques/5392036                 5.0   \n",
       "\n",
       "                                   groundedness_eval  relevance_score  \\\n",
       "0  Le contexte fourni donne des informations sur ...              4.0   \n",
       "1  La question demande une évolution spécifique c...              5.0   \n",
       "2  Le contexte fournit des informations détaillée...              4.0   \n",
       "3  Le contexte fourni donne des informations spéc...              5.0   \n",
       "4  La question demande de nommer les codes APE co...              4.0   \n",
       "\n",
       "                                      relevance_eval  standalone_score  \\\n",
       "0  Cette question est très pertinente pour les ag...               5.0   \n",
       "1  Cette question est très pertinente pour les ag...               5.0   \n",
       "2  Cette question est très pertinente pour les ag...               4.0   \n",
       "3  Cette question est très pertinente pour les ag...               4.0   \n",
       "4  Cette question est directement liée aux activi...               5.0   \n",
       "\n",
       "                                     standalone_eval  \n",
       "0  La question mentionne explicitement l'accord d...  \n",
       "1  Cette question est indépendante du contexte ca...  \n",
       "2  Cette question est assez indépendante du conte...  \n",
       "3  Cette question demande des informations spécif...  \n",
       "4  La question demande une information spécifique...  "
      ]
     },
     "metadata": {},
     "output_type": "display_data"
    },
    {
     "data": {
      "text/html": [
       "<div>\n",
       "<style scoped>\n",
       "    .dataframe tbody tr th:only-of-type {\n",
       "        vertical-align: middle;\n",
       "    }\n",
       "\n",
       "    .dataframe tbody tr th {\n",
       "        vertical-align: top;\n",
       "    }\n",
       "\n",
       "    .dataframe thead th {\n",
       "        text-align: right;\n",
       "    }\n",
       "</style>\n",
       "<table border=\"1\" class=\"dataframe\">\n",
       "  <thead>\n",
       "    <tr style=\"text-align: right;\">\n",
       "      <th></th>\n",
       "      <th>content</th>\n",
       "      <th>source</th>\n",
       "      <th>title</th>\n",
       "      <th>insee_id</th>\n",
       "      <th>categories</th>\n",
       "      <th>date_diffusion</th>\n",
       "      <th>themes</th>\n",
       "      <th>collections</th>\n",
       "      <th>libelleAffichageGeo</th>\n",
       "      <th>intertitres</th>\n",
       "      <th>authors</th>\n",
       "      <th>subtitle</th>\n",
       "    </tr>\n",
       "  </thead>\n",
       "  <tbody>\n",
       "    <tr>\n",
       "      <th>0</th>\n",
       "      <td>La Base tous salariés (BTS), extraite de la Dé...</td>\n",
       "      <td>https://www.insee.fr/fr/information/2407785</td>\n",
       "      <td>Base Tous Salariés</td>\n",
       "      <td>2407785</td>\n",
       "      <td>Services</td>\n",
       "      <td>2023-10-03T12:04:14.154Z</td>\n",
       "      <td>NaN</td>\n",
       "      <td>NaN</td>\n",
       "      <td>NaN</td>\n",
       "      <td>Description des variables des différents fichi...</td>\n",
       "      <td>[]</td>\n",
       "      <td>BTS</td>\n",
       "    </tr>\n",
       "    <tr>\n",
       "      <th>1</th>\n",
       "      <td>En France, en mars-avril 2020, un surcroît de ...</td>\n",
       "      <td>https://www.insee.fr/fr/statistiques/4797670</td>\n",
       "      <td>Les inégalités sociales à l’épreuve de la cris...</td>\n",
       "      <td>4797670</td>\n",
       "      <td>Publications grand public</td>\n",
       "      <td>2020-12-03T17:00:25.538Z</td>\n",
       "      <td>[\"Revenus – Niveaux de vie – Pouvoir d'achat\"]</td>\n",
       "      <td>France, portrait social</td>\n",
       "      <td>France</td>\n",
       "      <td>Décrire au mieux l’impact de la crise sanitair...</td>\n",
       "      <td>['Meriam Barhoumi (Depp)', 'Anne Jonchery', 'P...</td>\n",
       "      <td>NaN</td>\n",
       "    </tr>\n",
       "    <tr>\n",
       "      <th>2</th>\n",
       "      <td>L'Insee a conçu une base historique des Recens...</td>\n",
       "      <td>https://www.insee.fr/fr/information/1303688</td>\n",
       "      <td>RP Historiques et Données harmonisées des rece...</td>\n",
       "      <td>1303688</td>\n",
       "      <td>Services</td>\n",
       "      <td>2023-04-25T09:00:14.283Z</td>\n",
       "      <td>NaN</td>\n",
       "      <td>NaN</td>\n",
       "      <td>NaN</td>\n",
       "      <td>Description des variables des différents\\n    ...</td>\n",
       "      <td>[]</td>\n",
       "      <td>NaN</td>\n",
       "    </tr>\n",
       "    <tr>\n",
       "      <th>3</th>\n",
       "      <td>Il ne faut pas confondre l'arrondissement, sub...</td>\n",
       "      <td>https://www.insee.fr/fr/information/1303686</td>\n",
       "      <td>Recensement de la population de 2006 à 2020</td>\n",
       "      <td>1303686</td>\n",
       "      <td>Services</td>\n",
       "      <td>2023-09-06T06:37:14.496Z</td>\n",
       "      <td>NaN</td>\n",
       "      <td>NaN</td>\n",
       "      <td>NaN</td>\n",
       "      <td>Description des variables des différents\\n    ...</td>\n",
       "      <td>[]</td>\n",
       "      <td>NaN</td>\n",
       "    </tr>\n",
       "    <tr>\n",
       "      <th>4</th>\n",
       "      <td>En 2018, l’économie française ralentit: le pro...</td>\n",
       "      <td>https://www.insee.fr/fr/statistiques/4174895</td>\n",
       "      <td>En 2018, l’économie française ralentit, après ...</td>\n",
       "      <td>4174895</td>\n",
       "      <td>Publications grand public</td>\n",
       "      <td>2019-06-28T16:00:00Z</td>\n",
       "      <td>['Évolution et structure de la population']</td>\n",
       "      <td>L'économie française - Comptes et dossiers</td>\n",
       "      <td>France</td>\n",
       "      <td>Figure 1 - Contribution des principaux agrégat...</td>\n",
       "      <td>['Victor\\xa0Barry', 'Thibault Cruzet', 'Domini...</td>\n",
       "      <td>NaN</td>\n",
       "    </tr>\n",
       "  </tbody>\n",
       "</table>\n",
       "</div>"
      ],
      "text/plain": [
       "                                             content  \\\n",
       "0  La Base tous salariés (BTS), extraite de la Dé...   \n",
       "1  En France, en mars-avril 2020, un surcroît de ...   \n",
       "2  L'Insee a conçu une base historique des Recens...   \n",
       "3  Il ne faut pas confondre l'arrondissement, sub...   \n",
       "4  En 2018, l’économie française ralentit: le pro...   \n",
       "\n",
       "                                         source  \\\n",
       "0   https://www.insee.fr/fr/information/2407785   \n",
       "1  https://www.insee.fr/fr/statistiques/4797670   \n",
       "2   https://www.insee.fr/fr/information/1303688   \n",
       "3   https://www.insee.fr/fr/information/1303686   \n",
       "4  https://www.insee.fr/fr/statistiques/4174895   \n",
       "\n",
       "                                               title  insee_id  \\\n",
       "0                                 Base Tous Salariés   2407785   \n",
       "1  Les inégalités sociales à l’épreuve de la cris...   4797670   \n",
       "2  RP Historiques et Données harmonisées des rece...   1303688   \n",
       "3        Recensement de la population de 2006 à 2020   1303686   \n",
       "4  En 2018, l’économie française ralentit, après ...   4174895   \n",
       "\n",
       "                  categories            date_diffusion  \\\n",
       "0                   Services  2023-10-03T12:04:14.154Z   \n",
       "1  Publications grand public  2020-12-03T17:00:25.538Z   \n",
       "2                   Services  2023-04-25T09:00:14.283Z   \n",
       "3                   Services  2023-09-06T06:37:14.496Z   \n",
       "4  Publications grand public      2019-06-28T16:00:00Z   \n",
       "\n",
       "                                           themes  \\\n",
       "0                                             NaN   \n",
       "1  [\"Revenus – Niveaux de vie – Pouvoir d'achat\"]   \n",
       "2                                             NaN   \n",
       "3                                             NaN   \n",
       "4     ['Évolution et structure de la population']   \n",
       "\n",
       "                                  collections libelleAffichageGeo  \\\n",
       "0                                         NaN                 NaN   \n",
       "1                     France, portrait social              France   \n",
       "2                                         NaN                 NaN   \n",
       "3                                         NaN                 NaN   \n",
       "4  L'économie française - Comptes et dossiers              France   \n",
       "\n",
       "                                         intertitres  \\\n",
       "0  Description des variables des différents fichi...   \n",
       "1  Décrire au mieux l’impact de la crise sanitair...   \n",
       "2  Description des variables des différents\\n    ...   \n",
       "3  Description des variables des différents\\n    ...   \n",
       "4  Figure 1 - Contribution des principaux agrégat...   \n",
       "\n",
       "                                             authors subtitle  \n",
       "0                                                 []      BTS  \n",
       "1  ['Meriam Barhoumi (Depp)', 'Anne Jonchery', 'P...      NaN  \n",
       "2                                                 []      NaN  \n",
       "3                                                 []      NaN  \n",
       "4  ['Victor\\xa0Barry', 'Thibault Cruzet', 'Domini...      NaN  "
      ]
     },
     "metadata": {},
     "output_type": "display_data"
    }
   ],
   "source": [
    "display(test.head())\n",
    "display(data.head())"
   ]
  },
  {
   "cell_type": "code",
   "execution_count": 4,
   "id": "0a4754fe",
   "metadata": {},
   "outputs": [
    {
     "name": "stderr",
     "output_type": "stream",
     "text": [
      "2024-07-01 16:55:50,770 - INFO - Loading faiss with AVX512 support.\n",
      "2024-07-01 16:55:50,798 - INFO - Successfully loaded faiss with AVX512 support.\n",
      "2024-07-01 16:55:51,857 - INFO - Start of evaluation run for dataset: the_df_dataset and configuration: test1\n",
      "2024-07-01 16:55:51,944 - INFO - The database will be stored in ./data/chroma_db\n",
      "2024-07-01 16:55:51,946 - INFO - Building the list of Document objects\n",
      "--- Logging error ---\n",
      "Traceback (most recent call last):\n",
      "  File \"/opt/mamba/lib/python3.12/logging/__init__.py\", line 1160, in emit\n",
      "    msg = self.format(record)\n",
      "          ^^^^^^^^^^^^^^^^^^^\n",
      "  File \"/opt/mamba/lib/python3.12/logging/__init__.py\", line 999, in format\n",
      "    return fmt.format(record)\n",
      "           ^^^^^^^^^^^^^^^^^^\n",
      "  File \"/opt/mamba/lib/python3.12/logging/__init__.py\", line 703, in format\n",
      "    record.message = record.getMessage()\n",
      "                     ^^^^^^^^^^^^^^^^^^^\n",
      "  File \"/opt/mamba/lib/python3.12/logging/__init__.py\", line 392, in getMessage\n",
      "    msg = msg % self.args\n",
      "          ~~~~^~~~~~~~~~~\n",
      "TypeError: not all arguments converted during string formatting\n",
      "Call stack:\n",
      "  File \"<frozen runpy>\", line 198, in _run_module_as_main\n",
      "  File \"<frozen runpy>\", line 88, in _run_code\n",
      "  File \"/opt/mamba/lib/python3.12/site-packages/ipykernel_launcher.py\", line 18, in <module>\n",
      "    app.launch_new_instance()\n",
      "  File \"/opt/mamba/lib/python3.12/site-packages/traitlets/config/application.py\", line 1075, in launch_instance\n",
      "    app.start()\n",
      "  File \"/opt/mamba/lib/python3.12/site-packages/ipykernel/kernelapp.py\", line 739, in start\n",
      "    self.io_loop.start()\n",
      "  File \"/opt/mamba/lib/python3.12/site-packages/tornado/platform/asyncio.py\", line 205, in start\n",
      "    self.asyncio_loop.run_forever()\n",
      "  File \"/opt/mamba/lib/python3.12/asyncio/base_events.py\", line 641, in run_forever\n",
      "    self._run_once()\n",
      "  File \"/opt/mamba/lib/python3.12/asyncio/base_events.py\", line 1987, in _run_once\n",
      "    handle._run()\n",
      "  File \"/opt/mamba/lib/python3.12/asyncio/events.py\", line 88, in _run\n",
      "    self._context.run(self._callback, *self._args)\n",
      "  File \"/opt/mamba/lib/python3.12/site-packages/ipykernel/kernelbase.py\", line 545, in dispatch_queue\n",
      "    await self.process_one()\n",
      "  File \"/opt/mamba/lib/python3.12/site-packages/ipykernel/kernelbase.py\", line 534, in process_one\n",
      "    await dispatch(*args)\n",
      "  File \"/opt/mamba/lib/python3.12/site-packages/ipykernel/kernelbase.py\", line 437, in dispatch_shell\n",
      "    await result\n",
      "  File \"/opt/mamba/lib/python3.12/site-packages/ipykernel/ipkernel.py\", line 362, in execute_request\n",
      "    await super().execute_request(stream, ident, parent)\n",
      "  File \"/opt/mamba/lib/python3.12/site-packages/ipykernel/kernelbase.py\", line 778, in execute_request\n",
      "    reply_content = await reply_content\n",
      "  File \"/opt/mamba/lib/python3.12/site-packages/ipykernel/ipkernel.py\", line 449, in do_execute\n",
      "    res = shell.run_cell(\n",
      "  File \"/opt/mamba/lib/python3.12/site-packages/ipykernel/zmqshell.py\", line 549, in run_cell\n",
      "    return super().run_cell(*args, **kwargs)\n",
      "  File \"/opt/mamba/lib/python3.12/site-packages/IPython/core/interactiveshell.py\", line 3075, in run_cell\n",
      "    result = self._run_cell(\n",
      "  File \"/opt/mamba/lib/python3.12/site-packages/IPython/core/interactiveshell.py\", line 3130, in _run_cell\n",
      "    result = runner(coro)\n",
      "  File \"/opt/mamba/lib/python3.12/site-packages/IPython/core/async_helpers.py\", line 129, in _pseudo_sync_runner\n",
      "    coro.send(None)\n",
      "  File \"/opt/mamba/lib/python3.12/site-packages/IPython/core/interactiveshell.py\", line 3334, in run_cell_async\n",
      "    has_raised = await self.run_ast_nodes(code_ast.body, cell_name,\n",
      "  File \"/opt/mamba/lib/python3.12/site-packages/IPython/core/interactiveshell.py\", line 3517, in run_ast_nodes\n",
      "    if await self.run_code(code, result, async_=asy):\n",
      "  File \"/opt/mamba/lib/python3.12/site-packages/IPython/core/interactiveshell.py\", line 3577, in run_code\n",
      "    exec(code_obj, self.user_global_ns, self.user_ns)\n",
      "  File \"/tmp/ipykernel_41611/1244248814.py\", line 49, in <module>\n",
      "    results = RetrievalEvaluator.run(\n",
      "  File \"/home/onyxia/work/llm-open-data-insee/notebooks/../src/evaluation/retrieval_evaluator.py\", line 107, in run\n",
      "    vector_db = build_vector_database(\n",
      "  File \"/home/onyxia/work/llm-open-data-insee/notebooks/../src/evaluation/retrieval_evaluator.py\", line 75, in build_vector_database\n",
      "    vector_db = build_database_from_dataframe(\n",
      "  File \"/home/onyxia/work/llm-open-data-insee/notebooks/../src/db_building/build_database.py\", line 52, in build_database_from_dataframe\n",
      "    all_splits = build_documents_from_dataframe(\n",
      "  File \"/home/onyxia/work/llm-open-data-insee/notebooks/../src/doc_building/build_documents_from_dataframe.py\", line 41, in build_documents_from_dataframe\n",
      "    logging.info(\"chunk size : \", chunk_size)\n",
      "Message: 'chunk size : '\n",
      "Arguments: (512,)\n",
      "--- Logging error ---\n",
      "Traceback (most recent call last):\n",
      "  File \"/opt/mamba/lib/python3.12/logging/__init__.py\", line 1160, in emit\n",
      "    msg = self.format(record)\n",
      "          ^^^^^^^^^^^^^^^^^^^\n",
      "  File \"/opt/mamba/lib/python3.12/logging/__init__.py\", line 999, in format\n",
      "    return fmt.format(record)\n",
      "           ^^^^^^^^^^^^^^^^^^\n",
      "  File \"/opt/mamba/lib/python3.12/logging/__init__.py\", line 703, in format\n",
      "    record.message = record.getMessage()\n",
      "                     ^^^^^^^^^^^^^^^^^^^\n",
      "  File \"/opt/mamba/lib/python3.12/logging/__init__.py\", line 392, in getMessage\n",
      "    msg = msg % self.args\n",
      "          ~~~~^~~~~~~~~~~\n",
      "TypeError: not all arguments converted during string formatting\n",
      "Call stack:\n",
      "  File \"<frozen runpy>\", line 198, in _run_module_as_main\n",
      "  File \"<frozen runpy>\", line 88, in _run_code\n",
      "  File \"/opt/mamba/lib/python3.12/site-packages/ipykernel_launcher.py\", line 18, in <module>\n",
      "    app.launch_new_instance()\n",
      "  File \"/opt/mamba/lib/python3.12/site-packages/traitlets/config/application.py\", line 1075, in launch_instance\n",
      "    app.start()\n",
      "  File \"/opt/mamba/lib/python3.12/site-packages/ipykernel/kernelapp.py\", line 739, in start\n",
      "    self.io_loop.start()\n",
      "  File \"/opt/mamba/lib/python3.12/site-packages/tornado/platform/asyncio.py\", line 205, in start\n",
      "    self.asyncio_loop.run_forever()\n",
      "  File \"/opt/mamba/lib/python3.12/asyncio/base_events.py\", line 641, in run_forever\n",
      "    self._run_once()\n",
      "  File \"/opt/mamba/lib/python3.12/asyncio/base_events.py\", line 1987, in _run_once\n",
      "    handle._run()\n",
      "  File \"/opt/mamba/lib/python3.12/asyncio/events.py\", line 88, in _run\n",
      "    self._context.run(self._callback, *self._args)\n",
      "  File \"/opt/mamba/lib/python3.12/site-packages/ipykernel/kernelbase.py\", line 545, in dispatch_queue\n",
      "    await self.process_one()\n",
      "  File \"/opt/mamba/lib/python3.12/site-packages/ipykernel/kernelbase.py\", line 534, in process_one\n",
      "    await dispatch(*args)\n",
      "  File \"/opt/mamba/lib/python3.12/site-packages/ipykernel/kernelbase.py\", line 437, in dispatch_shell\n",
      "    await result\n",
      "  File \"/opt/mamba/lib/python3.12/site-packages/ipykernel/ipkernel.py\", line 362, in execute_request\n",
      "    await super().execute_request(stream, ident, parent)\n",
      "  File \"/opt/mamba/lib/python3.12/site-packages/ipykernel/kernelbase.py\", line 778, in execute_request\n",
      "    reply_content = await reply_content\n",
      "  File \"/opt/mamba/lib/python3.12/site-packages/ipykernel/ipkernel.py\", line 449, in do_execute\n",
      "    res = shell.run_cell(\n",
      "  File \"/opt/mamba/lib/python3.12/site-packages/ipykernel/zmqshell.py\", line 549, in run_cell\n",
      "    return super().run_cell(*args, **kwargs)\n",
      "  File \"/opt/mamba/lib/python3.12/site-packages/IPython/core/interactiveshell.py\", line 3075, in run_cell\n",
      "    result = self._run_cell(\n",
      "  File \"/opt/mamba/lib/python3.12/site-packages/IPython/core/interactiveshell.py\", line 3130, in _run_cell\n",
      "    result = runner(coro)\n",
      "  File \"/opt/mamba/lib/python3.12/site-packages/IPython/core/async_helpers.py\", line 129, in _pseudo_sync_runner\n",
      "    coro.send(None)\n",
      "  File \"/opt/mamba/lib/python3.12/site-packages/IPython/core/interactiveshell.py\", line 3334, in run_cell_async\n",
      "    has_raised = await self.run_ast_nodes(code_ast.body, cell_name,\n",
      "  File \"/opt/mamba/lib/python3.12/site-packages/IPython/core/interactiveshell.py\", line 3517, in run_ast_nodes\n",
      "    if await self.run_code(code, result, async_=asy):\n",
      "  File \"/opt/mamba/lib/python3.12/site-packages/IPython/core/interactiveshell.py\", line 3577, in run_code\n",
      "    exec(code_obj, self.user_global_ns, self.user_ns)\n",
      "  File \"/tmp/ipykernel_41611/1244248814.py\", line 49, in <module>\n",
      "    results = RetrievalEvaluator.run(\n",
      "  File \"/home/onyxia/work/llm-open-data-insee/notebooks/../src/evaluation/retrieval_evaluator.py\", line 107, in run\n",
      "    vector_db = build_vector_database(\n",
      "  File \"/home/onyxia/work/llm-open-data-insee/notebooks/../src/evaluation/retrieval_evaluator.py\", line 75, in build_vector_database\n",
      "    vector_db = build_database_from_dataframe(\n",
      "  File \"/home/onyxia/work/llm-open-data-insee/notebooks/../src/db_building/build_database.py\", line 52, in build_database_from_dataframe\n",
      "    all_splits = build_documents_from_dataframe(\n",
      "  File \"/home/onyxia/work/llm-open-data-insee/notebooks/../src/doc_building/build_documents_from_dataframe.py\", line 42, in build_documents_from_dataframe\n",
      "    logging.info(\"chunk overlap size : \", chunk_overlap)\n",
      "Message: 'chunk overlap size : '\n",
      "Arguments: (51,)\n",
      "Token indices sequence length is longer than the specified maximum sequence length for this model (549 > 512). Running this sequence through the model will result in indexing errors\n",
      "2024-07-01 16:56:00,973 - INFO - Number of created chuncks : 2757 in the Vector Database\n",
      "2024-07-01 16:56:01,164 - INFO - Storing the Document objects\n",
      "2024-07-01 16:56:01,166 - INFO - Load pretrained SentenceTransformer: OrdalieTech/Solon-embeddings-large-0.1\n",
      "2024-07-01 16:56:03,425 - INFO - Anonymized telemetry enabled. See                     https://docs.trychroma.com/telemetry for more information.\n",
      "2024-07-01 16:56:45,513 - INFO - The database has been built\n",
      "2024-07-01 16:56:46,855 - INFO - Use pytorch device: cuda\n"
     ]
    },
    {
     "data": {
      "application/vnd.jupyter.widget-view+json": {
       "model_id": "bc9d714b81554a1b962610e8158126ec",
       "version_major": 2,
       "version_minor": 0
      },
      "text/plain": [
       "Batches:   0%|          | 0/2 [00:00<?, ?it/s]"
      ]
     },
     "metadata": {},
     "output_type": "display_data"
    },
    {
     "data": {
      "application/vnd.jupyter.widget-view+json": {
       "model_id": "903912732f9c4bb887a97dae42358302",
       "version_major": 2,
       "version_minor": 0
      },
      "text/plain": [
       "Batches:   0%|          | 0/2 [00:00<?, ?it/s]"
      ]
     },
     "metadata": {},
     "output_type": "display_data"
    },
    {
     "data": {
      "application/vnd.jupyter.widget-view+json": {
       "model_id": "3433dcec1f2f4efdaf4c9a495d8b9a9a",
       "version_major": 2,
       "version_minor": 0
      },
      "text/plain": [
       "Batches:   0%|          | 0/2 [00:00<?, ?it/s]"
      ]
     },
     "metadata": {},
     "output_type": "display_data"
    },
    {
     "data": {
      "application/vnd.jupyter.widget-view+json": {
       "model_id": "27485b1b56ce4441a91fb0a12fd39461",
       "version_major": 2,
       "version_minor": 0
      },
      "text/plain": [
       "Batches:   0%|          | 0/2 [00:00<?, ?it/s]"
      ]
     },
     "metadata": {},
     "output_type": "display_data"
    },
    {
     "data": {
      "application/vnd.jupyter.widget-view+json": {
       "model_id": "e1bcf45b29ff4181b71972fd7ca2da23",
       "version_major": 2,
       "version_minor": 0
      },
      "text/plain": [
       "Batches:   0%|          | 0/2 [00:00<?, ?it/s]"
      ]
     },
     "metadata": {},
     "output_type": "display_data"
    },
    {
     "data": {
      "application/vnd.jupyter.widget-view+json": {
       "model_id": "3c73e6f181814f33831ce8dd605d968b",
       "version_major": 2,
       "version_minor": 0
      },
      "text/plain": [
       "Batches:   0%|          | 0/2 [00:00<?, ?it/s]"
      ]
     },
     "metadata": {},
     "output_type": "display_data"
    },
    {
     "data": {
      "application/vnd.jupyter.widget-view+json": {
       "model_id": "60e72cbcb5d941c082f5c90dbb19b8ef",
       "version_major": 2,
       "version_minor": 0
      },
      "text/plain": [
       "Batches:   0%|          | 0/2 [00:00<?, ?it/s]"
      ]
     },
     "metadata": {},
     "output_type": "display_data"
    },
    {
     "data": {
      "application/vnd.jupyter.widget-view+json": {
       "model_id": "298b4a4c373843c18faf0ea37365e092",
       "version_major": 2,
       "version_minor": 0
      },
      "text/plain": [
       "Batches:   0%|          | 0/2 [00:00<?, ?it/s]"
      ]
     },
     "metadata": {},
     "output_type": "display_data"
    },
    {
     "data": {
      "application/vnd.jupyter.widget-view+json": {
       "model_id": "65ce67e9b2d94eb0a8cb418b792ea35f",
       "version_major": 2,
       "version_minor": 0
      },
      "text/plain": [
       "Batches:   0%|          | 0/2 [00:00<?, ?it/s]"
      ]
     },
     "metadata": {},
     "output_type": "display_data"
    },
    {
     "data": {
      "application/vnd.jupyter.widget-view+json": {
       "model_id": "3cd08c0fd3e24efd94ec034bee38e605",
       "version_major": 2,
       "version_minor": 0
      },
      "text/plain": [
       "Batches:   0%|          | 0/2 [00:00<?, ?it/s]"
      ]
     },
     "metadata": {},
     "output_type": "display_data"
    },
    {
     "data": {
      "application/vnd.jupyter.widget-view+json": {
       "model_id": "2947f72697f344c59c5d7effeef6ffe9",
       "version_major": 2,
       "version_minor": 0
      },
      "text/plain": [
       "Batches:   0%|          | 0/2 [00:00<?, ?it/s]"
      ]
     },
     "metadata": {},
     "output_type": "display_data"
    },
    {
     "data": {
      "application/vnd.jupyter.widget-view+json": {
       "model_id": "da3108c95fbd4e97a1c6204ae92b55dd",
       "version_major": 2,
       "version_minor": 0
      },
      "text/plain": [
       "Batches:   0%|          | 0/2 [00:00<?, ?it/s]"
      ]
     },
     "metadata": {},
     "output_type": "display_data"
    },
    {
     "data": {
      "application/vnd.jupyter.widget-view+json": {
       "model_id": "e6ed7e5a64c14cea8b7fdf47a4c04630",
       "version_major": 2,
       "version_minor": 0
      },
      "text/plain": [
       "Batches:   0%|          | 0/2 [00:00<?, ?it/s]"
      ]
     },
     "metadata": {},
     "output_type": "display_data"
    },
    {
     "data": {
      "application/vnd.jupyter.widget-view+json": {
       "model_id": "a9f142dd0c1d45a89f61ee542d30b690",
       "version_major": 2,
       "version_minor": 0
      },
      "text/plain": [
       "Batches:   0%|          | 0/2 [00:00<?, ?it/s]"
      ]
     },
     "metadata": {},
     "output_type": "display_data"
    },
    {
     "data": {
      "application/vnd.jupyter.widget-view+json": {
       "model_id": "d02092d69c714ff2b161748a34e7ebdb",
       "version_major": 2,
       "version_minor": 0
      },
      "text/plain": [
       "Batches:   0%|          | 0/2 [00:00<?, ?it/s]"
      ]
     },
     "metadata": {},
     "output_type": "display_data"
    },
    {
     "data": {
      "application/vnd.jupyter.widget-view+json": {
       "model_id": "dfa52aa1be44462fb02d5754f0d66935",
       "version_major": 2,
       "version_minor": 0
      },
      "text/plain": [
       "Batches:   0%|          | 0/2 [00:00<?, ?it/s]"
      ]
     },
     "metadata": {},
     "output_type": "display_data"
    },
    {
     "data": {
      "application/vnd.jupyter.widget-view+json": {
       "model_id": "d05a27a8ac284268ad6ac1c16c48c2fa",
       "version_major": 2,
       "version_minor": 0
      },
      "text/plain": [
       "Batches:   0%|          | 0/2 [00:00<?, ?it/s]"
      ]
     },
     "metadata": {},
     "output_type": "display_data"
    },
    {
     "data": {
      "application/vnd.jupyter.widget-view+json": {
       "model_id": "ec822ea9f64f402cb3094d0a5f057f8f",
       "version_major": 2,
       "version_minor": 0
      },
      "text/plain": [
       "Batches:   0%|          | 0/2 [00:00<?, ?it/s]"
      ]
     },
     "metadata": {},
     "output_type": "display_data"
    },
    {
     "data": {
      "application/vnd.jupyter.widget-view+json": {
       "model_id": "d75c8ace8b624ef185bd27eb46af5be4",
       "version_major": 2,
       "version_minor": 0
      },
      "text/plain": [
       "Batches:   0%|          | 0/2 [00:00<?, ?it/s]"
      ]
     },
     "metadata": {},
     "output_type": "display_data"
    },
    {
     "data": {
      "application/vnd.jupyter.widget-view+json": {
       "model_id": "054ee6f5c5344a97b4a3db72aabbac47",
       "version_major": 2,
       "version_minor": 0
      },
      "text/plain": [
       "Batches:   0%|          | 0/2 [00:00<?, ?it/s]"
      ]
     },
     "metadata": {},
     "output_type": "display_data"
    },
    {
     "data": {
      "application/vnd.jupyter.widget-view+json": {
       "model_id": "999886f5734b4c4b81b67653cfe59580",
       "version_major": 2,
       "version_minor": 0
      },
      "text/plain": [
       "Batches:   0%|          | 0/2 [00:00<?, ?it/s]"
      ]
     },
     "metadata": {},
     "output_type": "display_data"
    },
    {
     "data": {
      "application/vnd.jupyter.widget-view+json": {
       "model_id": "96217b80214c49bc9f4ce1a359ac1ebf",
       "version_major": 2,
       "version_minor": 0
      },
      "text/plain": [
       "Batches:   0%|          | 0/2 [00:00<?, ?it/s]"
      ]
     },
     "metadata": {},
     "output_type": "display_data"
    },
    {
     "data": {
      "application/vnd.jupyter.widget-view+json": {
       "model_id": "4d47584ae4d24a1681f445fc7add4192",
       "version_major": 2,
       "version_minor": 0
      },
      "text/plain": [
       "Batches:   0%|          | 0/2 [00:00<?, ?it/s]"
      ]
     },
     "metadata": {},
     "output_type": "display_data"
    },
    {
     "data": {
      "application/vnd.jupyter.widget-view+json": {
       "model_id": "7cc60d0ca4f641d78981d8d1dffea034",
       "version_major": 2,
       "version_minor": 0
      },
      "text/plain": [
       "Batches:   0%|          | 0/2 [00:00<?, ?it/s]"
      ]
     },
     "metadata": {},
     "output_type": "display_data"
    },
    {
     "data": {
      "application/vnd.jupyter.widget-view+json": {
       "model_id": "f185ed2b20c946508e82493deeb7dd61",
       "version_major": 2,
       "version_minor": 0
      },
      "text/plain": [
       "Batches:   0%|          | 0/2 [00:00<?, ?it/s]"
      ]
     },
     "metadata": {},
     "output_type": "display_data"
    },
    {
     "data": {
      "application/vnd.jupyter.widget-view+json": {
       "model_id": "fe9670405590413c850fbeff69fc7afe",
       "version_major": 2,
       "version_minor": 0
      },
      "text/plain": [
       "Batches:   0%|          | 0/2 [00:00<?, ?it/s]"
      ]
     },
     "metadata": {},
     "output_type": "display_data"
    },
    {
     "data": {
      "application/vnd.jupyter.widget-view+json": {
       "model_id": "bf7151259d454f2694f99c5282229ce5",
       "version_major": 2,
       "version_minor": 0
      },
      "text/plain": [
       "Batches:   0%|          | 0/2 [00:00<?, ?it/s]"
      ]
     },
     "metadata": {},
     "output_type": "display_data"
    },
    {
     "data": {
      "application/vnd.jupyter.widget-view+json": {
       "model_id": "03ab345948df454da88f35ccf7837af7",
       "version_major": 2,
       "version_minor": 0
      },
      "text/plain": [
       "Batches:   0%|          | 0/2 [00:00<?, ?it/s]"
      ]
     },
     "metadata": {},
     "output_type": "display_data"
    },
    {
     "data": {
      "application/vnd.jupyter.widget-view+json": {
       "model_id": "87868662e87544738663a49c722149d2",
       "version_major": 2,
       "version_minor": 0
      },
      "text/plain": [
       "Batches:   0%|          | 0/2 [00:00<?, ?it/s]"
      ]
     },
     "metadata": {},
     "output_type": "display_data"
    },
    {
     "data": {
      "application/vnd.jupyter.widget-view+json": {
       "model_id": "3ed7167d16c542648e3eb32f8a6ee7b1",
       "version_major": 2,
       "version_minor": 0
      },
      "text/plain": [
       "Batches:   0%|          | 0/2 [00:00<?, ?it/s]"
      ]
     },
     "metadata": {},
     "output_type": "display_data"
    },
    {
     "data": {
      "application/vnd.jupyter.widget-view+json": {
       "model_id": "592187f61c764408a2a72250db24eccb",
       "version_major": 2,
       "version_minor": 0
      },
      "text/plain": [
       "Batches:   0%|          | 0/2 [00:00<?, ?it/s]"
      ]
     },
     "metadata": {},
     "output_type": "display_data"
    },
    {
     "data": {
      "application/vnd.jupyter.widget-view+json": {
       "model_id": "99a7cbec72714bab8de4736f85037256",
       "version_major": 2,
       "version_minor": 0
      },
      "text/plain": [
       "Batches:   0%|          | 0/2 [00:00<?, ?it/s]"
      ]
     },
     "metadata": {},
     "output_type": "display_data"
    },
    {
     "data": {
      "application/vnd.jupyter.widget-view+json": {
       "model_id": "86d642d1501649e5aa5b2d7f588de81a",
       "version_major": 2,
       "version_minor": 0
      },
      "text/plain": [
       "Batches:   0%|          | 0/2 [00:00<?, ?it/s]"
      ]
     },
     "metadata": {},
     "output_type": "display_data"
    },
    {
     "data": {
      "application/vnd.jupyter.widget-view+json": {
       "model_id": "6bd76bde91fd4a378e5502d0ab860a06",
       "version_major": 2,
       "version_minor": 0
      },
      "text/plain": [
       "Batches:   0%|          | 0/2 [00:00<?, ?it/s]"
      ]
     },
     "metadata": {},
     "output_type": "display_data"
    },
    {
     "data": {
      "application/vnd.jupyter.widget-view+json": {
       "model_id": "08bdaf3225e2460781e67cad0926032c",
       "version_major": 2,
       "version_minor": 0
      },
      "text/plain": [
       "Batches:   0%|          | 0/2 [00:00<?, ?it/s]"
      ]
     },
     "metadata": {},
     "output_type": "display_data"
    },
    {
     "data": {
      "application/vnd.jupyter.widget-view+json": {
       "model_id": "fda394c4bf174bd38e3ba6dff0d59ff5",
       "version_major": 2,
       "version_minor": 0
      },
      "text/plain": [
       "Batches:   0%|          | 0/2 [00:00<?, ?it/s]"
      ]
     },
     "metadata": {},
     "output_type": "display_data"
    },
    {
     "data": {
      "application/vnd.jupyter.widget-view+json": {
       "model_id": "e78adcb29b2d4484bc9c3858f2c9aa47",
       "version_major": 2,
       "version_minor": 0
      },
      "text/plain": [
       "Batches:   0%|          | 0/2 [00:00<?, ?it/s]"
      ]
     },
     "metadata": {},
     "output_type": "display_data"
    },
    {
     "data": {
      "application/vnd.jupyter.widget-view+json": {
       "model_id": "ee33723b3cd640068db8530b00a93ca0",
       "version_major": 2,
       "version_minor": 0
      },
      "text/plain": [
       "Batches:   0%|          | 0/2 [00:00<?, ?it/s]"
      ]
     },
     "metadata": {},
     "output_type": "display_data"
    },
    {
     "data": {
      "application/vnd.jupyter.widget-view+json": {
       "model_id": "0abeeb5d3e1841748e891a6628104586",
       "version_major": 2,
       "version_minor": 0
      },
      "text/plain": [
       "Batches:   0%|          | 0/2 [00:00<?, ?it/s]"
      ]
     },
     "metadata": {},
     "output_type": "display_data"
    },
    {
     "data": {
      "application/vnd.jupyter.widget-view+json": {
       "model_id": "abac4632a6a54b6ebf0702f96c3ce7fc",
       "version_major": 2,
       "version_minor": 0
      },
      "text/plain": [
       "Batches:   0%|          | 0/2 [00:00<?, ?it/s]"
      ]
     },
     "metadata": {},
     "output_type": "display_data"
    },
    {
     "data": {
      "application/vnd.jupyter.widget-view+json": {
       "model_id": "e30028b0913c47f6a1425180320498d6",
       "version_major": 2,
       "version_minor": 0
      },
      "text/plain": [
       "Batches:   0%|          | 0/2 [00:00<?, ?it/s]"
      ]
     },
     "metadata": {},
     "output_type": "display_data"
    },
    {
     "data": {
      "application/vnd.jupyter.widget-view+json": {
       "model_id": "1b34f2fffd5f46a68ed313de95a29e41",
       "version_major": 2,
       "version_minor": 0
      },
      "text/plain": [
       "Batches:   0%|          | 0/2 [00:00<?, ?it/s]"
      ]
     },
     "metadata": {},
     "output_type": "display_data"
    },
    {
     "data": {
      "application/vnd.jupyter.widget-view+json": {
       "model_id": "1f37fe6b540240cbb0da9fca3dc330bd",
       "version_major": 2,
       "version_minor": 0
      },
      "text/plain": [
       "Batches:   0%|          | 0/2 [00:00<?, ?it/s]"
      ]
     },
     "metadata": {},
     "output_type": "display_data"
    },
    {
     "data": {
      "application/vnd.jupyter.widget-view+json": {
       "model_id": "2dca95a1274c4d60b5e789620075292e",
       "version_major": 2,
       "version_minor": 0
      },
      "text/plain": [
       "Batches:   0%|          | 0/2 [00:00<?, ?it/s]"
      ]
     },
     "metadata": {},
     "output_type": "display_data"
    },
    {
     "data": {
      "application/vnd.jupyter.widget-view+json": {
       "model_id": "6f375fee8fc845d19c86a23a5d92e717",
       "version_major": 2,
       "version_minor": 0
      },
      "text/plain": [
       "Batches:   0%|          | 0/2 [00:00<?, ?it/s]"
      ]
     },
     "metadata": {},
     "output_type": "display_data"
    },
    {
     "data": {
      "application/vnd.jupyter.widget-view+json": {
       "model_id": "adc40dbfed6741b98dd18f4d6ecbe3fc",
       "version_major": 2,
       "version_minor": 0
      },
      "text/plain": [
       "Batches:   0%|          | 0/2 [00:00<?, ?it/s]"
      ]
     },
     "metadata": {},
     "output_type": "display_data"
    },
    {
     "data": {
      "application/vnd.jupyter.widget-view+json": {
       "model_id": "2aad59bff25b45919d7399a841257328",
       "version_major": 2,
       "version_minor": 0
      },
      "text/plain": [
       "Batches:   0%|          | 0/2 [00:00<?, ?it/s]"
      ]
     },
     "metadata": {},
     "output_type": "display_data"
    },
    {
     "data": {
      "application/vnd.jupyter.widget-view+json": {
       "model_id": "8cfbe8186c14438094f371625f8bb8d8",
       "version_major": 2,
       "version_minor": 0
      },
      "text/plain": [
       "Batches:   0%|          | 0/2 [00:00<?, ?it/s]"
      ]
     },
     "metadata": {},
     "output_type": "display_data"
    },
    {
     "data": {
      "application/vnd.jupyter.widget-view+json": {
       "model_id": "ba99143022b64732a5a2452c3a1d807d",
       "version_major": 2,
       "version_minor": 0
      },
      "text/plain": [
       "Batches:   0%|          | 0/2 [00:00<?, ?it/s]"
      ]
     },
     "metadata": {},
     "output_type": "display_data"
    },
    {
     "data": {
      "application/vnd.jupyter.widget-view+json": {
       "model_id": "4a42164c8da5425ba3faebe3efc82d9c",
       "version_major": 2,
       "version_minor": 0
      },
      "text/plain": [
       "Batches:   0%|          | 0/2 [00:00<?, ?it/s]"
      ]
     },
     "metadata": {},
     "output_type": "display_data"
    },
    {
     "data": {
      "application/vnd.jupyter.widget-view+json": {
       "model_id": "01af4a138ed248b5b920f53ae9ba835e",
       "version_major": 2,
       "version_minor": 0
      },
      "text/plain": [
       "Batches:   0%|          | 0/2 [00:00<?, ?it/s]"
      ]
     },
     "metadata": {},
     "output_type": "display_data"
    },
    {
     "data": {
      "application/vnd.jupyter.widget-view+json": {
       "model_id": "68783b42c3664019ada4aec58b743b43",
       "version_major": 2,
       "version_minor": 0
      },
      "text/plain": [
       "Batches:   0%|          | 0/2 [00:00<?, ?it/s]"
      ]
     },
     "metadata": {},
     "output_type": "display_data"
    },
    {
     "data": {
      "application/vnd.jupyter.widget-view+json": {
       "model_id": "93dcb925d74645828259c3bf04f433da",
       "version_major": 2,
       "version_minor": 0
      },
      "text/plain": [
       "Batches:   0%|          | 0/2 [00:00<?, ?it/s]"
      ]
     },
     "metadata": {},
     "output_type": "display_data"
    },
    {
     "data": {
      "application/vnd.jupyter.widget-view+json": {
       "model_id": "2e72a096ecd74d23bfccc82fa3cebd83",
       "version_major": 2,
       "version_minor": 0
      },
      "text/plain": [
       "Batches:   0%|          | 0/2 [00:00<?, ?it/s]"
      ]
     },
     "metadata": {},
     "output_type": "display_data"
    },
    {
     "data": {
      "application/vnd.jupyter.widget-view+json": {
       "model_id": "2b698f3df3164b42bef945ce79dad0fe",
       "version_major": 2,
       "version_minor": 0
      },
      "text/plain": [
       "Batches:   0%|          | 0/2 [00:00<?, ?it/s]"
      ]
     },
     "metadata": {},
     "output_type": "display_data"
    },
    {
     "data": {
      "application/vnd.jupyter.widget-view+json": {
       "model_id": "7d78260943cf4018aaf003a0bf3b2bd9",
       "version_major": 2,
       "version_minor": 0
      },
      "text/plain": [
       "Batches:   0%|          | 0/2 [00:00<?, ?it/s]"
      ]
     },
     "metadata": {},
     "output_type": "display_data"
    },
    {
     "data": {
      "application/vnd.jupyter.widget-view+json": {
       "model_id": "af35677d5c62426c8b4a2ae46f97e695",
       "version_major": 2,
       "version_minor": 0
      },
      "text/plain": [
       "Batches:   0%|          | 0/2 [00:00<?, ?it/s]"
      ]
     },
     "metadata": {},
     "output_type": "display_data"
    },
    {
     "data": {
      "application/vnd.jupyter.widget-view+json": {
       "model_id": "c41fc935eac94bb6887fb3657d7233e4",
       "version_major": 2,
       "version_minor": 0
      },
      "text/plain": [
       "Batches:   0%|          | 0/2 [00:00<?, ?it/s]"
      ]
     },
     "metadata": {},
     "output_type": "display_data"
    },
    {
     "data": {
      "application/vnd.jupyter.widget-view+json": {
       "model_id": "da0060caef3f415d98cf62440b903ad8",
       "version_major": 2,
       "version_minor": 0
      },
      "text/plain": [
       "Batches:   0%|          | 0/2 [00:00<?, ?it/s]"
      ]
     },
     "metadata": {},
     "output_type": "display_data"
    },
    {
     "data": {
      "application/vnd.jupyter.widget-view+json": {
       "model_id": "71ecba4ea9634554b1064c9f5d147aac",
       "version_major": 2,
       "version_minor": 0
      },
      "text/plain": [
       "Batches:   0%|          | 0/2 [00:00<?, ?it/s]"
      ]
     },
     "metadata": {},
     "output_type": "display_data"
    },
    {
     "data": {
      "application/vnd.jupyter.widget-view+json": {
       "model_id": "c117743abfe64808968889c6ce38c82f",
       "version_major": 2,
       "version_minor": 0
      },
      "text/plain": [
       "Batches:   0%|          | 0/2 [00:00<?, ?it/s]"
      ]
     },
     "metadata": {},
     "output_type": "display_data"
    },
    {
     "data": {
      "application/vnd.jupyter.widget-view+json": {
       "model_id": "3d46cf5471a0497398bb10c13c6e8ba8",
       "version_major": 2,
       "version_minor": 0
      },
      "text/plain": [
       "Batches:   0%|          | 0/2 [00:00<?, ?it/s]"
      ]
     },
     "metadata": {},
     "output_type": "display_data"
    },
    {
     "data": {
      "application/vnd.jupyter.widget-view+json": {
       "model_id": "65e09ec73f504801aa277b6b338a0bc1",
       "version_major": 2,
       "version_minor": 0
      },
      "text/plain": [
       "Batches:   0%|          | 0/2 [00:00<?, ?it/s]"
      ]
     },
     "metadata": {},
     "output_type": "display_data"
    },
    {
     "data": {
      "application/vnd.jupyter.widget-view+json": {
       "model_id": "eeb61d9bc73040fcb27bcf5bb9f7a303",
       "version_major": 2,
       "version_minor": 0
      },
      "text/plain": [
       "Batches:   0%|          | 0/2 [00:00<?, ?it/s]"
      ]
     },
     "metadata": {},
     "output_type": "display_data"
    },
    {
     "data": {
      "application/vnd.jupyter.widget-view+json": {
       "model_id": "d445bb90704345968281cda69832729e",
       "version_major": 2,
       "version_minor": 0
      },
      "text/plain": [
       "Batches:   0%|          | 0/2 [00:00<?, ?it/s]"
      ]
     },
     "metadata": {},
     "output_type": "display_data"
    },
    {
     "data": {
      "application/vnd.jupyter.widget-view+json": {
       "model_id": "8ad49d82aba64490be3b4745fd771ba7",
       "version_major": 2,
       "version_minor": 0
      },
      "text/plain": [
       "Batches:   0%|          | 0/2 [00:00<?, ?it/s]"
      ]
     },
     "metadata": {},
     "output_type": "display_data"
    },
    {
     "data": {
      "application/vnd.jupyter.widget-view+json": {
       "model_id": "756755ae004447769a8cf84138e52501",
       "version_major": 2,
       "version_minor": 0
      },
      "text/plain": [
       "Batches:   0%|          | 0/2 [00:00<?, ?it/s]"
      ]
     },
     "metadata": {},
     "output_type": "display_data"
    },
    {
     "data": {
      "application/vnd.jupyter.widget-view+json": {
       "model_id": "381478db544e4a70b0ebd079dad78e1f",
       "version_major": 2,
       "version_minor": 0
      },
      "text/plain": [
       "Batches:   0%|          | 0/2 [00:00<?, ?it/s]"
      ]
     },
     "metadata": {},
     "output_type": "display_data"
    },
    {
     "data": {
      "application/vnd.jupyter.widget-view+json": {
       "model_id": "3372b9e2486948eda077a9c1ab30d685",
       "version_major": 2,
       "version_minor": 0
      },
      "text/plain": [
       "Batches:   0%|          | 0/2 [00:00<?, ?it/s]"
      ]
     },
     "metadata": {},
     "output_type": "display_data"
    },
    {
     "data": {
      "application/vnd.jupyter.widget-view+json": {
       "model_id": "891d1da9a4ca49b1b9d3b6f29cb9a9b4",
       "version_major": 2,
       "version_minor": 0
      },
      "text/plain": [
       "Batches:   0%|          | 0/2 [00:00<?, ?it/s]"
      ]
     },
     "metadata": {},
     "output_type": "display_data"
    },
    {
     "data": {
      "application/vnd.jupyter.widget-view+json": {
       "model_id": "bc6e96ab8eb446d29d20061b1e228c45",
       "version_major": 2,
       "version_minor": 0
      },
      "text/plain": [
       "Batches:   0%|          | 0/2 [00:00<?, ?it/s]"
      ]
     },
     "metadata": {},
     "output_type": "display_data"
    },
    {
     "data": {
      "application/vnd.jupyter.widget-view+json": {
       "model_id": "a83cb463435c4cd882f402337c074827",
       "version_major": 2,
       "version_minor": 0
      },
      "text/plain": [
       "Batches:   0%|          | 0/2 [00:00<?, ?it/s]"
      ]
     },
     "metadata": {},
     "output_type": "display_data"
    },
    {
     "data": {
      "application/vnd.jupyter.widget-view+json": {
       "model_id": "e5ee0e6a6f204ebfb12c690d9a0dae81",
       "version_major": 2,
       "version_minor": 0
      },
      "text/plain": [
       "Batches:   0%|          | 0/2 [00:00<?, ?it/s]"
      ]
     },
     "metadata": {},
     "output_type": "display_data"
    },
    {
     "data": {
      "application/vnd.jupyter.widget-view+json": {
       "model_id": "7ca2c0783c1442129c65fbaeb5e7fb00",
       "version_major": 2,
       "version_minor": 0
      },
      "text/plain": [
       "Batches:   0%|          | 0/2 [00:00<?, ?it/s]"
      ]
     },
     "metadata": {},
     "output_type": "display_data"
    },
    {
     "data": {
      "application/vnd.jupyter.widget-view+json": {
       "model_id": "e80c2d99998f4960bfa285f052bbc3af",
       "version_major": 2,
       "version_minor": 0
      },
      "text/plain": [
       "Batches:   0%|          | 0/2 [00:00<?, ?it/s]"
      ]
     },
     "metadata": {},
     "output_type": "display_data"
    },
    {
     "data": {
      "application/vnd.jupyter.widget-view+json": {
       "model_id": "90aef95d73124d29ada0339f4bc55ff0",
       "version_major": 2,
       "version_minor": 0
      },
      "text/plain": [
       "Batches:   0%|          | 0/2 [00:00<?, ?it/s]"
      ]
     },
     "metadata": {},
     "output_type": "display_data"
    },
    {
     "data": {
      "application/vnd.jupyter.widget-view+json": {
       "model_id": "13163ec969d6430ba41ea21524c081b2",
       "version_major": 2,
       "version_minor": 0
      },
      "text/plain": [
       "Batches:   0%|          | 0/2 [00:00<?, ?it/s]"
      ]
     },
     "metadata": {},
     "output_type": "display_data"
    },
    {
     "data": {
      "application/vnd.jupyter.widget-view+json": {
       "model_id": "79778719ee66472d9f3c8a5a362c3c5f",
       "version_major": 2,
       "version_minor": 0
      },
      "text/plain": [
       "Batches:   0%|          | 0/2 [00:00<?, ?it/s]"
      ]
     },
     "metadata": {},
     "output_type": "display_data"
    },
    {
     "name": "stderr",
     "output_type": "stream",
     "text": [
      "0it [00:00, ?it/s]2024-07-01 16:57:19,443 - INFO -       Relevant sources have been retrieved for question 0 \n",
      "2024-07-01 16:57:19,444 - INFO -       Computing measures at level 1 in [1, 2, 3, 5, 10, 20, 30, 50]  for question 0\n",
      "2024-07-01 16:57:19,445 - INFO -       Computing measures at level 2 in [1, 2, 3, 5, 10, 20, 30, 50]  for question 0\n",
      "2024-07-01 16:57:19,445 - INFO -       Computing measures at level 3 in [1, 2, 3, 5, 10, 20, 30, 50]  for question 0\n",
      "2024-07-01 16:57:19,446 - INFO -       Computing measures at level 5 in [1, 2, 3, 5, 10, 20, 30, 50]  for question 0\n",
      "2024-07-01 16:57:19,446 - INFO -       Computing measures at level 10 in [1, 2, 3, 5, 10, 20, 30, 50]  for question 0\n",
      "2024-07-01 16:57:19,447 - INFO -       Computing measures at level 20 in [1, 2, 3, 5, 10, 20, 30, 50]  for question 0\n",
      "2024-07-01 16:57:19,447 - INFO -       Computing measures at level 30 in [1, 2, 3, 5, 10, 20, 30, 50]  for question 0\n",
      "2024-07-01 16:57:19,448 - INFO -       Computing measures at level 50 in [1, 2, 3, 5, 10, 20, 30, 50]  for question 0\n",
      "2024-07-01 16:57:19,457 - INFO -       Relevant sources have been retrieved for question 50 \n",
      "2024-07-01 16:57:19,457 - INFO -       Computing measures at level 1 in [1, 2, 3, 5, 10, 20, 30, 50]  for question 50\n",
      "2024-07-01 16:57:19,458 - INFO -       Computing measures at level 2 in [1, 2, 3, 5, 10, 20, 30, 50]  for question 50\n",
      "2024-07-01 16:57:19,459 - INFO -       Computing measures at level 3 in [1, 2, 3, 5, 10, 20, 30, 50]  for question 50\n",
      "2024-07-01 16:57:19,459 - INFO -       Computing measures at level 5 in [1, 2, 3, 5, 10, 20, 30, 50]  for question 50\n",
      "2024-07-01 16:57:19,460 - INFO -       Computing measures at level 10 in [1, 2, 3, 5, 10, 20, 30, 50]  for question 50\n",
      "2024-07-01 16:57:19,460 - INFO -       Computing measures at level 20 in [1, 2, 3, 5, 10, 20, 30, 50]  for question 50\n",
      "2024-07-01 16:57:19,460 - INFO -       Computing measures at level 30 in [1, 2, 3, 5, 10, 20, 30, 50]  for question 50\n",
      "2024-07-01 16:57:19,461 - INFO -       Computing measures at level 50 in [1, 2, 3, 5, 10, 20, 30, 50]  for question 50\n",
      "78it [00:00, 3041.58it/s]\n",
      "2024-07-01 16:57:19,466 - INFO -       length of all_individual recalls is 78\n"
     ]
    },
    {
     "name": "stdout",
     "output_type": "stream",
     "text": [
      "{'the_df_dataset': {'test1': {'recall': {1: 0.8461538461538461, 2: 0.8461538461538461, 3: 0.8461538461538461, 5: 0.8461538461538461, 10: 0.8461538461538461, 20: 0.8461538461538461, 30: 0.8461538461538461, 50: 0.8461538461538461}, 'precision': {1: 0.8461538461538461, 2: 0.4230769230769231, 3: 0.28176923076923066, 5: 0.16923076923076918, 10: 0.16923076923076918, 20: 0.16923076923076918, 30: 0.16923076923076918, 50: 0.16923076923076918}}}}\n"
     ]
    }
   ],
   "source": [
    "from evaluation import RetrievalConfiguration, RetrievalEvaluator\n",
    "\n",
    "# Define retrieval configurations\n",
    "\"\"\"eval_configs = [\n",
    "    RetrievalConfiguration(\n",
    "        name='test1',\n",
    "        database=\"chromadb\",\n",
    "        database_path=\"../data/insee_documents_sample_ref_retrieval_evaluation.csv\",\n",
    "        collection=\"test_data\",\n",
    "        embedding_model_name=\"OrdalieTech/Solon-embeddings-large-0.1\",\n",
    "        reranker_type='BM25',\n",
    "        reranker_name=None,\n",
    "        k_values=[1, 2, 3, 5, 10, 20, 30, 50]\n",
    "    ),\n",
    "    RetrievalConfiguration(\n",
    "        name='test1',\n",
    "        database=\"chromadb\",\n",
    "        database_path=\"../data/insee_documents_sample_ref_retrieval_evaluation.csv\",\n",
    "        collection=\"test_data\",\n",
    "        embedding_model_name=\"OrdalieTech/Solon-embeddings-large-0.1\",\n",
    "        reranker_type=None,\n",
    "        reranker_name=None,\n",
    "        k_values=[1, 2, 3, 5, 10, 20, 30, 50]\n",
    "    ),\n",
    "    RetrievalConfiguration(\n",
    "        name='test1',\n",
    "        database=\"chromadb\",\n",
    "        database_path=\"../data/insee_documents_sample_ref_retrieval_evaluation.csv\",\n",
    "        collection=\"test_data\",\n",
    "        embedding_model_name=\"OrdalieTech/Solon-embeddings-large-0.1\",\n",
    "        reranker_type=\"Cross-encoder\",\n",
    "        reranker_name=\"BAAI/bge-reranker-base\",\n",
    "        k_values=[1, 2, 3, 5, 10, 20, 30, 50]\n",
    "    )\n",
    "]\n",
    "\"\"\"\n",
    "eval_configs = [RetrievalConfiguration(\n",
    "        name='test1',\n",
    "        database=\"chromadb\",\n",
    "        database_path=\"../data/insee_documents_sample_ref_retrieval_evaluation.csv\",\n",
    "        collection=\"test_data\",\n",
    "        embedding_model_name=\"OrdalieTech/Solon-embeddings-large-0.1\",\n",
    "        reranker_type=\"Cross-encoder\",\n",
    "        reranker_name=\"BAAI/bge-reranker-base\",\n",
    "        k_values=[1, 2, 3, 5, 10, 15]\n",
    "    )]\n",
    "\n",
    "# Run the evaluator\n",
    "results = RetrievalEvaluator.run(\n",
    "    eval_configurations=eval_configs,\n",
    "    eval_dict=df_dict,  # Ensure 'df_dict' is a dictionary containing pandas DataFrames with the required structure\n",
    ")\n",
    "\n",
    "# Print or process results\n",
    "print(results)"
   ]
  },
  {
   "cell_type": "code",
   "execution_count": 5,
   "id": "5dcd81a1",
   "metadata": {},
   "outputs": [
    {
     "data": {
      "text/plain": [
       "{'the_df_dataset': {'test1': {'recall': {1: 0.8461538461538461,\n",
       "    2: 0.8461538461538461,\n",
       "    3: 0.8461538461538461,\n",
       "    5: 0.8461538461538461,\n",
       "    10: 0.8461538461538461,\n",
       "    20: 0.8461538461538461,\n",
       "    30: 0.8461538461538461,\n",
       "    50: 0.8461538461538461},\n",
       "   'precision': {1: 0.8461538461538461,\n",
       "    2: 0.4230769230769231,\n",
       "    3: 0.28176923076923066,\n",
       "    5: 0.16923076923076918,\n",
       "    10: 0.16923076923076918,\n",
       "    20: 0.16923076923076918,\n",
       "    30: 0.16923076923076918,\n",
       "    50: 0.16923076923076918}}}}"
      ]
     },
     "execution_count": 5,
     "metadata": {},
     "output_type": "execute_result"
    }
   ],
   "source": [
    "results"
   ]
  },
  {
   "cell_type": "raw",
   "id": "89e4bedb-263b-4fb8-9e7d-4069c6f9cfe4",
   "metadata": {
    "vscode": {
     "languageId": "raw"
    }
   },
   "source": [
    "DOC:\n",
    "docs = retriever.get()['documents']\n",
    "retriever.get()['ids']\n",
    "Document(page_content='', metadata={})\n",
    "\n",
    "db = Chroma.from_documents(docs, embedding_function, ids=ids)\n",
    "docs = db.similarity_search(query)\n",
    "print(docs[0].metadata)"
   ]
  },
  {
   "cell_type": "markdown",
   "id": "2cab10c5",
   "metadata": {},
   "source": [
    "## Test 28/06/2024 - Update Retrieval Evaluation process"
   ]
  },
  {
   "cell_type": "markdown",
   "id": "021f9ea1",
   "metadata": {},
   "source": []
  }
 ],
 "metadata": {
  "kernelspec": {
   "display_name": "Python 3 (ipykernel)",
   "language": "python",
   "name": "python3"
  },
  "language_info": {
   "codemirror_mode": {
    "name": "ipython",
    "version": 3
   },
   "file_extension": ".py",
   "mimetype": "text/x-python",
   "name": "python",
   "nbconvert_exporter": "python",
   "pygments_lexer": "ipython3",
   "version": "3.12.3"
  }
 },
 "nbformat": 4,
 "nbformat_minor": 5
}
