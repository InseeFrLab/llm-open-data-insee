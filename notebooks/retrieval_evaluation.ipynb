{
 "cells": [
  {
   "cell_type": "code",
   "execution_count": 1,
   "id": "a7e00577-59ac-4f3e-8257-76eee59b63f0",
   "metadata": {},
   "outputs": [],
   "source": [
    "import sys\n",
    "\n",
    "sys.path.append(\"../src\")"
   ]
  },
  {
   "cell_type": "markdown",
   "id": "d78c882b",
   "metadata": {},
   "source": [
    "### Load Q&A test data"
   ]
  },
  {
   "cell_type": "code",
   "execution_count": 3,
   "id": "66e1b828",
   "metadata": {},
   "outputs": [
    {
     "name": "stdout",
     "output_type": "stream",
     "text": [
      "...struct.csv: 281.66 KiB / 281.66 KiB ┃▓▓▓▓▓▓▓▓▓▓▓▓▓▓▓▓▓▓▓▓▓▓▓┃ 555.67 KiB/s 0s\u001b[0;22m\u001b[0m\u001b[m\u001b[32;1m\u001b[m\u001b[32;1m\u001b[m\u001b[32;1m\u001b[m\u001b[32;1m"
     ]
    }
   ],
   "source": [
    "!mc cp s3/projet-llm-insee-open-data/data/eval_data/eval_retrieval/q_and_a_scored_filtered_Phi-3-mini-128k-instruct.csv ../data/q_and_a_ref_retrieval_evaluation_Phi-3-mini-128k-instruct.csv"
   ]
  },
  {
   "cell_type": "markdown",
   "id": "cd9b8f5f",
   "metadata": {},
   "source": [
    "### Load Knowledge Data"
   ]
  },
  {
   "cell_type": "code",
   "execution_count": 9,
   "id": "79677726",
   "metadata": {},
   "outputs": [
    {
     "name": "stdout",
     "output_type": "stream",
     "text": [
      "...uation.csv: 4.69 MiB / 4.69 MiB ┃▓▓▓▓▓▓▓▓▓▓▓▓▓▓▓▓▓▓▓▓▓▓▓▓▓▓▓▓▓┃ 8.54 MiB/s 0s\u001b[0;22m\u001b[0m\u001b[m\u001b[32;1m\u001b[m\u001b[32;1m\u001b[m\u001b[32;1m\u001b[m\u001b[32;1m\u001b[m\u001b[32;1m"
     ]
    }
   ],
   "source": [
    "!mc cp s3/projet-llm-insee-open-data/data/eval_data/eval_retrieval/insee_documents_sample_ref_retrieval_evaluation.csv ../data/insee_documents_sample_ref_retrieval_evaluation.csv"
   ]
  },
  {
   "cell_type": "code",
   "execution_count": 2,
   "id": "f2aa7a03-43a3-408f-834b-39a9ddea77ea",
   "metadata": {},
   "outputs": [],
   "source": [
    "import pandas as pd \n",
    "\n",
    "#question and answer\n",
    "path_qa = \"../data/q_and_a_ref_retrieval_evaluation_Phi-3-mini-128k-instruct.csv\"\n",
    "test = pd.read_csv(path_qa)\n",
    "\n",
    "df_dict = {}\n",
    "df_dict[\"the_df_dataset\"] = test\n",
    "\n",
    "#knowledge data \n",
    "path_knowledge = \"../data/insee_documents_sample_ref_retrieval_evaluation.csv\"\n",
    "data = pd.read_csv(path_knowledge)"
   ]
  },
  {
   "cell_type": "code",
   "execution_count": 3,
   "id": "98c2924e",
   "metadata": {},
   "outputs": [
    {
     "data": {
      "text/html": [
       "<div>\n",
       "<style scoped>\n",
       "    .dataframe tbody tr th:only-of-type {\n",
       "        vertical-align: middle;\n",
       "    }\n",
       "\n",
       "    .dataframe tbody tr th {\n",
       "        vertical-align: top;\n",
       "    }\n",
       "\n",
       "    .dataframe thead th {\n",
       "        text-align: right;\n",
       "    }\n",
       "</style>\n",
       "<table border=\"1\" class=\"dataframe\">\n",
       "  <thead>\n",
       "    <tr style=\"text-align: right;\">\n",
       "      <th></th>\n",
       "      <th>context</th>\n",
       "      <th>question</th>\n",
       "      <th>answer</th>\n",
       "      <th>source_doc</th>\n",
       "      <th>groundedness_score</th>\n",
       "      <th>groundedness_eval</th>\n",
       "      <th>relevance_score</th>\n",
       "      <th>relevance_eval</th>\n",
       "      <th>standalone_score</th>\n",
       "      <th>standalone_eval</th>\n",
       "    </tr>\n",
       "  </thead>\n",
       "  <tbody>\n",
       "    <tr>\n",
       "      <th>0</th>\n",
       "      <td>. L’approche coût-efficacité apparaît plus con...</td>\n",
       "      <td>Quelle est l'approche qui s'aligne sur l'objec...</td>\n",
       "      <td>L'approche coût-efficacité est celle qui s'ali...</td>\n",
       "      <td>https://www.insee.fr/fr/information/4796342</td>\n",
       "      <td>5.0</td>\n",
       "      <td>Le contexte fourni donne des informations sur ...</td>\n",
       "      <td>4.0</td>\n",
       "      <td>Cette question est très pertinente pour les ag...</td>\n",
       "      <td>5.0</td>\n",
       "      <td>La question mentionne explicitement l'accord d...</td>\n",
       "    </tr>\n",
       "    <tr>\n",
       "      <th>1</th>\n",
       "      <td>. A contrario, pour les femmes de 30à 34ans, i...</td>\n",
       "      <td>Quelle est l'évolution de l'âge moyen à la mat...</td>\n",
       "      <td>L'âge moyen à la maternité pour les femmes de ...</td>\n",
       "      <td>https://www.insee.fr/fr/statistiques/4238437</td>\n",
       "      <td>5.0</td>\n",
       "      <td>La question demande une évolution spécifique c...</td>\n",
       "      <td>5.0</td>\n",
       "      <td>Cette question est très pertinente pour les ag...</td>\n",
       "      <td>5.0</td>\n",
       "      <td>Cette question est indépendante du contexte ca...</td>\n",
       "    </tr>\n",
       "    <tr>\n",
       "      <th>2</th>\n",
       "      <td>. Points d’entrées pour la France dans les coo...</td>\n",
       "      <td>Quelle est la part des mineurs dans les cas de...</td>\n",
       "      <td>La part des mineurs a diminué de 7 points pour...</td>\n",
       "      <td>https://www.insee.fr/fr/statistiques/5763625</td>\n",
       "      <td>4.0</td>\n",
       "      <td>Le contexte fournit des informations détaillée...</td>\n",
       "      <td>4.0</td>\n",
       "      <td>Cette question est très pertinente pour les ag...</td>\n",
       "      <td>4.0</td>\n",
       "      <td>Cette question est assez indépendante du conte...</td>\n",
       "    </tr>\n",
       "    <tr>\n",
       "      <th>3</th>\n",
       "      <td>. L’empreinte énergétique directe du numérique...</td>\n",
       "      <td>Quelle est la part du numérique dans les émiss...</td>\n",
       "      <td>En 2017, le numérique représentait plus de 3,7...</td>\n",
       "      <td>https://www.insee.fr/fr/statistiques/4126596</td>\n",
       "      <td>5.0</td>\n",
       "      <td>Le contexte fourni donne des informations spéc...</td>\n",
       "      <td>5.0</td>\n",
       "      <td>Cette question est très pertinente pour les ag...</td>\n",
       "      <td>4.0</td>\n",
       "      <td>Cette question demande des informations spécif...</td>\n",
       "    </tr>\n",
       "    <tr>\n",
       "      <th>4</th>\n",
       "      <td>.  La collecte d’Acemo Covid s’étend sur deux ...</td>\n",
       "      <td>Quels sont les codes APE utilisés pour représe...</td>\n",
       "      <td>Les codes APE utilisés pour représenter la res...</td>\n",
       "      <td>https://www.insee.fr/fr/statistiques/5392036</td>\n",
       "      <td>5.0</td>\n",
       "      <td>La question demande de nommer les codes APE co...</td>\n",
       "      <td>4.0</td>\n",
       "      <td>Cette question est directement liée aux activi...</td>\n",
       "      <td>5.0</td>\n",
       "      <td>La question demande une information spécifique...</td>\n",
       "    </tr>\n",
       "  </tbody>\n",
       "</table>\n",
       "</div>"
      ],
      "text/plain": [
       "                                             context  \\\n",
       "0  . L’approche coût-efficacité apparaît plus con...   \n",
       "1  . A contrario, pour les femmes de 30à 34ans, i...   \n",
       "2  . Points d’entrées pour la France dans les coo...   \n",
       "3  . L’empreinte énergétique directe du numérique...   \n",
       "4  .  La collecte d’Acemo Covid s’étend sur deux ...   \n",
       "\n",
       "                                            question  \\\n",
       "0  Quelle est l'approche qui s'aligne sur l'objec...   \n",
       "1  Quelle est l'évolution de l'âge moyen à la mat...   \n",
       "2  Quelle est la part des mineurs dans les cas de...   \n",
       "3  Quelle est la part du numérique dans les émiss...   \n",
       "4  Quels sont les codes APE utilisés pour représe...   \n",
       "\n",
       "                                              answer  \\\n",
       "0  L'approche coût-efficacité est celle qui s'ali...   \n",
       "1  L'âge moyen à la maternité pour les femmes de ...   \n",
       "2  La part des mineurs a diminué de 7 points pour...   \n",
       "3  En 2017, le numérique représentait plus de 3,7...   \n",
       "4  Les codes APE utilisés pour représenter la res...   \n",
       "\n",
       "                                     source_doc  groundedness_score  \\\n",
       "0   https://www.insee.fr/fr/information/4796342                 5.0   \n",
       "1  https://www.insee.fr/fr/statistiques/4238437                 5.0   \n",
       "2  https://www.insee.fr/fr/statistiques/5763625                 4.0   \n",
       "3  https://www.insee.fr/fr/statistiques/4126596                 5.0   \n",
       "4  https://www.insee.fr/fr/statistiques/5392036                 5.0   \n",
       "\n",
       "                                   groundedness_eval  relevance_score  \\\n",
       "0  Le contexte fourni donne des informations sur ...              4.0   \n",
       "1  La question demande une évolution spécifique c...              5.0   \n",
       "2  Le contexte fournit des informations détaillée...              4.0   \n",
       "3  Le contexte fourni donne des informations spéc...              5.0   \n",
       "4  La question demande de nommer les codes APE co...              4.0   \n",
       "\n",
       "                                      relevance_eval  standalone_score  \\\n",
       "0  Cette question est très pertinente pour les ag...               5.0   \n",
       "1  Cette question est très pertinente pour les ag...               5.0   \n",
       "2  Cette question est très pertinente pour les ag...               4.0   \n",
       "3  Cette question est très pertinente pour les ag...               4.0   \n",
       "4  Cette question est directement liée aux activi...               5.0   \n",
       "\n",
       "                                     standalone_eval  \n",
       "0  La question mentionne explicitement l'accord d...  \n",
       "1  Cette question est indépendante du contexte ca...  \n",
       "2  Cette question est assez indépendante du conte...  \n",
       "3  Cette question demande des informations spécif...  \n",
       "4  La question demande une information spécifique...  "
      ]
     },
     "metadata": {},
     "output_type": "display_data"
    },
    {
     "data": {
      "text/html": [
       "<div>\n",
       "<style scoped>\n",
       "    .dataframe tbody tr th:only-of-type {\n",
       "        vertical-align: middle;\n",
       "    }\n",
       "\n",
       "    .dataframe tbody tr th {\n",
       "        vertical-align: top;\n",
       "    }\n",
       "\n",
       "    .dataframe thead th {\n",
       "        text-align: right;\n",
       "    }\n",
       "</style>\n",
       "<table border=\"1\" class=\"dataframe\">\n",
       "  <thead>\n",
       "    <tr style=\"text-align: right;\">\n",
       "      <th></th>\n",
       "      <th>content</th>\n",
       "      <th>source</th>\n",
       "      <th>title</th>\n",
       "      <th>insee_id</th>\n",
       "      <th>categories</th>\n",
       "      <th>date_diffusion</th>\n",
       "      <th>themes</th>\n",
       "      <th>collections</th>\n",
       "      <th>libelleAffichageGeo</th>\n",
       "      <th>intertitres</th>\n",
       "      <th>authors</th>\n",
       "      <th>subtitle</th>\n",
       "    </tr>\n",
       "  </thead>\n",
       "  <tbody>\n",
       "    <tr>\n",
       "      <th>0</th>\n",
       "      <td>La Base tous salariés (BTS), extraite de la Dé...</td>\n",
       "      <td>https://www.insee.fr/fr/information/2407785</td>\n",
       "      <td>Base Tous Salariés</td>\n",
       "      <td>2407785</td>\n",
       "      <td>Services</td>\n",
       "      <td>2023-10-03T12:04:14.154Z</td>\n",
       "      <td>NaN</td>\n",
       "      <td>NaN</td>\n",
       "      <td>NaN</td>\n",
       "      <td>Description des variables des différents fichi...</td>\n",
       "      <td>[]</td>\n",
       "      <td>BTS</td>\n",
       "    </tr>\n",
       "    <tr>\n",
       "      <th>1</th>\n",
       "      <td>En France, en mars-avril 2020, un surcroît de ...</td>\n",
       "      <td>https://www.insee.fr/fr/statistiques/4797670</td>\n",
       "      <td>Les inégalités sociales à l’épreuve de la cris...</td>\n",
       "      <td>4797670</td>\n",
       "      <td>Publications grand public</td>\n",
       "      <td>2020-12-03T17:00:25.538Z</td>\n",
       "      <td>[\"Revenus – Niveaux de vie – Pouvoir d'achat\"]</td>\n",
       "      <td>France, portrait social</td>\n",
       "      <td>France</td>\n",
       "      <td>Décrire au mieux l’impact de la crise sanitair...</td>\n",
       "      <td>['Meriam Barhoumi (Depp)', 'Anne Jonchery', 'P...</td>\n",
       "      <td>NaN</td>\n",
       "    </tr>\n",
       "    <tr>\n",
       "      <th>2</th>\n",
       "      <td>L'Insee a conçu une base historique des Recens...</td>\n",
       "      <td>https://www.insee.fr/fr/information/1303688</td>\n",
       "      <td>RP Historiques et Données harmonisées des rece...</td>\n",
       "      <td>1303688</td>\n",
       "      <td>Services</td>\n",
       "      <td>2023-04-25T09:00:14.283Z</td>\n",
       "      <td>NaN</td>\n",
       "      <td>NaN</td>\n",
       "      <td>NaN</td>\n",
       "      <td>Description des variables des différents\\n    ...</td>\n",
       "      <td>[]</td>\n",
       "      <td>NaN</td>\n",
       "    </tr>\n",
       "    <tr>\n",
       "      <th>3</th>\n",
       "      <td>Il ne faut pas confondre l'arrondissement, sub...</td>\n",
       "      <td>https://www.insee.fr/fr/information/1303686</td>\n",
       "      <td>Recensement de la population de 2006 à 2020</td>\n",
       "      <td>1303686</td>\n",
       "      <td>Services</td>\n",
       "      <td>2023-09-06T06:37:14.496Z</td>\n",
       "      <td>NaN</td>\n",
       "      <td>NaN</td>\n",
       "      <td>NaN</td>\n",
       "      <td>Description des variables des différents\\n    ...</td>\n",
       "      <td>[]</td>\n",
       "      <td>NaN</td>\n",
       "    </tr>\n",
       "    <tr>\n",
       "      <th>4</th>\n",
       "      <td>En 2018, l’économie française ralentit: le pro...</td>\n",
       "      <td>https://www.insee.fr/fr/statistiques/4174895</td>\n",
       "      <td>En 2018, l’économie française ralentit, après ...</td>\n",
       "      <td>4174895</td>\n",
       "      <td>Publications grand public</td>\n",
       "      <td>2019-06-28T16:00:00Z</td>\n",
       "      <td>['Évolution et structure de la population']</td>\n",
       "      <td>L'économie française - Comptes et dossiers</td>\n",
       "      <td>France</td>\n",
       "      <td>Figure 1 - Contribution des principaux agrégat...</td>\n",
       "      <td>['Victor\\xa0Barry', 'Thibault Cruzet', 'Domini...</td>\n",
       "      <td>NaN</td>\n",
       "    </tr>\n",
       "  </tbody>\n",
       "</table>\n",
       "</div>"
      ],
      "text/plain": [
       "                                             content  \\\n",
       "0  La Base tous salariés (BTS), extraite de la Dé...   \n",
       "1  En France, en mars-avril 2020, un surcroît de ...   \n",
       "2  L'Insee a conçu une base historique des Recens...   \n",
       "3  Il ne faut pas confondre l'arrondissement, sub...   \n",
       "4  En 2018, l’économie française ralentit: le pro...   \n",
       "\n",
       "                                         source  \\\n",
       "0   https://www.insee.fr/fr/information/2407785   \n",
       "1  https://www.insee.fr/fr/statistiques/4797670   \n",
       "2   https://www.insee.fr/fr/information/1303688   \n",
       "3   https://www.insee.fr/fr/information/1303686   \n",
       "4  https://www.insee.fr/fr/statistiques/4174895   \n",
       "\n",
       "                                               title  insee_id  \\\n",
       "0                                 Base Tous Salariés   2407785   \n",
       "1  Les inégalités sociales à l’épreuve de la cris...   4797670   \n",
       "2  RP Historiques et Données harmonisées des rece...   1303688   \n",
       "3        Recensement de la population de 2006 à 2020   1303686   \n",
       "4  En 2018, l’économie française ralentit, après ...   4174895   \n",
       "\n",
       "                  categories            date_diffusion  \\\n",
       "0                   Services  2023-10-03T12:04:14.154Z   \n",
       "1  Publications grand public  2020-12-03T17:00:25.538Z   \n",
       "2                   Services  2023-04-25T09:00:14.283Z   \n",
       "3                   Services  2023-09-06T06:37:14.496Z   \n",
       "4  Publications grand public      2019-06-28T16:00:00Z   \n",
       "\n",
       "                                           themes  \\\n",
       "0                                             NaN   \n",
       "1  [\"Revenus – Niveaux de vie – Pouvoir d'achat\"]   \n",
       "2                                             NaN   \n",
       "3                                             NaN   \n",
       "4     ['Évolution et structure de la population']   \n",
       "\n",
       "                                  collections libelleAffichageGeo  \\\n",
       "0                                         NaN                 NaN   \n",
       "1                     France, portrait social              France   \n",
       "2                                         NaN                 NaN   \n",
       "3                                         NaN                 NaN   \n",
       "4  L'économie française - Comptes et dossiers              France   \n",
       "\n",
       "                                         intertitres  \\\n",
       "0  Description des variables des différents fichi...   \n",
       "1  Décrire au mieux l’impact de la crise sanitair...   \n",
       "2  Description des variables des différents\\n    ...   \n",
       "3  Description des variables des différents\\n    ...   \n",
       "4  Figure 1 - Contribution des principaux agrégat...   \n",
       "\n",
       "                                             authors subtitle  \n",
       "0                                                 []      BTS  \n",
       "1  ['Meriam Barhoumi (Depp)', 'Anne Jonchery', 'P...      NaN  \n",
       "2                                                 []      NaN  \n",
       "3                                                 []      NaN  \n",
       "4  ['Victor\\xa0Barry', 'Thibault Cruzet', 'Domini...      NaN  "
      ]
     },
     "metadata": {},
     "output_type": "display_data"
    }
   ],
   "source": [
    "display(test.head())\n",
    "display(data.head())"
   ]
  },
  {
   "cell_type": "code",
   "execution_count": 3,
   "id": "0a4754fe",
   "metadata": {},
   "outputs": [
    {
     "name": "stderr",
     "output_type": "stream",
     "text": [
      "2024-07-02 15:05:54,658 - INFO - Loading faiss with AVX512 support.\n",
      "2024-07-02 15:05:55,075 - INFO - Successfully loaded faiss with AVX512 support.\n",
      "2024-07-02 15:05:55,741 - INFO - Start of evaluation run for dataset: the_df_dataset and configuration: ColBERT\n",
      "2024-07-02 15:05:55,754 - INFO - Anonymized telemetry enabled. See                     https://docs.trychroma.com/telemetry for more information.\n",
      "2024-07-02 15:05:55,846 - INFO - Load pretrained SentenceTransformer: OrdalieTech/Solon-embeddings-large-0.1\n",
      "2024-07-02 15:05:58,458 - INFO - The database (collection Solon-embeddings-large-0.1) has been reloaded from directory ./data/chroma_db\n",
      "2024-07-02 15:05:58,460 - INFO - The database already exists\n",
      "2024-07-02 15:05:59,302 - INFO - Retriever sucessfully built\n",
      "2024-07-02 15:05:59,303 - INFO - Start multi-process pool on devices: cuda:0\n",
      "2024-07-02 15:06:06,488 - INFO - Queries have been embedded\n",
      "100%|██████████| 2/2 [00:00<00:00,  4.89it/s]\n",
      "2024-07-02 15:06:07,788 - INFO -       Relevant sources have been retrieved for question 0 \n",
      "2024-07-02 15:06:07,789 - INFO -       Computing measures at level 1 in [1, 2, 3, 5, 10, 20, 30, 50]  for question 0\n",
      "2024-07-02 15:06:07,789 - INFO -       Computing measures at level 2 in [1, 2, 3, 5, 10, 20, 30, 50]  for question 0\n",
      "2024-07-02 15:06:07,790 - INFO -       Computing measures at level 3 in [1, 2, 3, 5, 10, 20, 30, 50]  for question 0\n",
      "2024-07-02 15:06:07,790 - INFO -       Computing measures at level 5 in [1, 2, 3, 5, 10, 20, 30, 50]  for question 0\n",
      "2024-07-02 15:06:07,791 - INFO -       Computing measures at level 10 in [1, 2, 3, 5, 10, 20, 30, 50]  for question 0\n",
      "2024-07-02 15:06:07,791 - INFO -       Computing measures at level 20 in [1, 2, 3, 5, 10, 20, 30, 50]  for question 0\n",
      "2024-07-02 15:06:07,792 - INFO -       Computing measures at level 30 in [1, 2, 3, 5, 10, 20, 30, 50]  for question 0\n",
      "2024-07-02 15:06:07,792 - INFO -       Computing measures at level 50 in [1, 2, 3, 5, 10, 20, 30, 50]  for question 0\n",
      "100%|██████████| 2/2 [00:00<00:00, 71.68it/s]\n",
      "100%|██████████| 2/2 [00:00<00:00, 83.73it/s]\n",
      "100%|██████████| 2/2 [00:00<00:00, 79.00it/s]\n",
      "100%|██████████| 2/2 [00:00<00:00, 79.19it/s]\n",
      "100%|██████████| 2/2 [00:00<00:00, 78.02it/s]\n",
      "100%|██████████| 2/2 [00:00<00:00, 79.63it/s]\n",
      "100%|██████████| 2/2 [00:00<00:00, 73.39it/s]\n",
      "100%|██████████| 2/2 [00:00<00:00, 72.30it/s]\n",
      "100%|██████████| 2/2 [00:00<00:00, 74.53it/s]\n",
      "100%|██████████| 2/2 [00:00<00:00, 80.48it/s]\n",
      "100%|██████████| 2/2 [00:00<00:00, 73.31it/s]\n",
      "100%|██████████| 2/2 [00:00<00:00, 77.64it/s]\n",
      "100%|██████████| 2/2 [00:00<00:00, 74.22it/s]\n",
      "100%|██████████| 2/2 [00:00<00:00, 75.03it/s]\n",
      "100%|██████████| 2/2 [00:00<00:00, 75.06it/s]\n",
      "100%|██████████| 2/2 [00:00<00:00, 77.97it/s]\n",
      "100%|██████████| 2/2 [00:00<00:00, 82.19it/s]\n",
      "100%|██████████| 2/2 [00:00<00:00, 79.01it/s]\n",
      "100%|██████████| 2/2 [00:00<00:00, 80.79it/s]\n",
      "100%|██████████| 2/2 [00:00<00:00, 76.63it/s]\n",
      "100%|██████████| 2/2 [00:00<00:00, 73.41it/s]\n",
      "100%|██████████| 2/2 [00:00<00:00, 72.80it/s]\n",
      "100%|██████████| 2/2 [00:00<00:00, 75.10it/s]\n",
      "100%|██████████| 2/2 [00:00<00:00, 73.52it/s]\n",
      "100%|██████████| 2/2 [00:00<00:00, 81.36it/s]\n",
      "100%|██████████| 2/2 [00:00<00:00, 78.07it/s]\n",
      "100%|██████████| 2/2 [00:00<00:00, 79.99it/s]\n",
      "100%|██████████| 2/2 [00:00<00:00, 76.10it/s]\n",
      "100%|██████████| 2/2 [00:00<00:00, 77.47it/s]\n",
      "100%|██████████| 2/2 [00:00<00:00, 76.43it/s]\n",
      "100%|██████████| 2/2 [00:00<00:00, 79.96it/s]\n",
      "100%|██████████| 2/2 [00:00<00:00, 71.94it/s]\n",
      "100%|██████████| 2/2 [00:00<00:00, 77.64it/s]\n",
      "100%|██████████| 2/2 [00:00<00:00, 81.23it/s]\n",
      "100%|██████████| 2/2 [00:00<00:00, 76.88it/s]\n",
      "100%|██████████| 2/2 [00:00<00:00, 76.04it/s]\n",
      "100%|██████████| 2/2 [00:00<00:00, 69.33it/s]\n",
      "100%|██████████| 2/2 [00:00<00:00, 71.95it/s]\n",
      "100%|██████████| 2/2 [00:00<00:00, 76.78it/s]\n",
      "100%|██████████| 2/2 [00:00<00:00, 70.92it/s]\n",
      "100%|██████████| 2/2 [00:00<00:00, 77.19it/s]\n",
      "100%|██████████| 2/2 [00:00<00:00, 74.29it/s]\n",
      "100%|██████████| 2/2 [00:00<00:00, 76.92it/s]\n",
      "100%|██████████| 2/2 [00:00<00:00, 79.67it/s]\n",
      "100%|██████████| 2/2 [00:00<00:00, 73.06it/s]\n",
      "100%|██████████| 2/2 [00:00<00:00, 71.65it/s]\n",
      "100%|██████████| 2/2 [00:00<00:00, 74.05it/s]\n",
      "100%|██████████| 2/2 [00:00<00:00, 77.44it/s]\n",
      "100%|██████████| 2/2 [00:00<00:00, 73.23it/s]\n",
      "100%|██████████| 2/2 [00:00<00:00, 70.09it/s]\n",
      "2024-07-02 15:06:11,194 - INFO -       Relevant sources have been retrieved for question 50 \n",
      "2024-07-02 15:06:11,195 - INFO -       Computing measures at level 1 in [1, 2, 3, 5, 10, 20, 30, 50]  for question 50\n",
      "2024-07-02 15:06:11,196 - INFO -       Computing measures at level 2 in [1, 2, 3, 5, 10, 20, 30, 50]  for question 50\n",
      "2024-07-02 15:06:11,196 - INFO -       Computing measures at level 3 in [1, 2, 3, 5, 10, 20, 30, 50]  for question 50\n",
      "2024-07-02 15:06:11,197 - INFO -       Computing measures at level 5 in [1, 2, 3, 5, 10, 20, 30, 50]  for question 50\n",
      "2024-07-02 15:06:11,198 - INFO -       Computing measures at level 10 in [1, 2, 3, 5, 10, 20, 30, 50]  for question 50\n",
      "2024-07-02 15:06:11,198 - INFO -       Computing measures at level 20 in [1, 2, 3, 5, 10, 20, 30, 50]  for question 50\n",
      "2024-07-02 15:06:11,199 - INFO -       Computing measures at level 30 in [1, 2, 3, 5, 10, 20, 30, 50]  for question 50\n",
      "2024-07-02 15:06:11,199 - INFO -       Computing measures at level 50 in [1, 2, 3, 5, 10, 20, 30, 50]  for question 50\n",
      "100%|██████████| 2/2 [00:00<00:00, 77.23it/s]\n",
      "100%|██████████| 2/2 [00:00<00:00, 73.12it/s]\n",
      "100%|██████████| 2/2 [00:00<00:00, 69.80it/s]\n",
      "100%|██████████| 2/2 [00:00<00:00, 71.06it/s]\n",
      "100%|██████████| 2/2 [00:00<00:00, 77.60it/s]\n",
      "100%|██████████| 2/2 [00:00<00:00, 73.90it/s]\n",
      "100%|██████████| 2/2 [00:00<00:00, 76.87it/s]\n",
      "100%|██████████| 2/2 [00:00<00:00, 77.98it/s]\n",
      "100%|██████████| 2/2 [00:00<00:00, 78.95it/s]\n",
      "100%|██████████| 2/2 [00:00<00:00, 78.57it/s]\n",
      "100%|██████████| 2/2 [00:00<00:00, 79.72it/s]\n",
      "100%|██████████| 2/2 [00:00<00:00, 71.34it/s]\n",
      "100%|██████████| 2/2 [00:00<00:00, 77.39it/s]\n",
      "100%|██████████| 2/2 [00:00<00:00, 77.47it/s]\n",
      "100%|██████████| 2/2 [00:00<00:00, 72.78it/s]\n",
      "100%|██████████| 2/2 [00:00<00:00, 78.14it/s]\n",
      "100%|██████████| 2/2 [00:00<00:00, 73.46it/s]\n",
      "100%|██████████| 2/2 [00:00<00:00, 70.49it/s]\n",
      "100%|██████████| 2/2 [00:00<00:00, 78.33it/s]\n",
      "100%|██████████| 2/2 [00:00<00:00, 71.35it/s]\n",
      "100%|██████████| 2/2 [00:00<00:00, 74.41it/s]\n",
      "100%|██████████| 2/2 [00:00<00:00, 70.41it/s]\n",
      "100%|██████████| 2/2 [00:00<00:00, 74.43it/s]\n",
      "100%|██████████| 2/2 [00:00<00:00, 75.56it/s]\n",
      "100%|██████████| 2/2 [00:00<00:00, 76.52it/s]\n",
      "100%|██████████| 2/2 [00:00<00:00, 73.71it/s]\n",
      "100%|██████████| 2/2 [00:00<00:00, 75.83it/s]\n",
      "2024-07-02 15:06:13,191 - INFO -       length of all_individual recalls is 78\n",
      "2024-07-02 15:06:13,194 - INFO - Start of evaluation run for dataset: the_df_dataset and configuration: BM25\n",
      "2024-07-02 15:06:13,200 - INFO - Load pretrained SentenceTransformer: OrdalieTech/Solon-embeddings-large-0.1\n",
      "2024-07-02 15:06:16,458 - INFO - The database (collection Solon-embeddings-large-0.1) has been reloaded from directory ./data/chroma_db\n",
      "2024-07-02 15:06:16,459 - INFO - The database already exists\n",
      "2024-07-02 15:06:17,389 - INFO - Retriever sucessfully built\n",
      "2024-07-02 15:06:17,393 - INFO - Start multi-process pool on devices: cuda:0\n",
      "2024-07-02 15:06:26,993 - INFO - Queries have been embedded\n",
      "/opt/mamba/lib/python3.12/site-packages/langchain_core/_api/deprecation.py:119: LangChainDeprecationWarning: The method `BaseRetriever.get_relevant_documents` was deprecated in langchain-core 0.1.46 and will be removed in 0.3.0. Use invoke instead.\n",
      "  warn_deprecated(\n",
      "2024-07-02 15:06:27,021 - INFO -       Relevant sources have been retrieved for question 0 \n",
      "2024-07-02 15:06:27,022 - INFO -       Computing measures at level 1 in [1, 2, 3, 5, 10, 20, 30, 50]  for question 0\n",
      "2024-07-02 15:06:27,024 - INFO -       Computing measures at level 2 in [1, 2, 3, 5, 10, 20, 30, 50]  for question 0\n",
      "2024-07-02 15:06:27,025 - INFO -       Computing measures at level 3 in [1, 2, 3, 5, 10, 20, 30, 50]  for question 0\n",
      "2024-07-02 15:06:27,026 - INFO -       Computing measures at level 5 in [1, 2, 3, 5, 10, 20, 30, 50]  for question 0\n",
      "2024-07-02 15:06:27,027 - INFO -       Computing measures at level 10 in [1, 2, 3, 5, 10, 20, 30, 50]  for question 0\n",
      "2024-07-02 15:06:27,027 - INFO -       Computing measures at level 20 in [1, 2, 3, 5, 10, 20, 30, 50]  for question 0\n",
      "2024-07-02 15:06:27,028 - INFO -       Computing measures at level 30 in [1, 2, 3, 5, 10, 20, 30, 50]  for question 0\n",
      "2024-07-02 15:06:27,028 - INFO -       Computing measures at level 50 in [1, 2, 3, 5, 10, 20, 30, 50]  for question 0\n",
      "2024-07-02 15:06:27,846 - INFO -       Relevant sources have been retrieved for question 50 \n",
      "2024-07-02 15:06:27,850 - INFO -       Computing measures at level 1 in [1, 2, 3, 5, 10, 20, 30, 50]  for question 50\n",
      "2024-07-02 15:06:27,852 - INFO -       Computing measures at level 2 in [1, 2, 3, 5, 10, 20, 30, 50]  for question 50\n",
      "2024-07-02 15:06:27,853 - INFO -       Computing measures at level 3 in [1, 2, 3, 5, 10, 20, 30, 50]  for question 50\n",
      "2024-07-02 15:06:27,854 - INFO -       Computing measures at level 5 in [1, 2, 3, 5, 10, 20, 30, 50]  for question 50\n",
      "2024-07-02 15:06:27,855 - INFO -       Computing measures at level 10 in [1, 2, 3, 5, 10, 20, 30, 50]  for question 50\n",
      "2024-07-02 15:06:27,855 - INFO -       Computing measures at level 20 in [1, 2, 3, 5, 10, 20, 30, 50]  for question 50\n",
      "2024-07-02 15:06:27,856 - INFO -       Computing measures at level 30 in [1, 2, 3, 5, 10, 20, 30, 50]  for question 50\n",
      "2024-07-02 15:06:27,856 - INFO -       Computing measures at level 50 in [1, 2, 3, 5, 10, 20, 30, 50]  for question 50\n",
      "2024-07-02 15:06:28,319 - INFO -       length of all_individual recalls is 78\n",
      "2024-07-02 15:06:28,322 - INFO - Start of evaluation run for dataset: the_df_dataset and configuration: test1\n",
      "2024-07-02 15:06:28,329 - INFO - Load pretrained SentenceTransformer: OrdalieTech/Solon-embeddings-large-0.1\n",
      "2024-07-02 15:06:30,934 - INFO - The database (collection Solon-embeddings-large-0.1) has been reloaded from directory ./data/chroma_db\n",
      "2024-07-02 15:06:30,935 - INFO - The database already exists\n",
      "2024-07-02 15:06:33,144 - INFO - Use pytorch device: cuda\n",
      "2024-07-02 15:06:33,148 - INFO - Retriever sucessfully built\n",
      "2024-07-02 15:06:33,149 - INFO - Start multi-process pool on devices: cuda:0\n",
      "2024-07-02 15:06:43,059 - INFO - Queries have been embedded\n"
     ]
    },
    {
     "data": {
      "application/vnd.jupyter.widget-view+json": {
       "model_id": "9503cbe1f0b348918c4a1592d0ebc1d0",
       "version_major": 2,
       "version_minor": 0
      },
      "text/plain": [
       "Batches:   0%|          | 0/2 [00:00<?, ?it/s]"
      ]
     },
     "metadata": {},
     "output_type": "display_data"
    },
    {
     "name": "stderr",
     "output_type": "stream",
     "text": [
      "2024-07-02 15:06:43,556 - INFO -       Relevant sources have been retrieved for question 0 \n",
      "2024-07-02 15:06:43,558 - INFO -       Computing measures at level 1 in [1, 2, 3, 5, 10, 20, 30, 50]  for question 0\n",
      "2024-07-02 15:06:43,560 - INFO -       Computing measures at level 2 in [1, 2, 3, 5, 10, 20, 30, 50]  for question 0\n",
      "2024-07-02 15:06:43,561 - INFO -       Computing measures at level 3 in [1, 2, 3, 5, 10, 20, 30, 50]  for question 0\n",
      "2024-07-02 15:06:43,562 - INFO -       Computing measures at level 5 in [1, 2, 3, 5, 10, 20, 30, 50]  for question 0\n",
      "2024-07-02 15:06:43,563 - INFO -       Computing measures at level 10 in [1, 2, 3, 5, 10, 20, 30, 50]  for question 0\n",
      "2024-07-02 15:06:43,564 - INFO -       Computing measures at level 20 in [1, 2, 3, 5, 10, 20, 30, 50]  for question 0\n",
      "2024-07-02 15:06:43,564 - INFO -       Computing measures at level 30 in [1, 2, 3, 5, 10, 20, 30, 50]  for question 0\n",
      "2024-07-02 15:06:43,565 - INFO -       Computing measures at level 50 in [1, 2, 3, 5, 10, 20, 30, 50]  for question 0\n"
     ]
    },
    {
     "data": {
      "application/vnd.jupyter.widget-view+json": {
       "model_id": "23e4b17e03ef4c208de136451e880b7a",
       "version_major": 2,
       "version_minor": 0
      },
      "text/plain": [
       "Batches:   0%|          | 0/2 [00:00<?, ?it/s]"
      ]
     },
     "metadata": {},
     "output_type": "display_data"
    },
    {
     "data": {
      "application/vnd.jupyter.widget-view+json": {
       "model_id": "e5c75cfbd163420181dd0f5186cd1339",
       "version_major": 2,
       "version_minor": 0
      },
      "text/plain": [
       "Batches:   0%|          | 0/2 [00:00<?, ?it/s]"
      ]
     },
     "metadata": {},
     "output_type": "display_data"
    },
    {
     "data": {
      "application/vnd.jupyter.widget-view+json": {
       "model_id": "b4dc0b243fa249efa940fd8d9c3ad616",
       "version_major": 2,
       "version_minor": 0
      },
      "text/plain": [
       "Batches:   0%|          | 0/2 [00:00<?, ?it/s]"
      ]
     },
     "metadata": {},
     "output_type": "display_data"
    },
    {
     "data": {
      "application/vnd.jupyter.widget-view+json": {
       "model_id": "17aa01f0d49d407187628eefdbc727d0",
       "version_major": 2,
       "version_minor": 0
      },
      "text/plain": [
       "Batches:   0%|          | 0/2 [00:00<?, ?it/s]"
      ]
     },
     "metadata": {},
     "output_type": "display_data"
    },
    {
     "data": {
      "application/vnd.jupyter.widget-view+json": {
       "model_id": "7d70a4f126c04aa8b7accf5c7ad665fa",
       "version_major": 2,
       "version_minor": 0
      },
      "text/plain": [
       "Batches:   0%|          | 0/2 [00:00<?, ?it/s]"
      ]
     },
     "metadata": {},
     "output_type": "display_data"
    },
    {
     "data": {
      "application/vnd.jupyter.widget-view+json": {
       "model_id": "833efa8352254338a0fc1013a45ffd94",
       "version_major": 2,
       "version_minor": 0
      },
      "text/plain": [
       "Batches:   0%|          | 0/2 [00:00<?, ?it/s]"
      ]
     },
     "metadata": {},
     "output_type": "display_data"
    },
    {
     "data": {
      "application/vnd.jupyter.widget-view+json": {
       "model_id": "49a3baf510514583a255a39687cf29ec",
       "version_major": 2,
       "version_minor": 0
      },
      "text/plain": [
       "Batches:   0%|          | 0/2 [00:00<?, ?it/s]"
      ]
     },
     "metadata": {},
     "output_type": "display_data"
    },
    {
     "data": {
      "application/vnd.jupyter.widget-view+json": {
       "model_id": "78dcce2429a8437690844b7f3c2de1c4",
       "version_major": 2,
       "version_minor": 0
      },
      "text/plain": [
       "Batches:   0%|          | 0/2 [00:00<?, ?it/s]"
      ]
     },
     "metadata": {},
     "output_type": "display_data"
    },
    {
     "data": {
      "application/vnd.jupyter.widget-view+json": {
       "model_id": "3f77f0d2ee3c484d98e3308359218d31",
       "version_major": 2,
       "version_minor": 0
      },
      "text/plain": [
       "Batches:   0%|          | 0/2 [00:00<?, ?it/s]"
      ]
     },
     "metadata": {},
     "output_type": "display_data"
    },
    {
     "data": {
      "application/vnd.jupyter.widget-view+json": {
       "model_id": "818804ecf2de4c12b6cf0e7c9df1b3a9",
       "version_major": 2,
       "version_minor": 0
      },
      "text/plain": [
       "Batches:   0%|          | 0/2 [00:00<?, ?it/s]"
      ]
     },
     "metadata": {},
     "output_type": "display_data"
    },
    {
     "data": {
      "application/vnd.jupyter.widget-view+json": {
       "model_id": "27dd20edbc8641c4a7386822e73eabc8",
       "version_major": 2,
       "version_minor": 0
      },
      "text/plain": [
       "Batches:   0%|          | 0/2 [00:00<?, ?it/s]"
      ]
     },
     "metadata": {},
     "output_type": "display_data"
    },
    {
     "data": {
      "application/vnd.jupyter.widget-view+json": {
       "model_id": "86070c6094cc431481c1e660ceabfe42",
       "version_major": 2,
       "version_minor": 0
      },
      "text/plain": [
       "Batches:   0%|          | 0/2 [00:00<?, ?it/s]"
      ]
     },
     "metadata": {},
     "output_type": "display_data"
    },
    {
     "data": {
      "application/vnd.jupyter.widget-view+json": {
       "model_id": "d7f52c3de6ac4c0e85a14d41e4b98259",
       "version_major": 2,
       "version_minor": 0
      },
      "text/plain": [
       "Batches:   0%|          | 0/2 [00:00<?, ?it/s]"
      ]
     },
     "metadata": {},
     "output_type": "display_data"
    },
    {
     "data": {
      "application/vnd.jupyter.widget-view+json": {
       "model_id": "066005b8319445a5a54c825e0ca7ed58",
       "version_major": 2,
       "version_minor": 0
      },
      "text/plain": [
       "Batches:   0%|          | 0/2 [00:00<?, ?it/s]"
      ]
     },
     "metadata": {},
     "output_type": "display_data"
    },
    {
     "data": {
      "application/vnd.jupyter.widget-view+json": {
       "model_id": "4261e39f3b4342609f9d6dd45bb88688",
       "version_major": 2,
       "version_minor": 0
      },
      "text/plain": [
       "Batches:   0%|          | 0/2 [00:00<?, ?it/s]"
      ]
     },
     "metadata": {},
     "output_type": "display_data"
    },
    {
     "data": {
      "application/vnd.jupyter.widget-view+json": {
       "model_id": "7900b9925c0143b78dfe6c5479350fcf",
       "version_major": 2,
       "version_minor": 0
      },
      "text/plain": [
       "Batches:   0%|          | 0/2 [00:00<?, ?it/s]"
      ]
     },
     "metadata": {},
     "output_type": "display_data"
    },
    {
     "data": {
      "application/vnd.jupyter.widget-view+json": {
       "model_id": "327b109aa7cb45499809419035b7299f",
       "version_major": 2,
       "version_minor": 0
      },
      "text/plain": [
       "Batches:   0%|          | 0/2 [00:00<?, ?it/s]"
      ]
     },
     "metadata": {},
     "output_type": "display_data"
    },
    {
     "data": {
      "application/vnd.jupyter.widget-view+json": {
       "model_id": "a2003f7ad9864f56ae4c86f3703d1a9d",
       "version_major": 2,
       "version_minor": 0
      },
      "text/plain": [
       "Batches:   0%|          | 0/2 [00:00<?, ?it/s]"
      ]
     },
     "metadata": {},
     "output_type": "display_data"
    },
    {
     "data": {
      "application/vnd.jupyter.widget-view+json": {
       "model_id": "42bed7060eb848fbbba738f2c28a826f",
       "version_major": 2,
       "version_minor": 0
      },
      "text/plain": [
       "Batches:   0%|          | 0/2 [00:00<?, ?it/s]"
      ]
     },
     "metadata": {},
     "output_type": "display_data"
    },
    {
     "data": {
      "application/vnd.jupyter.widget-view+json": {
       "model_id": "cd9c80208bb94355bb42e7c63169770f",
       "version_major": 2,
       "version_minor": 0
      },
      "text/plain": [
       "Batches:   0%|          | 0/2 [00:00<?, ?it/s]"
      ]
     },
     "metadata": {},
     "output_type": "display_data"
    },
    {
     "data": {
      "application/vnd.jupyter.widget-view+json": {
       "model_id": "8fecdd85ff7f4fdfbf7a8f9c6d8b332a",
       "version_major": 2,
       "version_minor": 0
      },
      "text/plain": [
       "Batches:   0%|          | 0/2 [00:00<?, ?it/s]"
      ]
     },
     "metadata": {},
     "output_type": "display_data"
    },
    {
     "data": {
      "application/vnd.jupyter.widget-view+json": {
       "model_id": "863a57c96c124942b12766f7089aa648",
       "version_major": 2,
       "version_minor": 0
      },
      "text/plain": [
       "Batches:   0%|          | 0/2 [00:00<?, ?it/s]"
      ]
     },
     "metadata": {},
     "output_type": "display_data"
    },
    {
     "data": {
      "application/vnd.jupyter.widget-view+json": {
       "model_id": "9738f1ce0eac4115bb89ad437d4d776f",
       "version_major": 2,
       "version_minor": 0
      },
      "text/plain": [
       "Batches:   0%|          | 0/2 [00:00<?, ?it/s]"
      ]
     },
     "metadata": {},
     "output_type": "display_data"
    },
    {
     "data": {
      "application/vnd.jupyter.widget-view+json": {
       "model_id": "bb0e7c9727104e2ca64dfb9be3c1d491",
       "version_major": 2,
       "version_minor": 0
      },
      "text/plain": [
       "Batches:   0%|          | 0/2 [00:00<?, ?it/s]"
      ]
     },
     "metadata": {},
     "output_type": "display_data"
    },
    {
     "data": {
      "application/vnd.jupyter.widget-view+json": {
       "model_id": "e7c514db522645db8d044a3c6a60c7dc",
       "version_major": 2,
       "version_minor": 0
      },
      "text/plain": [
       "Batches:   0%|          | 0/2 [00:00<?, ?it/s]"
      ]
     },
     "metadata": {},
     "output_type": "display_data"
    },
    {
     "data": {
      "application/vnd.jupyter.widget-view+json": {
       "model_id": "df274980077e48c5a91500f56cc79e6b",
       "version_major": 2,
       "version_minor": 0
      },
      "text/plain": [
       "Batches:   0%|          | 0/2 [00:00<?, ?it/s]"
      ]
     },
     "metadata": {},
     "output_type": "display_data"
    },
    {
     "data": {
      "application/vnd.jupyter.widget-view+json": {
       "model_id": "26805d7c75ce4968b1c215a5d7b9e35d",
       "version_major": 2,
       "version_minor": 0
      },
      "text/plain": [
       "Batches:   0%|          | 0/2 [00:00<?, ?it/s]"
      ]
     },
     "metadata": {},
     "output_type": "display_data"
    },
    {
     "data": {
      "application/vnd.jupyter.widget-view+json": {
       "model_id": "9ffe4a4efbc34366ad9bf265a0d5ef85",
       "version_major": 2,
       "version_minor": 0
      },
      "text/plain": [
       "Batches:   0%|          | 0/2 [00:00<?, ?it/s]"
      ]
     },
     "metadata": {},
     "output_type": "display_data"
    },
    {
     "data": {
      "application/vnd.jupyter.widget-view+json": {
       "model_id": "d8cad3aa585b4a0399b24c251a29abd4",
       "version_major": 2,
       "version_minor": 0
      },
      "text/plain": [
       "Batches:   0%|          | 0/2 [00:00<?, ?it/s]"
      ]
     },
     "metadata": {},
     "output_type": "display_data"
    },
    {
     "data": {
      "application/vnd.jupyter.widget-view+json": {
       "model_id": "00394d8bc103457c95b370648d98feb9",
       "version_major": 2,
       "version_minor": 0
      },
      "text/plain": [
       "Batches:   0%|          | 0/2 [00:00<?, ?it/s]"
      ]
     },
     "metadata": {},
     "output_type": "display_data"
    },
    {
     "data": {
      "application/vnd.jupyter.widget-view+json": {
       "model_id": "5772aae662a043c4bdb05b7ec0e597c0",
       "version_major": 2,
       "version_minor": 0
      },
      "text/plain": [
       "Batches:   0%|          | 0/2 [00:00<?, ?it/s]"
      ]
     },
     "metadata": {},
     "output_type": "display_data"
    },
    {
     "data": {
      "application/vnd.jupyter.widget-view+json": {
       "model_id": "168f63e788b7434fbb16d3429f1ecadd",
       "version_major": 2,
       "version_minor": 0
      },
      "text/plain": [
       "Batches:   0%|          | 0/2 [00:00<?, ?it/s]"
      ]
     },
     "metadata": {},
     "output_type": "display_data"
    },
    {
     "data": {
      "application/vnd.jupyter.widget-view+json": {
       "model_id": "4b43c0718c8a4c5c8e6748eb392d147f",
       "version_major": 2,
       "version_minor": 0
      },
      "text/plain": [
       "Batches:   0%|          | 0/2 [00:00<?, ?it/s]"
      ]
     },
     "metadata": {},
     "output_type": "display_data"
    },
    {
     "data": {
      "application/vnd.jupyter.widget-view+json": {
       "model_id": "5bfdd33649e04767ac3669f6bf0438ab",
       "version_major": 2,
       "version_minor": 0
      },
      "text/plain": [
       "Batches:   0%|          | 0/2 [00:00<?, ?it/s]"
      ]
     },
     "metadata": {},
     "output_type": "display_data"
    },
    {
     "data": {
      "application/vnd.jupyter.widget-view+json": {
       "model_id": "d6beda692a6e4922afac638dd3e7699f",
       "version_major": 2,
       "version_minor": 0
      },
      "text/plain": [
       "Batches:   0%|          | 0/2 [00:00<?, ?it/s]"
      ]
     },
     "metadata": {},
     "output_type": "display_data"
    },
    {
     "data": {
      "application/vnd.jupyter.widget-view+json": {
       "model_id": "d0e95307478b4da5a41cddf3c3622cd5",
       "version_major": 2,
       "version_minor": 0
      },
      "text/plain": [
       "Batches:   0%|          | 0/2 [00:00<?, ?it/s]"
      ]
     },
     "metadata": {},
     "output_type": "display_data"
    },
    {
     "data": {
      "application/vnd.jupyter.widget-view+json": {
       "model_id": "a99220d500ed45679c4f14f90982b27b",
       "version_major": 2,
       "version_minor": 0
      },
      "text/plain": [
       "Batches:   0%|          | 0/2 [00:00<?, ?it/s]"
      ]
     },
     "metadata": {},
     "output_type": "display_data"
    },
    {
     "data": {
      "application/vnd.jupyter.widget-view+json": {
       "model_id": "7bf994d936c14ffb86517c970fc9bb42",
       "version_major": 2,
       "version_minor": 0
      },
      "text/plain": [
       "Batches:   0%|          | 0/2 [00:00<?, ?it/s]"
      ]
     },
     "metadata": {},
     "output_type": "display_data"
    },
    {
     "data": {
      "application/vnd.jupyter.widget-view+json": {
       "model_id": "3e21b0ee142b414290907370278c900f",
       "version_major": 2,
       "version_minor": 0
      },
      "text/plain": [
       "Batches:   0%|          | 0/2 [00:00<?, ?it/s]"
      ]
     },
     "metadata": {},
     "output_type": "display_data"
    },
    {
     "data": {
      "application/vnd.jupyter.widget-view+json": {
       "model_id": "0ac7c364b6644cea87d044699156c016",
       "version_major": 2,
       "version_minor": 0
      },
      "text/plain": [
       "Batches:   0%|          | 0/2 [00:00<?, ?it/s]"
      ]
     },
     "metadata": {},
     "output_type": "display_data"
    },
    {
     "data": {
      "application/vnd.jupyter.widget-view+json": {
       "model_id": "bb34c95e96f3418ea26059a9e8906f2d",
       "version_major": 2,
       "version_minor": 0
      },
      "text/plain": [
       "Batches:   0%|          | 0/2 [00:00<?, ?it/s]"
      ]
     },
     "metadata": {},
     "output_type": "display_data"
    },
    {
     "data": {
      "application/vnd.jupyter.widget-view+json": {
       "model_id": "606ac561efea4d9689e0dd0bf809fab9",
       "version_major": 2,
       "version_minor": 0
      },
      "text/plain": [
       "Batches:   0%|          | 0/2 [00:00<?, ?it/s]"
      ]
     },
     "metadata": {},
     "output_type": "display_data"
    },
    {
     "data": {
      "application/vnd.jupyter.widget-view+json": {
       "model_id": "925c50f6825145ad88b50df3da9fbc06",
       "version_major": 2,
       "version_minor": 0
      },
      "text/plain": [
       "Batches:   0%|          | 0/2 [00:00<?, ?it/s]"
      ]
     },
     "metadata": {},
     "output_type": "display_data"
    },
    {
     "data": {
      "application/vnd.jupyter.widget-view+json": {
       "model_id": "2f525a578e684aaea089f03230b469c3",
       "version_major": 2,
       "version_minor": 0
      },
      "text/plain": [
       "Batches:   0%|          | 0/2 [00:00<?, ?it/s]"
      ]
     },
     "metadata": {},
     "output_type": "display_data"
    },
    {
     "data": {
      "application/vnd.jupyter.widget-view+json": {
       "model_id": "2c64fe431f3e4364b982bd42ac485e62",
       "version_major": 2,
       "version_minor": 0
      },
      "text/plain": [
       "Batches:   0%|          | 0/2 [00:00<?, ?it/s]"
      ]
     },
     "metadata": {},
     "output_type": "display_data"
    },
    {
     "data": {
      "application/vnd.jupyter.widget-view+json": {
       "model_id": "e2f7b9663942458db09f1d7004f930bd",
       "version_major": 2,
       "version_minor": 0
      },
      "text/plain": [
       "Batches:   0%|          | 0/2 [00:00<?, ?it/s]"
      ]
     },
     "metadata": {},
     "output_type": "display_data"
    },
    {
     "data": {
      "application/vnd.jupyter.widget-view+json": {
       "model_id": "5699944ac5234439852c416e277185c4",
       "version_major": 2,
       "version_minor": 0
      },
      "text/plain": [
       "Batches:   0%|          | 0/2 [00:00<?, ?it/s]"
      ]
     },
     "metadata": {},
     "output_type": "display_data"
    },
    {
     "data": {
      "application/vnd.jupyter.widget-view+json": {
       "model_id": "f9ac33149718453d9524f4d5154b5c2c",
       "version_major": 2,
       "version_minor": 0
      },
      "text/plain": [
       "Batches:   0%|          | 0/2 [00:00<?, ?it/s]"
      ]
     },
     "metadata": {},
     "output_type": "display_data"
    },
    {
     "data": {
      "application/vnd.jupyter.widget-view+json": {
       "model_id": "375a2632b2034bc1a710c26cf89659c7",
       "version_major": 2,
       "version_minor": 0
      },
      "text/plain": [
       "Batches:   0%|          | 0/2 [00:00<?, ?it/s]"
      ]
     },
     "metadata": {},
     "output_type": "display_data"
    },
    {
     "data": {
      "application/vnd.jupyter.widget-view+json": {
       "model_id": "c5ac970bc62e4f2cbe9240dea3dc9e0a",
       "version_major": 2,
       "version_minor": 0
      },
      "text/plain": [
       "Batches:   0%|          | 0/2 [00:00<?, ?it/s]"
      ]
     },
     "metadata": {},
     "output_type": "display_data"
    },
    {
     "name": "stderr",
     "output_type": "stream",
     "text": [
      "2024-07-02 15:06:55,490 - INFO -       Relevant sources have been retrieved for question 50 \n",
      "2024-07-02 15:06:55,492 - INFO -       Computing measures at level 1 in [1, 2, 3, 5, 10, 20, 30, 50]  for question 50\n",
      "2024-07-02 15:06:55,494 - INFO -       Computing measures at level 2 in [1, 2, 3, 5, 10, 20, 30, 50]  for question 50\n",
      "2024-07-02 15:06:55,495 - INFO -       Computing measures at level 3 in [1, 2, 3, 5, 10, 20, 30, 50]  for question 50\n",
      "2024-07-02 15:06:55,497 - INFO -       Computing measures at level 5 in [1, 2, 3, 5, 10, 20, 30, 50]  for question 50\n",
      "2024-07-02 15:06:55,498 - INFO -       Computing measures at level 10 in [1, 2, 3, 5, 10, 20, 30, 50]  for question 50\n",
      "2024-07-02 15:06:55,499 - INFO -       Computing measures at level 20 in [1, 2, 3, 5, 10, 20, 30, 50]  for question 50\n",
      "2024-07-02 15:06:55,500 - INFO -       Computing measures at level 30 in [1, 2, 3, 5, 10, 20, 30, 50]  for question 50\n",
      "2024-07-02 15:06:55,502 - INFO -       Computing measures at level 50 in [1, 2, 3, 5, 10, 20, 30, 50]  for question 50\n"
     ]
    },
    {
     "data": {
      "application/vnd.jupyter.widget-view+json": {
       "model_id": "43f296f34dee408a9436c26f321b4eec",
       "version_major": 2,
       "version_minor": 0
      },
      "text/plain": [
       "Batches:   0%|          | 0/2 [00:00<?, ?it/s]"
      ]
     },
     "metadata": {},
     "output_type": "display_data"
    },
    {
     "data": {
      "application/vnd.jupyter.widget-view+json": {
       "model_id": "b1c15b025e634bab9b67aba73c50fb00",
       "version_major": 2,
       "version_minor": 0
      },
      "text/plain": [
       "Batches:   0%|          | 0/2 [00:00<?, ?it/s]"
      ]
     },
     "metadata": {},
     "output_type": "display_data"
    },
    {
     "data": {
      "application/vnd.jupyter.widget-view+json": {
       "model_id": "bf392bcabbf14923bef45c870b7592dc",
       "version_major": 2,
       "version_minor": 0
      },
      "text/plain": [
       "Batches:   0%|          | 0/2 [00:00<?, ?it/s]"
      ]
     },
     "metadata": {},
     "output_type": "display_data"
    },
    {
     "data": {
      "application/vnd.jupyter.widget-view+json": {
       "model_id": "6cb70e021e6d418b85e16ee06e548e7f",
       "version_major": 2,
       "version_minor": 0
      },
      "text/plain": [
       "Batches:   0%|          | 0/2 [00:00<?, ?it/s]"
      ]
     },
     "metadata": {},
     "output_type": "display_data"
    },
    {
     "data": {
      "application/vnd.jupyter.widget-view+json": {
       "model_id": "5ac041cccd4240668d8924405623dcf4",
       "version_major": 2,
       "version_minor": 0
      },
      "text/plain": [
       "Batches:   0%|          | 0/2 [00:00<?, ?it/s]"
      ]
     },
     "metadata": {},
     "output_type": "display_data"
    },
    {
     "data": {
      "application/vnd.jupyter.widget-view+json": {
       "model_id": "0a489547f3754391899daadc69704981",
       "version_major": 2,
       "version_minor": 0
      },
      "text/plain": [
       "Batches:   0%|          | 0/2 [00:00<?, ?it/s]"
      ]
     },
     "metadata": {},
     "output_type": "display_data"
    },
    {
     "data": {
      "application/vnd.jupyter.widget-view+json": {
       "model_id": "ee914a092d3f47c098c17dd9ce4bb1de",
       "version_major": 2,
       "version_minor": 0
      },
      "text/plain": [
       "Batches:   0%|          | 0/2 [00:00<?, ?it/s]"
      ]
     },
     "metadata": {},
     "output_type": "display_data"
    },
    {
     "data": {
      "application/vnd.jupyter.widget-view+json": {
       "model_id": "8eeda03887ce474db2a67c77c5248c7b",
       "version_major": 2,
       "version_minor": 0
      },
      "text/plain": [
       "Batches:   0%|          | 0/2 [00:00<?, ?it/s]"
      ]
     },
     "metadata": {},
     "output_type": "display_data"
    },
    {
     "data": {
      "application/vnd.jupyter.widget-view+json": {
       "model_id": "7ad930a585e94cb69fd9ead393904cce",
       "version_major": 2,
       "version_minor": 0
      },
      "text/plain": [
       "Batches:   0%|          | 0/2 [00:00<?, ?it/s]"
      ]
     },
     "metadata": {},
     "output_type": "display_data"
    },
    {
     "data": {
      "application/vnd.jupyter.widget-view+json": {
       "model_id": "3ddbdf2e78744c41a8d593832a3c8a27",
       "version_major": 2,
       "version_minor": 0
      },
      "text/plain": [
       "Batches:   0%|          | 0/2 [00:00<?, ?it/s]"
      ]
     },
     "metadata": {},
     "output_type": "display_data"
    },
    {
     "data": {
      "application/vnd.jupyter.widget-view+json": {
       "model_id": "4b1de632efc54842afdd782c26be80b3",
       "version_major": 2,
       "version_minor": 0
      },
      "text/plain": [
       "Batches:   0%|          | 0/2 [00:00<?, ?it/s]"
      ]
     },
     "metadata": {},
     "output_type": "display_data"
    },
    {
     "data": {
      "application/vnd.jupyter.widget-view+json": {
       "model_id": "d586c40823b549e6b87b9c488e1b7adf",
       "version_major": 2,
       "version_minor": 0
      },
      "text/plain": [
       "Batches:   0%|          | 0/2 [00:00<?, ?it/s]"
      ]
     },
     "metadata": {},
     "output_type": "display_data"
    },
    {
     "data": {
      "application/vnd.jupyter.widget-view+json": {
       "model_id": "51536e24751749ebae5cf0d8a29a1a96",
       "version_major": 2,
       "version_minor": 0
      },
      "text/plain": [
       "Batches:   0%|          | 0/2 [00:00<?, ?it/s]"
      ]
     },
     "metadata": {},
     "output_type": "display_data"
    },
    {
     "data": {
      "application/vnd.jupyter.widget-view+json": {
       "model_id": "21e7221de28d4887806aeb1f7d3388ef",
       "version_major": 2,
       "version_minor": 0
      },
      "text/plain": [
       "Batches:   0%|          | 0/2 [00:00<?, ?it/s]"
      ]
     },
     "metadata": {},
     "output_type": "display_data"
    },
    {
     "data": {
      "application/vnd.jupyter.widget-view+json": {
       "model_id": "8f78e336451f41e399505af7b8877188",
       "version_major": 2,
       "version_minor": 0
      },
      "text/plain": [
       "Batches:   0%|          | 0/2 [00:00<?, ?it/s]"
      ]
     },
     "metadata": {},
     "output_type": "display_data"
    },
    {
     "data": {
      "application/vnd.jupyter.widget-view+json": {
       "model_id": "57b0ace970d74f4bbfbb9567a9fd160b",
       "version_major": 2,
       "version_minor": 0
      },
      "text/plain": [
       "Batches:   0%|          | 0/2 [00:00<?, ?it/s]"
      ]
     },
     "metadata": {},
     "output_type": "display_data"
    },
    {
     "data": {
      "application/vnd.jupyter.widget-view+json": {
       "model_id": "a74fc0e7f0d94390b0e6c3a28b6ea7d7",
       "version_major": 2,
       "version_minor": 0
      },
      "text/plain": [
       "Batches:   0%|          | 0/2 [00:00<?, ?it/s]"
      ]
     },
     "metadata": {},
     "output_type": "display_data"
    },
    {
     "data": {
      "application/vnd.jupyter.widget-view+json": {
       "model_id": "2b87a7cf0cc249038cb419e0b6305a77",
       "version_major": 2,
       "version_minor": 0
      },
      "text/plain": [
       "Batches:   0%|          | 0/2 [00:00<?, ?it/s]"
      ]
     },
     "metadata": {},
     "output_type": "display_data"
    },
    {
     "data": {
      "application/vnd.jupyter.widget-view+json": {
       "model_id": "ed3cbfad5ef642ce8d071b4b9659abd2",
       "version_major": 2,
       "version_minor": 0
      },
      "text/plain": [
       "Batches:   0%|          | 0/2 [00:00<?, ?it/s]"
      ]
     },
     "metadata": {},
     "output_type": "display_data"
    },
    {
     "data": {
      "application/vnd.jupyter.widget-view+json": {
       "model_id": "ac5e276a4f3d43438c589d67ba21559f",
       "version_major": 2,
       "version_minor": 0
      },
      "text/plain": [
       "Batches:   0%|          | 0/2 [00:00<?, ?it/s]"
      ]
     },
     "metadata": {},
     "output_type": "display_data"
    },
    {
     "data": {
      "application/vnd.jupyter.widget-view+json": {
       "model_id": "eb0221f6b35a49c28b24f6353421fbc9",
       "version_major": 2,
       "version_minor": 0
      },
      "text/plain": [
       "Batches:   0%|          | 0/2 [00:00<?, ?it/s]"
      ]
     },
     "metadata": {},
     "output_type": "display_data"
    },
    {
     "data": {
      "application/vnd.jupyter.widget-view+json": {
       "model_id": "a3b4fea6c4dd4cb99014927eec216267",
       "version_major": 2,
       "version_minor": 0
      },
      "text/plain": [
       "Batches:   0%|          | 0/2 [00:00<?, ?it/s]"
      ]
     },
     "metadata": {},
     "output_type": "display_data"
    },
    {
     "data": {
      "application/vnd.jupyter.widget-view+json": {
       "model_id": "c4f1c6da34e44ccdb59c73bae3124a51",
       "version_major": 2,
       "version_minor": 0
      },
      "text/plain": [
       "Batches:   0%|          | 0/2 [00:00<?, ?it/s]"
      ]
     },
     "metadata": {},
     "output_type": "display_data"
    },
    {
     "data": {
      "application/vnd.jupyter.widget-view+json": {
       "model_id": "d9a061d6ddae49c08100e40b226fd2ef",
       "version_major": 2,
       "version_minor": 0
      },
      "text/plain": [
       "Batches:   0%|          | 0/2 [00:00<?, ?it/s]"
      ]
     },
     "metadata": {},
     "output_type": "display_data"
    },
    {
     "data": {
      "application/vnd.jupyter.widget-view+json": {
       "model_id": "431da635ec794113bc212c1271b05b5f",
       "version_major": 2,
       "version_minor": 0
      },
      "text/plain": [
       "Batches:   0%|          | 0/2 [00:00<?, ?it/s]"
      ]
     },
     "metadata": {},
     "output_type": "display_data"
    },
    {
     "data": {
      "application/vnd.jupyter.widget-view+json": {
       "model_id": "5eadd1e65003405989b97be1ad08cedb",
       "version_major": 2,
       "version_minor": 0
      },
      "text/plain": [
       "Batches:   0%|          | 0/2 [00:00<?, ?it/s]"
      ]
     },
     "metadata": {},
     "output_type": "display_data"
    },
    {
     "data": {
      "application/vnd.jupyter.widget-view+json": {
       "model_id": "635cb7d01e7c4d5b9fb1b4655932725c",
       "version_major": 2,
       "version_minor": 0
      },
      "text/plain": [
       "Batches:   0%|          | 0/2 [00:00<?, ?it/s]"
      ]
     },
     "metadata": {},
     "output_type": "display_data"
    },
    {
     "name": "stderr",
     "output_type": "stream",
     "text": [
      "2024-07-02 15:07:01,958 - INFO -       length of all_individual recalls is 78\n"
     ]
    },
    {
     "name": "stdout",
     "output_type": "stream",
     "text": [
      "{'the_df_dataset': {'ColBERT': {'recall': {1: 0.9743589743589743, 2: 1.0, 3: 1.0, 5: 1.0, 10: 1.0, 20: 1.0, 30: 1.0, 50: 1.0}, 'precision': {1: 0.9743589743589743, 2: 0.5, 3: 0.3329999999999999, 5: 0.19999999999999993, 10: 0.19999999999999993, 20: 0.19999999999999993, 30: 0.19999999999999993, 50: 0.19999999999999993}, 'mrr': {1: 0.9743589743589743, 2: 0.9871794871794872, 3: 0.9871794871794872, 5: 0.9871794871794872, 10: 0.9871794871794872, 20: 0.9871794871794872, 30: 0.9871794871794872, 50: 0.9871794871794872}, 'ndcg': {1: 0.9743589743589743, 2: 0.990536660347986, 3: 0.9820749135836206, 5: 0.9665996856999044, 10: 0.9665996856999044, 20: 0.9665996856999044, 30: 0.9665996856999044, 50: 0.9665996856999044}, 'runtime': 17}, 'BM25': {'recall': {1: 0.8846153846153846, 2: 0.9487179487179487, 3: 0.9615384615384616, 5: 0.9743589743589743, 10: 0.9743589743589743, 20: 0.9743589743589743, 30: 0.9743589743589743, 50: 0.9743589743589743}, 'precision': {1: 0.8846153846153846, 2: 0.47435897435897434, 3: 0.3201923076923076, 5: 0.1948717948717948, 10: 0.1948717948717948, 20: 0.1948717948717948, 30: 0.1948717948717948, 50: 0.1948717948717948}, 'mrr': {1: 0.8846153846153846, 2: 0.9166666666666666, 3: 0.9209401709401709, 5: 0.9235042735042734, 10: 0.9235042735042734, 20: 0.9235042735042734, 30: 0.9235042735042734, 50: 0.9235042735042734}, 'ndcg': {1: 0.8846153846153846, 2: 0.9250595995879138, 3: 0.9235813667881615, 5: 0.9119060499289802, 10: 0.9119060499289802, 20: 0.9119060499289802, 30: 0.9119060499289802, 50: 0.9119060499289802}, 'runtime': 15}, 'test1': {'recall': {1: 0.9230769230769231, 2: 0.9615384615384616, 3: 0.9743589743589743, 5: 1.0, 10: 1.0, 20: 1.0, 30: 1.0, 50: 1.0}, 'precision': {1: 0.9230769230769231, 2: 0.4807692307692308, 3: 0.32446153846153836, 5: 0.19999999999999993, 10: 0.19999999999999993, 20: 0.19999999999999993, 30: 0.19999999999999993, 50: 0.19999999999999993}, 'mrr': {1: 0.9230769230769231, 2: 0.9423076923076923, 3: 0.9465811965811967, 5: 0.9523504273504273, 10: 0.9523504273504273, 20: 0.9523504273504273, 30: 0.9523504273504273, 50: 0.9523504273504273}, 'ndcg': {1: 0.9230769230769231, 2: 0.9473434520604408, 3: 0.9471224214614293, 5: 0.9490713218107328, 10: 0.9490713218107328, 20: 0.9490713218107328, 30: 0.9490713218107328, 50: 0.9490713218107328}, 'runtime': 33}}}\n"
     ]
    }
   ],
   "source": [
    "from evaluation import RetrievalConfiguration, RetrievalEvaluator\n",
    "\n",
    "# Define retrieval configurations\n",
    "\"\"\"eval_configs = [\n",
    "    RetrievalConfiguration(\n",
    "        name='test1',\n",
    "        database=\"chromadb\",\n",
    "        database_path=\"../data/insee_documents_sample_ref_retrieval_evaluation.csv\",\n",
    "        collection=\"test_data\",\n",
    "        embedding_model_name=\"OrdalieTech/Solon-embeddings-large-0.1\",\n",
    "        reranker_type='BM25',\n",
    "        reranker_name=None,\n",
    "        k_values=[1, 2, 3, 5, 10, 20, 30, 50]\n",
    "    ),\n",
    "    RetrievalConfiguration(\n",
    "        name='test1',\n",
    "        database=\"chromadb\",\n",
    "        database_path=\"../data/insee_documents_sample_ref_retrieval_evaluation.csv\",\n",
    "        collection=\"test_data\",\n",
    "        embedding_model_name=\"OrdalieTech/Solon-embeddings-large-0.1\",\n",
    "        reranker_type=None,\n",
    "        reranker_name=None,\n",
    "        k_values=[1, 2, 3, 5, 10, 20, 30, 50]\n",
    "    ),\n",
    "    RetrievalConfiguration(\n",
    "        name='test1',\n",
    "        database=\"chromadb\",\n",
    "        database_path=\"../data/insee_documents_sample_ref_retrieval_evaluation.csv\",\n",
    "        collection=\"test_data\",\n",
    "        embedding_model_name=\"OrdalieTech/Solon-embeddings-large-0.1\",\n",
    "        reranker_type=\"Cross-encoder\",\n",
    "        reranker_name=\"BAAI/bge-reranker-base\",\n",
    "        k_values=[1, 2, 3, 5, 10, 20, 30, 50]\n",
    "    )\n",
    "]\n",
    "RetrievalConfiguration(\n",
    "            name='test1',\n",
    "            database=\"chromadb\",\n",
    "            database_path=\"../data/insee_documents_sample_ref_retrieval_evaluation.csv\",\n",
    "            collection=\"test_data\",\n",
    "            embedding_model_name=\"OrdalieTech/Solon-embeddings-large-0.1\",\n",
    "            reranker_type=None,\n",
    "            reranker_name=None,\n",
    "            k_values=[1, 2, 3, 5, 10, 20, 30, 50]\n",
    "\"\"\"\n",
    "eval_configs = [\n",
    "    RetrievalConfiguration(\n",
    "            name='ColBERT',\n",
    "            database=\"chromadb\",\n",
    "            collection=\"Solon-embeddings-large-0.1\",\n",
    "            database_path=\"../data/insee_documents_sample_ref_retrieval_evaluation.csv\",\n",
    "            embedding_model_name=\"OrdalieTech/Solon-embeddings-large-0.1\",\n",
    "            reranker_type=\"ColBERT\",\n",
    "            reranker_name=\"antoinelouis/colbertv2-camembert-L4-mmarcoFR\",\n",
    "            k_values=[1, 2, 3, 5, 10, 20, 30, 50]\n",
    "        ), \n",
    "    RetrievalConfiguration(\n",
    "        name='BM25',\n",
    "        database=\"chromadb\",\n",
    "        collection=\"Solon-embeddings-large-0.1\",\n",
    "        database_path=\"../data/insee_documents_sample_ref_retrieval_evaluation.csv\",\n",
    "        embedding_model_name=\"OrdalieTech/Solon-embeddings-large-0.1\",\n",
    "        reranker_type='BM25',\n",
    "        reranker_name=None,\n",
    "        k_values=[1, 2, 3, 5, 10, 20, 30, 50]\n",
    "        ),\n",
    "    RetrievalConfiguration(\n",
    "        name='test1',\n",
    "        database=\"chromadb\",\n",
    "        database_path=\"../data/insee_documents_sample_ref_retrieval_evaluation.csv\",\n",
    "        collection=\"Solon-embeddings-large-0.1\",\n",
    "        embedding_model_name=\"OrdalieTech/Solon-embeddings-large-0.1\",\n",
    "        reranker_type=\"Cross-encoder\",\n",
    "        reranker_name=\"BAAI/bge-reranker-base\",\n",
    "        k_values=[1, 2, 3, 5, 10, 20, 30, 50]\n",
    "    )\n",
    "    ]\n",
    "\n",
    "# Run the evaluator\n",
    "results = RetrievalEvaluator.run(\n",
    "    eval_configurations=eval_configs,\n",
    "    eval_dict=df_dict,  # Ensure 'df_dict' is a dictionary containing pandas DataFrames with the required structure\n",
    ")\n",
    "\n",
    "# Print or process results\n",
    "print(results)"
   ]
  },
  {
   "cell_type": "code",
   "execution_count": 4,
   "id": "33efae9d",
   "metadata": {},
   "outputs": [
    {
     "data": {
      "text/plain": [
       "{'the_df_dataset': {'ColBERT': {'recall': {1: 0.9743589743589743,\n",
       "    2: 1.0,\n",
       "    3: 1.0,\n",
       "    5: 1.0,\n",
       "    10: 1.0,\n",
       "    20: 1.0,\n",
       "    30: 1.0,\n",
       "    50: 1.0},\n",
       "   'precision': {1: 0.9743589743589743,\n",
       "    2: 0.5,\n",
       "    3: 0.3329999999999999,\n",
       "    5: 0.19999999999999993,\n",
       "    10: 0.19999999999999993,\n",
       "    20: 0.19999999999999993,\n",
       "    30: 0.19999999999999993,\n",
       "    50: 0.19999999999999993},\n",
       "   'mrr': {1: 0.9743589743589743,\n",
       "    2: 0.9871794871794872,\n",
       "    3: 0.9871794871794872,\n",
       "    5: 0.9871794871794872,\n",
       "    10: 0.9871794871794872,\n",
       "    20: 0.9871794871794872,\n",
       "    30: 0.9871794871794872,\n",
       "    50: 0.9871794871794872},\n",
       "   'ndcg': {1: 0.9743589743589743,\n",
       "    2: 0.990536660347986,\n",
       "    3: 0.9820749135836206,\n",
       "    5: 0.9665996856999044,\n",
       "    10: 0.9665996856999044,\n",
       "    20: 0.9665996856999044,\n",
       "    30: 0.9665996856999044,\n",
       "    50: 0.9665996856999044},\n",
       "   'runtime': 17},\n",
       "  'BM25': {'recall': {1: 0.8846153846153846,\n",
       "    2: 0.9487179487179487,\n",
       "    3: 0.9615384615384616,\n",
       "    5: 0.9743589743589743,\n",
       "    10: 0.9743589743589743,\n",
       "    20: 0.9743589743589743,\n",
       "    30: 0.9743589743589743,\n",
       "    50: 0.9743589743589743},\n",
       "   'precision': {1: 0.8846153846153846,\n",
       "    2: 0.47435897435897434,\n",
       "    3: 0.3201923076923076,\n",
       "    5: 0.1948717948717948,\n",
       "    10: 0.1948717948717948,\n",
       "    20: 0.1948717948717948,\n",
       "    30: 0.1948717948717948,\n",
       "    50: 0.1948717948717948},\n",
       "   'mrr': {1: 0.8846153846153846,\n",
       "    2: 0.9166666666666666,\n",
       "    3: 0.9209401709401709,\n",
       "    5: 0.9235042735042734,\n",
       "    10: 0.9235042735042734,\n",
       "    20: 0.9235042735042734,\n",
       "    30: 0.9235042735042734,\n",
       "    50: 0.9235042735042734},\n",
       "   'ndcg': {1: 0.8846153846153846,\n",
       "    2: 0.9250595995879138,\n",
       "    3: 0.9235813667881615,\n",
       "    5: 0.9119060499289802,\n",
       "    10: 0.9119060499289802,\n",
       "    20: 0.9119060499289802,\n",
       "    30: 0.9119060499289802,\n",
       "    50: 0.9119060499289802},\n",
       "   'runtime': 15},\n",
       "  'test1': {'recall': {1: 0.9230769230769231,\n",
       "    2: 0.9615384615384616,\n",
       "    3: 0.9743589743589743,\n",
       "    5: 1.0,\n",
       "    10: 1.0,\n",
       "    20: 1.0,\n",
       "    30: 1.0,\n",
       "    50: 1.0},\n",
       "   'precision': {1: 0.9230769230769231,\n",
       "    2: 0.4807692307692308,\n",
       "    3: 0.32446153846153836,\n",
       "    5: 0.19999999999999993,\n",
       "    10: 0.19999999999999993,\n",
       "    20: 0.19999999999999993,\n",
       "    30: 0.19999999999999993,\n",
       "    50: 0.19999999999999993},\n",
       "   'mrr': {1: 0.9230769230769231,\n",
       "    2: 0.9423076923076923,\n",
       "    3: 0.9465811965811967,\n",
       "    5: 0.9523504273504273,\n",
       "    10: 0.9523504273504273,\n",
       "    20: 0.9523504273504273,\n",
       "    30: 0.9523504273504273,\n",
       "    50: 0.9523504273504273},\n",
       "   'ndcg': {1: 0.9230769230769231,\n",
       "    2: 0.9473434520604408,\n",
       "    3: 0.9471224214614293,\n",
       "    5: 0.9490713218107328,\n",
       "    10: 0.9490713218107328,\n",
       "    20: 0.9490713218107328,\n",
       "    30: 0.9490713218107328,\n",
       "    50: 0.9490713218107328},\n",
       "   'runtime': 33}}}"
      ]
     },
     "execution_count": 4,
     "metadata": {},
     "output_type": "execute_result"
    }
   ],
   "source": [
    "results"
   ]
  },
  {
   "cell_type": "markdown",
   "id": "2cab10c5",
   "metadata": {},
   "source": [
    "## Test 28/06/2024 - Update Retrieval Evaluation process"
   ]
  }
 ],
 "metadata": {
  "kernelspec": {
   "display_name": "Python 3 (ipykernel)",
   "language": "python",
   "name": "python3"
  },
  "language_info": {
   "codemirror_mode": {
    "name": "ipython",
    "version": 3
   },
   "file_extension": ".py",
   "mimetype": "text/x-python",
   "name": "python",
   "nbconvert_exporter": "python",
   "pygments_lexer": "ipython3",
   "version": "3.12.3"
  }
 },
 "nbformat": 4,
 "nbformat_minor": 5
}
