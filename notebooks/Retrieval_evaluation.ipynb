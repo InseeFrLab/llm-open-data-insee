{
 "cells": [
  {
   "cell_type": "markdown",
   "metadata": {},
   "source": [
    "# Retrieval Information Evaluation"
   ]
  },
  {
   "cell_type": "markdown",
   "metadata": {},
   "source": [
    "Goal : Evaluate Retrieval part of the RAG pipeline."
   ]
  },
  {
   "cell_type": "markdown",
   "metadata": {},
   "source": [
    "- use appropriate non Eval LLM metrics like Recall from Information Retrieval (IR) (LLM based metrics will be used later on)\n",
    "- Allow hyperparameter tuning (chunck size, embedding model, number of retrieved documents, use a RERANKER or not, add metadata to the chuncks)\n",
    "- Create clear visuals\n",
    "- Focus on Reproductibility with a small dataset. "
   ]
  },
  {
   "cell_type": "markdown",
   "metadata": {},
   "source": [
    "**IMPORTANT** : If you want to get access to the sample dataset for the embedding models Retrieval Information Evaluation, you need to load the relevant documents from this S3 bucket folder: **s3/projet-llm-insee-open-data/data/eval_data/eval_retrieval/**"
   ]
  },
  {
   "cell_type": "markdown",
   "metadata": {},
   "source": [
    "### Extract data sample"
   ]
  },
  {
   "cell_type": "markdown",
   "metadata": {},
   "source": [
    "From **data_complete.csv** (raw data) OR **insee_documents.csv** (Extracted metadata and paragraphs)"
   ]
  },
  {
   "cell_type": "code",
   "execution_count": null,
   "metadata": {},
   "outputs": [],
   "source": [
    "#python insee_data_processing.py\n",
    "import pandas as pd\n",
    "\n",
    "data = pd.read_csv(\"data_complete.csv\", low_memory=False)\n",
    "data_sample = data.sample(1000)\n",
    "data_sample.head()\n",
    "\n",
    "from utils import extract_paragraphs\n",
    "data_sample = extract_paragraphs(data_sample)"
   ]
  },
  {
   "cell_type": "code",
   "execution_count": 4,
   "metadata": {},
   "outputs": [
    {
     "data": {
      "text/html": [
       "<div>\n",
       "<style scoped>\n",
       "    .dataframe tbody tr th:only-of-type {\n",
       "        vertical-align: middle;\n",
       "    }\n",
       "\n",
       "    .dataframe tbody tr th {\n",
       "        vertical-align: top;\n",
       "    }\n",
       "\n",
       "    .dataframe thead th {\n",
       "        text-align: right;\n",
       "    }\n",
       "</style>\n",
       "<table border=\"1\" class=\"dataframe\">\n",
       "  <thead>\n",
       "    <tr style=\"text-align: right;\">\n",
       "      <th></th>\n",
       "      <th>Unnamed: 0</th>\n",
       "      <th>id_origin</th>\n",
       "      <th>paragraphs</th>\n",
       "      <th>url_source</th>\n",
       "      <th>titles_para</th>\n",
       "      <th>categories</th>\n",
       "      <th>dateDiffusion</th>\n",
       "      <th>themes</th>\n",
       "      <th>collections</th>\n",
       "      <th>libelleAffichageGeo</th>\n",
       "      <th>intertitres</th>\n",
       "      <th>authors</th>\n",
       "      <th>subtitle</th>\n",
       "    </tr>\n",
       "  </thead>\n",
       "  <tbody>\n",
       "    <tr>\n",
       "      <th>0</th>\n",
       "      <td>0</td>\n",
       "      <td>1280888</td>\n",
       "      <td>Entre 2008 et 2010, dans un contexte de crise,...</td>\n",
       "      <td>https://www.insee.fr/fr/statistiques/1280888</td>\n",
       "      <td>Innover pour résister à la crise ou se dévelop...</td>\n",
       "      <td>Publications grand public</td>\n",
       "      <td>2012-10-23T22:00:00Z</td>\n",
       "      <td>['Mondialisation, compétitivité et innovation']</td>\n",
       "      <td>Insee Première</td>\n",
       "      <td>France</td>\n",
       "      <td>Entre 2008 et 2010, la moitié des sociétés de ...</td>\n",
       "      <td>['Anthony Bouvier', 'division Enquêtes thémati...</td>\n",
       "      <td>NaN</td>\n",
       "    </tr>\n",
       "    <tr>\n",
       "      <th>1</th>\n",
       "      <td>1</td>\n",
       "      <td>1280890</td>\n",
       "      <td>En 2011, le déficit public s’établit à 103,1mi...</td>\n",
       "      <td>https://www.insee.fr/fr/statistiques/1280890</td>\n",
       "      <td>Les comptes des administrations publiques en 2011</td>\n",
       "      <td>Publications grand public</td>\n",
       "      <td>2012-05-15T05:30:00Z</td>\n",
       "      <td>['Finances publiques']</td>\n",
       "      <td>Insee Première</td>\n",
       "      <td>France</td>\n",
       "      <td>En 2011, le déficit public atteint 5,2 % du PI...</td>\n",
       "      <td>['Denis Boisnault', 'département des Comptes n...</td>\n",
       "      <td>NaN</td>\n",
       "    </tr>\n",
       "    <tr>\n",
       "      <th>2</th>\n",
       "      <td>2</td>\n",
       "      <td>1280892</td>\n",
       "      <td>L’année agricole 2012 est marquée par l’abonda...</td>\n",
       "      <td>https://www.insee.fr/fr/statistiques/1280892</td>\n",
       "      <td>Les comptes prévisionnels de l’agriculture pou...</td>\n",
       "      <td>Publications grand public</td>\n",
       "      <td>2012-12-12T16:00:00Z</td>\n",
       "      <td>['Agriculture']</td>\n",
       "      <td>Insee Première</td>\n",
       "      <td>France</td>\n",
       "      <td>Le prix des céréales augmente fortement Le pri...</td>\n",
       "      <td>['Claire Lesdos-Cauhapé', 'division Industrie ...</td>\n",
       "      <td>Les récoltes de céréales augmentent et leurs p...</td>\n",
       "    </tr>\n",
       "    <tr>\n",
       "      <th>3</th>\n",
       "      <td>3</td>\n",
       "      <td>1280894</td>\n",
       "      <td>En 2009, en France, 1,6 million de personnes, ...</td>\n",
       "      <td>https://www.insee.fr/fr/statistiques/1280894</td>\n",
       "      <td>La vie en communauté: 1,6 million de personnes...</td>\n",
       "      <td>Publications grand public</td>\n",
       "      <td>2013-02-05T23:00:00Z</td>\n",
       "      <td>['Évolution et structure de la population', 'L...</td>\n",
       "      <td>Insee Première</td>\n",
       "      <td>France</td>\n",
       "      <td>En 2009, un habitant sur 40 vit dans une commu...</td>\n",
       "      <td>['David Pirou', 'Nadine Poullain et Sandrine R...</td>\n",
       "      <td>NaN</td>\n",
       "    </tr>\n",
       "    <tr>\n",
       "      <th>4</th>\n",
       "      <td>4</td>\n",
       "      <td>1280896</td>\n",
       "      <td>En 2009, 25,7 millions de personnes occupent u...</td>\n",
       "      <td>https://www.insee.fr/fr/statistiques/1280896</td>\n",
       "      <td>Une photographie du marché du travail en 2009</td>\n",
       "      <td>Publications grand public</td>\n",
       "      <td>2011-01-13T23:00:00Z</td>\n",
       "      <td>['Emploi – Population active', 'Chômage']</td>\n",
       "      <td>Insee Première</td>\n",
       "      <td>France</td>\n",
       "      <td>En un an, le taux d'emploi a chuté de 1,2 poin...</td>\n",
       "      <td>['Anne Mansuy et Cédric Nouël de la Buzonnière...</td>\n",
       "      <td>Résultats de l’enquête Emploi</td>\n",
       "    </tr>\n",
       "    <tr>\n",
       "      <th>...</th>\n",
       "      <td>...</td>\n",
       "      <td>...</td>\n",
       "      <td>...</td>\n",
       "      <td>...</td>\n",
       "      <td>...</td>\n",
       "      <td>...</td>\n",
       "      <td>...</td>\n",
       "      <td>...</td>\n",
       "      <td>...</td>\n",
       "      <td>...</td>\n",
       "      <td>...</td>\n",
       "      <td>...</td>\n",
       "      <td>...</td>\n",
       "    </tr>\n",
       "    <tr>\n",
       "      <th>34562</th>\n",
       "      <td>34562</td>\n",
       "      <td>8059425</td>\n",
       "      <td>En février 2024, le prix du pétrole en euros a...</td>\n",
       "      <td>https://www.insee.fr/fr/information/8059425</td>\n",
       "      <td>En février 2024, le prix du pétrole accélère, ...</td>\n",
       "      <td>Publications pour expert</td>\n",
       "      <td>2024-03-22T11:00:00Z</td>\n",
       "      <td>['Commerce extérieur', 'Énergie', 'Économie gé...</td>\n",
       "      <td>Informations rapides</td>\n",
       "      <td>France</td>\n",
       "      <td>Matières premières importées (ensemble, hors é...</td>\n",
       "      <td>[]</td>\n",
       "      <td>Prix des énergies et des matières premières im...</td>\n",
       "    </tr>\n",
       "    <tr>\n",
       "      <th>34563</th>\n",
       "      <td>34563</td>\n",
       "      <td>8059442</td>\n",
       "      <td>Au quatrième trimestre 2023, l’indice des loye...</td>\n",
       "      <td>https://www.insee.fr/fr/information/8059442</td>\n",
       "      <td>Au quatrième trimestre 2023, l’indice des loye...</td>\n",
       "      <td>Publications pour expert</td>\n",
       "      <td>2024-03-29T11:00:00Z</td>\n",
       "      <td>['Caractéristiques du commerce', 'Conjoncture']</td>\n",
       "      <td>Informations rapides</td>\n",
       "      <td>France</td>\n",
       "      <td>Indice des loyers commerciaux Indice des loyer...</td>\n",
       "      <td>[]</td>\n",
       "      <td>Indice des loyers commerciaux (ILC) - quatrièm...</td>\n",
       "    </tr>\n",
       "    <tr>\n",
       "      <th>34564</th>\n",
       "      <td>34564</td>\n",
       "      <td>8059444</td>\n",
       "      <td>Entre fin septembre 2023 et fin décembre 2023,...</td>\n",
       "      <td>https://www.insee.fr/fr/information/8059444</td>\n",
       "      <td>Au quatrième trimestre 2023, l’emploi salarié ...</td>\n",
       "      <td>Publications pour expert</td>\n",
       "      <td>2024-03-26T11:00:00Z</td>\n",
       "      <td>['Chômage', 'Conjoncture']</td>\n",
       "      <td>Informations rapides</td>\n",
       "      <td>France</td>\n",
       "      <td>L’emploi est quasi stable pour un grand nombre...</td>\n",
       "      <td>[]</td>\n",
       "      <td>Emploi et taux de chômage localisés (par régio...</td>\n",
       "    </tr>\n",
       "    <tr>\n",
       "      <th>34565</th>\n",
       "      <td>34565</td>\n",
       "      <td>8059452</td>\n",
       "      <td>L’indice du coût de la construction (ICC) s’ét...</td>\n",
       "      <td>https://www.insee.fr/fr/information/8059452</td>\n",
       "      <td>Au quatrième trimestre 2023, l’indice du coût ...</td>\n",
       "      <td>Publications pour expert</td>\n",
       "      <td>2024-03-29T11:00:00Z</td>\n",
       "      <td>['Construction', 'Conjoncture']</td>\n",
       "      <td>Informations rapides</td>\n",
       "      <td>France</td>\n",
       "      <td>Indice du coût de la construction Indice du co...</td>\n",
       "      <td>[]</td>\n",
       "      <td>Indice du coût de la construction (ICC) - quat...</td>\n",
       "    </tr>\n",
       "    <tr>\n",
       "      <th>34566</th>\n",
       "      <td>34566</td>\n",
       "      <td>8059454</td>\n",
       "      <td>Au quatrième trimestre 2023, l’indice des loye...</td>\n",
       "      <td>https://www.insee.fr/fr/information/8059454</td>\n",
       "      <td>Au quatrième trimestre 2023, l’indice des loye...</td>\n",
       "      <td>Publications pour expert</td>\n",
       "      <td>2024-03-29T11:00:00Z</td>\n",
       "      <td>['Caractéristiques du commerce', 'Caractéristi...</td>\n",
       "      <td>Informations rapides</td>\n",
       "      <td>France</td>\n",
       "      <td>Indice des loyers des activités tertiaires Ind...</td>\n",
       "      <td>[]</td>\n",
       "      <td>Indice des loyers des activités tertiaires (IL...</td>\n",
       "    </tr>\n",
       "  </tbody>\n",
       "</table>\n",
       "<p>34567 rows × 13 columns</p>\n",
       "</div>"
      ],
      "text/plain": [
       "       Unnamed: 0  id_origin  \\\n",
       "0               0    1280888   \n",
       "1               1    1280890   \n",
       "2               2    1280892   \n",
       "3               3    1280894   \n",
       "4               4    1280896   \n",
       "...           ...        ...   \n",
       "34562       34562    8059425   \n",
       "34563       34563    8059442   \n",
       "34564       34564    8059444   \n",
       "34565       34565    8059452   \n",
       "34566       34566    8059454   \n",
       "\n",
       "                                              paragraphs  \\\n",
       "0      Entre 2008 et 2010, dans un contexte de crise,...   \n",
       "1      En 2011, le déficit public s’établit à 103,1mi...   \n",
       "2      L’année agricole 2012 est marquée par l’abonda...   \n",
       "3      En 2009, en France, 1,6 million de personnes, ...   \n",
       "4      En 2009, 25,7 millions de personnes occupent u...   \n",
       "...                                                  ...   \n",
       "34562  En février 2024, le prix du pétrole en euros a...   \n",
       "34563  Au quatrième trimestre 2023, l’indice des loye...   \n",
       "34564  Entre fin septembre 2023 et fin décembre 2023,...   \n",
       "34565  L’indice du coût de la construction (ICC) s’ét...   \n",
       "34566  Au quatrième trimestre 2023, l’indice des loye...   \n",
       "\n",
       "                                         url_source  \\\n",
       "0      https://www.insee.fr/fr/statistiques/1280888   \n",
       "1      https://www.insee.fr/fr/statistiques/1280890   \n",
       "2      https://www.insee.fr/fr/statistiques/1280892   \n",
       "3      https://www.insee.fr/fr/statistiques/1280894   \n",
       "4      https://www.insee.fr/fr/statistiques/1280896   \n",
       "...                                             ...   \n",
       "34562   https://www.insee.fr/fr/information/8059425   \n",
       "34563   https://www.insee.fr/fr/information/8059442   \n",
       "34564   https://www.insee.fr/fr/information/8059444   \n",
       "34565   https://www.insee.fr/fr/information/8059452   \n",
       "34566   https://www.insee.fr/fr/information/8059454   \n",
       "\n",
       "                                             titles_para  \\\n",
       "0      Innover pour résister à la crise ou se dévelop...   \n",
       "1      Les comptes des administrations publiques en 2011   \n",
       "2      Les comptes prévisionnels de l’agriculture pou...   \n",
       "3      La vie en communauté: 1,6 million de personnes...   \n",
       "4          Une photographie du marché du travail en 2009   \n",
       "...                                                  ...   \n",
       "34562  En février 2024, le prix du pétrole accélère, ...   \n",
       "34563  Au quatrième trimestre 2023, l’indice des loye...   \n",
       "34564  Au quatrième trimestre 2023, l’emploi salarié ...   \n",
       "34565  Au quatrième trimestre 2023, l’indice du coût ...   \n",
       "34566  Au quatrième trimestre 2023, l’indice des loye...   \n",
       "\n",
       "                      categories         dateDiffusion  \\\n",
       "0      Publications grand public  2012-10-23T22:00:00Z   \n",
       "1      Publications grand public  2012-05-15T05:30:00Z   \n",
       "2      Publications grand public  2012-12-12T16:00:00Z   \n",
       "3      Publications grand public  2013-02-05T23:00:00Z   \n",
       "4      Publications grand public  2011-01-13T23:00:00Z   \n",
       "...                          ...                   ...   \n",
       "34562   Publications pour expert  2024-03-22T11:00:00Z   \n",
       "34563   Publications pour expert  2024-03-29T11:00:00Z   \n",
       "34564   Publications pour expert  2024-03-26T11:00:00Z   \n",
       "34565   Publications pour expert  2024-03-29T11:00:00Z   \n",
       "34566   Publications pour expert  2024-03-29T11:00:00Z   \n",
       "\n",
       "                                                  themes  \\\n",
       "0        ['Mondialisation, compétitivité et innovation']   \n",
       "1                                 ['Finances publiques']   \n",
       "2                                        ['Agriculture']   \n",
       "3      ['Évolution et structure de la population', 'L...   \n",
       "4              ['Emploi – Population active', 'Chômage']   \n",
       "...                                                  ...   \n",
       "34562  ['Commerce extérieur', 'Énergie', 'Économie gé...   \n",
       "34563    ['Caractéristiques du commerce', 'Conjoncture']   \n",
       "34564                         ['Chômage', 'Conjoncture']   \n",
       "34565                    ['Construction', 'Conjoncture']   \n",
       "34566  ['Caractéristiques du commerce', 'Caractéristi...   \n",
       "\n",
       "                collections libelleAffichageGeo  \\\n",
       "0            Insee Première              France   \n",
       "1            Insee Première              France   \n",
       "2            Insee Première              France   \n",
       "3            Insee Première              France   \n",
       "4            Insee Première              France   \n",
       "...                     ...                 ...   \n",
       "34562  Informations rapides              France   \n",
       "34563  Informations rapides              France   \n",
       "34564  Informations rapides              France   \n",
       "34565  Informations rapides              France   \n",
       "34566  Informations rapides              France   \n",
       "\n",
       "                                             intertitres  \\\n",
       "0      Entre 2008 et 2010, la moitié des sociétés de ...   \n",
       "1      En 2011, le déficit public atteint 5,2 % du PI...   \n",
       "2      Le prix des céréales augmente fortement Le pri...   \n",
       "3      En 2009, un habitant sur 40 vit dans une commu...   \n",
       "4      En un an, le taux d'emploi a chuté de 1,2 poin...   \n",
       "...                                                  ...   \n",
       "34562  Matières premières importées (ensemble, hors é...   \n",
       "34563  Indice des loyers commerciaux Indice des loyer...   \n",
       "34564  L’emploi est quasi stable pour un grand nombre...   \n",
       "34565  Indice du coût de la construction Indice du co...   \n",
       "34566  Indice des loyers des activités tertiaires Ind...   \n",
       "\n",
       "                                                 authors  \\\n",
       "0      ['Anthony Bouvier', 'division Enquêtes thémati...   \n",
       "1      ['Denis Boisnault', 'département des Comptes n...   \n",
       "2      ['Claire Lesdos-Cauhapé', 'division Industrie ...   \n",
       "3      ['David Pirou', 'Nadine Poullain et Sandrine R...   \n",
       "4      ['Anne Mansuy et Cédric Nouël de la Buzonnière...   \n",
       "...                                                  ...   \n",
       "34562                                                 []   \n",
       "34563                                                 []   \n",
       "34564                                                 []   \n",
       "34565                                                 []   \n",
       "34566                                                 []   \n",
       "\n",
       "                                                subtitle  \n",
       "0                                                    NaN  \n",
       "1                                                    NaN  \n",
       "2      Les récoltes de céréales augmentent et leurs p...  \n",
       "3                                                    NaN  \n",
       "4                          Résultats de l’enquête Emploi  \n",
       "...                                                  ...  \n",
       "34562  Prix des énergies et des matières premières im...  \n",
       "34563  Indice des loyers commerciaux (ILC) - quatrièm...  \n",
       "34564  Emploi et taux de chômage localisés (par régio...  \n",
       "34565  Indice du coût de la construction (ICC) - quat...  \n",
       "34566  Indice des loyers des activités tertiaires (IL...  \n",
       "\n",
       "[34567 rows x 13 columns]"
      ]
     },
     "execution_count": 4,
     "metadata": {},
     "output_type": "execute_result"
    }
   ],
   "source": [
    "from tqdm import tqdm\n",
    "from langchain.docstore.document import Document as LangchainDocument\n",
    "\n",
    "# pd.DataFrame.from_dict(data_sample)\n",
    "ds = pd.read_csv(\"insee_documents.csv\", low_memory=False)"
   ]
  },
  {
   "cell_type": "code",
   "execution_count": 52,
   "metadata": {},
   "outputs": [
    {
     "name": "stderr",
     "output_type": "stream",
     "text": [
      "560it [00:00, 5598.10it/s]"
     ]
    },
    {
     "name": "stderr",
     "output_type": "stream",
     "text": [
      "34567it [00:02, 12321.21it/s]\n"
     ]
    }
   ],
   "source": [
    "langchain_docs = [LangchainDocument(\n",
    "            page_content= doc[\"paragraphs\"],\n",
    "             metadata={\"source\": doc[\"url_source\"], \n",
    "             \"title\": doc[\"titles_para\"],\n",
    "             \"insee_id\": doc[\"id_origin\"], \n",
    "             \"categories\" : doc[\"categories\"],\n",
    "             \"date_diffusion\" : doc[\"dateDiffusion\"], \n",
    "             \"themes\" : doc[\"themes\"],\n",
    "             \"collections\" : doc[\"collections\"], \n",
    "             \"libelleAffichageGeo\" : doc[\"libelleAffichageGeo\"], \n",
    "             \"intertitres\" : doc[\"intertitres\"],\n",
    "             \"authors\" : doc[\"authors\"],\n",
    "             \"subtitle\" : doc[\"subtitle\"]\n",
    "             }) for _, doc in tqdm(ds.iterrows())]"
   ]
  },
  {
   "cell_type": "code",
   "execution_count": 53,
   "metadata": {},
   "outputs": [
    {
     "data": {
      "text/plain": [
       "34567"
      ]
     },
     "execution_count": 53,
     "metadata": {},
     "output_type": "execute_result"
    }
   ],
   "source": [
    "len(langchain_docs)"
   ]
  },
  {
   "cell_type": "markdown",
   "metadata": {},
   "source": [
    "### Get the top N documents with largest contexts"
   ]
  },
  {
   "cell_type": "code",
   "execution_count": 59,
   "metadata": {},
   "outputs": [],
   "source": [
    "from typing import List \n",
    "\n",
    "def get_top_n_documents_with_largest_content(documents : List[LangchainDocument], n=1000):\n",
    "    # Create a list of tuples (content_size, document)\n",
    "    document_sizes = [(len(doc.page_content.split()), doc) for doc in documents]\n",
    "\n",
    "    # Sort the list by content size in descending order\n",
    "    sorted_documents = sorted(document_sizes, key=lambda x: x[0], reverse=True)\n",
    "\n",
    "    # Get the top N documents\n",
    "    top_n_documents = [doc for (_ , doc) in sorted_documents[:n]]\n",
    "\n",
    "    return top_n_documents\n",
    "\n",
    "sample_langchain_docs = get_top_n_documents_with_largest_content(langchain_docs, n=100)"
   ]
  },
  {
   "cell_type": "code",
   "execution_count": 60,
   "metadata": {},
   "outputs": [
    {
     "data": {
      "text/plain": [
       "{'Services': (3, 20281, 17138.33, 15235),\n",
       " 'Publications grand public': (51, 15990, 6858.88, 5010),\n",
       " 'Courrier des statistiques': (42, 7082, 5790.71, 4962),\n",
       " 'Publications pour expert': (4, 5637, 5395.25, 5157)}"
      ]
     },
     "execution_count": 60,
     "metadata": {},
     "output_type": "execute_result"
    }
   ],
   "source": [
    "import numpy as np \n",
    "\n",
    "def stats(documents : List[LangchainDocument], type = \"categories\"):\n",
    "    if not documents:\n",
    "        return None, None, None\n",
    "\n",
    "    res = {}\n",
    "    for doc in documents :\n",
    "        if doc.metadata[type] in res.keys():\n",
    "            res[doc.metadata[type]].append(len(doc.page_content.split()))\n",
    "        else:\n",
    "            res[doc.metadata[type]] = [len(doc.page_content.split())]\n",
    "\n",
    "    for k in res.keys():\n",
    "        lengths = res[k]\n",
    "        n = len(lengths)\n",
    "        max_length = max(lengths)\n",
    "        min_length = min(lengths)\n",
    "        avg_length = sum(lengths) / len(lengths)\n",
    "        res[k] = (n , max_length, np.round(avg_length,2) , min_length)\n",
    "\n",
    "    return res\n",
    "\n",
    "stats(sample_langchain_docs)"
   ]
  },
  {
   "cell_type": "code",
   "execution_count": 63,
   "metadata": {},
   "outputs": [],
   "source": [
    "def store_langchain_document(documents : List[LangchainDocument]):\n",
    "    data = []\n",
    "    \n",
    "    for document in documents:\n",
    "        # Create a dictionary for each document\n",
    "        doc_data = {\n",
    "            'content': document.page_content,\n",
    "        }\n",
    "        # Add metadata fields\n",
    "        doc_data.update(document.metadata)\n",
    "\n",
    "        data.append(doc_data)\n",
    "\n",
    "    # Create a DataFrame from the list of dictionaries\n",
    "    df = pd.DataFrame(data)\n",
    "\n",
    "    return df\n",
    "        \n",
    "df = store_langchain_document(sample_langchain_docs)\n",
    "# Optionally, save the DataFrame to a CSV file\n",
    "output_csv_path = \"insee_documents_sample_ref_retrieval_evaluation.csv\"\n",
    "df.to_csv(output_csv_path, index=False)"
   ]
  },
  {
   "cell_type": "code",
   "execution_count": 61,
   "metadata": {},
   "outputs": [
    {
     "data": {
      "image/png": "[encoded data removed]",
      "text/plain": [
       "<Figure size 1000x600 with 1 Axes>"
      ]
     },
     "metadata": {},
     "output_type": "display_data"
    }
   ],
   "source": [
    "from collections import Counter\n",
    "import matplotlib.pyplot as plt \n",
    "\n",
    "counters_para = Counter()\n",
    "\n",
    "for doc in sample_langchain_docs:\n",
    "    counters_para[len(doc.page_content.split())] +=1\n",
    "\n",
    "lengths_sorted = sorted(counters_para.items())\n",
    "lengths , counts = zip(*lengths_sorted)\n",
    "# Create bar plot\n",
    "plt.figure(figsize=(10, 6))\n",
    "plt.bar(lengths, counts, color='skyblue')\n",
    "plt.xlabel('Paragraph Length (number of words)')\n",
    "plt.ylabel('Number of Paragraphs')\n",
    "plt.title( f'Paragraph Length Distribution ({len(sample_langchain_docs)} docs)')\n",
    "plt.xticks(rotation=45)\n",
    "plt.grid(axis='y', linestyle='--', alpha=0.7)\n",
    "plt.show()"
   ]
  },
  {
   "cell_type": "markdown",
   "metadata": {},
   "source": [
    "## Generate Questions"
   ]
  },
  {
   "cell_type": "code",
   "execution_count": 78,
   "metadata": {},
   "outputs": [
    {
     "data": {
      "application/vnd.jupyter.widget-view+json": {
       "model_id": "b2cc4cb9f4d84f1ea72f256580b8c30e",
       "version_major": 2,
       "version_minor": 0
      },
      "text/plain": [
       "0it [00:00, ?it/s]"
      ]
     },
     "metadata": {},
     "output_type": "display_data"
    }
   ],
   "source": [
    "# load reference dataset :\n",
    "\n",
    "path_data = \"/home/onyxia/work/insee_documents_sample_ref_retrieval_evaluation.csv\"\n",
    "data = pd.read_csv(path_data)\n",
    "\n",
    "raw_ref_database  = []\n",
    "for i, row in tqdm(data.iterrows()):\n",
    "    doc = row.to_dict()\n",
    "    page_content = doc[\"content\"]\n",
    "    if 'content' in doc:\n",
    "        del doc[\"content\"]\n",
    "    metadata = doc\n",
    "    raw_ref_database.append(LangchainDocument(page_content=page_content, metadata = metadata))"
   ]
  },
  {
   "cell_type": "code",
   "execution_count": 77,
   "metadata": {},
   "outputs": [],
   "source": [
    "from tqdm.notebook import tqdm\n",
    "import pandas as pd\n",
    "from typing import Optional, List, Tuple\n",
    "from langchain.text_splitter import RecursiveCharacterTextSplitter\n",
    "from transformers import AutoTokenizer \n",
    "from langchain.docstore.document import Document as LangchainDocument\n",
    "from transformers import AutoTokenizer\n",
    "\n",
    "def split_documents(\n",
    "    chunk_size: int,\n",
    "    knowledge_base: List[LangchainDocument],\n",
    "    tokenizer_name: Optional[str]) -> List[LangchainDocument]:\n",
    "\n",
    "    \"\"\"\n",
    "    Split documents into chunks of maximum size `chunk_size` tokens and return a list of documents.\n",
    "    \"\"\"\n",
    "    text_splitter = RecursiveCharacterTextSplitter.from_huggingface_tokenizer(\n",
    "        AutoTokenizer.from_pretrained(tokenizer_name),\n",
    "        chunk_size=chunk_size,\n",
    "        chunk_overlap=int(chunk_size / 10),\n",
    "        add_start_index=True,\n",
    "        strip_whitespace=True,\n",
    "        separators=MARKDOWN_SEPARATORS,\n",
    "    )\n",
    "\n",
    "    docs_processed = []\n",
    "\n",
    "    for doc in tqdm(knowledge_base):\n",
    "        docs_processed += text_splitter.split_documents([doc])\n",
    "\n",
    "    # Remove duplicates\n",
    "    unique_texts = {}\n",
    "    docs_processed_unique = []\n",
    "    for doc in docs_processed:\n",
    "        if doc.page_content not in unique_texts:\n",
    "            unique_texts[doc.page_content] = True\n",
    "            docs_processed_unique.append(doc)\n",
    "\n",
    "    return docs_processed_unique"
   ]
  },
  {
   "cell_type": "code",
   "execution_count": 81,
   "metadata": {},
   "outputs": [
    {
     "name": "stdout",
     "output_type": "stream",
     "text": [
      "----------Loading Embedding model sentence-transformers/all-MiniLM-L6-v2------------\n"
     ]
    },
    {
     "name": "stderr",
     "output_type": "stream",
     "text": [
      "/opt/mamba/lib/python3.12/site-packages/huggingface_hub/file_download.py:1132: FutureWarning: `resume_download` is deprecated and will be removed in version 1.0.0. Downloads always resume when possible. If you want to force a new download, use `force_download=True`.\n",
      "  warnings.warn(\n"
     ]
    },
    {
     "name": "stdout",
     "output_type": "stream",
     "text": [
      "---------Chunking LangChain documents-----------\n",
      "max sequence of token for sentence-transformers/all-MiniLM-L6-v2 : 256\n"
     ]
    },
    {
     "data": {
      "application/vnd.jupyter.widget-view+json": {
       "model_id": "361c3d16db604c54a847d6adc4db0420",
       "version_major": 2,
       "version_minor": 0
      },
      "text/plain": [
       "  0%|          | 0/100 [00:00<?, ?it/s]"
      ]
     },
     "metadata": {},
     "output_type": "display_data"
    },
    {
     "name": "stderr",
     "output_type": "stream",
     "text": [
      "Token indices sequence length is longer than the specified maximum sequence length for this model (558 > 512). Running this sequence through the model will result in indexing errors\n"
     ]
    },
    {
     "name": "stdout",
     "output_type": "stream",
     "text": [
      "----------Building Chroma DB------------\n"
     ]
    }
   ],
   "source": [
    "from langchain_community.embeddings.sentence_transformer import (\n",
    "    SentenceTransformerEmbeddings,\n",
    ")\n",
    "from langchain_chroma import Chroma\n",
    "from langchain_community.embeddings import HuggingFaceEmbeddings\n",
    "from sentence_transformers import SentenceTransformer\n",
    "\n",
    "REF_EMBEDDING_MODEL_NAME = \"sentence-transformers/all-MiniLM-L6-v2\"\n",
    "MARKDOWN_SEPARATORS = [\"\\n\\n\",\"\\n\",\".\",\" \", \"\"]\n",
    "\n",
    "print(f\"----------Loading Embedding model {REF_EMBEDDING_MODEL_NAME}------------\")\n",
    "\n",
    "embedding_model = HuggingFaceEmbeddings( #load sentence transformers \n",
    "    model_name=REF_EMBEDDING_MODEL_NAME,\n",
    "    multi_process=True,\n",
    "    model_kwargs={\"device\": \"cuda\"},\n",
    "    encode_kwargs={\"normalize_embeddings\": True},  # set True for cosine similarity\n",
    "    show_progress = False\n",
    ")\n",
    "\n",
    "print(\"---------Chunking LangChain documents-----------\")\n",
    "\n",
    "embedder_max_token_length  = SentenceTransformer(REF_EMBEDDING_MODEL_NAME).max_seq_length\n",
    "print(f\"max sequence of token for {REF_EMBEDDING_MODEL_NAME} : {embedder_max_token_length}\")\n",
    "\n",
    "docs_processed_sample = split_documents(knowledge_base = raw_ref_database, \n",
    "                                        chunk_size = embedder_max_token_length,\n",
    "                                        tokenizer_name = REF_EMBEDDING_MODEL_NAME)\n",
    "\n",
    "print(\"----------Building Chroma DB------------\")\n",
    "collection_name = \"insee_sample_\" + str(REF_EMBEDDING_MODEL_NAME.split(\"/\")[-1]) \n",
    "db_chroma = Chroma.from_documents(collection_name=collection_name, persist_directory=\"./chroma_db\" , documents = docs_processed_sample, embedding=embedding_model)"
   ]
  },
  {
   "cell_type": "code",
   "execution_count": 84,
   "metadata": {},
   "outputs": [],
   "source": [
    "import torch \n",
    "from transformers import pipeline\n",
    "import numpy as np \n",
    "\n",
    "def remove_extra_spaces(text):\n",
    "    # Split the text by whitespaces and join them with a single whitespace\n",
    "    return ' '.join(text.split())\n",
    "\n",
    "def extract_question(text):\n",
    "    return text.split(\"?\")[0] + \"?\"\n",
    "\n",
    "Q_generation_prompt = \"\"\"\n",
    "<|user|>\n",
    "Ta tâche consiste à écrire une question factuelle en te basant sur un contexte donné.\n",
    "Ta question factuelle doit pouvoir être répondue par une information factuelle spécifique et concise tirée du contexte.\n",
    "Ta question factuelle doit être formulée dans le même style que les questions que les utilisateurs pourraient poser dans un moteur de recherche.\n",
    "Cela signifie que ta question factuelle NE DOIT PAS mentionner des phrases comme \"selon le passage\" ou \"le contexte\".\n",
    "La question doit avoir pour sujet une thématiques d'un institut de statistique public. \n",
    "Tu DOIS respecter faire apparaitre \"Question factuelle : \" avant ta réponse. \n",
    "<|user|>\n",
    "<|assistant|>\n",
    "Voici maintenant le contexte.\n",
    "\n",
    "Contexte : {context}\n",
    "\n",
    "Question factuelle : (ta question factuelle)\n",
    "<|assistant|>\n",
    "\"\"\"\n",
    "\n",
    "def generate_test_question(vector_database : Chroma, pipeline : pipeline, nb_documents = 50, batch_size = 5, generation_args = None):\n",
    "    \"\"\"\n",
    "    Generate Question based on a given vector_database (based on the smallest \"max_length_token\").  \n",
    "    \"\"\"\n",
    "    test_data = {\"question\" : [] , \"content\" : [], \"source\" : []}\n",
    "\n",
    "    #sample indices\n",
    "    indices = np.random.choice(len(vector_database.get()[\"ids\"]), nb_documents)\n",
    "    \n",
    "    for x in indices:\n",
    "        doc = vector_database.get()[\"metadatas\"][x]\n",
    "        source = doc[\"source\"]\n",
    "        content = vector_database.get()[\"documents\"][x]\n",
    "\n",
    "        test_data[\"content\"].append(content)\n",
    "        test_data[\"source\"].append(source) \n",
    "\n",
    "    torch.cuda.empty_cache()\n",
    "    print(f\"Generating {nb_documents} Questions ...\")\n",
    "    #generate final prompts \n",
    "    batch_prompts = [Q_generation_prompt.format(context=ctx) for ctx in test_data[\"content\"]]\n",
    "    #add batch size params\n",
    "    if \"batch_size\" not in generation_args.keys() : \n",
    "        generation_args[\"batch_size\"] = batch_size\n",
    "    \n",
    "    with torch.no_grad():\n",
    "        generated_out = pipeline(batch_prompts, **generation_args)\n",
    "        \n",
    "    for out in generated_out:\n",
    "        output_Q = out[0][\"generated_text\"]\n",
    "        question = extract_question(remove_extra_spaces(output_Q.split(\"Question factuelle : \")[-1])) \n",
    "        test_data[\"question\"].append(question)\n",
    "\n",
    "    return test_data\n",
    "   "
   ]
  },
  {
   "cell_type": "code",
   "execution_count": 83,
   "metadata": {},
   "outputs": [
    {
     "data": {
      "application/vnd.jupyter.widget-view+json": {
       "model_id": "d2e354657689454e861b7aa6a0e363ab",
       "version_major": 2,
       "version_minor": 0
      },
      "text/plain": [
       "config.json:   0%|          | 0.00/3.35k [00:00<?, ?B/s]"
      ]
     },
     "metadata": {},
     "output_type": "display_data"
    },
    {
     "data": {
      "application/vnd.jupyter.widget-view+json": {
       "model_id": "f4059f44e74c4f098abd91b51ba7f34f",
       "version_major": 2,
       "version_minor": 0
      },
      "text/plain": [
       "configuration_phi3.py:   0%|          | 0.00/10.4k [00:00<?, ?B/s]"
      ]
     },
     "metadata": {},
     "output_type": "display_data"
    },
    {
     "name": "stderr",
     "output_type": "stream",
     "text": [
      "A new version of the following files was downloaded from https://huggingface.co/microsoft/Phi-3-mini-128k-instruct:\n",
      "- configuration_phi3.py\n",
      ". Make sure to double-check they do not contain any added malicious code. To avoid downloading new versions of the code file, you can pin a revision.\n"
     ]
    },
    {
     "data": {
      "application/vnd.jupyter.widget-view+json": {
       "model_id": "f603dbe3c57d4b2e92aba136a833b90d",
       "version_major": 2,
       "version_minor": 0
      },
      "text/plain": [
       "tokenizer_config.json:   0%|          | 0.00/3.17k [00:00<?, ?B/s]"
      ]
     },
     "metadata": {},
     "output_type": "display_data"
    },
    {
     "data": {
      "application/vnd.jupyter.widget-view+json": {
       "model_id": "f5e0906fed7f4f0da4e26cff6db23825",
       "version_major": 2,
       "version_minor": 0
      },
      "text/plain": [
       "tokenizer.model:   0%|          | 0.00/500k [00:00<?, ?B/s]"
      ]
     },
     "metadata": {},
     "output_type": "display_data"
    },
    {
     "data": {
      "application/vnd.jupyter.widget-view+json": {
       "model_id": "e2839c0149c74a29802166cc1b93d477",
       "version_major": 2,
       "version_minor": 0
      },
      "text/plain": [
       "tokenizer.json:   0%|          | 0.00/1.84M [00:00<?, ?B/s]"
      ]
     },
     "metadata": {},
     "output_type": "display_data"
    },
    {
     "data": {
      "application/vnd.jupyter.widget-view+json": {
       "model_id": "7ba50018ce5e410fa0535e43e8f6613d",
       "version_major": 2,
       "version_minor": 0
      },
      "text/plain": [
       "added_tokens.json:   0%|          | 0.00/293 [00:00<?, ?B/s]"
      ]
     },
     "metadata": {},
     "output_type": "display_data"
    },
    {
     "data": {
      "application/vnd.jupyter.widget-view+json": {
       "model_id": "bf74184024d34e61be1b01c75de076e9",
       "version_major": 2,
       "version_minor": 0
      },
      "text/plain": [
       "special_tokens_map.json:   0%|          | 0.00/568 [00:00<?, ?B/s]"
      ]
     },
     "metadata": {},
     "output_type": "display_data"
    },
    {
     "name": "stderr",
     "output_type": "stream",
     "text": [
      "Special tokens have been added in the vocabulary, make sure the associated word embeddings are fine-tuned or trained.\n"
     ]
    },
    {
     "data": {
      "application/vnd.jupyter.widget-view+json": {
       "model_id": "a3e81e9367434eb6a514cdaa2bacca03",
       "version_major": 2,
       "version_minor": 0
      },
      "text/plain": [
       "modeling_phi3.py:   0%|          | 0.00/73.8k [00:00<?, ?B/s]"
      ]
     },
     "metadata": {},
     "output_type": "display_data"
    },
    {
     "name": "stderr",
     "output_type": "stream",
     "text": [
      "A new version of the following files was downloaded from https://huggingface.co/microsoft/Phi-3-mini-128k-instruct:\n",
      "- modeling_phi3.py\n",
      ". Make sure to double-check they do not contain any added malicious code. To avoid downloading new versions of the code file, you can pin a revision.\n",
      "`flash-attention` package not found, consider installing for better performance: No module named 'flash_attn'.\n",
      "Current `flash-attenton` does not support `window_size`. Either upgrade or use `attn_implementation='eager'`.\n"
     ]
    },
    {
     "data": {
      "application/vnd.jupyter.widget-view+json": {
       "model_id": "d764d74efd8847f985281aaf1715d9dd",
       "version_major": 2,
       "version_minor": 0
      },
      "text/plain": [
       "model.safetensors.index.json:   0%|          | 0.00/16.3k [00:00<?, ?B/s]"
      ]
     },
     "metadata": {},
     "output_type": "display_data"
    },
    {
     "data": {
      "application/vnd.jupyter.widget-view+json": {
       "model_id": "2f416796a76046d8ba9e1e6807bfd8de",
       "version_major": 2,
       "version_minor": 0
      },
      "text/plain": [
       "Downloading shards:   0%|          | 0/2 [00:00<?, ?it/s]"
      ]
     },
     "metadata": {},
     "output_type": "display_data"
    },
    {
     "data": {
      "application/vnd.jupyter.widget-view+json": {
       "model_id": "98e4d258dc0849a6a698c1ac9b1d446d",
       "version_major": 2,
       "version_minor": 0
      },
      "text/plain": [
       "model-00001-of-00002.safetensors:   0%|          | 0.00/4.97G [00:00<?, ?B/s]"
      ]
     },
     "metadata": {},
     "output_type": "display_data"
    },
    {
     "data": {
      "application/vnd.jupyter.widget-view+json": {
       "model_id": "b04b247d10ff42798c4c6b31ee099158",
       "version_major": 2,
       "version_minor": 0
      },
      "text/plain": [
       "model-00002-of-00002.safetensors:   0%|          | 0.00/2.67G [00:00<?, ?B/s]"
      ]
     },
     "metadata": {},
     "output_type": "display_data"
    },
    {
     "data": {
      "application/vnd.jupyter.widget-view+json": {
       "model_id": "9ab4c2592b2a4bfd830dbb0a40c1a930",
       "version_major": 2,
       "version_minor": 0
      },
      "text/plain": [
       "Loading checkpoint shards:   0%|          | 0/2 [00:00<?, ?it/s]"
      ]
     },
     "metadata": {},
     "output_type": "display_data"
    },
    {
     "data": {
      "application/vnd.jupyter.widget-view+json": {
       "model_id": "996f631bfa004dd2a13811ef7e03564d",
       "version_major": 2,
       "version_minor": 0
      },
      "text/plain": [
       "generation_config.json:   0%|          | 0.00/172 [00:00<?, ?B/s]"
      ]
     },
     "metadata": {},
     "output_type": "display_data"
    },
    {
     "data": {
      "text/plain": [
       "Phi3ForCausalLM(\n",
       "  (model): Phi3Model(\n",
       "    (embed_tokens): Embedding(32064, 3072, padding_idx=32000)\n",
       "    (embed_dropout): Dropout(p=0.0, inplace=False)\n",
       "    (layers): ModuleList(\n",
       "      (0-31): 32 x Phi3DecoderLayer(\n",
       "        (self_attn): Phi3Attention(\n",
       "          (o_proj): Linear4bit(in_features=3072, out_features=3072, bias=False)\n",
       "          (qkv_proj): Linear4bit(in_features=3072, out_features=9216, bias=False)\n",
       "          (rotary_emb): Phi3SuScaledRotaryEmbedding()\n",
       "        )\n",
       "        (mlp): Phi3MLP(\n",
       "          (gate_up_proj): Linear4bit(in_features=3072, out_features=16384, bias=False)\n",
       "          (down_proj): Linear4bit(in_features=8192, out_features=3072, bias=False)\n",
       "          (activation_fn): SiLU()\n",
       "        )\n",
       "        (input_layernorm): Phi3RMSNorm()\n",
       "        (resid_attn_dropout): Dropout(p=0.0, inplace=False)\n",
       "        (resid_mlp_dropout): Dropout(p=0.0, inplace=False)\n",
       "        (post_attention_layernorm): Phi3RMSNorm()\n",
       "      )\n",
       "    )\n",
       "    (norm): Phi3RMSNorm()\n",
       "  )\n",
       "  (lm_head): Linear(in_features=3072, out_features=32064, bias=False)\n",
       ")"
      ]
     },
     "execution_count": 83,
     "metadata": {},
     "output_type": "execute_result"
    }
   ],
   "source": [
    "from transformers import BitsAndBytesConfig,  AutoModelForCausalLM, AutoTokenizer,  AutoConfig\n",
    "import torch\n",
    "\n",
    "model_name = \"microsoft/Phi-3-mini-128k-instruct\" \n",
    "\n",
    "#load LLM config \n",
    "config = AutoConfig.from_pretrained(model_name, trust_remote_code=True)\n",
    "\n",
    "#load quantization config \n",
    "quantization_config = BitsAndBytesConfig(\n",
    "        load_in_4bit=True,\n",
    "        bnb_4bit_quant_type=\"nf4\",\n",
    "        bnb_4bit_compute_dtype=\"float16\",\n",
    "        bnb_4bit_use_double_quant=False,\n",
    ")\n",
    "\n",
    "tokenizer = AutoTokenizer.from_pretrained(model_name) \n",
    "model = AutoModelForCausalLM.from_pretrained(\n",
    "            model_name,\n",
    "            config=config,\n",
    "            quantization_config=quantization_config,\n",
    "            device_map=\"cuda\", \n",
    "            torch_dtype=\"auto\", \n",
    "            trust_remote_code=True,\n",
    "        )\n",
    "model"
   ]
  },
  {
   "cell_type": "code",
   "execution_count": 86,
   "metadata": {},
   "outputs": [
    {
     "name": "stdout",
     "output_type": "stream",
     "text": [
      "Generating 100 Questions ...\n"
     ]
    }
   ],
   "source": [
    "device = \"cuda\" if torch.cuda.is_available() else \"cpu\"\n",
    "pipe = pipeline(\"text-generation\", model = model, tokenizer=tokenizer)\n",
    "\n",
    "generation_args = {\n",
    "    \"max_new_tokens\": 300,\n",
    "    \"return_full_text\": False,\n",
    "    \"do_sample\": False,\n",
    "}\n",
    "test_data  = generate_test_question(vector_database = db_chroma, pipeline = pipe, nb_documents = 100, batch_size = 10, generation_args = generation_args)\n",
    "q_and_s_df = pd.DataFrame(test_data)\n",
    "q_and_s_df.to_csv(f\"Q&S_ref_retrieval_evaluation_{model_name.split(\"/\")[-1]}.csv\")"
   ]
  },
  {
   "cell_type": "markdown",
   "metadata": {},
   "source": [
    "### Evaluates Embedding models on Retrieval Task"
   ]
  },
  {
   "cell_type": "markdown",
   "metadata": {},
   "source": [
    "embedding model to test : \n",
    "- sentence-transformers/all-MiniLM-L6-v2 (multi)\n",
    "- manu/sentence_croissant_alpha_v0.4\n",
    "- OrdalieTech/Solon-embeddings-large-0.1\n",
    "- sentence-transformers/paraphrase-multilingual-MiniLM-L12-v2\n",
    "- intfloat/multilingual-e5-large"
   ]
  },
  {
   "cell_type": "markdown",
   "metadata": {},
   "source": [
    "### Evaluate Retrieval "
   ]
  },
  {
   "cell_type": "code",
   "execution_count": 138,
   "metadata": {},
   "outputs": [],
   "source": [
    "from langchain_core.vectorstores import VectorStore\n",
    "from tqdm import tqdm \n",
    "import numpy as np\n",
    "from sklearn.metrics import recall_score, precision_score, f1_score, multilabel_confusion_matrix\n",
    "\n",
    "def recall(retrieved, relevant):\n",
    "    intersection = set(retrieved) & set(relevant)\n",
    "    return len(intersection) / len(relevant)\n",
    "\n",
    "def precision(retrieved, relevant):\n",
    "    intersection = set(retrieved) & set(relevant)\n",
    "    return len(intersection) / len(retrieved) if len(retrieved) > 0 else 0\n",
    "\n",
    "def compute_hit_rate(predictions, labels):\n",
    "    \"\"\" \n",
    "    Hit rate metric is equivalent to the accuracy \n",
    "    \"\"\"\n",
    "    correct_predictions = sum(1 for pred, label in zip(predictions, labels) if pred == label)\n",
    "    total_predictions = len(predictions)\n",
    "    hit_rate = correct_predictions / total_predictions\n",
    "    return hit_rate\n",
    "\n",
    "def test_retriever(knowledge_index: VectorStore, eval_data : pd.DataFrame, embedding_model : HuggingFaceEmbeddings):\n",
    "    #recall at K : look at the k first document retrieved \n",
    "    \"\"\" \n",
    "    compute some metrics :\n",
    "    recall @ 1 , 2, 3 5, 10 , 15\n",
    "    mrr \n",
    "    f1 score \n",
    "    \"\"\"\n",
    "    results = {\"question\" : [], \"source\": [], \"pred\": [], \"recall_at_1\" : [], \"recall_at_2\": [],\"recall_at_3\": [],\"recall_at_5\" : [],\"recall_at_10\" : [], \"recall_at_15\" : [], \"mrr_score\": [] }\n",
    "\n",
    "    print(\"pre-computing query embeddings\")\n",
    "    queries = list(eval_data[\"question\"])\n",
    "    embeddings_queries = embedding_model.embed_documents(queries)\n",
    "    \n",
    "    for i, row in tqdm(eval_data.iterrows()):\n",
    "    \n",
    "        q = row[\"question\"]\n",
    "        source = row[\"source\"]\n",
    "\n",
    "        results[\"question\"].append(q)\n",
    "        results[\"source\"].append(source)\n",
    "        \n",
    "        embedded_query = embeddings_queries[i]\n",
    "        retrieved_docs = knowledge_index.similarity_search_by_vector(embedding = embedded_query, k = 15)\n",
    "        retrieved_sources = [doc.metadata[\"source\"] for doc in retrieved_docs]\n",
    "        \n",
    "        #compute recall at \n",
    "        results[\"recall_at_1\"].append(recall(retrieved_sources[:1], [source]))\n",
    "        results[\"recall_at_2\"].append(recall(retrieved_sources[:2], [source]))\n",
    "        results[\"recall_at_3\"].append(recall(retrieved_sources[:3], [source]))\n",
    "        results[\"recall_at_5\"].append(recall(retrieved_sources[:5], [source]))\n",
    "        results[\"recall_at_10\"].append(recall(retrieved_sources[:10], [source]))\n",
    "        results[\"recall_at_15\"].append(recall(retrieved_sources[:15], [source]))\n",
    "\n",
    "        #compute Mean Reciprocal Rank (Order Aware Metrics)\n",
    "        if source not in retrieved_sources:\n",
    "            mrr_score = 1/ np.inf\n",
    "        else : \n",
    "            rank_q = retrieved_sources.index(source)\n",
    "            mrr_score = 1 / (rank_q + 1)\n",
    "\n",
    "        results[\"mrr_score\"].append(mrr_score)\n",
    "\n",
    "        results[\"pred\"].append(retrieved_sources[0]) #will be compare to source using precision and recall and average precision \n",
    "        \n",
    "    results_agg = {\n",
    "        \"recall_at_1\" :  np.mean(results[\"recall_at_1\"]),\n",
    "        \"recall_at_2\" : np.mean(results[\"recall_at_2\"]), \n",
    "        \"recall_at_3\" :  np.mean(results[\"recall_at_3\"]),\n",
    "        \"recall_at_5\" :  np.mean(results[\"recall_at_5\"]),\n",
    "        \"recall_at_10\" : np.mean(results[\"recall_at_10\"]),\n",
    "        \"recall_at_15\" : np.mean(results[\"recall_at_15\"]),\n",
    "        \"precision_score\" : precision_score(y_true = results[\"source\"], y_pred=results[\"pred\"], average=\"micro\"),\n",
    "        \"f1_score\": f1_score(y_true =results[\"source\"], y_pred= results[\"pred\"], average=\"micro\"),\n",
    "        \"mrr\" : np.mean(results[\"mrr_score\"]),\n",
    "        \"hit_rate\" : compute_hit_rate(predictions = results[\"pred\"], labels= results[\"source\"])\n",
    "    }\n",
    "    return results, results_agg\n"
   ]
  },
  {
   "cell_type": "code",
   "execution_count": 136,
   "metadata": {},
   "outputs": [],
   "source": [
    "embedding_model_test = [\"sentence-transformers/all-MiniLM-L6-v2\",\"manu/sentence_croissant_alpha_v0.4\", \"OrdalieTech/Solon-embeddings-large-0.1\", \"sentence-transformers/paraphrase-multilingual-MiniLM-L12-v2\", \"intfloat/multilingual-e5-large\"]"
   ]
  },
  {
   "cell_type": "code",
   "execution_count": 149,
   "metadata": {},
   "outputs": [
    {
     "name": "stderr",
     "output_type": "stream",
     "text": [
      "/opt/mamba/lib/python3.12/site-packages/huggingface_hub/file_download.py:1132: FutureWarning: `resume_download` is deprecated and will be removed in version 1.0.0. Downloads always resume when possible. If you want to force a new download, use `force_download=True`.\n",
      "  warnings.warn(\n"
     ]
    },
    {
     "name": "stdout",
     "output_type": "stream",
     "text": [
      "--------- Chunking LangChain documents\n",
      "Max sequence length for sentence-transformers/all-MiniLM-L6-v2: 256\n"
     ]
    },
    {
     "name": "stderr",
     "output_type": "stream",
     "text": [
      "  0%|          | 0/100 [00:00<?, ?it/s]Token indices sequence length is longer than the specified maximum sequence length for this model (558 > 512). Running this sequence through the model will result in indexing errors\n",
      "100%|██████████| 100/100 [00:09<00:00, 10.10it/s]\n"
     ]
    },
    {
     "name": "stdout",
     "output_type": "stream",
     "text": [
      "---------- Loading Embedding model sentence-transformers/all-MiniLM-L6-v2\n",
      "---------- Building Chroma DB\n",
      "---------- Evaluating Retrieval Performances for sentence-transformers/all-MiniLM-L6-v2\n",
      "pre-computing query embeddings\n"
     ]
    },
    {
     "name": "stderr",
     "output_type": "stream",
     "text": [
      "100it [00:00, 265.31it/s]\n",
      "/tmp/ipykernel_7289/1756318280.py:62: FutureWarning: The behavior of DataFrame concatenation with empty or all-NA entries is deprecated. In a future version, this will no longer exclude empty or all-NA columns when determining the result dtypes. To retain the old behavior, exclude the relevant entries before the concat operation.\n",
      "  df_benchmark = pd.concat([df_benchmark, pd.DataFrame([results_agg])], ignore_index=True)\n"
     ]
    },
    {
     "name": "stdout",
     "output_type": "stream",
     "text": [
      "---------- Storing Performance Results\n",
      "Results stored in ./benchmark_embedding_models.csv\n"
     ]
    },
    {
     "data": {
      "application/vnd.jupyter.widget-view+json": {
       "model_id": "36188734e4d84ef287c2e888c1f97b8d",
       "version_major": 2,
       "version_minor": 0
      },
      "text/plain": [
       "modules.json:   0%|          | 0.00/229 [00:00<?, ?B/s]"
      ]
     },
     "metadata": {},
     "output_type": "display_data"
    },
    {
     "data": {
      "application/vnd.jupyter.widget-view+json": {
       "model_id": "200f19c47faf4d3eaa5a23c4f889afaf",
       "version_major": 2,
       "version_minor": 0
      },
      "text/plain": [
       "config_sentence_transformers.json:   0%|          | 0.00/176 [00:00<?, ?B/s]"
      ]
     },
     "metadata": {},
     "output_type": "display_data"
    },
    {
     "data": {
      "application/vnd.jupyter.widget-view+json": {
       "model_id": "9d15ba6fcb374a34afcb7a3138188248",
       "version_major": 2,
       "version_minor": 0
      },
      "text/plain": [
       "README.md:   0%|          | 0.00/185k [00:00<?, ?B/s]"
      ]
     },
     "metadata": {},
     "output_type": "display_data"
    },
    {
     "data": {
      "application/vnd.jupyter.widget-view+json": {
       "model_id": "e830a8c37fd04f17b9040133edb6cf79",
       "version_major": 2,
       "version_minor": 0
      },
      "text/plain": [
       "sentence_bert_config.json:   0%|          | 0.00/54.0 [00:00<?, ?B/s]"
      ]
     },
     "metadata": {},
     "output_type": "display_data"
    },
    {
     "name": "stderr",
     "output_type": "stream",
     "text": [
      "/opt/mamba/lib/python3.12/site-packages/huggingface_hub/file_download.py:1132: FutureWarning: `resume_download` is deprecated and will be removed in version 1.0.0. Downloads always resume when possible. If you want to force a new download, use `force_download=True`.\n",
      "  warnings.warn(\n"
     ]
    },
    {
     "data": {
      "application/vnd.jupyter.widget-view+json": {
       "model_id": "81c140c61998498cbf81c41b1452f776",
       "version_major": 2,
       "version_minor": 0
      },
      "text/plain": [
       "config.json:   0%|          | 0.00/691 [00:00<?, ?B/s]"
      ]
     },
     "metadata": {},
     "output_type": "display_data"
    },
    {
     "data": {
      "application/vnd.jupyter.widget-view+json": {
       "model_id": "070d42e38cbe4074a2a3e4bd048bdeef",
       "version_major": 2,
       "version_minor": 0
      },
      "text/plain": [
       "model.safetensors:   0%|          | 0.00/2.56G [00:00<?, ?B/s]"
      ]
     },
     "metadata": {},
     "output_type": "display_data"
    },
    {
     "data": {
      "application/vnd.jupyter.widget-view+json": {
       "model_id": "dbf9f66ffaca49d3b2a8e54af0e948fc",
       "version_major": 2,
       "version_minor": 0
      },
      "text/plain": [
       "tokenizer_config.json:   0%|          | 0.00/18.9k [00:00<?, ?B/s]"
      ]
     },
     "metadata": {},
     "output_type": "display_data"
    },
    {
     "data": {
      "application/vnd.jupyter.widget-view+json": {
       "model_id": "f6dea4ea9d8e40a49e8d72fcfc378538",
       "version_major": 2,
       "version_minor": 0
      },
      "text/plain": [
       "tokenizer.json:   0%|          | 0.00/1.35M [00:00<?, ?B/s]"
      ]
     },
     "metadata": {},
     "output_type": "display_data"
    },
    {
     "data": {
      "application/vnd.jupyter.widget-view+json": {
       "model_id": "b4eab9512f4c4217b7e38ed4400cf809",
       "version_major": 2,
       "version_minor": 0
      },
      "text/plain": [
       "special_tokens_map.json:   0%|          | 0.00/551 [00:00<?, ?B/s]"
      ]
     },
     "metadata": {},
     "output_type": "display_data"
    },
    {
     "data": {
      "application/vnd.jupyter.widget-view+json": {
       "model_id": "e73c40b39ec3463ab6a02ed0e3a862d5",
       "version_major": 2,
       "version_minor": 0
      },
      "text/plain": [
       "1_Pooling/config.json:   0%|          | 0.00/297 [00:00<?, ?B/s]"
      ]
     },
     "metadata": {},
     "output_type": "display_data"
    },
    {
     "name": "stdout",
     "output_type": "stream",
     "text": [
      "--------- Chunking LangChain documents\n",
      "Max sequence length for manu/sentence_croissant_alpha_v0.4: 1024\n"
     ]
    },
    {
     "name": "stderr",
     "output_type": "stream",
     "text": [
      "100%|██████████| 100/100 [00:08<00:00, 12.40it/s]\n"
     ]
    },
    {
     "name": "stdout",
     "output_type": "stream",
     "text": [
      "---------- Loading Embedding model manu/sentence_croissant_alpha_v0.4\n",
      "---------- Building Chroma DB\n",
      "---------- Evaluating Retrieval Performances for manu/sentence_croissant_alpha_v0.4\n",
      "pre-computing query embeddings\n"
     ]
    },
    {
     "name": "stderr",
     "output_type": "stream",
     "text": [
      "100it [00:00, 142.43it/s]\n"
     ]
    },
    {
     "name": "stdout",
     "output_type": "stream",
     "text": [
      "---------- Storing Performance Results\n",
      "Results stored in ./benchmark_embedding_models.csv\n"
     ]
    },
    {
     "data": {
      "application/vnd.jupyter.widget-view+json": {
       "model_id": "b67b7f6e4672480d8a47ec55d62c2334",
       "version_major": 2,
       "version_minor": 0
      },
      "text/plain": [
       "modules.json:   0%|          | 0.00/349 [00:00<?, ?B/s]"
      ]
     },
     "metadata": {},
     "output_type": "display_data"
    },
    {
     "data": {
      "application/vnd.jupyter.widget-view+json": {
       "model_id": "f6eae960744240c4bf123212faff4df3",
       "version_major": 2,
       "version_minor": 0
      },
      "text/plain": [
       "config_sentence_transformers.json:   0%|          | 0.00/123 [00:00<?, ?B/s]"
      ]
     },
     "metadata": {},
     "output_type": "display_data"
    },
    {
     "data": {
      "application/vnd.jupyter.widget-view+json": {
       "model_id": "84fa0804453c40149ac1cc34b6dc187a",
       "version_major": 2,
       "version_minor": 0
      },
      "text/plain": [
       "README.md:   0%|          | 0.00/20.4k [00:00<?, ?B/s]"
      ]
     },
     "metadata": {},
     "output_type": "display_data"
    },
    {
     "data": {
      "application/vnd.jupyter.widget-view+json": {
       "model_id": "2d6641c7b431411989dade9cf0e691fa",
       "version_major": 2,
       "version_minor": 0
      },
      "text/plain": [
       "sentence_bert_config.json:   0%|          | 0.00/53.0 [00:00<?, ?B/s]"
      ]
     },
     "metadata": {},
     "output_type": "display_data"
    },
    {
     "name": "stderr",
     "output_type": "stream",
     "text": [
      "/opt/mamba/lib/python3.12/site-packages/huggingface_hub/file_download.py:1132: FutureWarning: `resume_download` is deprecated and will be removed in version 1.0.0. Downloads always resume when possible. If you want to force a new download, use `force_download=True`.\n",
      "  warnings.warn(\n"
     ]
    },
    {
     "data": {
      "application/vnd.jupyter.widget-view+json": {
       "model_id": "59de18ed6703419686431ad35cdf897a",
       "version_major": 2,
       "version_minor": 0
      },
      "text/plain": [
       "config.json:   0%|          | 0.00/704 [00:00<?, ?B/s]"
      ]
     },
     "metadata": {},
     "output_type": "display_data"
    },
    {
     "data": {
      "application/vnd.jupyter.widget-view+json": {
       "model_id": "55235e720f34485a8f86f54e1ad5a06b",
       "version_major": 2,
       "version_minor": 0
      },
      "text/plain": [
       "model.safetensors:   0%|          | 0.00/2.24G [00:00<?, ?B/s]"
      ]
     },
     "metadata": {},
     "output_type": "display_data"
    },
    {
     "data": {
      "application/vnd.jupyter.widget-view+json": {
       "model_id": "deffd5f135744cb79d6acfcc0cdd70c4",
       "version_major": 2,
       "version_minor": 0
      },
      "text/plain": [
       "tokenizer_config.json:   0%|          | 0.00/1.17k [00:00<?, ?B/s]"
      ]
     },
     "metadata": {},
     "output_type": "display_data"
    },
    {
     "data": {
      "application/vnd.jupyter.widget-view+json": {
       "model_id": "631cd8bbbcc34d45af672ec36a86e9f1",
       "version_major": 2,
       "version_minor": 0
      },
      "text/plain": [
       "sentencepiece.bpe.model:   0%|          | 0.00/5.07M [00:00<?, ?B/s]"
      ]
     },
     "metadata": {},
     "output_type": "display_data"
    },
    {
     "data": {
      "application/vnd.jupyter.widget-view+json": {
       "model_id": "494044edeaa14f10a2e959f45f73157e",
       "version_major": 2,
       "version_minor": 0
      },
      "text/plain": [
       "tokenizer.json:   0%|          | 0.00/17.1M [00:00<?, ?B/s]"
      ]
     },
     "metadata": {},
     "output_type": "display_data"
    },
    {
     "data": {
      "application/vnd.jupyter.widget-view+json": {
       "model_id": "34a33b99f3dc4dfab08513d63b4b1f0f",
       "version_major": 2,
       "version_minor": 0
      },
      "text/plain": [
       "special_tokens_map.json:   0%|          | 0.00/964 [00:00<?, ?B/s]"
      ]
     },
     "metadata": {},
     "output_type": "display_data"
    },
    {
     "data": {
      "application/vnd.jupyter.widget-view+json": {
       "model_id": "a2a83f571cfb4ee391d854aaa8fbb06b",
       "version_major": 2,
       "version_minor": 0
      },
      "text/plain": [
       "1_Pooling/config.json:   0%|          | 0.00/191 [00:00<?, ?B/s]"
      ]
     },
     "metadata": {},
     "output_type": "display_data"
    },
    {
     "name": "stdout",
     "output_type": "stream",
     "text": [
      "--------- Chunking LangChain documents\n",
      "Max sequence length for OrdalieTech/Solon-embeddings-large-0.1: 512\n"
     ]
    },
    {
     "name": "stderr",
     "output_type": "stream",
     "text": [
      "  3%|▎         | 3/100 [00:00<00:23,  4.09it/s]Token indices sequence length is longer than the specified maximum sequence length for this model (549 > 512). Running this sequence through the model will result in indexing errors\n",
      "100%|██████████| 100/100 [00:08<00:00, 11.50it/s]\n"
     ]
    },
    {
     "name": "stdout",
     "output_type": "stream",
     "text": [
      "---------- Loading Embedding model OrdalieTech/Solon-embeddings-large-0.1\n",
      "---------- Building Chroma DB\n",
      "---------- Evaluating Retrieval Performances for OrdalieTech/Solon-embeddings-large-0.1\n",
      "pre-computing query embeddings\n"
     ]
    },
    {
     "name": "stderr",
     "output_type": "stream",
     "text": [
      "100it [00:00, 291.36it/s]\n"
     ]
    },
    {
     "name": "stdout",
     "output_type": "stream",
     "text": [
      "---------- Storing Performance Results\n",
      "Results stored in ./benchmark_embedding_models.csv\n"
     ]
    },
    {
     "data": {
      "application/vnd.jupyter.widget-view+json": {
       "model_id": "2465e51af2cf41ffabbe8bc8429be420",
       "version_major": 2,
       "version_minor": 0
      },
      "text/plain": [
       "modules.json:   0%|          | 0.00/229 [00:00<?, ?B/s]"
      ]
     },
     "metadata": {},
     "output_type": "display_data"
    },
    {
     "data": {
      "application/vnd.jupyter.widget-view+json": {
       "model_id": "c12417f57e714eae936d968314c646c7",
       "version_major": 2,
       "version_minor": 0
      },
      "text/plain": [
       "config_sentence_transformers.json:   0%|          | 0.00/122 [00:00<?, ?B/s]"
      ]
     },
     "metadata": {},
     "output_type": "display_data"
    },
    {
     "data": {
      "application/vnd.jupyter.widget-view+json": {
       "model_id": "377a5a6879a6417e8ab74647d6fbde92",
       "version_major": 2,
       "version_minor": 0
      },
      "text/plain": [
       "README.md:   0%|          | 0.00/4.12k [00:00<?, ?B/s]"
      ]
     },
     "metadata": {},
     "output_type": "display_data"
    },
    {
     "data": {
      "application/vnd.jupyter.widget-view+json": {
       "model_id": "a0f870dc6758460bb45534ac550dfc03",
       "version_major": 2,
       "version_minor": 0
      },
      "text/plain": [
       "sentence_bert_config.json:   0%|          | 0.00/53.0 [00:00<?, ?B/s]"
      ]
     },
     "metadata": {},
     "output_type": "display_data"
    },
    {
     "name": "stderr",
     "output_type": "stream",
     "text": [
      "/opt/mamba/lib/python3.12/site-packages/huggingface_hub/file_download.py:1132: FutureWarning: `resume_download` is deprecated and will be removed in version 1.0.0. Downloads always resume when possible. If you want to force a new download, use `force_download=True`.\n",
      "  warnings.warn(\n"
     ]
    },
    {
     "data": {
      "application/vnd.jupyter.widget-view+json": {
       "model_id": "192bd3608bb341dd869b1aee27deb779",
       "version_major": 2,
       "version_minor": 0
      },
      "text/plain": [
       "config.json:   0%|          | 0.00/645 [00:00<?, ?B/s]"
      ]
     },
     "metadata": {},
     "output_type": "display_data"
    },
    {
     "data": {
      "application/vnd.jupyter.widget-view+json": {
       "model_id": "cec54cfdc2104a7eb52081de4607e629",
       "version_major": 2,
       "version_minor": 0
      },
      "text/plain": [
       "model.safetensors:   0%|          | 0.00/471M [00:00<?, ?B/s]"
      ]
     },
     "metadata": {},
     "output_type": "display_data"
    },
    {
     "data": {
      "application/vnd.jupyter.widget-view+json": {
       "model_id": "f420bc41688b43ccb5218e7e07fc679b",
       "version_major": 2,
       "version_minor": 0
      },
      "text/plain": [
       "tokenizer_config.json:   0%|          | 0.00/480 [00:00<?, ?B/s]"
      ]
     },
     "metadata": {},
     "output_type": "display_data"
    },
    {
     "data": {
      "application/vnd.jupyter.widget-view+json": {
       "model_id": "86a455615a2240a084689635d7f9d443",
       "version_major": 2,
       "version_minor": 0
      },
      "text/plain": [
       "tokenizer.json:   0%|          | 0.00/9.08M [00:00<?, ?B/s]"
      ]
     },
     "metadata": {},
     "output_type": "display_data"
    },
    {
     "data": {
      "application/vnd.jupyter.widget-view+json": {
       "model_id": "96ca6a4ca3cc45d791b7ee67e8864535",
       "version_major": 2,
       "version_minor": 0
      },
      "text/plain": [
       "special_tokens_map.json:   0%|          | 0.00/239 [00:00<?, ?B/s]"
      ]
     },
     "metadata": {},
     "output_type": "display_data"
    },
    {
     "data": {
      "application/vnd.jupyter.widget-view+json": {
       "model_id": "106df1f71921479f8282317c4266fff8",
       "version_major": 2,
       "version_minor": 0
      },
      "text/plain": [
       "1_Pooling/config.json:   0%|          | 0.00/190 [00:00<?, ?B/s]"
      ]
     },
     "metadata": {},
     "output_type": "display_data"
    },
    {
     "name": "stdout",
     "output_type": "stream",
     "text": [
      "--------- Chunking LangChain documents\n",
      "Max sequence length for sentence-transformers/paraphrase-multilingual-MiniLM-L12-v2: 128\n"
     ]
    },
    {
     "name": "stderr",
     "output_type": "stream",
     "text": [
      "  3%|▎         | 3/100 [00:01<00:33,  2.91it/s]Token indices sequence length is longer than the specified maximum sequence length for this model (549 > 512). Running this sequence through the model will result in indexing errors\n",
      "100%|██████████| 100/100 [00:09<00:00, 10.65it/s]\n"
     ]
    },
    {
     "name": "stdout",
     "output_type": "stream",
     "text": [
      "---------- Loading Embedding model sentence-transformers/paraphrase-multilingual-MiniLM-L12-v2\n",
      "---------- Building Chroma DB\n",
      "---------- Evaluating Retrieval Performances for sentence-transformers/paraphrase-multilingual-MiniLM-L12-v2\n",
      "pre-computing query embeddings\n"
     ]
    },
    {
     "name": "stderr",
     "output_type": "stream",
     "text": [
      "100it [00:00, 357.75it/s]\n"
     ]
    },
    {
     "name": "stdout",
     "output_type": "stream",
     "text": [
      "---------- Storing Performance Results\n",
      "Results stored in ./benchmark_embedding_models.csv\n"
     ]
    },
    {
     "data": {
      "application/vnd.jupyter.widget-view+json": {
       "model_id": "9c4eece98de9423eaed67fa4f8c3e945",
       "version_major": 2,
       "version_minor": 0
      },
      "text/plain": [
       "modules.json:   0%|          | 0.00/387 [00:00<?, ?B/s]"
      ]
     },
     "metadata": {},
     "output_type": "display_data"
    },
    {
     "data": {
      "application/vnd.jupyter.widget-view+json": {
       "model_id": "676d8ad11c1c4f9ea5c355b03cc47107",
       "version_major": 2,
       "version_minor": 0
      },
      "text/plain": [
       "README.md:   0%|          | 0.00/160k [00:00<?, ?B/s]"
      ]
     },
     "metadata": {},
     "output_type": "display_data"
    },
    {
     "data": {
      "application/vnd.jupyter.widget-view+json": {
       "model_id": "fc2ecbb342b34445a842da41d224f62c",
       "version_major": 2,
       "version_minor": 0
      },
      "text/plain": [
       "sentence_bert_config.json:   0%|          | 0.00/57.0 [00:00<?, ?B/s]"
      ]
     },
     "metadata": {},
     "output_type": "display_data"
    },
    {
     "name": "stderr",
     "output_type": "stream",
     "text": [
      "/opt/mamba/lib/python3.12/site-packages/huggingface_hub/file_download.py:1132: FutureWarning: `resume_download` is deprecated and will be removed in version 1.0.0. Downloads always resume when possible. If you want to force a new download, use `force_download=True`.\n",
      "  warnings.warn(\n"
     ]
    },
    {
     "data": {
      "application/vnd.jupyter.widget-view+json": {
       "model_id": "9d8eadac485a4bce9da4ddfc4871f1f8",
       "version_major": 2,
       "version_minor": 0
      },
      "text/plain": [
       "config.json:   0%|          | 0.00/690 [00:00<?, ?B/s]"
      ]
     },
     "metadata": {},
     "output_type": "display_data"
    },
    {
     "data": {
      "application/vnd.jupyter.widget-view+json": {
       "model_id": "c071983082a246b78ca28d875494137e",
       "version_major": 2,
       "version_minor": 0
      },
      "text/plain": [
       "model.safetensors:   0%|          | 0.00/2.24G [00:00<?, ?B/s]"
      ]
     },
     "metadata": {},
     "output_type": "display_data"
    },
    {
     "data": {
      "application/vnd.jupyter.widget-view+json": {
       "model_id": "4cae530bc91240db9a1cd73d157abf21",
       "version_major": 2,
       "version_minor": 0
      },
      "text/plain": [
       "tokenizer_config.json:   0%|          | 0.00/418 [00:00<?, ?B/s]"
      ]
     },
     "metadata": {},
     "output_type": "display_data"
    },
    {
     "data": {
      "application/vnd.jupyter.widget-view+json": {
       "model_id": "814c15a6b4674bbaaea474bd8744e683",
       "version_major": 2,
       "version_minor": 0
      },
      "text/plain": [
       "sentencepiece.bpe.model:   0%|          | 0.00/5.07M [00:00<?, ?B/s]"
      ]
     },
     "metadata": {},
     "output_type": "display_data"
    },
    {
     "data": {
      "application/vnd.jupyter.widget-view+json": {
       "model_id": "cb473fb556eb43869ad45391834e3c58",
       "version_major": 2,
       "version_minor": 0
      },
      "text/plain": [
       "tokenizer.json:   0%|          | 0.00/17.1M [00:00<?, ?B/s]"
      ]
     },
     "metadata": {},
     "output_type": "display_data"
    },
    {
     "data": {
      "application/vnd.jupyter.widget-view+json": {
       "model_id": "887b4e0614a74dd4988a6117623543dd",
       "version_major": 2,
       "version_minor": 0
      },
      "text/plain": [
       "special_tokens_map.json:   0%|          | 0.00/280 [00:00<?, ?B/s]"
      ]
     },
     "metadata": {},
     "output_type": "display_data"
    },
    {
     "data": {
      "application/vnd.jupyter.widget-view+json": {
       "model_id": "4fcd1bd4b46b438ba78cf5d3560d17b0",
       "version_major": 2,
       "version_minor": 0
      },
      "text/plain": [
       "1_Pooling/config.json:   0%|          | 0.00/201 [00:00<?, ?B/s]"
      ]
     },
     "metadata": {},
     "output_type": "display_data"
    },
    {
     "name": "stdout",
     "output_type": "stream",
     "text": [
      "--------- Chunking LangChain documents\n",
      "Max sequence length for intfloat/multilingual-e5-large: 512\n"
     ]
    },
    {
     "name": "stderr",
     "output_type": "stream",
     "text": [
      "  3%|▎         | 3/100 [00:00<00:28,  3.36it/s]Token indices sequence length is longer than the specified maximum sequence length for this model (549 > 512). Running this sequence through the model will result in indexing errors\n",
      "100%|██████████| 100/100 [00:11<00:00,  8.79it/s]\n"
     ]
    },
    {
     "name": "stdout",
     "output_type": "stream",
     "text": [
      "---------- Loading Embedding model intfloat/multilingual-e5-large\n",
      "---------- Building Chroma DB\n",
      "---------- Evaluating Retrieval Performances for intfloat/multilingual-e5-large\n",
      "pre-computing query embeddings\n"
     ]
    },
    {
     "name": "stderr",
     "output_type": "stream",
     "text": [
      "100it [00:00, 243.41it/s]"
     ]
    },
    {
     "name": "stdout",
     "output_type": "stream",
     "text": [
      "---------- Storing Performance Results\n",
      "Results stored in ./benchmark_embedding_models.csv\n",
      "Evaluation complete.\n"
     ]
    },
    {
     "name": "stderr",
     "output_type": "stream",
     "text": [
      "\n"
     ]
    }
   ],
   "source": [
    "# Define the benchmark file path\n",
    "save_benchmark = \"./benchmark_embedding_models.csv\"\n",
    "\n",
    "# Function to read the existing benchmark CSV or create a new DataFrame if it doesn't exist\n",
    "def load_or_create_benchmark(file_path):\n",
    "    if os.path.exists(file_path):\n",
    "        return pd.read_csv(file_path)\n",
    "    else:\n",
    "        return None\n",
    "\n",
    "# Load the existing benchmark data or create a new DataFrame\n",
    "df_benchmark = load_or_create_benchmark(save_benchmark)\n",
    "\n",
    "# Iterate over each embedding model to test\n",
    "for EMBEDDING_MODEL_NAME in embedding_model_test:\n",
    "\n",
    "    if df_benchmark is not None and \"model_name\" in df_benchmark.columns:\n",
    "        if EMBEDDING_MODEL_NAME in df_benchmark[\"model_name\"].values:\n",
    "            print(f\"{EMBEDDING_MODEL_NAME} already evaluated. Skipping...\")\n",
    "            continue \n",
    "\n",
    "    # Load the embedding model to get the max token length\n",
    "    embedder = SentenceTransformer(EMBEDDING_MODEL_NAME)\n",
    "    embedder_max_token_length = embedder.max_seq_length\n",
    "\n",
    "    print(\"--------- Chunking LangChain documents\")\n",
    "    print(f\"Max sequence length for {EMBEDDING_MODEL_NAME}: {embedder_max_token_length}\")\n",
    "    documents = split_documents(\n",
    "        knowledge_base = raw_ref_database,\n",
    "        chunk_size= embedder_max_token_length,\n",
    "        tokenizer_name=EMBEDDING_MODEL_NAME\n",
    "    )\n",
    "\n",
    "    print(f\"---------- Loading Embedding model {EMBEDDING_MODEL_NAME}\")\n",
    "    embedding_model = HuggingFaceEmbeddings(\n",
    "        model_name=EMBEDDING_MODEL_NAME,\n",
    "        multi_process=True,\n",
    "        model_kwargs={\"device\": \"cuda\"},\n",
    "        encode_kwargs={\"normalize_embeddings\": True},  # Set True for cosine similarity\n",
    "        show_progress=False\n",
    "    )\n",
    "\n",
    "    print(\"---------- Building Chroma DB\")\n",
    "    collection_name = \"insee_sample_\" + EMBEDDING_MODEL_NAME.split(\"/\")[-1]\n",
    "    db_chroma = Chroma.from_documents(\n",
    "        collection_name=collection_name,\n",
    "        persist_directory=\"./chroma_db\",\n",
    "        documents = documents,\n",
    "        embedding=embedding_model\n",
    "    )\n",
    "\n",
    "    print(f\"---------- Evaluating Retrieval Performances for {EMBEDDING_MODEL_NAME}\")\n",
    "    eval_data = pd.read_csv(\"/home/onyxia/work/Q&S_ref_retrieval_evaluation_Phi-3-mini-128k-instruct.csv\")\n",
    "    results, results_agg = test_retriever(db_chroma, eval_data, embedding_model)\n",
    "\n",
    "    results_agg[\"model_name\"] = EMBEDDING_MODEL_NAME\n",
    "\n",
    "    print(\"---------- Storing Performance Results\")\n",
    "    if df_benchmark is None:\n",
    "        df_benchmark = pd.DataFrame(columns=list(results_agg.keys())) \n",
    "\n",
    "    df_benchmark = pd.concat([df_benchmark, pd.DataFrame([results_agg])], ignore_index=True)\n",
    "    df_benchmark.to_csv(save_benchmark, index=False)\n",
    "    print(f\"Results stored in {save_benchmark}\")\n",
    "\n",
    "print(\"Evaluation complete.\")"
   ]
  },
  {
   "cell_type": "code",
   "execution_count": 150,
   "metadata": {},
   "outputs": [
    {
     "data": {
      "text/html": [
       "<div>\n",
       "<style scoped>\n",
       "    .dataframe tbody tr th:only-of-type {\n",
       "        vertical-align: middle;\n",
       "    }\n",
       "\n",
       "    .dataframe tbody tr th {\n",
       "        vertical-align: top;\n",
       "    }\n",
       "\n",
       "    .dataframe thead th {\n",
       "        text-align: right;\n",
       "    }\n",
       "</style>\n",
       "<table border=\"1\" class=\"dataframe\">\n",
       "  <thead>\n",
       "    <tr style=\"text-align: right;\">\n",
       "      <th></th>\n",
       "      <th>recall_at_1</th>\n",
       "      <th>recall_at_2</th>\n",
       "      <th>recall_at_3</th>\n",
       "      <th>recall_at_5</th>\n",
       "      <th>recall_at_10</th>\n",
       "      <th>recall_at_15</th>\n",
       "      <th>precision_score</th>\n",
       "      <th>f1_score</th>\n",
       "      <th>mrr</th>\n",
       "      <th>hit_rate</th>\n",
       "      <th>model_name</th>\n",
       "    </tr>\n",
       "  </thead>\n",
       "  <tbody>\n",
       "    <tr>\n",
       "      <th>0</th>\n",
       "      <td>0.58</td>\n",
       "      <td>0.58</td>\n",
       "      <td>0.58</td>\n",
       "      <td>0.58</td>\n",
       "      <td>0.63</td>\n",
       "      <td>0.69</td>\n",
       "      <td>0.58</td>\n",
       "      <td>0.58</td>\n",
       "      <td>0.591758</td>\n",
       "      <td>0.58</td>\n",
       "      <td>sentence-transformers/all-MiniLM-L6-v2</td>\n",
       "    </tr>\n",
       "    <tr>\n",
       "      <th>1</th>\n",
       "      <td>0.63</td>\n",
       "      <td>0.71</td>\n",
       "      <td>0.75</td>\n",
       "      <td>0.80</td>\n",
       "      <td>0.86</td>\n",
       "      <td>0.89</td>\n",
       "      <td>0.63</td>\n",
       "      <td>0.63</td>\n",
       "      <td>0.705531</td>\n",
       "      <td>0.63</td>\n",
       "      <td>manu/sentence_croissant_alpha_v0.4</td>\n",
       "    </tr>\n",
       "    <tr>\n",
       "      <th>2</th>\n",
       "      <td>0.85</td>\n",
       "      <td>0.89</td>\n",
       "      <td>0.91</td>\n",
       "      <td>0.93</td>\n",
       "      <td>0.94</td>\n",
       "      <td>0.95</td>\n",
       "      <td>0.85</td>\n",
       "      <td>0.85</td>\n",
       "      <td>0.884048</td>\n",
       "      <td>0.85</td>\n",
       "      <td>OrdalieTech/Solon-embeddings-large-0.1</td>\n",
       "    </tr>\n",
       "    <tr>\n",
       "      <th>3</th>\n",
       "      <td>0.63</td>\n",
       "      <td>0.70</td>\n",
       "      <td>0.76</td>\n",
       "      <td>0.81</td>\n",
       "      <td>0.87</td>\n",
       "      <td>0.89</td>\n",
       "      <td>0.63</td>\n",
       "      <td>0.63</td>\n",
       "      <td>0.706472</td>\n",
       "      <td>0.63</td>\n",
       "      <td>sentence-transformers/paraphrase-multilingual-...</td>\n",
       "    </tr>\n",
       "    <tr>\n",
       "      <th>4</th>\n",
       "      <td>0.82</td>\n",
       "      <td>0.89</td>\n",
       "      <td>0.90</td>\n",
       "      <td>0.92</td>\n",
       "      <td>0.93</td>\n",
       "      <td>0.94</td>\n",
       "      <td>0.82</td>\n",
       "      <td>0.82</td>\n",
       "      <td>0.865667</td>\n",
       "      <td>0.82</td>\n",
       "      <td>intfloat/multilingual-e5-large</td>\n",
       "    </tr>\n",
       "  </tbody>\n",
       "</table>\n",
       "</div>"
      ],
      "text/plain": [
       "   recall_at_1  recall_at_2  recall_at_3  recall_at_5  recall_at_10  \\\n",
       "0         0.58         0.58         0.58         0.58          0.63   \n",
       "1         0.63         0.71         0.75         0.80          0.86   \n",
       "2         0.85         0.89         0.91         0.93          0.94   \n",
       "3         0.63         0.70         0.76         0.81          0.87   \n",
       "4         0.82         0.89         0.90         0.92          0.93   \n",
       "\n",
       "   recall_at_15  precision_score  f1_score       mrr  hit_rate  \\\n",
       "0          0.69             0.58      0.58  0.591758      0.58   \n",
       "1          0.89             0.63      0.63  0.705531      0.63   \n",
       "2          0.95             0.85      0.85  0.884048      0.85   \n",
       "3          0.89             0.63      0.63  0.706472      0.63   \n",
       "4          0.94             0.82      0.82  0.865667      0.82   \n",
       "\n",
       "                                          model_name  \n",
       "0             sentence-transformers/all-MiniLM-L6-v2  \n",
       "1                 manu/sentence_croissant_alpha_v0.4  \n",
       "2             OrdalieTech/Solon-embeddings-large-0.1  \n",
       "3  sentence-transformers/paraphrase-multilingual-...  \n",
       "4                     intfloat/multilingual-e5-large  "
      ]
     },
     "execution_count": 150,
     "metadata": {},
     "output_type": "execute_result"
    }
   ],
   "source": [
    "df_benchmark = load_or_create_benchmark(save_benchmark)\n",
    "df_benchmark"
   ]
  }
 ],
 "metadata": {
  "kernelspec": {
   "display_name": "base",
   "language": "python",
   "name": "python3"
  },
  "language_info": {
   "codemirror_mode": {
    "name": "ipython",
    "version": 3
   },
   "file_extension": ".py",
   "mimetype": "text/x-python",
   "name": "python",
   "nbconvert_exporter": "python",
   "pygments_lexer": "ipython3",
   "version": "3.12.2"
  }
 },
 "nbformat": 4,
 "nbformat_minor": 2
}
