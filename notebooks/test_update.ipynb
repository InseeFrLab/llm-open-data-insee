{
 "cells": [
  {
   "cell_type": "markdown",
   "metadata": {},
   "source": [
    "### Generate a Complete Database "
   ]
  },
  {
   "cell_type": "markdown",
   "metadata": {},
   "source": [
    "- date : 24/05/2024\n",
    "- New features : generate a complete database using \"OrdalieTech/Solon-embeddings-large-0.1\" embedding model (config file have been improved)\n",
    "- Expected improvement : improving the retrieval capabilities with a much strong embedding model."
   ]
  },
  {
   "cell_type": "code",
   "execution_count": 1,
   "metadata": {},
   "outputs": [],
   "source": [
    "import sys\n",
    "import os\n",
    "import pandas as pd\n",
    "\n",
    "sys.path.append(os.path.abspath(os.path.join(os.path.dirname(os.path.abspath('')), '..', 'llm-open-data-insee/src')))"
   ]
  },
  {
   "cell_type": "markdown",
   "metadata": {},
   "source": [
    "### Building New Complete Dataset based on config files "
   ]
  },
  {
   "cell_type": "code",
   "execution_count": null,
   "metadata": {},
   "outputs": [],
   "source": [
    "from db_building import  build_database_from_csv\n",
    "#db = build_database_from_csv('/home/onyxia/work/llm-open-data-insee/data_complete.csv')\n",
    "db.similarity_search(\"Quels sont les chiffres du chômages en 2023\")"
   ]
  },
  {
   "cell_type": "markdown",
   "metadata": {},
   "source": [
    "### Loading Dataset based on config files"
   ]
  },
  {
   "cell_type": "code",
   "execution_count": 2,
   "metadata": {},
   "outputs": [
    {
     "name": "stderr",
     "output_type": "stream",
     "text": [
      "2024-06-14 15:22:51,587 - INFO - Load pretrained SentenceTransformer: OrdalieTech/Solon-embeddings-large-0.1\n",
      "/opt/mamba/lib/python3.12/site-packages/huggingface_hub/file_download.py:1132: FutureWarning: `resume_download` is deprecated and will be removed in version 1.0.0. Downloads always resume when possible. If you want to force a new download, use `force_download=True`.\n",
      "  warnings.warn(\n",
      "2024-06-14 15:22:55,471 - INFO - Anonymized telemetry enabled. See                     https://docs.trychroma.com/telemetry for more information.\n",
      "2024-06-14 15:22:55,596 - INFO - Collection insee_data is not created.\n",
      "2024-06-14 15:22:55,598 - INFO - The database (collection insee_data) has been reloaded from directory /home/onyxia/work/llm-open-data-insee/data/chroma_db\n"
     ]
    }
   ],
   "source": [
    "from db_building import reload_database_from_local_dir\n",
    "db = reload_database_from_local_dir(persist_directory=\"/home/onyxia/work/llm-open-data-insee/data/chroma_db\")"
   ]
  },
  {
   "cell_type": "code",
   "execution_count": 3,
   "metadata": {},
   "outputs": [
    {
     "data": {
      "text/plain": [
       "101833"
      ]
     },
     "execution_count": 3,
     "metadata": {},
     "output_type": "execute_result"
    }
   ],
   "source": [
    "len(db.get()[\"ids\"])"
   ]
  },
  {
   "cell_type": "code",
   "execution_count": 4,
   "metadata": {},
   "outputs": [
    {
     "name": "stderr",
     "output_type": "stream",
     "text": [
      "2024-06-14 15:23:08,695 - INFO - Start multi-process pool on devices: cuda:0\n"
     ]
    },
    {
     "ename": "",
     "evalue": "",
     "output_type": "error",
     "traceback": [
      "\u001b[1;31mThe Kernel crashed while executing code in the current cell or a previous cell. \n",
      "\u001b[1;31mPlease review the code in the cell(s) to identify a possible cause of the failure. \n",
      "\u001b[1;31mClick <a href='https://aka.ms/vscodeJupyterKernelCrash'>here</a> for more info. \n",
      "\u001b[1;31mView Jupyter <a href='command:jupyter.viewOutput'>log</a> for further details."
     ]
    }
   ],
   "source": [
    "result = db.similarity_search(\"Quels résultats au BAC les étudiants de classes préparatoires ont ils généralement?\", k = 5 )\n",
    "print(result)"
   ]
  },
  {
   "cell_type": "code",
   "execution_count": null,
   "metadata": {},
   "outputs": [],
   "source": [
    "from config import RAG_PROMPT_TEMPLATE, EMB_MODEL_NAME, MODEL_NAME\n",
    "from model_building import build_llm_model\n",
    "from chain_building.build_chain import (\n",
    "    load_retriever,\n",
    "    build_chain\n",
    "    )\n",
    "\n",
    "from langchain_core.prompts import PromptTemplate\n",
    "import chainlit as cl\n",
    "\n",
    "prompt = PromptTemplate(input_variables=[\"context\", \"question\"], template=RAG_PROMPT_TEMPLATE)\n",
    "#retriever = load_retriever(emb_model_name=EMB_MODEL_NAME,\n",
    "                        #persist_directory=\"/home/onyxia/work/llm-open-data-insee/data/chroma_db\")\n",
    "retriever = db.as_retriever(search_type=\"mmr\", search_kwargs={\"score_threshold\": 0.5, \"k\": 10})\n",
    "llm = build_llm_model(model_name=MODEL_NAME,\n",
    "                        quantization_config=True,\n",
    "                        config=True,\n",
    "                        token=os.environ[\"HF_TOKEN\"])\n",
    "chain = build_chain(retriever, prompt, llm)\n"
   ]
  },
  {
   "cell_type": "code",
   "execution_count": 12,
   "metadata": {},
   "outputs": [
    {
     "name": "stdout",
     "output_type": "stream",
     "text": [
      "question posée :  Chiffre de l'inflation\n",
      "Documents récupérés : \n",
      " . Les questions trimestrielles complètent l’enquête mensuelle publiée le 23 janvier 2019, notamment sur la demande et les facteurs de production. Le solde d’opinion correspond à l’écart entre le pourcentage de réponses «en hausse» et le pourcentage de réponses «en baisse». Des informations complémentaires (méthodologie simplifiée et détaillée,nomenclatures, etc.) sont disponibles par l’onglet «Documentation» de la présente page.  Prochaine publication: le 24 avril 2019 à 8h45\n",
      ".) sont disponibles par l’onglet «Documentation» de la page web de cette publication Les réponses à cette enquête ont été collectées entre le 27maiet le 21juin2021. Prochaine publicationle 22juillet2021 à 8h45.\n",
      ". Les réponses à cette enquête ont été collectées entre le 28 décembre 2022 et le 23 janvier 2023.  Des informations complémentaires (méthodologie simplifiée et détaillée,nomenclatures, etc.) sont disponibles par l’onglet «Documentation» de page web de cette publication. Prochaine publication: le 25 avril 2023 à 12h00\n",
      ". La contextualisation d’une consigne (destinée à un enquêteur ou destinée à un répondant web par exemple) est assez courante et usuelle, mais filtrer des questions ou blocs de question selon le mode doit être encadré pour préserver le principe de questionnaire omnimode avec les mêmes variables collectées. La bonne pratique consiste à limiter ces cas aux questions dont les réponses peuvent être imputées automatiquement, garantissant une certaine indépendance des traitements post-collecte (chaque réponse collectée passe par les mêmes chaînes de traitement quel que soit le mode). L’exemple théorique de la question «Avez-vous, personnellement, la possibilité d’accéder à un internet?» en est une bonne illustration. Dans un contexte web, elle paraît superflue et la réponse pourrait être imputée automatiquement à «Oui». On peut également citer les questions relatives à la description d’un logement (distinction entre appartement ou maison individuelle par exemple) qui peuvent relever des phases de repérage préalables par l’enquêteur et alléger d’autant le questionnement statistique en face-à-face (tout en restant pertinentes dans les autres modes de collecte). Pour ce qui est de la troisième dimension du questionnaire omnimode, des variables statistiques consolidées, elle constitue un champ d’évolution à considérer. Il semblerait efficace de pouvoir spécifier tant la variable statistique, que son mode de collecte (la question, son libellé, etc.), que les contraintes de format (les différents contrôles dans les questionnaires) et aller jusqu’aux règles de consolidation ou d’imputation automatique dont elle doit faire l’objet post-collecte. Ainsi, en reprenant l’exemple didactique précédent, en même temps que le libellé de la question «Avez-vous personnellement accès à internet?», une règle d’imputation automatique à «Oui» pour les répondants issus du mode web pourrait être spécifiée\n",
      ".   Exemple issu de l’enquête sur les technologies de l’information et de la communication dans les entreprises (TIC 2019). Le questionnement n’est pas identique selon le mode de collecte, que ce soit sur le fond ou sur la forme. Par exemple, sur le fond, une consigne peut différer selon qu’elle est adressée directement à un enquêté ou à un enquêteur (encadré2). Sur la forme, les fonctionnalités dynamiques qu’offre le web (contrôles en ligne, filtres dynamiques, listes déroulantes...) ne peuvent se retranscrire à l’identique sur le format papier. Ces deux aspects doivent ainsi être pris en compte dans la mise en place de la nouvelle filière, où le concepteur doit pouvoir être autonome dans la conception et la construction des questionnaires d’une enquête multimode. L’outil Pogues doit offrir au concepteur la possibilité de distinguer des éléments relevant d’un seul mode, tout en mutualisant le plus possible ce qui peut l’être (les questions communes à tous les modes ne sont décrites qu’une seule fois). Sur la forme, il s’agit d’appliquer des principes déterministes, à savoir que le mode de collecte et le format du questionnaire suffisent à déterminer la présentation d’un composant du questionnaire. Ainsi, certaines différences sont interprétées directement par le générateur de questionnaires: disparition des comportements dynamiques, filtres remplacés par un simple texte explicitant la redirection, présentation d’une liste déroulante du web en simple champ de saisie. Dans une enquête en face-à face, certaines consignes sont destinées à être lues par l’enquêteur pour l’enquêté, et d’autres sont à destination de l’enquêteur uniquement. Ilpeut s’agir par exemple de préciser des concepts compliqués\n",
      "Les sept premiers modules couvrent autant de domaines de la vie de l'enquêté. Les questions s'intéressent aussi bien à ses attitudes ou opinions, à ses projets ou intentions, qu'à ses pratiques actuelles ou passées ; certaines concernent ses réactions à des scénarios fictifs (variantes du système de retraite, par exemple). On a cherché à augmenter encore cette diversité du questionnement en multipliant les points de vue et en balayant aussi bien les champs des gains et des pertes, des petits et des gros risques, des choix anecdotiques ou plus fondamentaux, des horizons proches ou plus lointains.\n",
      ". Les résultats sont à présent calculés sur la base des seules répondantes. Des informations complémentaires (méthodologie simplifiée et détaillée,nomenclatures, etc.) sont disponibles par l’onglet «Documentation» de la page web de cette publication Les réponses à cette enquête ont été collectées entre le 26mars2021 et le 19avril2021. Prochaine publicationle 26mai2021 à 8h45.\n",
      ". Les réponses à cette enquête ont été collectées entre le 27 novembre et le 14 décembre 2020. Des informations complémentaires (méthodologie simplifiée et détaillée,nomenclatures, etc.) sont disponibles par l’onglet «Documentation» de la présente page. Prochaine publication: le 21 janvier 2021 à 8h45\n",
      ".) sont disponibles par l’onglet «Documentation» de la page web de cette publication. Les réponses à cette enquête ont été collectées entre le 24 novembre 2023 et le 18 décembre 2023. Prochaine publication: le 25 janvier 2024, à 8h45.\n",
      ". Les réponses à cette enquête ont été collectées entre le 26septembre et le 16octobre2023. Prochaine publication: le 25janvier2024, à 8h45.\n",
      "Réponse : : \n",
      " Dans le contexte fourni, il n'y a pas de réponse directe à la question posée concernant le chiffre de l'inflation. Les documents fournis traitent de l'opinion des industriels sur la conjoncture des affaires dans l'industrie manufacturière en France. Les documents mentionnent des informations sur la production, les carnets de commandes, les prix de vente, et les obstacles limitant la production, mais ils ne fournissent pas de données sur l'inflation.\n",
      "\n",
      "Pour obtenir des informations sur l'inflation, il est nécessaire de consulter des publications spécifiques à ce sujet, telles que l'Indice national à prix constant (INPC) ou l'Indice des prix à la consommation (IPC) publiés par l'Institut national de la statistique et des études économiques (INSEE).\n",
      "\n",
      "Les documents fournis sont accessibles sur la plateforme INSEE via les liens fournis dans la métadonnée de chaque document. Les documents contiennent des informations sur l'opinion des industriels sur la conjoncture des affaires dans l'industrie manufacturière, y compris les perspectives de production, les carnets de commandes, les prix de vente, et les obstacles limitant la production.\n",
      "\n",
      "Les documents sont issus de deux enquêtes mensuelles de conjoncture dans l'industrie, l'une publiée en mai 2021 et l'autre en décembre 2023. Les réponses aux enquêtes ont été collectées respectivement entre le 27 avril et le 20 mai 2021 et entre le 24 novembre et le 18 décembre 2023. Les documents contiennent des informations sur les industries manufacturières principales, y compris l'agro-alimentaire, les principaux sous-secteurs, et les indicateurs synthétiques du climat des affaires dans les sous-secteurs.\n",
      "\n",
      "Les documents sont également disponibles sur la plateforme INSEE sous les références 5387183, 5892815, 6204221, 6459978, 6529304, 7705872, et 7738889. Les documents sont publiés régulièrement et les prochaines publications sont prévues respectivement le 24 avril 2019, le 21 juillet 2022, le 24 mars 2022, le 21 juillet 2022, et le 25 janvier 2024.\n",
      "\n",
      "Les documents sont classés sous les thématiques \"Caractéristiques de l'industrie/Industrie manufacturière/Conjoncture\". Les documents sont également disponibles sous forme de documents PDF et de données numériques.\n",
      "\n",
      "Les documents sont fournis par l'Institut national de la statistique et des études économiques (INSEE) et sont destinés aux experts. Les documents sont disponibles gratuitement sur la plateforme INSEE.\n",
      "\n",
      "Les documents contiennent des informations complémentaires, telles que la méthodologie simplifiée et détaillée, les nomenclatures, et les sources. Les documents sont également disponibles en français.\n",
      "\n",
      "Les documents sont accessibles via l'onglet \"Documentation\" de chaque publication. Les documents contiennent des informations sur les auteurs, les collections, les dates de diffusion, les intertitres, les libellés d'affichage géographique, les sources, et les sous-titres.\n",
      "\n",
      "Les documents sont issus de l'enquête mensuelle de conjoncture dans l'industrie et de l'enquête trimestrielle de conjoncture dans l'industrie. Les enquêtes sont menées auprès des entreprises de l'industrie manufacturière en France. Les enquêtes visent à collecter des informations sur la conjoncture des affaires dans l'industrie manufacturière, y compris les perspectives de production, les carnets de commandes, les prix de vente, et les obstacles limitant la production.\n",
      "\n",
      "Les documents fournis ne contiennent pas de réponse directe à la question posée concernant le chiffre de l'inflation. Pour obtenir des informations sur l'inflation, il est nécessaire de consulter des publications spécifiques à ce sujet, telles que l'Indice national à prix constant (INPC) ou l'Indice des prix à la consommation (IPC) publiés par l'Institut national de la statistique et des études économiques (INSEE).\n"
     ]
    }
   ],
   "source": [
    "question = \"Quels résultats au BAC les étudiants de classes préparatoires ont ils généralement?\" #str(input('write your question : '))\n",
    "result = await chain.ainvoke({\"question\": question }) \n",
    "\n",
    "print('question posée : ', result[\"question\"][\"question\"])\n",
    "print('Documents récupérés : \\n' , \"\\n\".join([doc.page_content for doc in result[\"context\"]]))\n",
    "print(\"Réponse : : \\n\", result[\"answer\"])"
   ]
  },
  {
   "cell_type": "code",
   "execution_count": null,
   "metadata": {},
   "outputs": [],
   "source": []
  }
 ],
 "metadata": {
  "kernelspec": {
   "display_name": "base",
   "language": "python",
   "name": "python3"
  },
  "language_info": {
   "codemirror_mode": {
    "name": "ipython",
    "version": 3
   },
   "file_extension": ".py",
   "mimetype": "text/x-python",
   "name": "python",
   "nbconvert_exporter": "python",
   "pygments_lexer": "ipython3",
   "version": "3.12.3"
  }
 },
 "nbformat": 4,
 "nbformat_minor": 2
}
