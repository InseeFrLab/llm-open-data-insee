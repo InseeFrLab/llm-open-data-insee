{
 "cells": [
  {
   "cell_type": "markdown",
   "metadata": {},
   "source": [
    "### Generate a Complete Database "
   ]
  },
  {
   "cell_type": "markdown",
   "metadata": {},
   "source": [
    "- date : 24/05/2024\n",
    "- New features : generate a complete database using \"OrdalieTech/Solon-embeddings-large-0.1\" embedding model (config file have been improved)\n",
    "- Expected improvement : improving the retrieval capabilities with a much strong embedding model."
   ]
  },
  {
   "cell_type": "code",
   "execution_count": 1,
   "metadata": {},
   "outputs": [],
   "source": [
    "import sys\n",
    "import os\n",
    "import pandas as pd"
   ]
  },
  {
   "cell_type": "markdown",
   "metadata": {},
   "source": [
    "### Building New Complete Dataset based on config files "
   ]
  },
  {
   "cell_type": "code",
   "execution_count": 2,
   "metadata": {},
   "outputs": [],
   "source": [
    "from db_building import  build_database_from_csv\n",
    "#db = build_database_from_csv('/home/onyxia/work/llm-open-data-insee/data_complete.csv')\n",
    "#db.similarity_search(\"Quels sont les chiffres du chômages en 2023\")"
   ]
  },
  {
   "cell_type": "markdown",
   "metadata": {},
   "source": [
    "### Loading Dataset based on config files"
   ]
  },
  {
   "cell_type": "code",
   "execution_count": 3,
   "metadata": {},
   "outputs": [
    {
     "name": "stderr",
     "output_type": "stream",
     "text": [
      "2024-06-17 13:13:55,348 - INFO - Load pretrained SentenceTransformer: OrdalieTech/Solon-embeddings-large-0.1\n",
      "/opt/mamba/lib/python3.12/site-packages/huggingface_hub/file_download.py:1132: FutureWarning: `resume_download` is deprecated and will be removed in version 1.0.0. Downloads always resume when possible. If you want to force a new download, use `force_download=True`.\n",
      "  warnings.warn(\n",
      "2024-06-17 13:14:00,066 - INFO - Anonymized telemetry enabled. See                     https://docs.trychroma.com/telemetry for more information.\n",
      "2024-06-17 13:14:00,179 - INFO - Collection insee_data is not created.\n",
      "2024-06-17 13:14:00,180 - INFO - The database (collection insee_data) has been reloaded from directory /home/onyxia/work/llm-open-data-insee/data/chroma_db\n"
     ]
    }
   ],
   "source": [
    "from db_building import reload_database_from_local_dir\n",
    "db = reload_database_from_local_dir(persist_directory=\"/home/onyxia/work/llm-open-data-insee/data/chroma_db\")"
   ]
  },
  {
   "cell_type": "code",
   "execution_count": 4,
   "metadata": {},
   "outputs": [],
   "source": [
    "#check if there are at least one encoded document in our vectorstore\n",
    "print(len(db.get()[\"ids\"])) "
   ]
  },
  {
   "cell_type": "code",
   "execution_count": 4,
   "metadata": {},
   "outputs": [
    {
     "name": "stderr",
     "output_type": "stream",
     "text": [
      "2024-06-17 13:14:23,618 - INFO - Start multi-process pool on devices: cuda:0\n"
     ]
    },
    {
     "name": "stdout",
     "output_type": "stream",
     "text": [
      "page_content='.  Une certification intermédiaire est intégrée au parcours en première professionnelle (obligatoire pour les scolaires, facultatif pour les apprentis). Près de neuf élèves sur dix passent ainsi un examen avant leur baccalauréat professionnel: un BEP pour 79% d’entre eux ou un CAP pour 8%. Les taux de réussite sont de plus de 80% et la quasi-totalité des lauréats poursuivent leur scolarité. Par contre, ceux qui échouent sont un peu moins nombreux à poursuivre: huit sur dix continuent, dont deux tiers en terminale professionnelle comme prévu, 10% redoublent la première et 5% se réorientent en CAP.  Après trois ans de scolarité, 67% des élèves entrés en seconde professionnelle trois ans plus tôt se présentent à l’examen du baccalauréat professionnel et plus de trois candidats sur quatre le réussissent. Le taux de réussite est plus faible dans les domaines de la production (74%), passant de 67% pour le domaine «génie civil, construction, bois» à 86% pour celui des «matériaux souples». Dans les formations des domaines des services, la réussite est globalement meilleure (81%), passant de 76% pour le domaine «services aux personnes» à 82% pour celui d’«échanges et gestion». Ce résultat peut être lié à la forte présence de filles dans les services, puisque les filles réussissent globalement mieux à l’école que les garçons.  Après cinq ans de scolarité, 60% des sortants de troisième qui sont entrés en seconde professionnelle entre 2008 et 2010 ont obtenu le diplôme du baccalauréat professionnel dont 52% en trois ans. Seuls 18% de ceux qui ne l’ont pas obtenu ont un autre diplôme, principalement un BEP (10%) ou un CAP (6 %). Ceux qui restent sans diplôme de niveau V cinq ans après leur entrée en seconde professionnelle sont en grande majorité sortis du système scolaire à cette date (94%)' metadata={'authors': '', 'categories': 'Publications grand public', 'collections': 'Insee Analyses', 'date_diffusion': '2016-07-13T12:55:00Z', 'insee_id': 2128957, 'intertitres': \"La filière professionnelle depuis la réforme de 2009 Le domaine de la «\\xa0mécanique, électricité, électronique\\xa0» regroupe le plus de jeunes, répartis dans l’ensemble des districts scolaires de l’académie de Strasbourg Sept fois plus d'élèves que d'apprentis pour le baccalauréat professionnel Moins d’orientation vers la filière professionnelle Les effectifs de l'académie de Strasbourg suivent la tendance nationale Les effectifs de l'académie de Strasbourg suivent la tendance nationale Avec la réforme, plus d’un jeune sur deux de la filière professionnelle prépare le bac Près de neuf filles sur dix en formation dans les services Des élèves souvent en difficulté avant d’entrer en filière professionnelle Un élève sur deux socialement défavorisé Obtenir un CAP en deux ans, une étape pour près de la moitié des lauréats Parcours dans la filière professionnelle -\\xa0CAP\\xa0- Parcours dans la filière professionnelle -\\xa0baccalauréat professionnel\\xa0- Plus de 60 % des élèves et des apprentis obtiennent au moins le diplôme correspondant à leur formation - Diplômes obtenus en cinq ans par les entrants dans la voie professionnelle de 2008 à 2010 Plus de 60 % des élèves et des apprentis obtiennent au moins le diplôme correspondant à leur formation - Diplômes obtenus en cinq ans par les entrants dans la voie professionnelle de 2008 à 2010 La moitié des entrants n’obtiennent pas leur baccalauréat professionnel en trois ans La voie professionnelle\", 'libelleAffichageGeo': 'Grand Est', 'source': 'https://www.insee.fr/fr/statistiques/2128957', 'subtitle': '', 'themes': 'Éducation – Formation – Compétences', 'title': 'Voie professionnelle: des parcours sinueux, mais une majorité d’élèves diplômés'}\n"
     ]
    }
   ],
   "source": [
    "result = db.similarity_search(\"Quels résultats au BAC les étudiants de classes préparatoires ont ils généralement?\", k = 5 )\n",
    "print(result[0])"
   ]
  },
  {
   "cell_type": "code",
   "execution_count": 29,
   "metadata": {},
   "outputs": [],
   "source": [
    "from config import RAG_PROMPT_TEMPLATE, EMB_MODEL_NAME, MODEL_NAME\n",
    "from model_building import build_llm_model\n",
    "from chain_building.build_chain import (\n",
    "    load_retriever,\n",
    "    build_chain\n",
    "    )\n",
    "\n",
    "from langchain_core.prompts import PromptTemplate\n",
    "import chainlit as cl\n",
    "\n",
    "from langchain_community.vectorstores import Chroma\n",
    "from langchain_community.embeddings import HuggingFaceEmbeddings\n",
    "from langchain_core.runnables import RunnablePassthrough, RunnableParallel\n",
    "from langchain_core.output_parsers import StrOutputParser\n",
    "\n",
    "def format_docs(docs):\n",
    "    return \"\\n\\n\".join(doc.page_content for doc in docs)\n",
    "\n",
    "def build_chain_test(retriever, prompt, llm):\n",
    "    \"\"\"\n",
    "    Build a LLM chain based on Langchain package and INSEE data\n",
    "    \"\"\"\n",
    "    # Create a Langchain LLM Chain\n",
    "    chain = (\n",
    "        RunnablePassthrough.assign(context=(lambda x: format_docs(x[\"context\"])))\n",
    "        | prompt\n",
    "        | llm\n",
    "        | StrOutputParser()\n",
    "    )\n",
    "\n",
    "    rag_chain_with_source = RunnableParallel(\n",
    "        {\"context\": retriever, \"question\": RunnablePassthrough()}\n",
    "    ).assign(answer=chain)\n",
    "\n",
    "    return rag_chain_with_source"
   ]
  },
  {
   "cell_type": "code",
   "execution_count": 30,
   "metadata": {},
   "outputs": [
    {
     "name": "stdout",
     "output_type": "stream",
     "text": [
      "input_variables=['context', 'question'] template=\"\\n<s>[INST]\\nTu es un assistant spécialisé dans la statistique publique répondant aux questions d'agent de l'INSEE.\\nRéponds en Français seulement.\\nUtilise les informations obtenues dans le contexte, réponds de manière argumentée à la question posée.\\nLa réponse doit être développée et citer ses sources.\\n\\nSi tu ne peux pas induire ta réponse du contexte, ne réponds pas.\\nVoici le contexte sur lequel tu dois baser ta réponse :\\nContexte: {context}\\n        ---\\nVoici la question à laquelle tu dois répondre :\\nQuestion: {question}\\n[/INST]\\n\"\n"
     ]
    }
   ],
   "source": [
    "prompt = PromptTemplate(input_variables=[\"context\", \"question\"], template=RAG_PROMPT_TEMPLATE)\n",
    "print(prompt)"
   ]
  },
  {
   "cell_type": "code",
   "execution_count": 8,
   "metadata": {},
   "outputs": [],
   "source": [
    "retriever = db.as_retriever(search_type=\"mmr\", search_kwargs={\"score_threshold\": 0.5, \"k\": 5})\n",
    "\n",
    "#retriever = load_retriever(emb_model_name=EMB_MODEL_NAME,\n",
    "                        #persist_directory=\"/home/onyxia/work/llm-open-data-insee/data/chroma_db\")"
   ]
  },
  {
   "cell_type": "code",
   "execution_count": null,
   "metadata": {},
   "outputs": [],
   "source": [
    "llm = build_llm_model(model_name=MODEL_NAME,\n",
    "                        quantization_config=True,\n",
    "                        config=True, \n",
    "                        token = os.environ[\"HF_TOKEN\"])"
   ]
  },
  {
   "cell_type": "code",
   "execution_count": 57,
   "metadata": {},
   "outputs": [],
   "source": [
    "chain = build_chain_test(retriever, prompt, llm)"
   ]
  },
  {
   "cell_type": "code",
   "execution_count": 58,
   "metadata": {},
   "outputs": [
    {
     "data": {
      "text/plain": [
       "{\n",
       "  context: VectorStoreRetriever(tags=['Chroma', 'HuggingFaceEmbeddings'], vectorstore=<langchain_community.vectorstores.chroma.Chroma object at 0x7efc7cace780>, search_type='mmr', search_kwargs={'score_threshold': 0.5, 'k': 5}),\n",
       "  question: RunnablePassthrough()\n",
       "}\n",
       "| RunnableAssign(mapper={\n",
       "    answer: RunnableAssign(mapper={\n",
       "              context: RunnableLambda(lambda x: format_docs(x['context']))\n",
       "            })\n",
       "            | PromptTemplate(input_variables=['context', 'question'], template=\"\\n<s>[INST]\\nTu es un assistant spécialisé dans la statistique publique répondant aux questions d'agent de l'INSEE.\\nRéponds en Français seulement.\\nUtilise les informations obtenues dans le contexte, réponds de manière argumentée à la question posée.\\nLa réponse doit être développée et citer ses sources.\\n\\nSi tu ne peux pas induire ta réponse du contexte, ne réponds pas.\\nVoici le contexte sur lequel tu dois baser ta réponse :\\nContexte: {context}\\n        ---\\nVoici la question à laquelle tu dois répondre :\\nQuestion: {question}\\n[/INST]\\n\")\n",
       "            | HuggingFacePipeline(pipeline=<transformers.pipelines.text_generation.TextGenerationPipeline object at 0x7efb0367f800>)\n",
       "            | StrOutputParser()\n",
       "  })"
      ]
     },
     "execution_count": 58,
     "metadata": {},
     "output_type": "execute_result"
    }
   ],
   "source": [
    "chain"
   ]
  },
  {
   "cell_type": "code",
   "execution_count": 53,
   "metadata": {},
   "outputs": [
    {
     "name": "stderr",
     "output_type": "stream",
     "text": [
      "2024-06-17 14:20:31,369 - INFO - Start multi-process pool on devices: cuda:0\n"
     ]
    },
    {
     "name": "stdout",
     "output_type": "stream",
     "text": [
      "Doc 0 : https://www.insee.fr/fr/information/5008705\n",
      "Le système de retraites français est le fruit d’une volonté postérieure à la deuxième guerre mondiale de construire un système d’assurance vieillesse capable de couvrir l’ensemble de la population. Il s’inscrit dans l’objectif d’offrir aux Français un large système de couverture sociale, permettant de se prémunir de tous les risques: santé, retraites, famille et accidents du travail. À ses débuts, l’existence de catégories auxquelles étaient déjà versées des pensions de retraite, doublée des réserves émises par les travailleurs indépendants, a orienté les choix vers un système de retraites par catégories socioprofessionnelles. Il en a résulté une pluralité de régimes, pour la plupart toujours existants, de dimensions bien différentes – allant de quelques centaines de bénéficiaires pour le régime du port autonome de Strasbourg ou celui de la Comédie-Française, à plusieurs millions pour le régime général qui regroupe les salariés du secteur privé. À cela s’ajoutent des réglementations disparates et des règles de calcul des pensions propres à chaque régime. Depuis, les évolutions sociétales et en particulier les améliorations des conditions de travail, des conditions sanitaires combinées aux progrès de la médecine, ainsi que le vieillissement des générations nombreuses du «baby-boom» ont amené une part de plus en plus massive d’individus aux âges auxquels ils pouvaient non seulement prétendre à la retraite, mais aussi et surtout en bénéficier plus longtemps. Ce contexte de vieillissement de la population soulève des questions sur des enjeux majeurs: les financements, les dépenses et donc l’équilibre financier de ces régimes, pensés à une époque où la répartition entre le nombre de cotisants et les nombre de retraités était toute autre. Plusieurs réformes réglementaires ont donc été menées ces 30 dernières années afin d’assurer la pérennité financière des régimes de retraite\n",
      "Doc 1 : https://www.insee.fr/fr/information/1376331\n",
      "Comment assurer la pérennité du système de retraite français par l'allongement de la vie active lorsque moins d'un salarié sur deux parvient aujourd'hui à prendre sa retraite sans passer préalablement par l'inactivité ou le chômage ? Une partie du problème de l'inactivité des travailleurs âgés avant 60 ans pourrait se trouver au contraire dans la faible incitation à travailler au-delà de l'âge normal de la retraite déterminé par l'âge du « taux plein ». L'âge de la retraite introduit une fin de cycle de vie active qui modifie les comportements de recherche d'emploi lorsque les agents se rapprochent de cet horizon, mais également le comportement des entreprises dans leur stratégie de recrutements et de licenciements. Au niveau international, le taux d'emploi des 55 à 59 ans semble ainsi positivement corrélé avec l'âge de retraite effectif. Sur données individuelles, la probabilité d'être en emploi apparaît liée à la distance à l'âge du taux plein de la retraite.\n",
      "Doc 2 : https://www.insee.fr/fr/information/1375905\n",
      "L'impact redistributif du système de retraite français des salariés du privé est analysé ici,pour les générations nées dans les années 1950, avant la réforme intervenue en 2003. Les transferts redistributifs sont évalués en se fondant sur la comparaison des taux de rendement interne. La redistribution intragénérationnelle peut s'apprécier selon deux dimensions : une dimension verticale, en fonction du salaire ; une dimension horizontale, essentiellement liée au nombre d'enfants. Afin de neutraliser les transferts induits par le système de retraite entre membres d'un même ménage (surtout de l'homme vers la femme), la redistribution est envisagée au niveau des individus mais aussi des couples. L'analyse est menée à partir de l'Enquête Patrimoine 1998, complétée au moyen du modèle de microsimulation dynamique Destinie. Entre individus, la redistribution est manifeste : les femmes, et particulièrement celles qui disposent des plus bas salaires, en sont les principales bénéficiaires. Parmi les couples, la redistribution est encore nette, dirigée essentiellement vers ceux dont les salaires sont les plus faibles. Une grande part de cette redistribution verticale est imputable au minimum contributif. Les transferts vers les couples ayant élevé plus d'enfants sont très nets et sont largement dus aux avantages familiaux de durée d'assurance. Par ailleurs, les transferts anti-redistributifs dus aux différentiels de mortalité restent de faible ampleur. Ils se concentrent dans la population masculine mais ne conduisent pas globalement à des transferts anti-redistributifs au sein des hommes. Ils n'affectent pas la redistribution entre couples.\n",
      "Doc 3 : https://www.insee.fr/fr/information/1377508\n",
      "Il y a maintenant plus de vingt ans que le thème des retraites occupe une place importante dans le débat social et la revue Économie et Statistique l'a régulièrement abordé. La présente livraison poursuit cette tradition. Elle le fait peu après la troisième réforme importante qu'a connue le système depuis le début des années 1990, celle de 2010, après celles de 1993 et 2003 (cf. encadré). Cette toute dernière réforme n'est pas absente du dossier, mais elle n'en est pas le thème principal. L'angle d'attaque est plus global. Ce numéro traite de deux questions structurantes pour l'architecture et la gestion du système : d'une part celle de l'équilibre entre contributivité et solidarité, et d'autre part celle de l'incidence des règles de calcul des retraites sur les comportements de liquidation.\n",
      "Doc 4 : https://www.insee.fr/fr/information/1380953\n",
      "L'indicateur des droits acquis à retraite (DAR) pourrait bientôt faire partie des indicateurs régulièrement disponibles pour le suivi des systèmes de retraite, en réponse aux nouvelles exigences du système de comptes nationaux. Ceci soulève deux questions : comment produire cet indicateur, et pour quoi faire ? Ce texte montre que la microsimulation est une réponse possible à la première question. Malgré son caractère stochastique, elle conduit à des résultats qui apparaissent suffisamment stables pour remplir des objectifs comptables. Concernant la question du « pour quoi faire», on sait déjà que cet indicateur n'est pas un indicateur de soutenabilité financière des retraites. Son message est plus intéressant du point de vue des ménages et plus particulièrement au niveau microéconomique. Ceci accroît l'intérêt de l'approche par microsimulation qui produit automatiquement des données cohérentes aux niveaux micro et macro. Ces propriétés micro et macro sont illustrées à partir du cas français, avec une application à l'évaluation des réformes de 1993, 2003 et 2010 qui ont modifié les droits à retraite de manière assez complexe, différenciée selon les générations et les niveaux de qualification.\n"
     ]
    }
   ],
   "source": [
    "question = \"Quel est le but initial derrière la création du système de retraites français après la Seconde Guerre mondiale?\" \n",
    "#question = \"Quelle est la cause principale de l'augmentation de l'indice des prix à la consommation (IPC)?\"\n",
    "results = retriever.invoke(question)\n",
    "\n",
    "for i, doc in enumerate(results):\n",
    "    print(f\"Doc {i} : {doc.metadata[\"source\"]}\")\n",
    "    print(doc.page_content)"
   ]
  },
  {
   "cell_type": "code",
   "execution_count": 46,
   "metadata": {},
   "outputs": [
    {
     "name": "stderr",
     "output_type": "stream",
     "text": [
      "2024-06-17 14:10:06,543 - INFO - Start multi-process pool on devices: cuda:0\n"
     ]
    },
    {
     "name": "stdout",
     "output_type": "stream",
     "text": [
      "{'question': \"Quelle est la cause principale de l'augmentation de l'indice des prix à la consommation (IPC)?\"}\n"
     ]
    },
    {
     "name": "stdout",
     "output_type": "stream",
     "text": [
      "{'context': [Document(page_content='L’indice des prix à la consommation est l’instrument de mesure de l’inflation. Il permet d’estimer, entre deux périodes données, la variation du niveau général des prix des biens et des services proposés aux consommateurs sur le territoire. C’est une mesure synthétique des évolutions de prix à qualité constante. La quasi-totalité des biens et des services marchands proposés aux consommateurs fait partie du champ de l’indice. Il permet de revaloriser les pensions alimentaires, les loyers d’habitation, les rentes viagères, et d’indexer le Smic et les retraites, ainsi que le taux du livretA ou d’autres produits financiers. Il permet de suivre mois par mois l’évolution des prix et donc d’apprécier les tendances inflationnistes.  Publications ?', metadata={'authors': '', 'categories': 'Publications grand public', 'collections': 'Insee Flash', 'date_diffusion': '2024-03-26T15:00:00Z', 'insee_id': 8058872, 'intertitres': 'Évolution en glissement annuel de l’indice des prix - Guadeloupe et France Évolution en glissement annuel de l’indice des prix - Guadeloupe et France Indice des prix à la consommation - Guadeloupe et France Indices des prix par secteur - Guadeloupe et France Indices des prix par secteur - Guadeloupe et France Évolution en glissement annuel de l’indice des prix dans les départements d’Outre-mer et en France', 'libelleAffichageGeo': 'Guadeloupe', 'source': 'https://www.insee.fr/fr/statistiques/8058872', 'subtitle': 'Indice des prix à la consommation des ménages', 'themes': \"Revenus – Niveaux de vie – Pouvoir d'achat/Conjoncture\", 'title': 'En février 2024, les prix à la consommation augmentent de 0,7% et de 2,1% sur un an en Guadeloupe'}), Document(page_content=\"L'indice des prix à la consommation (IPC) mesure l'inflation en agrégeant les évolutions de prix d'un très grand nombre de biens élémentaires, pondérées par leurs parts dans la consommation globale des ménages. Indépendamment de l'IPC, l'Insee recueille également les opinions personnelles sur l'inflation (OPI), exprimées par les consommateurs dans le cadre de l'enquête mensuelle de conjoncture auprès des ménages. Ces deux mesures divergent fortement. Depuis 2004, l'OPI fluctue en moyenne six points au-dessus de l'inflation mesurée par l'IPC. Les opinions personnelles sur l'inflation présentent par ailleurs une très forte dispersion : des niveaux d'inflation perçue supérieurs à 20% par an ne sont pas rares. Il est courant d'y voir un effet du passage à l'euro. Privés de leurs repères habituels, les consommateurs auraient développé une perception des prix largement déconnectée de leur évolution effective. Mais deux éléments relativisent cette thèse. D'une part, elle ne peut expliquer que le phénomène soit aussi durable : il aurait dû s'estomper avec l'accoutumance progressive à la nouvelle monnaie. D'autre part, on dispose d'informations sur la perception des prix pour quelques biens élémentaires, or elles s'avèrent relativement cohérentes avec les évolutions des prix de ces biens au sein de l'IPC. L'OPI aurait donc bien des bases objectives. D'autres explications de l'écart OPI/IPC sont envisageables. La perception des prix élémentaires n'aurait pas de biais systématique mais, contrairement à l'IPC fondé sur les parts budgétaires, les consommateurs donneraient un poids plus important aux biens à forte fréquence d'achat, et ils surpondéreraient ceux dont les prix sont en hausse\", metadata={'authors': '', 'categories': 'Publications pour expert', 'collections': 'Insee Analyses', 'date_diffusion': '2012-07-11T22:00:00Z', 'insee_id': 1521318, 'intertitres': \"L'inflation perçue est très supérieure à celle mesurée par l'indice des prix à la consommation Distributions des taux d'inflation estimés par les ménages en 2008 et 2010 Pour autant, les opinions sur les prix ne sont pas sans lien avec leurs évolutions réelles L'écart tiendrait surtout au mode de pondération des évolutions de prix élémentaires Inflation sur douze mois selon l'IPC (ensemble de la consommation, alimentation), OPI et évolution de l'indice de Brachinger (pour K=1,1 et K=2)\", 'libelleAffichageGeo': 'France', 'source': 'https://www.insee.fr/fr/information/1521318', 'subtitle': '', 'themes': 'Consommation et équipement des ménages/Couples – Familles – Ménages', 'title': \"L'inflation telle qu'elle est perçue par les ménages\"}), Document(page_content=\"L'Indice des Prix à la Consommation (IPC) vise à mesurer l'évolution générale des prix à qualité de produits constante. Il est aussi utilisé comme mesure de l'évolution du coût de la vie quand il sert à l'indexation de revenus ou de contrats privés. Il est donc important de s'assurer que cet indice est un bon indicateur de l'évolution du coût de la vie. On se propose ainsi de tester, dans le cas français, l'existence d'une divergence entre l'IPC et l'évolution du coût de la vie en s'appuyant sur la comparaison intertemporelle des courbes d'Engel relatives à la consommation alimentaire. Celles-ci retracent la part de la consommation alimentaire dans le budget des ménages en fonction du pouvoir d'achat, part qui est décroissante avec le revenu. Sous l'hypothèse que les courbes d'Engel théoriques sont constantes au cours du temps, le déplacement des courbes observées traduit une divergence entre l'évolution de l'indice des prix et celle du véritable coût de la vie. Cette méthodologie est reprise de Costa (2001) et Hamilton (2001). On l'applique aux données françaises en mobilisant les séries de l'IPC et les enquêtes Budget de famille de 1979 à 2006. L'analyse est conduite par catégorie de ménages. Un éventail de techniques est utilisé : techniques robustes à l'influence trop forte de certaines observations, instrumentation contre les erreurs de mesure et l'endogénéité du total des dépenses, techniques de recalage pour corriger d'éventuelles mauvaises déclarations. Les résultats diffèrent selon que l'on travaille sur les données issues directement de l'enquête ou sur celles recalées sur les agrégats des comptes nationaux\", metadata={'authors': '', 'categories': 'Publications pour expert', 'collections': 'Economie et Statistique', 'date_diffusion': '2011-01-05T23:00:00Z', 'insee_id': 1377372, 'intertitres': '', 'libelleAffichageGeo': 'France', 'source': 'https://www.insee.fr/fr/information/1377372', 'subtitle': '', 'themes': 'Économie générale (inflation, PIB, dette,...)/Conjoncture', 'title': \"L'IPC, miroir de l'évolution du coût de la vie en France ? Ce qu'apporte l'analyse des courbes d'Engel\"}), Document(page_content=\"L'évolution de l'indice des prix à la consommation a été de + 1,0 % entre fin 2007 et fin 2008. C’est l'une des évolutions les plus faibles depuis la fin des années 90. Courant 2008, l'évolution de l'indice des prix a par ailleurs atteint des taux très élevés, notamment en milieu d’année (+ 3,6 % en juin et juillet). Ces hausses de prix ont été à l'origine de deux revalorisations du Smic au cours de l'année 2008 (il faut remonter à 1996 pour retrouver une situation similaire). Ces fluctuations reflètent celles des prix des produits pétroliers, fortement liées à celles des cours du pétrole brut. Hormis ces mouvements annuels, l'inflation reste principalement portée par l'accroissement des prix des services.\", metadata={'authors': '', 'categories': 'Publications grand public', 'collections': \"Tableaux de l'Économie Française\", 'date_diffusion': '2010-03-23T23:00:00Z', 'insee_id': 1373400, 'intertitres': '', 'libelleAffichageGeo': 'France', 'source': 'https://www.insee.fr/fr/statistiques/1373400', 'subtitle': '', 'themes': 'Économie générale (inflation, PIB, dette,...)', 'title': 'Prix à la consommation'}), Document(page_content=\"Le calcul de l’indice des prix à la consommation (IPC) est basé sur l’observation mensuelle d’un panier fixe de biens et de services à partir de différentes sources. Sur tout le territoire et dans toutes les formes de points de vente, les enquêteurs collectent sur le terrain 160 000 prix pour l'ensemble des produits consommés par les ménages. Se sont ajoutés progressivement 500 000 prix relevés de façon dématérialisée (tarifs, consommation internet, données administratives...). À partir de janvier, une nouvelle source, les données de caisses, sera mobilisée. Elles concernent les produits alimentaires industriels, d’entretien, d’hygiène et de beauté, près de 80 millions de produits vendus en super et hypermarchés de France métropolitaine, soit environ 10 % du panier mensuel. L’exhaustivité de la source permet de produire des indices plus précis. La connaissance fine des quantités dans les données de caisse favorisera le suivi des produits les plus consommés. À terme, les données de caisses permettront de produire de nouvelles statistiques, par exemple des prix moyens, des comparaisons spatiales de prix ou des indices de prix régionaux.\", metadata={'authors': '', 'categories': 'Communiqués de presse', 'collections': '', 'date_diffusion': '2020-02-26T14:30:00Z', 'insee_id': 4318081, 'intertitres': 'L’IPC est basé sur l’observation d’un panier fixe de biens et de services Une nouvelle source de données : près de 80 millions de produits Des travaux préparatoires importants pour exploiter cette nouvelle source de données Des indices plus précis, une meilleure représentativité des produits suivis', 'libelleAffichageGeo': 'France', 'source': 'https://www.insee.fr/fr/information/4318081', 'subtitle': '', 'themes': '', 'title': 'Les données de caisses : une nouvelle source pour le calcul de l’Indice de prix à la consommation'})]}\n",
      "{'answer': 'La cause principale de l\\'augmentation de l\\'indice des prix à la consommation (IPC) est principalement due à l\\'accroissement des prix des services. Cependant, il faut noter que certains événements particuliers, tels que les hausses de prix des produits pétroliers, peuvent également avoir un impact significatif sur l\\'IPC.\\n\\nCette information est basée sur les données fournies dans le contexte, qui indique que l\\'inflation reste principalement portée par l\\'accroissement des prix des services, et que les fluctuations de l\\'IPC sont en partie liées aux mouvements des prix des produits pétroliers.\\n\\nSources :\\n- \"L’indice des prix à la consommation est l’instrument de mesure de l’inflation. Il permet d’estimer, entre deux périodes données, la variation du niveau général des prix des biens et des services proposés aux consommateurs sur le territoire. C’est une mesure synthétique des évolutions de prix à qualité constante. La quasi-totalité des biens et des services marchands proposés aux consommateurs fait partie du champ de l’indice.\"\\n- \"L\\'évolution de l\\'indice des prix à la consommation a été de + 1,0 % entre fin 2007 et fin 2008. C’est l’une des évolutions les plus faibles depuis la fin des années 90. Courant 2008, l\\'évolution de l\\'indice des prix a par ailleurs atteint des taux très élevés, notamment en milieu d’année (+ 3,6 % en juin et juillet). Ces hausses de prix ont été à l\\'origine de deux revalorisations du Smic au cours de l\\'année 2008 (il faut remonter à 1996 pour retrouver une situation similaire). Ces fluctuations reflètent celles des prix des produits pétroliers, fortement liées à celles des cours du pétrole brut.\"'}\n"
     ]
    }
   ],
   "source": [
    "for chunk in chain.stream(question):\n",
    "    print(chunk)"
   ]
  },
  {
   "cell_type": "code",
   "execution_count": 47,
   "metadata": {},
   "outputs": [
    {
     "name": "stderr",
     "output_type": "stream",
     "text": [
      "2024-06-17 14:11:39,216 - INFO - Start multi-process pool on devices: cuda:0\n"
     ]
    },
    {
     "name": "stdout",
     "output_type": "stream",
     "text": [
      "{'context': [Document(page_content='L’indice des prix à la consommation est l’instrument de mesure de l’inflation. Il permet d’estimer, entre deux périodes données, la variation du niveau général des prix des biens et des services proposés aux consommateurs sur le territoire. C’est une mesure synthétique des évolutions de prix à qualité constante. La quasi-totalité des biens et des services marchands proposés aux consommateurs fait partie du champ de l’indice. Il permet de revaloriser les pensions alimentaires, les loyers d’habitation, les rentes viagères, et d’indexer le Smic et les retraites, ainsi que le taux du livretA ou d’autres produits financiers. Il permet de suivre mois par mois l’évolution des prix et donc d’apprécier les tendances inflationnistes.  Publications ?', metadata={'authors': '', 'categories': 'Publications grand public', 'collections': 'Insee Flash', 'date_diffusion': '2024-03-26T15:00:00Z', 'insee_id': 8058872, 'intertitres': 'Évolution en glissement annuel de l’indice des prix - Guadeloupe et France Évolution en glissement annuel de l’indice des prix - Guadeloupe et France Indice des prix à la consommation - Guadeloupe et France Indices des prix par secteur - Guadeloupe et France Indices des prix par secteur - Guadeloupe et France Évolution en glissement annuel de l’indice des prix dans les départements d’Outre-mer et en France', 'libelleAffichageGeo': 'Guadeloupe', 'source': 'https://www.insee.fr/fr/statistiques/8058872', 'subtitle': 'Indice des prix à la consommation des ménages', 'themes': \"Revenus – Niveaux de vie – Pouvoir d'achat/Conjoncture\", 'title': 'En février 2024, les prix à la consommation augmentent de 0,7% et de 2,1% sur un an en Guadeloupe'}), Document(page_content=\"L'indice des prix à la consommation (IPC) mesure l'inflation en agrégeant les évolutions de prix d'un très grand nombre de biens élémentaires, pondérées par leurs parts dans la consommation globale des ménages. Indépendamment de l'IPC, l'Insee recueille également les opinions personnelles sur l'inflation (OPI), exprimées par les consommateurs dans le cadre de l'enquête mensuelle de conjoncture auprès des ménages. Ces deux mesures divergent fortement. Depuis 2004, l'OPI fluctue en moyenne six points au-dessus de l'inflation mesurée par l'IPC. Les opinions personnelles sur l'inflation présentent par ailleurs une très forte dispersion : des niveaux d'inflation perçue supérieurs à 20% par an ne sont pas rares. Il est courant d'y voir un effet du passage à l'euro. Privés de leurs repères habituels, les consommateurs auraient développé une perception des prix largement déconnectée de leur évolution effective. Mais deux éléments relativisent cette thèse. D'une part, elle ne peut expliquer que le phénomène soit aussi durable : il aurait dû s'estomper avec l'accoutumance progressive à la nouvelle monnaie. D'autre part, on dispose d'informations sur la perception des prix pour quelques biens élémentaires, or elles s'avèrent relativement cohérentes avec les évolutions des prix de ces biens au sein de l'IPC. L'OPI aurait donc bien des bases objectives. D'autres explications de l'écart OPI/IPC sont envisageables. La perception des prix élémentaires n'aurait pas de biais systématique mais, contrairement à l'IPC fondé sur les parts budgétaires, les consommateurs donneraient un poids plus important aux biens à forte fréquence d'achat, et ils surpondéreraient ceux dont les prix sont en hausse\", metadata={'authors': '', 'categories': 'Publications pour expert', 'collections': 'Insee Analyses', 'date_diffusion': '2012-07-11T22:00:00Z', 'insee_id': 1521318, 'intertitres': \"L'inflation perçue est très supérieure à celle mesurée par l'indice des prix à la consommation Distributions des taux d'inflation estimés par les ménages en 2008 et 2010 Pour autant, les opinions sur les prix ne sont pas sans lien avec leurs évolutions réelles L'écart tiendrait surtout au mode de pondération des évolutions de prix élémentaires Inflation sur douze mois selon l'IPC (ensemble de la consommation, alimentation), OPI et évolution de l'indice de Brachinger (pour K=1,1 et K=2)\", 'libelleAffichageGeo': 'France', 'source': 'https://www.insee.fr/fr/information/1521318', 'subtitle': '', 'themes': 'Consommation et équipement des ménages/Couples – Familles – Ménages', 'title': \"L'inflation telle qu'elle est perçue par les ménages\"}), Document(page_content=\"L'Indice des Prix à la Consommation (IPC) vise à mesurer l'évolution générale des prix à qualité de produits constante. Il est aussi utilisé comme mesure de l'évolution du coût de la vie quand il sert à l'indexation de revenus ou de contrats privés. Il est donc important de s'assurer que cet indice est un bon indicateur de l'évolution du coût de la vie. On se propose ainsi de tester, dans le cas français, l'existence d'une divergence entre l'IPC et l'évolution du coût de la vie en s'appuyant sur la comparaison intertemporelle des courbes d'Engel relatives à la consommation alimentaire. Celles-ci retracent la part de la consommation alimentaire dans le budget des ménages en fonction du pouvoir d'achat, part qui est décroissante avec le revenu. Sous l'hypothèse que les courbes d'Engel théoriques sont constantes au cours du temps, le déplacement des courbes observées traduit une divergence entre l'évolution de l'indice des prix et celle du véritable coût de la vie. Cette méthodologie est reprise de Costa (2001) et Hamilton (2001). On l'applique aux données françaises en mobilisant les séries de l'IPC et les enquêtes Budget de famille de 1979 à 2006. L'analyse est conduite par catégorie de ménages. Un éventail de techniques est utilisé : techniques robustes à l'influence trop forte de certaines observations, instrumentation contre les erreurs de mesure et l'endogénéité du total des dépenses, techniques de recalage pour corriger d'éventuelles mauvaises déclarations. Les résultats diffèrent selon que l'on travaille sur les données issues directement de l'enquête ou sur celles recalées sur les agrégats des comptes nationaux\", metadata={'authors': '', 'categories': 'Publications pour expert', 'collections': 'Economie et Statistique', 'date_diffusion': '2011-01-05T23:00:00Z', 'insee_id': 1377372, 'intertitres': '', 'libelleAffichageGeo': 'France', 'source': 'https://www.insee.fr/fr/information/1377372', 'subtitle': '', 'themes': 'Économie générale (inflation, PIB, dette,...)/Conjoncture', 'title': \"L'IPC, miroir de l'évolution du coût de la vie en France ? Ce qu'apporte l'analyse des courbes d'Engel\"}), Document(page_content=\"L'évolution de l'indice des prix à la consommation a été de + 1,0 % entre fin 2007 et fin 2008. C’est l'une des évolutions les plus faibles depuis la fin des années 90. Courant 2008, l'évolution de l'indice des prix a par ailleurs atteint des taux très élevés, notamment en milieu d’année (+ 3,6 % en juin et juillet). Ces hausses de prix ont été à l'origine de deux revalorisations du Smic au cours de l'année 2008 (il faut remonter à 1996 pour retrouver une situation similaire). Ces fluctuations reflètent celles des prix des produits pétroliers, fortement liées à celles des cours du pétrole brut. Hormis ces mouvements annuels, l'inflation reste principalement portée par l'accroissement des prix des services.\", metadata={'authors': '', 'categories': 'Publications grand public', 'collections': \"Tableaux de l'Économie Française\", 'date_diffusion': '2010-03-23T23:00:00Z', 'insee_id': 1373400, 'intertitres': '', 'libelleAffichageGeo': 'France', 'source': 'https://www.insee.fr/fr/statistiques/1373400', 'subtitle': '', 'themes': 'Économie générale (inflation, PIB, dette,...)', 'title': 'Prix à la consommation'}), Document(page_content=\"Le calcul de l’indice des prix à la consommation (IPC) est basé sur l’observation mensuelle d’un panier fixe de biens et de services à partir de différentes sources. Sur tout le territoire et dans toutes les formes de points de vente, les enquêteurs collectent sur le terrain 160 000 prix pour l'ensemble des produits consommés par les ménages. Se sont ajoutés progressivement 500 000 prix relevés de façon dématérialisée (tarifs, consommation internet, données administratives...). À partir de janvier, une nouvelle source, les données de caisses, sera mobilisée. Elles concernent les produits alimentaires industriels, d’entretien, d’hygiène et de beauté, près de 80 millions de produits vendus en super et hypermarchés de France métropolitaine, soit environ 10 % du panier mensuel. L’exhaustivité de la source permet de produire des indices plus précis. La connaissance fine des quantités dans les données de caisse favorisera le suivi des produits les plus consommés. À terme, les données de caisses permettront de produire de nouvelles statistiques, par exemple des prix moyens, des comparaisons spatiales de prix ou des indices de prix régionaux.\", metadata={'authors': '', 'categories': 'Communiqués de presse', 'collections': '', 'date_diffusion': '2020-02-26T14:30:00Z', 'insee_id': 4318081, 'intertitres': 'L’IPC est basé sur l’observation d’un panier fixe de biens et de services Une nouvelle source de données : près de 80 millions de produits Des travaux préparatoires importants pour exploiter cette nouvelle source de données Des indices plus précis, une meilleure représentativité des produits suivis', 'libelleAffichageGeo': 'France', 'source': 'https://www.insee.fr/fr/information/4318081', 'subtitle': '', 'themes': '', 'title': 'Les données de caisses : une nouvelle source pour le calcul de l’Indice de prix à la consommation'})], 'question': \"Quelle est la cause principale de l'augmentation de l'indice des prix à la consommation (IPC)?\", 'answer': 'La cause principale de l\\'augmentation de l\\'indice des prix à la consommation (IPC) est la hausse des prix des services. Selon les sources fournies, l\\'IPC a atteint des taux élevés en milieu d\\'année de 2008 (+ 3,6 % en juin et juillet), principalement en raison des fluctuations des prix des produits pétroliers, qui sont fortement liés aux prix du pétrole brut. Cependant, il faut noter que l\\'inflation reste principalement portée par l\\'accroissement des prix des services, et non pas par les prix des biens.\\n\\nCette information est tirée du contexte fourni, qui indique que les fluctuations de l\\'IPC sont principalement attribuées aux prix des services, et que les prix des produits pétroliers ont été une des causes des hausses de prix élevées en 2008.\\n\\nSources :\\n- \"L’indice des prix à la consommation est l’instrument de mesure de l’inflation. Il permet d’estimer, entre deux périodes données, la variation du niveau général des prix des biens et des services proposés aux consommateurs sur le territoire. C’est une mesure synthétique des évolutions de prix à qualité constante. La quasi-totalité des biens et des services marchands proposés aux consommateurs fait partie du champ de l’indice.\"\\n- \"L\\'évolution de l\\'indice des prix à la consommation a été de + 1,0 % entre fin 2007 et fin 2008. C’est l’une des évolutions les plus faibles depuis la fin des années 90. Courant 2008, l\\'évolution de l\\'indice des prix a par ailleurs atteint des taux très élevés, notamment en milieu d’année (+ 3,6 % en juin et juillet). Ces hausses de prix ont été à l\\'origine de deux revalorisations du Smic au cours de l\\'année 2008 (il faut remonter à 1996 pour retrouver une situation similaire). Ces fluctuations reflètent celles des prix des produits pétroliers, fortement liées à celles des cours du pétrole brut.\"'}\n"
     ]
    }
   ],
   "source": [
    "answer = chain.invoke(question) "
   ]
  },
  {
   "cell_type": "code",
   "execution_count": 52,
   "metadata": {},
   "outputs": [
    {
     "name": "stdout",
     "output_type": "stream",
     "text": [
      "La cause principale de l'augmentation de l'indice des prix à la consommation (IPC) est la hausse des prix des services. Selon les sources fournies, l'IPC a atteint des taux élevés en milieu d'année de 2008 (+ 3,6 % en juin et juillet), principalement en raison des fluctuations des prix des produits pétroliers, qui sont fortement liés aux prix du pétrole brut. Cependant, il faut noter que l'inflation reste principalement portée par l'accroissement des prix des services, et non pas par les prix des biens.\n",
      "\n",
      "Cette information est tirée du contexte fourni, qui indique que les fluctuations de l'IPC sont principalement attribuées aux prix des services, et que les prix des produits pétroliers ont été une des causes des hausses de prix élevées en 2008.\n",
      "\n",
      "Sources :\n",
      "- \"L’indice des prix à la consommation est l’instrument de mesure de l’inflation. Il permet d’estimer, entre deux périodes données, la variation du niveau général des prix des biens et des services proposés aux consommateurs sur le territoire. C’est une mesure synthétique des évolutions de prix à qualité constante. La quasi-totalité des biens et des services marchands proposés aux consommateurs fait partie du champ de l’indice.\"\n",
      "- \"L'évolution de l'indice des prix à la consommation a été de + 1,0 % entre fin 2007 et fin 2008. C’est l’une des évolutions les plus faibles depuis la fin des années 90. Courant 2008, l'évolution de l'indice des prix a par ailleurs atteint des taux très élevés, notamment en milieu d’année (+ 3,6 % en juin et juillet). Ces hausses de prix ont été à l'origine de deux revalorisations du Smic au cours de l'année 2008 (il faut remonter à 1996 pour retrouver une situation similaire). Ces fluctuations reflètent celles des prix des produits pétroliers, fortement liées à celles des cours du pétrole brut.\"\n"
     ]
    }
   ],
   "source": [
    "print(answer[\"answer\"])"
   ]
  },
  {
   "cell_type": "markdown",
   "metadata": {},
   "source": [
    "### Adding a Reranker "
   ]
  },
  {
   "cell_type": "markdown",
   "metadata": {},
   "source": [
    "The goal of this part is to build a pipeline Langchain where we have added a reranker: a BM25, a ColBERT model, a french cross-encoder, a multilingual cross-encoder and several hyperparameters.  "
   ]
  },
  {
   "cell_type": "markdown",
   "metadata": {},
   "source": [
    "Reranker model list : \n",
    "- multilingual cross encoder : BAAI/bge-reranker-large (multilingual),\n",
    "- french cross encoder : antoinelouis/crossencoder-electra-base-french-mmarcoFR  OR dangvantuan/CrossEncoder-camembert-large\n",
    "- BM25 : langchain_community.retrievers import BM25Retriever\n",
    "- ColBERT : antoinelouis/colbertv2-camembert-L4-mmarcoFR\n"
   ]
  },
  {
   "cell_type": "code",
   "execution_count": 5,
   "metadata": {},
   "outputs": [
    {
     "name": "stdout",
     "output_type": "stream",
     "text": [
      "...ma.sqlite3: 2.08 GiB / 2.08 GiB ┃▓▓▓▓▓▓▓▓▓▓▓▓▓▓▓▓▓▓▓▓▓▓▓▓▓▓┃ 115.23 MiB/s 18s\u001b[0;22m\u001b[0m\u001b[m\u001b[32;1m\u001b[m\u001b[32;1m\u001b[m\u001b[32;1m\u001b[m\u001b[32;1m\u001b[m\u001b[32;1m\u001b[m\u001b[32;1m\u001b[m\u001b[32;1m\u001b[m\u001b[32;1m\u001b[m\u001b[32;1m\u001b[m\u001b[32;1m\u001b[m\u001b[32;1m\u001b[m\u001b[32;1m\u001b[m\u001b[32;1m\u001b[m\u001b[32;1m\u001b[m\u001b[32;1m\u001b[m\u001b[32;1m\u001b[m\u001b[32;1m\u001b[m\u001b[32;1m\u001b[m\u001b[32;1m\u001b[m\u001b[32;1m\u001b[m\u001b[32;1m\u001b[m\u001b[32;1m\u001b[m\u001b[32;1m\u001b[m\u001b[32;1m\u001b[m\u001b[32;1m\u001b[m\u001b[32;1m\u001b[m\u001b[32;1m\u001b[m\u001b[32;1m\u001b[m\u001b[32;1m\u001b[m\u001b[32;1m\u001b[m\u001b[32;1m\u001b[m\u001b[32;1m\u001b[m\u001b[32;1m\u001b[m\u001b[32;1m\u001b[m\u001b[32;1m\u001b[m\u001b[32;1m\u001b[m\u001b[32;1m\u001b[m\u001b[32;1m\u001b[m\u001b[32;1m\u001b[m\u001b[32;1m\u001b[m\u001b[32;1m\u001b[m\u001b[32;1m\u001b[m\u001b[32;1m\u001b[m\u001b[32;1m\u001b[m\u001b[32;1m\u001b[m\u001b[32;1m\u001b[m\u001b[32;1m\u001b[m\u001b[32;1m\u001b[m\u001b[32;1m\u001b[m\u001b[32;1m\u001b[m\u001b[32;1m\u001b[m\u001b[32;1m\u001b[m\u001b[32;1m\u001b[m\u001b[32;1m\u001b[m\u001b[32;1m\u001b[m\u001b[32;1m\u001b[m\u001b[32;1m\u001b[m\u001b[32;1m\u001b[m\u001b[32;1m\u001b[m\u001b[32;1m\u001b[m\u001b[32;1m\u001b[m\u001b[32;1m\u001b[m\u001b[32;1m\u001b[m\u001b[32;1m\u001b[m\u001b[32;1m\u001b[m\u001b[32;1m\u001b[m\u001b[32;1m\u001b[m\u001b[32;1m\u001b[m\u001b[32;1m\u001b[m\u001b[32;1m\u001b[m\u001b[32;1m\u001b[m\u001b[32;1m\u001b[m\u001b[32;1m\u001b[m\u001b[32;1m\u001b[m\u001b[32;1m\u001b[m\u001b[32;1m\u001b[m\u001b[32;1m\u001b[m\u001b[32;1m\u001b[m\u001b[32;1m\u001b[m\u001b[32;1m\u001b[m\u001b[32;1m\u001b[m\u001b[32;1m\u001b[m\u001b[32;1m\u001b[m\u001b[32;1m\u001b[m\u001b[32;1m\u001b[m\u001b[32;1m\u001b[m\u001b[32;1m\u001b[m\u001b[32;1m\u001b[m\u001b[32;1m\u001b[m\u001b[32;1m\u001b[m\u001b[32;1m\u001b[m\u001b[32;1m\u001b[m\u001b[32;1m\u001b[m\u001b[32;1m\u001b[m\u001b[32;1m\u001b[m\u001b[32;1m\u001b[m\u001b[32;1m\u001b[m\u001b[32;1m\u001b[m\u001b[32;1m\u001b[m\u001b[32;1m\u001b[m\u001b[32;1m\u001b[m\u001b[32;1m\u001b[m\u001b[32;1m\u001b[m\u001b[32;1m\u001b[m\u001b[32;1m\u001b[m\u001b[32;1m\u001b[m\u001b[32;1m\u001b[m\u001b[32;1m\u001b[m\u001b[32;1m\u001b[m\u001b[32;1m\u001b[m\u001b[32;1m\u001b[m\u001b[32;1m\u001b[m\u001b[32;1m\u001b[m\u001b[32;1m\u001b[m\u001b[32;1m\u001b[m\u001b[32;1m\u001b[m\u001b[32;1m\u001b[m\u001b[32;1m\u001b[m\u001b[32;1m\u001b[m\u001b[32;1m\u001b[m\u001b[32;1m\u001b[m\u001b[32;1m\u001b[m\u001b[32;1m\u001b[m\u001b[32;1m\u001b[m\u001b[32;1m\u001b[m\u001b[32;1m\u001b[m\u001b[32;1m\u001b[m\u001b[32;1m\u001b[m\u001b[32;1m\u001b[m\u001b[32;1m\u001b[m\u001b[32;1m\u001b[m\u001b[32;1m\u001b[m\u001b[32;1m\u001b[m\u001b[32;1m\u001b[m\u001b[32;1m\u001b[m\u001b[32;1m\u001b[m\u001b[32;1m\u001b[m\u001b[32;1m\u001b[m\u001b[32;1m\u001b[m\u001b[32;1m\u001b[m\u001b[32;1m\u001b[m\u001b[32;1m\u001b[m\u001b[32;1m\u001b[m\u001b[32;1m\u001b[m\u001b[32;1m"
     ]
    }
   ],
   "source": [
    "!mc cp s3/projet-llm-insee-open-data/data/chroma_database/chroma_db /home/onyxia/work/llm-open-data-insee/data --recursive"
   ]
  },
  {
   "cell_type": "code",
   "execution_count": 3,
   "metadata": {},
   "outputs": [],
   "source": [
    "sys.path.append(\"/home/onyxia/work/llm-open-data-insee/src\") "
   ]
  },
  {
   "cell_type": "code",
   "execution_count": null,
   "metadata": {},
   "outputs": [],
   "source": [
    "from chain_building import (\n",
    "    load_retriever\n",
    "    )\n",
    "from config import EMB_MODEL_NAME, MODEL_NAME\n",
    "\n",
    "retriever = load_retriever(\n",
    "                emb_model_name = EMB_MODEL_NAME,\n",
    "                persist_directory=\"/home/onyxia/work/llm-open-data-insee/data/chroma_db\",\n",
    "                device=\"cuda\",\n",
    "                collection_name=\"insee_data\"\n",
    "            )\n"
   ]
  },
  {
   "cell_type": "code",
   "execution_count": 5,
   "metadata": {},
   "outputs": [],
   "source": [
    "def pretty_print_docs(docs):\n",
    "    print(\n",
    "        f\"\\n{'-' * 100}\\n\".join(\n",
    "            [f\"Document {i+1}:\\n\\n\" + d.page_content for i, d in enumerate(docs)]\n",
    "        )\n",
    "    )"
   ]
  },
  {
   "cell_type": "code",
   "execution_count": 6,
   "metadata": {},
   "outputs": [
    {
     "name": "stdout",
     "output_type": "stream",
     "text": [
      "Document 1:\n",
      "\n",
      "Sujet de préoccupation des Français et élément du débat politique, le pouvoir d’achat suscite des controverses récurrentes, en partie liées à l’absence de définition partagée de ce terme. Il est certes facile de s’entendre sur le fait que le pouvoir d’achat doit rendre compte de l’évolution simultanée des revenus et des prix: si les revenus d’un ménage progressent plus rapidement que les prix, il gagne du pouvoir d’achat et pourra consommer ou épargner davantage; dans le cas contraire, il perd du pouvoir d’achat et doit diminuer sa consommation ou son épargne. La difficulté est de donner un sens précis à ces différents termes. La comptabilité nationale utilise des définitions qui ont l’avantage d’être cohérentes entre elles et harmonisées sur le plan international. Mais elle conduit à des évaluations qui sont souvent perçues comme trop optimistes, même lorsqu’on prend soin de bien différencier le pouvoir d’achat global de l’ensemble des ménages et le pouvoir d’achat par unité de consommation, qui est le concept le plus pertinent d’un point de vue individuel.  Plusieurs facteurs peuvent contribuer à ce décalage entre mesure et perception. Il y a d’une part la limite inhérente au raisonnement en moyenne. Même s’il y avait accord complet sur les conventions de mesure, il y aurait toujours une proportion importante de ménages dont le pouvoir d’achat évoluerait moins vite que cette moyenne. Il y a également les biais de perception sur la mesure des prix, bien documentés lors du passage à l’euro. S’y ajoutent des incompréhensions à clarifier sur certaines des conventions de mesure du revenu ou de ses différentes utilisations: la prise en compte de revenus « imputés », le traitement des remboursements d’emprunts, etc\n",
      "----------------------------------------------------------------------------------------------------\n",
      "Document 2:\n",
      "\n",
      ". La taille de chaque ménage en nombre d'unités de consommation est calculée de la façon suivante: le premier adulte compte pour 1 unité de consommation(UC), chaque personne supplémentaire de 14ans et plus compte pour 0,5UC et chaque enfant de moins de 14ans compte pour 0,3UC. Le pouvoir d'achat par unité de consommation permet ainsi de prendre en considération non seulement le nombre de ménages, mais aussi l'évolution de la structure des ménages. C'est pourquoi il constitue l'indicateur qui est le plus pertinent pour mesurer l'évolution du niveau de vie en moyenne sur l'ensemble des ménages. La dépense de consommation finale «pré-engagée» correspond aux dépenses qui sont réalisées dans le cadre d'un contrat difficilement renégociable à court terme. Elle comprend: Le revenu disponible «arbitrable» est défini comme le revenu disponible une fois déduit la dépense de consommation finale «pré-engagée». L'évolution du pouvoir d'achat «arbitrable» rapporte l'évolution du revenu disponible «arbitrable» à celle du prix de la dépense de consommation finale «non pré-engagée». L'évolution du pouvoir d'achat des ménages est ainsi appréhendée sur un champ plus étroit, en se focalisant sur les marges de manœuvre que les ménages estiment conserver pour effectuer librement des choix de consommation et d'épargne. Le taux d'épargne est le rapport entre l'épargne brute (B8g) et le revenu disponible brut(B6g) des ménages. Le taux d'épargne financière est le rapport entre la capacité de financement(B9NF) et le revenu disponible brut(B6g) des ménages. Le secteur des ménages est constitué des personnes physiques composant la population totale résidente. Elles sont, pour la plupart, regroupées dans des «ménages ordinaires» - au sens du recensement de la population - constitués de l'ensemble des occupants d'une même résidence principale\n",
      "----------------------------------------------------------------------------------------------------\n",
      "Document 3:\n",
      "\n",
      ". Pour approcher une notion plus individuelle du pouvoir d’achat, sa progression est rapportée à des unités démographiques (personne, ménage, unité de consommation), ici le nombre d’habitants à Mayotte.\n",
      "----------------------------------------------------------------------------------------------------\n",
      "Document 4:\n",
      "\n",
      "Le chiffre le plus couramment diffusé par l'Insee correspond au pouvoir d’achat du revenu total des ménages résidant sur le territoire français. L’évolution de cet indicateur ne renseigne donc pas directement sur celle d’un individu en moyenne. En effet, deux phénomènes sont à prendre en compte : Comme toute moyenne, le pouvoir d’achat par unité de consommation n'interdit pas une grande variété des situations individuelles. Ainsi, une hausse du pouvoir d'achat moyen n'est pas contradictoire avec une baisse pour une partie des ménages, et même une forte baisse pour certains d'entre eux. L’indice des prix à la consommation est la référence pour déterminer l'évolution: des loyers (via l'indice de référence des loyers), des retraites, ainsi que des pensions alimentaires et des rentes viagères. De même, l'IPC est pris en compte pour l'indexation du SMIC. La méthodologie de l’IPC résulte des travaux et des arbitrages des experts nationaux et des organisations internationales (Eurostat, FMI, ONU, BIT). Les méthodologies et les choix de l'Insee ne sont pas spécifiques à la France: il existe un règlement européen qui définit très précisément la manière de calculer l'IPC et qui est partagé avec les autres pays européens. La réglementation européenne rend obligatoire le suivi de tout produit représentant plus d'un millième de la consommation des ménages. Les variétés effectivement retenues ne sont connues que des unités chargées du calcul de l'indice des prix à l'Insee. Il en est de même pour la liste des points de vente où sont relevés les prix. Ceci permet d'éviter les suspicions de manipulation de l'indice comme dans les années 1950 où des politiques de blocage des prix étaient la réponse aux poussées inflationnistes\n",
      "----------------------------------------------------------------------------------------------------\n",
      "Document 5:\n",
      "\n",
      ". Depuis 2010, le pouvoir d’achat du RDB a augmenté de 7,5%. Rapporté au nombre d’UC, le pouvoir d’achat du RDB a augmenté plus modérément: il est, en 2019, 1,6% au‑dessus de son niveau de 2010. Enfin le pouvoir d’achat du revenu arbitrable par UC a quasiment stagné depuis 2010 (+ 0,5%).  Le revenu disponible brut (RDB, comptabilité nationale) est le revenu qui reste à la disposition des ménages pour la consommation et l’épargne, une fois déduits les prélèvements fiscaux et sociaux. Le RDB diffère du revenu disponible évalué à partir des enquêtes auprès des ménages. Voir Sources et méthodes. Le revenu arbitrable (comptabilité nationale) est le revenu disponible brut après déduction des dépenses de consommation dites «pré‑engagées» telles que logement, services de télécommunications, frais de cantine, service de télévision, assurances et services financiers. Le pouvoir d’achat du revenu arbitrable est calculé en utilisant comme déflateur le prix des seules dépenses de consommation non «pré‑engagées». «Les comptes de la Nation en 2019», Insee Première n°1802, mai 2020.\n",
      "----------------------------------------------------------------------------------------------------\n",
      "Document 6:\n",
      "\n",
      ". Enfin, l’écart peut venir du fait que les ménages raisonnent en termes de revenu arbitrable, considérant comme «contraintes» un certain nombre de dépenses, soustraites de fait, au moins à court terme, aux arbitrages courants de consommation. Tous ces sujets peuvent être éclairés par des indicateurs complémentaires à la mesure du pouvoir d’achat moyen.\n",
      "----------------------------------------------------------------------------------------------------\n",
      "Document 7:\n",
      "\n",
      ".  À Mayotte, il est calculé à partir de la moyenne de deux estimations : par la demande (consommation finale, investissement et commerce extérieur) et par la production (valeurs ajoutées). Seule l’approche production est utilisée pour les comparaisons avec les régions de métropole, dont le PIB est calculé en régionalisant la valeur ajoutée. Le revenu disponible brut des ménages comprend les revenus d'activité, les revenus du patrimoine, les transferts en provenance d'autres ménages et les prestations sociales (y compris les pensions de retraite et les indemnités de chômage), nets des impôts directs. L'évolution du pouvoir d'achat du revenu disponible brut rapporte l'évolution du revenu disponible brut à celle du prix de la dépense de consommation finale des ménages, mesurée par l'évolution de l'indice des prix à la consommation. Pour approcher une notion plus individuelle du pouvoir d'achat, sa progression est rapportée à des unités démographiques (personne, ménage, unité de consommation), ici le nombre d'habitants à Mayotte. Duplouy B (dir.),«Bilan économique 2015: la croissance se maintient», Insee Conjoncture Réunion n°2, juin 2016; Monteil C, «PIB de Mayotte 2013 - Le pouvoir d’achat individuel progresse de 5 %», Insee analyse Mayotte n°7, novembre 2015;\n",
      "----------------------------------------------------------------------------------------------------\n",
      "Document 8:\n",
      "\n",
      ". Le pouvoir d’achat d’un niveau de vie, c’est la quantité de biens et de services que l’on peut acheter à un niveau donné. «Insertion sociale et professionnelle des jeunes en Martinique», Insee Dossier Martinique n°3, octobre 2016. «Formations et emploi», Insee Références, édition 2013.\n",
      "----------------------------------------------------------------------------------------------------\n",
      "Document 9:\n",
      "\n",
      "L'Insee mesure l'évolution du pouvoir d'achat qui résulte de la différence entre l’évolution du revenu des ménages et l’évolution de l’indice des prix. Il mesure aussi la pauvreté et le niveau de vie des ménages. Il détermine le niveau de vie médian, le seuil de pauvreté ainsi que le nombre de personnes pauvres et analyse les caractéristiques de ces personnes.\n",
      "----------------------------------------------------------------------------------------------------\n",
      "Document 10:\n",
      "\n",
      ". Le pouvoir d'achatcorrespond au volume de biens et services qu'un revenu permet d'acheter.  L'évolution du pouvoir d'achat des ménages est calculée en retranchant au taux de croissance du revenu disponible brut des ménages, le taux de croissance du déflateur de la dépense de consommation finale en comptabilité nationale. Ce dernier diffère quelque peu du taux de croissance de l'indice des prix à la consommation (IPC), principalement parce que son champ est plus large que celui de l'IPC. L’indicateur du climat des affaires est établi à partir des résultats de l’enquête trimestrielle de conjoncture de l’IEDOM au moyen d’une analyse en composantes principales. Il a pour objectif de résumer le maximum de l’information contenue dans chacune des questions de l’enquête. Afin d’en faciliter la lecture, il est centré autour de 100 (moyenne de longue période) et a un écart-type de 10. Si la valeur de celui-ci est supérieure (respectivement inférieure) à 100, l’opinion des chefs d’entreprise sur l’activité est jugée favorable (respectivement défavorable). La cotation des entreprises est attribuée par l’IEDOM. Elle tient non seulement compte de la documentation comptable des entreprises mais aussi d’éléments qualitatifs qui sont portés à sa connaissance par les dirigeants. À situation exceptionnelle, mesures exceptionnelles: depuis avril 2020, l’IEDOM a adapté son processus de cotation des données des bilans arrêtés et s’attache à recueillir, par le biais d’un questionnaire adressé à chaque dirigeant, les éléments d’information sur la situation financière actuelle de leur entreprise. La cotation « Forte » correspond aux toutes cotes de crédit 3, la « Correcte » aux toutes cotes de crédit4, la « Faible » aux toutes cotes de crédit 5, la « Très faible » aux cotes de crédit 6 et la « Menacée » aux cotes de crédit 7 à P\n"
     ]
    }
   ],
   "source": [
    "#test embedding retriever \n",
    "question = \"Comment est calculé le pouvoir d'achat ?\" \n",
    "#question = \"Quelle est la cause principale de l'augmentation de l'indice des prix à la consommation (IPC)?\"\n",
    "results = retriever.invoke(question)\n",
    "pretty_print_docs(results) #OK"
   ]
  },
  {
   "cell_type": "code",
   "execution_count": 42,
   "metadata": {},
   "outputs": [
    {
     "name": "stderr",
     "output_type": "stream",
     "text": [
      "/opt/mamba/lib/python3.12/site-packages/huggingface_hub/file_download.py:1132: FutureWarning: `resume_download` is deprecated and will be removed in version 1.0.0. Downloads always resume when possible. If you want to force a new download, use `force_download=True`.\n",
      "  warnings.warn(\n",
      "100%|██████████| 1/1 [00:00<00:00, 21.05it/s]"
     ]
    },
    {
     "name": "stdout",
     "output_type": "stream",
     "text": [
      "Document 1:\n",
      "\n",
      ".  À Mayotte, il est calculé à partir de la moyenne de deux estimations : par la demande (consommation finale, investissement et commerce extérieur) et par la production (valeurs ajoutées). Seule l’approche production est utilisée pour les comparaisons avec les régions de métropole, dont le PIB est calculé en régionalisant la valeur ajoutée. Le revenu disponible brut des ménages comprend les revenus d'activité, les revenus du patrimoine, les transferts en provenance d'autres ménages et les prestations sociales (y compris les pensions de retraite et les indemnités de chômage), nets des impôts directs. L'évolution du pouvoir d'achat du revenu disponible brut rapporte l'évolution du revenu disponible brut à celle du prix de la dépense de consommation finale des ménages, mesurée par l'évolution de l'indice des prix à la consommation. Pour approcher une notion plus individuelle du pouvoir d'achat, sa progression est rapportée à des unités démographiques (personne, ménage, unité de consommation), ici le nombre d'habitants à Mayotte. Duplouy B (dir.),«Bilan économique 2015: la croissance se maintient», Insee Conjoncture Réunion n°2, juin 2016; Monteil C, «PIB de Mayotte 2013 - Le pouvoir d’achat individuel progresse de 5 %», Insee analyse Mayotte n°7, novembre 2015;\n",
      "----------------------------------------------------------------------------------------------------\n",
      "Document 2:\n",
      "\n",
      ". La taille de chaque ménage en nombre d'unités de consommation est calculée de la façon suivante: le premier adulte compte pour 1 unité de consommation(UC), chaque personne supplémentaire de 14ans et plus compte pour 0,5UC et chaque enfant de moins de 14ans compte pour 0,3UC. Le pouvoir d'achat par unité de consommation permet ainsi de prendre en considération non seulement le nombre de ménages, mais aussi l'évolution de la structure des ménages. C'est pourquoi il constitue l'indicateur qui est le plus pertinent pour mesurer l'évolution du niveau de vie en moyenne sur l'ensemble des ménages. La dépense de consommation finale «pré-engagée» correspond aux dépenses qui sont réalisées dans le cadre d'un contrat difficilement renégociable à court terme. Elle comprend: Le revenu disponible «arbitrable» est défini comme le revenu disponible une fois déduit la dépense de consommation finale «pré-engagée». L'évolution du pouvoir d'achat «arbitrable» rapporte l'évolution du revenu disponible «arbitrable» à celle du prix de la dépense de consommation finale «non pré-engagée». L'évolution du pouvoir d'achat des ménages est ainsi appréhendée sur un champ plus étroit, en se focalisant sur les marges de manœuvre que les ménages estiment conserver pour effectuer librement des choix de consommation et d'épargne. Le taux d'épargne est le rapport entre l'épargne brute (B8g) et le revenu disponible brut(B6g) des ménages. Le taux d'épargne financière est le rapport entre la capacité de financement(B9NF) et le revenu disponible brut(B6g) des ménages. Le secteur des ménages est constitué des personnes physiques composant la population totale résidente. Elles sont, pour la plupart, regroupées dans des «ménages ordinaires» - au sens du recensement de la population - constitués de l'ensemble des occupants d'une même résidence principale\n",
      "----------------------------------------------------------------------------------------------------\n",
      "Document 3:\n",
      "\n",
      ". Depuis 2010, le pouvoir d’achat du RDB a augmenté de 7,5%. Rapporté au nombre d’UC, le pouvoir d’achat du RDB a augmenté plus modérément: il est, en 2019, 1,6% au‑dessus de son niveau de 2010. Enfin le pouvoir d’achat du revenu arbitrable par UC a quasiment stagné depuis 2010 (+ 0,5%).  Le revenu disponible brut (RDB, comptabilité nationale) est le revenu qui reste à la disposition des ménages pour la consommation et l’épargne, une fois déduits les prélèvements fiscaux et sociaux. Le RDB diffère du revenu disponible évalué à partir des enquêtes auprès des ménages. Voir Sources et méthodes. Le revenu arbitrable (comptabilité nationale) est le revenu disponible brut après déduction des dépenses de consommation dites «pré‑engagées» telles que logement, services de télécommunications, frais de cantine, service de télévision, assurances et services financiers. Le pouvoir d’achat du revenu arbitrable est calculé en utilisant comme déflateur le prix des seules dépenses de consommation non «pré‑engagées». «Les comptes de la Nation en 2019», Insee Première n°1802, mai 2020.\n",
      "----------------------------------------------------------------------------------------------------\n",
      "Document 4:\n",
      "\n",
      "Le chiffre le plus couramment diffusé par l'Insee correspond au pouvoir d’achat du revenu total des ménages résidant sur le territoire français. L’évolution de cet indicateur ne renseigne donc pas directement sur celle d’un individu en moyenne. En effet, deux phénomènes sont à prendre en compte : Comme toute moyenne, le pouvoir d’achat par unité de consommation n'interdit pas une grande variété des situations individuelles. Ainsi, une hausse du pouvoir d'achat moyen n'est pas contradictoire avec une baisse pour une partie des ménages, et même une forte baisse pour certains d'entre eux. L’indice des prix à la consommation est la référence pour déterminer l'évolution: des loyers (via l'indice de référence des loyers), des retraites, ainsi que des pensions alimentaires et des rentes viagères. De même, l'IPC est pris en compte pour l'indexation du SMIC. La méthodologie de l’IPC résulte des travaux et des arbitrages des experts nationaux et des organisations internationales (Eurostat, FMI, ONU, BIT). Les méthodologies et les choix de l'Insee ne sont pas spécifiques à la France: il existe un règlement européen qui définit très précisément la manière de calculer l'IPC et qui est partagé avec les autres pays européens. La réglementation européenne rend obligatoire le suivi de tout produit représentant plus d'un millième de la consommation des ménages. Les variétés effectivement retenues ne sont connues que des unités chargées du calcul de l'indice des prix à l'Insee. Il en est de même pour la liste des points de vente où sont relevés les prix. Ceci permet d'éviter les suspicions de manipulation de l'indice comme dans les années 1950 où des politiques de blocage des prix étaient la réponse aux poussées inflationnistes\n",
      "----------------------------------------------------------------------------------------------------\n",
      "Document 5:\n",
      "\n",
      ". Le pouvoir d'achatcorrespond au volume de biens et services qu'un revenu permet d'acheter.  L'évolution du pouvoir d'achat des ménages est calculée en retranchant au taux de croissance du revenu disponible brut des ménages, le taux de croissance du déflateur de la dépense de consommation finale en comptabilité nationale. Ce dernier diffère quelque peu du taux de croissance de l'indice des prix à la consommation (IPC), principalement parce que son champ est plus large que celui de l'IPC. L’indicateur du climat des affaires est établi à partir des résultats de l’enquête trimestrielle de conjoncture de l’IEDOM au moyen d’une analyse en composantes principales. Il a pour objectif de résumer le maximum de l’information contenue dans chacune des questions de l’enquête. Afin d’en faciliter la lecture, il est centré autour de 100 (moyenne de longue période) et a un écart-type de 10. Si la valeur de celui-ci est supérieure (respectivement inférieure) à 100, l’opinion des chefs d’entreprise sur l’activité est jugée favorable (respectivement défavorable). La cotation des entreprises est attribuée par l’IEDOM. Elle tient non seulement compte de la documentation comptable des entreprises mais aussi d’éléments qualitatifs qui sont portés à sa connaissance par les dirigeants. À situation exceptionnelle, mesures exceptionnelles: depuis avril 2020, l’IEDOM a adapté son processus de cotation des données des bilans arrêtés et s’attache à recueillir, par le biais d’un questionnaire adressé à chaque dirigeant, les éléments d’information sur la situation financière actuelle de leur entreprise. La cotation « Forte » correspond aux toutes cotes de crédit 3, la « Correcte » aux toutes cotes de crédit4, la « Faible » aux toutes cotes de crédit 5, la « Très faible » aux cotes de crédit 6 et la « Menacée » aux cotes de crédit 7 à P\n"
     ]
    },
    {
     "name": "stderr",
     "output_type": "stream",
     "text": [
      "\n"
     ]
    }
   ],
   "source": [
    "from langchain.retrievers import ContextualCompressionRetriever\n",
    "from langchain.retrievers.document_compressors import CrossEncoderReranker\n",
    "from langchain_community.cross_encoders import HuggingFaceCrossEncoder #CrossEncoder \n",
    "from ragatouille import RAGPretrainedModel #ColBERT\n",
    "from langchain_community.retrievers import BM25Retriever #BM25\n",
    "\n",
    "colBERT = RAGPretrainedModel.from_pretrained(\"antoinelouis/colbertv2-camembert-L4-mmarcoFR\")\n",
    "colBERT_retriever  = ContextualCompressionRetriever(base_compressor=colBERT.as_langchain_document_compressor(k=5), base_retriever=retriever)\n",
    "\n",
    "compressed_docs = colBERT_retriever.invoke(question)\n",
    "pretty_print_docs(compressed_docs)"
   ]
  },
  {
   "cell_type": "code",
   "execution_count": 44,
   "metadata": {},
   "outputs": [
    {
     "name": "stderr",
     "output_type": "stream",
     "text": [
      "/opt/mamba/lib/python3.12/site-packages/huggingface_hub/file_download.py:1132: FutureWarning: `resume_download` is deprecated and will be removed in version 1.0.0. Downloads always resume when possible. If you want to force a new download, use `force_download=True`.\n",
      "  warnings.warn(\n",
      "2024-06-24 10:23:53,091 - INFO - Use pytorch device: cuda\n"
     ]
    },
    {
     "data": {
      "application/vnd.jupyter.widget-view+json": {
       "model_id": "76196ae800564ee9a9024723bc2bf9ff",
       "version_major": 2,
       "version_minor": 0
      },
      "text/plain": [
       "Batches:   0%|          | 0/1 [00:00<?, ?it/s]"
      ]
     },
     "metadata": {},
     "output_type": "display_data"
    },
    {
     "name": "stdout",
     "output_type": "stream",
     "text": [
      "Document 1:\n",
      "\n",
      "L'Insee mesure l'évolution du pouvoir d'achat qui résulte de la différence entre l’évolution du revenu des ménages et l’évolution de l’indice des prix. Il mesure aussi la pauvreté et le niveau de vie des ménages. Il détermine le niveau de vie médian, le seuil de pauvreté ainsi que le nombre de personnes pauvres et analyse les caractéristiques de ces personnes.\n",
      "----------------------------------------------------------------------------------------------------\n",
      "Document 2:\n",
      "\n",
      ". La taille de chaque ménage en nombre d'unités de consommation est calculée de la façon suivante: le premier adulte compte pour 1 unité de consommation(UC), chaque personne supplémentaire de 14ans et plus compte pour 0,5UC et chaque enfant de moins de 14ans compte pour 0,3UC. Le pouvoir d'achat par unité de consommation permet ainsi de prendre en considération non seulement le nombre de ménages, mais aussi l'évolution de la structure des ménages. C'est pourquoi il constitue l'indicateur qui est le plus pertinent pour mesurer l'évolution du niveau de vie en moyenne sur l'ensemble des ménages. La dépense de consommation finale «pré-engagée» correspond aux dépenses qui sont réalisées dans le cadre d'un contrat difficilement renégociable à court terme. Elle comprend: Le revenu disponible «arbitrable» est défini comme le revenu disponible une fois déduit la dépense de consommation finale «pré-engagée». L'évolution du pouvoir d'achat «arbitrable» rapporte l'évolution du revenu disponible «arbitrable» à celle du prix de la dépense de consommation finale «non pré-engagée». L'évolution du pouvoir d'achat des ménages est ainsi appréhendée sur un champ plus étroit, en se focalisant sur les marges de manœuvre que les ménages estiment conserver pour effectuer librement des choix de consommation et d'épargne. Le taux d'épargne est le rapport entre l'épargne brute (B8g) et le revenu disponible brut(B6g) des ménages. Le taux d'épargne financière est le rapport entre la capacité de financement(B9NF) et le revenu disponible brut(B6g) des ménages. Le secteur des ménages est constitué des personnes physiques composant la population totale résidente. Elles sont, pour la plupart, regroupées dans des «ménages ordinaires» - au sens du recensement de la population - constitués de l'ensemble des occupants d'une même résidence principale\n",
      "----------------------------------------------------------------------------------------------------\n",
      "Document 3:\n",
      "\n",
      ". Le pouvoir d’achat d’un niveau de vie, c’est la quantité de biens et de services que l’on peut acheter à un niveau donné. «Insertion sociale et professionnelle des jeunes en Martinique», Insee Dossier Martinique n°3, octobre 2016. «Formations et emploi», Insee Références, édition 2013.\n",
      "----------------------------------------------------------------------------------------------------\n",
      "Document 4:\n",
      "\n",
      ". Le pouvoir d'achatcorrespond au volume de biens et services qu'un revenu permet d'acheter.  L'évolution du pouvoir d'achat des ménages est calculée en retranchant au taux de croissance du revenu disponible brut des ménages, le taux de croissance du déflateur de la dépense de consommation finale en comptabilité nationale. Ce dernier diffère quelque peu du taux de croissance de l'indice des prix à la consommation (IPC), principalement parce que son champ est plus large que celui de l'IPC. L’indicateur du climat des affaires est établi à partir des résultats de l’enquête trimestrielle de conjoncture de l’IEDOM au moyen d’une analyse en composantes principales. Il a pour objectif de résumer le maximum de l’information contenue dans chacune des questions de l’enquête. Afin d’en faciliter la lecture, il est centré autour de 100 (moyenne de longue période) et a un écart-type de 10. Si la valeur de celui-ci est supérieure (respectivement inférieure) à 100, l’opinion des chefs d’entreprise sur l’activité est jugée favorable (respectivement défavorable). La cotation des entreprises est attribuée par l’IEDOM. Elle tient non seulement compte de la documentation comptable des entreprises mais aussi d’éléments qualitatifs qui sont portés à sa connaissance par les dirigeants. À situation exceptionnelle, mesures exceptionnelles: depuis avril 2020, l’IEDOM a adapté son processus de cotation des données des bilans arrêtés et s’attache à recueillir, par le biais d’un questionnaire adressé à chaque dirigeant, les éléments d’information sur la situation financière actuelle de leur entreprise. La cotation « Forte » correspond aux toutes cotes de crédit 3, la « Correcte » aux toutes cotes de crédit4, la « Faible » aux toutes cotes de crédit 5, la « Très faible » aux cotes de crédit 6 et la « Menacée » aux cotes de crédit 7 à P\n",
      "----------------------------------------------------------------------------------------------------\n",
      "Document 5:\n",
      "\n",
      ". Depuis 2010, le pouvoir d’achat du RDB a augmenté de 7,5%. Rapporté au nombre d’UC, le pouvoir d’achat du RDB a augmenté plus modérément: il est, en 2019, 1,6% au‑dessus de son niveau de 2010. Enfin le pouvoir d’achat du revenu arbitrable par UC a quasiment stagné depuis 2010 (+ 0,5%).  Le revenu disponible brut (RDB, comptabilité nationale) est le revenu qui reste à la disposition des ménages pour la consommation et l’épargne, une fois déduits les prélèvements fiscaux et sociaux. Le RDB diffère du revenu disponible évalué à partir des enquêtes auprès des ménages. Voir Sources et méthodes. Le revenu arbitrable (comptabilité nationale) est le revenu disponible brut après déduction des dépenses de consommation dites «pré‑engagées» telles que logement, services de télécommunications, frais de cantine, service de télévision, assurances et services financiers. Le pouvoir d’achat du revenu arbitrable est calculé en utilisant comme déflateur le prix des seules dépenses de consommation non «pré‑engagées». «Les comptes de la Nation en 2019», Insee Première n°1802, mai 2020.\n"
     ]
    }
   ],
   "source": [
    "model = HuggingFaceCrossEncoder(model_name=\"dangvantuan/CrossEncoder-camembert-large\") #\"antoinelouis/crossencoder-electra-base-french-mmarcoFR\")\n",
    "compressor_1 = CrossEncoderReranker(model=model, top_n=5)\n",
    "compression_retriever_1 = ContextualCompressionRetriever(\n",
    "    base_compressor=compressor_1, base_retriever=retriever\n",
    ")\n",
    "\n",
    "compressed_docs = compression_retriever.invoke(question)\n",
    "pretty_print_docs(compressed_docs)"
   ]
  },
  {
   "cell_type": "code",
   "execution_count": 45,
   "metadata": {},
   "outputs": [
    {
     "name": "stderr",
     "output_type": "stream",
     "text": [
      "/opt/mamba/lib/python3.12/site-packages/huggingface_hub/file_download.py:1132: FutureWarning: `resume_download` is deprecated and will be removed in version 1.0.0. Downloads always resume when possible. If you want to force a new download, use `force_download=True`.\n",
      "  warnings.warn(\n",
      "2024-06-24 10:23:59,121 - INFO - Use pytorch device: cuda\n"
     ]
    },
    {
     "data": {
      "application/vnd.jupyter.widget-view+json": {
       "model_id": "16f5e50ea9904b41869632711158f642",
       "version_major": 2,
       "version_minor": 0
      },
      "text/plain": [
       "Batches:   0%|          | 0/1 [00:00<?, ?it/s]"
      ]
     },
     "metadata": {},
     "output_type": "display_data"
    },
    {
     "name": "stdout",
     "output_type": "stream",
     "text": [
      "Document 1:\n",
      "\n",
      "L'Insee mesure l'évolution du pouvoir d'achat qui résulte de la différence entre l’évolution du revenu des ménages et l’évolution de l’indice des prix. Il mesure aussi la pauvreté et le niveau de vie des ménages. Il détermine le niveau de vie médian, le seuil de pauvreté ainsi que le nombre de personnes pauvres et analyse les caractéristiques de ces personnes.\n",
      "----------------------------------------------------------------------------------------------------\n",
      "Document 2:\n",
      "\n",
      ". La taille de chaque ménage en nombre d'unités de consommation est calculée de la façon suivante: le premier adulte compte pour 1 unité de consommation(UC), chaque personne supplémentaire de 14ans et plus compte pour 0,5UC et chaque enfant de moins de 14ans compte pour 0,3UC. Le pouvoir d'achat par unité de consommation permet ainsi de prendre en considération non seulement le nombre de ménages, mais aussi l'évolution de la structure des ménages. C'est pourquoi il constitue l'indicateur qui est le plus pertinent pour mesurer l'évolution du niveau de vie en moyenne sur l'ensemble des ménages. La dépense de consommation finale «pré-engagée» correspond aux dépenses qui sont réalisées dans le cadre d'un contrat difficilement renégociable à court terme. Elle comprend: Le revenu disponible «arbitrable» est défini comme le revenu disponible une fois déduit la dépense de consommation finale «pré-engagée». L'évolution du pouvoir d'achat «arbitrable» rapporte l'évolution du revenu disponible «arbitrable» à celle du prix de la dépense de consommation finale «non pré-engagée». L'évolution du pouvoir d'achat des ménages est ainsi appréhendée sur un champ plus étroit, en se focalisant sur les marges de manœuvre que les ménages estiment conserver pour effectuer librement des choix de consommation et d'épargne. Le taux d'épargne est le rapport entre l'épargne brute (B8g) et le revenu disponible brut(B6g) des ménages. Le taux d'épargne financière est le rapport entre la capacité de financement(B9NF) et le revenu disponible brut(B6g) des ménages. Le secteur des ménages est constitué des personnes physiques composant la population totale résidente. Elles sont, pour la plupart, regroupées dans des «ménages ordinaires» - au sens du recensement de la population - constitués de l'ensemble des occupants d'une même résidence principale\n",
      "----------------------------------------------------------------------------------------------------\n",
      "Document 3:\n",
      "\n",
      ". Le pouvoir d’achat d’un niveau de vie, c’est la quantité de biens et de services que l’on peut acheter à un niveau donné. «Insertion sociale et professionnelle des jeunes en Martinique», Insee Dossier Martinique n°3, octobre 2016. «Formations et emploi», Insee Références, édition 2013.\n",
      "----------------------------------------------------------------------------------------------------\n",
      "Document 4:\n",
      "\n",
      ". Le pouvoir d'achatcorrespond au volume de biens et services qu'un revenu permet d'acheter.  L'évolution du pouvoir d'achat des ménages est calculée en retranchant au taux de croissance du revenu disponible brut des ménages, le taux de croissance du déflateur de la dépense de consommation finale en comptabilité nationale. Ce dernier diffère quelque peu du taux de croissance de l'indice des prix à la consommation (IPC), principalement parce que son champ est plus large que celui de l'IPC. L’indicateur du climat des affaires est établi à partir des résultats de l’enquête trimestrielle de conjoncture de l’IEDOM au moyen d’une analyse en composantes principales. Il a pour objectif de résumer le maximum de l’information contenue dans chacune des questions de l’enquête. Afin d’en faciliter la lecture, il est centré autour de 100 (moyenne de longue période) et a un écart-type de 10. Si la valeur de celui-ci est supérieure (respectivement inférieure) à 100, l’opinion des chefs d’entreprise sur l’activité est jugée favorable (respectivement défavorable). La cotation des entreprises est attribuée par l’IEDOM. Elle tient non seulement compte de la documentation comptable des entreprises mais aussi d’éléments qualitatifs qui sont portés à sa connaissance par les dirigeants. À situation exceptionnelle, mesures exceptionnelles: depuis avril 2020, l’IEDOM a adapté son processus de cotation des données des bilans arrêtés et s’attache à recueillir, par le biais d’un questionnaire adressé à chaque dirigeant, les éléments d’information sur la situation financière actuelle de leur entreprise. La cotation « Forte » correspond aux toutes cotes de crédit 3, la « Correcte » aux toutes cotes de crédit4, la « Faible » aux toutes cotes de crédit 5, la « Très faible » aux cotes de crédit 6 et la « Menacée » aux cotes de crédit 7 à P\n",
      "----------------------------------------------------------------------------------------------------\n",
      "Document 5:\n",
      "\n",
      ". Depuis 2010, le pouvoir d’achat du RDB a augmenté de 7,5%. Rapporté au nombre d’UC, le pouvoir d’achat du RDB a augmenté plus modérément: il est, en 2019, 1,6% au‑dessus de son niveau de 2010. Enfin le pouvoir d’achat du revenu arbitrable par UC a quasiment stagné depuis 2010 (+ 0,5%).  Le revenu disponible brut (RDB, comptabilité nationale) est le revenu qui reste à la disposition des ménages pour la consommation et l’épargne, une fois déduits les prélèvements fiscaux et sociaux. Le RDB diffère du revenu disponible évalué à partir des enquêtes auprès des ménages. Voir Sources et méthodes. Le revenu arbitrable (comptabilité nationale) est le revenu disponible brut après déduction des dépenses de consommation dites «pré‑engagées» telles que logement, services de télécommunications, frais de cantine, service de télévision, assurances et services financiers. Le pouvoir d’achat du revenu arbitrable est calculé en utilisant comme déflateur le prix des seules dépenses de consommation non «pré‑engagées». «Les comptes de la Nation en 2019», Insee Première n°1802, mai 2020.\n"
     ]
    }
   ],
   "source": [
    "model = HuggingFaceCrossEncoder(model_name= \"BAAI/bge-reranker-large\")\n",
    "compressor_2 = CrossEncoderReranker(model=model, top_n=5)\n",
    "compression_retriever_2 = ContextualCompressionRetriever(\n",
    "    base_compressor=compressor_2, base_retriever=retriever\n",
    ")\n",
    "\n",
    "compressed_docs = compression_retriever.invoke(question)\n",
    "pretty_print_docs(compressed_docs)"
   ]
  },
  {
   "cell_type": "code",
   "execution_count": 46,
   "metadata": {},
   "outputs": [
    {
     "data": {
      "application/vnd.jupyter.widget-view+json": {
       "model_id": "998454a587794e1db2d89799dcda334b",
       "version_major": 2,
       "version_minor": 0
      },
      "text/plain": [
       "Batches:   0%|          | 0/1 [00:00<?, ?it/s]"
      ]
     },
     "metadata": {},
     "output_type": "display_data"
    },
    {
     "name": "stderr",
     "output_type": "stream",
     "text": [
      "Asking to truncate to max_length but no maximum length is provided and the model has no predefined maximum length. Default to no truncation.\n"
     ]
    },
    {
     "data": {
      "application/vnd.jupyter.widget-view+json": {
       "model_id": "adcbccc56a3a4d4692e2e171827d26b3",
       "version_major": 2,
       "version_minor": 0
      },
      "text/plain": [
       "Batches:   0%|          | 0/1 [00:00<?, ?it/s]"
      ]
     },
     "metadata": {},
     "output_type": "display_data"
    },
    {
     "name": "stderr",
     "output_type": "stream",
     "text": [
      "100%|██████████| 1/1 [00:00<00:00, 35.25it/s]"
     ]
    },
    {
     "name": "stdout",
     "output_type": "stream",
     "text": [
      "Document 1:\n",
      "\n",
      ". La taille de chaque ménage en nombre d'unités de consommation est calculée de la façon suivante: le premier adulte compte pour 1 unité de consommation(UC), chaque personne supplémentaire de 14ans et plus compte pour 0,5UC et chaque enfant de moins de 14ans compte pour 0,3UC. Le pouvoir d'achat par unité de consommation permet ainsi de prendre en considération non seulement le nombre de ménages, mais aussi l'évolution de la structure des ménages. C'est pourquoi il constitue l'indicateur qui est le plus pertinent pour mesurer l'évolution du niveau de vie en moyenne sur l'ensemble des ménages. La dépense de consommation finale «pré-engagée» correspond aux dépenses qui sont réalisées dans le cadre d'un contrat difficilement renégociable à court terme. Elle comprend: Le revenu disponible «arbitrable» est défini comme le revenu disponible une fois déduit la dépense de consommation finale «pré-engagée». L'évolution du pouvoir d'achat «arbitrable» rapporte l'évolution du revenu disponible «arbitrable» à celle du prix de la dépense de consommation finale «non pré-engagée». L'évolution du pouvoir d'achat des ménages est ainsi appréhendée sur un champ plus étroit, en se focalisant sur les marges de manœuvre que les ménages estiment conserver pour effectuer librement des choix de consommation et d'épargne. Le taux d'épargne est le rapport entre l'épargne brute (B8g) et le revenu disponible brut(B6g) des ménages. Le taux d'épargne financière est le rapport entre la capacité de financement(B9NF) et le revenu disponible brut(B6g) des ménages. Le secteur des ménages est constitué des personnes physiques composant la population totale résidente. Elles sont, pour la plupart, regroupées dans des «ménages ordinaires» - au sens du recensement de la population - constitués de l'ensemble des occupants d'une même résidence principale\n",
      "----------------------------------------------------------------------------------------------------\n",
      "Document 2:\n",
      "\n",
      ". Le pouvoir d'achatcorrespond au volume de biens et services qu'un revenu permet d'acheter.  L'évolution du pouvoir d'achat des ménages est calculée en retranchant au taux de croissance du revenu disponible brut des ménages, le taux de croissance du déflateur de la dépense de consommation finale en comptabilité nationale. Ce dernier diffère quelque peu du taux de croissance de l'indice des prix à la consommation (IPC), principalement parce que son champ est plus large que celui de l'IPC. L’indicateur du climat des affaires est établi à partir des résultats de l’enquête trimestrielle de conjoncture de l’IEDOM au moyen d’une analyse en composantes principales. Il a pour objectif de résumer le maximum de l’information contenue dans chacune des questions de l’enquête. Afin d’en faciliter la lecture, il est centré autour de 100 (moyenne de longue période) et a un écart-type de 10. Si la valeur de celui-ci est supérieure (respectivement inférieure) à 100, l’opinion des chefs d’entreprise sur l’activité est jugée favorable (respectivement défavorable). La cotation des entreprises est attribuée par l’IEDOM. Elle tient non seulement compte de la documentation comptable des entreprises mais aussi d’éléments qualitatifs qui sont portés à sa connaissance par les dirigeants. À situation exceptionnelle, mesures exceptionnelles: depuis avril 2020, l’IEDOM a adapté son processus de cotation des données des bilans arrêtés et s’attache à recueillir, par le biais d’un questionnaire adressé à chaque dirigeant, les éléments d’information sur la situation financière actuelle de leur entreprise. La cotation « Forte » correspond aux toutes cotes de crédit 3, la « Correcte » aux toutes cotes de crédit4, la « Faible » aux toutes cotes de crédit 5, la « Très faible » aux cotes de crédit 6 et la « Menacée » aux cotes de crédit 7 à P\n",
      "----------------------------------------------------------------------------------------------------\n",
      "Document 3:\n",
      "\n",
      ". Depuis 2010, le pouvoir d’achat du RDB a augmenté de 7,5%. Rapporté au nombre d’UC, le pouvoir d’achat du RDB a augmenté plus modérément: il est, en 2019, 1,6% au‑dessus de son niveau de 2010. Enfin le pouvoir d’achat du revenu arbitrable par UC a quasiment stagné depuis 2010 (+ 0,5%).  Le revenu disponible brut (RDB, comptabilité nationale) est le revenu qui reste à la disposition des ménages pour la consommation et l’épargne, une fois déduits les prélèvements fiscaux et sociaux. Le RDB diffère du revenu disponible évalué à partir des enquêtes auprès des ménages. Voir Sources et méthodes. Le revenu arbitrable (comptabilité nationale) est le revenu disponible brut après déduction des dépenses de consommation dites «pré‑engagées» telles que logement, services de télécommunications, frais de cantine, service de télévision, assurances et services financiers. Le pouvoir d’achat du revenu arbitrable est calculé en utilisant comme déflateur le prix des seules dépenses de consommation non «pré‑engagées». «Les comptes de la Nation en 2019», Insee Première n°1802, mai 2020.\n",
      "----------------------------------------------------------------------------------------------------\n",
      "Document 4:\n",
      "\n",
      ". Le pouvoir d’achat d’un niveau de vie, c’est la quantité de biens et de services que l’on peut acheter à un niveau donné. «Insertion sociale et professionnelle des jeunes en Martinique», Insee Dossier Martinique n°3, octobre 2016. «Formations et emploi», Insee Références, édition 2013.\n",
      "----------------------------------------------------------------------------------------------------\n",
      "Document 5:\n",
      "\n",
      "L'Insee mesure l'évolution du pouvoir d'achat qui résulte de la différence entre l’évolution du revenu des ménages et l’évolution de l’indice des prix. Il mesure aussi la pauvreté et le niveau de vie des ménages. Il détermine le niveau de vie médian, le seuil de pauvreté ainsi que le nombre de personnes pauvres et analyse les caractéristiques de ces personnes.\n",
      "----------------------------------------------------------------------------------------------------\n",
      "Document 6:\n",
      "\n",
      ".  À Mayotte, il est calculé à partir de la moyenne de deux estimations : par la demande (consommation finale, investissement et commerce extérieur) et par la production (valeurs ajoutées). Seule l’approche production est utilisée pour les comparaisons avec les régions de métropole, dont le PIB est calculé en régionalisant la valeur ajoutée. Le revenu disponible brut des ménages comprend les revenus d'activité, les revenus du patrimoine, les transferts en provenance d'autres ménages et les prestations sociales (y compris les pensions de retraite et les indemnités de chômage), nets des impôts directs. L'évolution du pouvoir d'achat du revenu disponible brut rapporte l'évolution du revenu disponible brut à celle du prix de la dépense de consommation finale des ménages, mesurée par l'évolution de l'indice des prix à la consommation. Pour approcher une notion plus individuelle du pouvoir d'achat, sa progression est rapportée à des unités démographiques (personne, ménage, unité de consommation), ici le nombre d'habitants à Mayotte. Duplouy B (dir.),«Bilan économique 2015: la croissance se maintient», Insee Conjoncture Réunion n°2, juin 2016; Monteil C, «PIB de Mayotte 2013 - Le pouvoir d’achat individuel progresse de 5 %», Insee analyse Mayotte n°7, novembre 2015;\n",
      "----------------------------------------------------------------------------------------------------\n",
      "Document 7:\n",
      "\n",
      "Le chiffre le plus couramment diffusé par l'Insee correspond au pouvoir d’achat du revenu total des ménages résidant sur le territoire français. L’évolution de cet indicateur ne renseigne donc pas directement sur celle d’un individu en moyenne. En effet, deux phénomènes sont à prendre en compte : Comme toute moyenne, le pouvoir d’achat par unité de consommation n'interdit pas une grande variété des situations individuelles. Ainsi, une hausse du pouvoir d'achat moyen n'est pas contradictoire avec une baisse pour une partie des ménages, et même une forte baisse pour certains d'entre eux. L’indice des prix à la consommation est la référence pour déterminer l'évolution: des loyers (via l'indice de référence des loyers), des retraites, ainsi que des pensions alimentaires et des rentes viagères. De même, l'IPC est pris en compte pour l'indexation du SMIC. La méthodologie de l’IPC résulte des travaux et des arbitrages des experts nationaux et des organisations internationales (Eurostat, FMI, ONU, BIT). Les méthodologies et les choix de l'Insee ne sont pas spécifiques à la France: il existe un règlement européen qui définit très précisément la manière de calculer l'IPC et qui est partagé avec les autres pays européens. La réglementation européenne rend obligatoire le suivi de tout produit représentant plus d'un millième de la consommation des ménages. Les variétés effectivement retenues ne sont connues que des unités chargées du calcul de l'indice des prix à l'Insee. Il en est de même pour la liste des points de vente où sont relevés les prix. Ceci permet d'éviter les suspicions de manipulation de l'indice comme dans les années 1950 où des politiques de blocage des prix étaient la réponse aux poussées inflationnistes\n",
      "----------------------------------------------------------------------------------------------------\n",
      "Document 8:\n",
      "\n",
      ". Pour approcher une notion plus individuelle du pouvoir d’achat, sa progression est rapportée à des unités démographiques (personne, ménage, unité de consommation), ici le nombre d’habitants à Mayotte.\n"
     ]
    },
    {
     "name": "stderr",
     "output_type": "stream",
     "text": [
      "\n"
     ]
    }
   ],
   "source": [
    "from langchain.retrievers import EnsembleRetriever\n",
    "\n",
    "ensemble_retriever = EnsembleRetriever(retrievers = [compression_retriever_1, compression_retriever_2, colBERT_retriever], weigths = [1/3,1/3,1/3])\n",
    "\n",
    "compressed_docs = ensemble_retriever.invoke(question)\n",
    "pretty_print_docs(compressed_docs)"
   ]
  },
  {
   "cell_type": "code",
   "execution_count": null,
   "metadata": {},
   "outputs": [],
   "source": []
  },
  {
   "cell_type": "code",
   "execution_count": 36,
   "metadata": {},
   "outputs": [
    {
     "data": {
      "text/plain": [
       "[Document(page_content=\".  À Mayotte, il est calculé à partir de la moyenne de deux estimations : par la demande (consommation finale, investissement et commerce extérieur) et par la production (valeurs ajoutées). Seule l’approche production est utilisée pour les comparaisons avec les régions de métropole, dont le PIB est calculé en régionalisant la valeur ajoutée. Le revenu disponible brut des ménages comprend les revenus d'activité, les revenus du patrimoine, les transferts en provenance d'autres ménages et les prestations sociales (y compris les pensions de retraite et les indemnités de chômage), nets des impôts directs. L'évolution du pouvoir d'achat du revenu disponible brut rapporte l'évolution du revenu disponible brut à celle du prix de la dépense de consommation finale des ménages, mesurée par l'évolution de l'indice des prix à la consommation. Pour approcher une notion plus individuelle du pouvoir d'achat, sa progression est rapportée à des unités démographiques (personne, ménage, unité de consommation), ici le nombre d'habitants à Mayotte. Duplouy B (dir.),«Bilan économique 2015: la croissance se maintient», Insee Conjoncture Réunion n°2, juin 2016; Monteil C, «PIB de Mayotte 2013 - Le pouvoir d’achat individuel progresse de 5 %», Insee analyse Mayotte n°7, novembre 2015;\", metadata={'authors': '', 'categories': 'Publications grand public', 'collections': 'Insee Flash', 'date_diffusion': '2017-10-25T21:00:00Z', 'insee_id': 3134537, 'intertitres': \"Le pouvoir d'achat individuel augmente de 5\\xa0% Le PIB progresse de 10,5 % en 2014 Le pouvoir d'achat individuel augmente de 5,3 % entre 2013 et 2014 Le pouvoir d'achat individuel augmente de 5,3 % entre 2013 et 2014 Forte hausse des rémunérations dans la fonction publique Consommation des ménages et des administrations publiques, moteurs de la croissance La valeur ajoutée des sociétés progresse de 7\\xa0%\", 'libelleAffichageGeo': 'Mayotte', 'source': 'https://www.insee.fr/fr/statistiques/3134537', 'subtitle': 'Produit intérieur brut 2014', 'themes': 'Économie générale (inflation, PIB, dette,...)', 'title': 'Le pouvoir d’achat individuel augmente de 5 % pour la deuxième année consécutive'}),\n",
       " Document(page_content='. Depuis 2010, le pouvoir d’achat du RDB a augmenté de 7,5%. Rapporté au nombre d’UC, le pouvoir d’achat du RDB a augmenté plus modérément: il est, en 2019, 1,6% au‑dessus de son niveau de 2010. Enfin le pouvoir d’achat du revenu arbitrable par UC a quasiment stagné depuis 2010 (+ 0,5%).  Le revenu disponible brut (RDB, comptabilité nationale) est le revenu qui reste à la disposition des ménages pour la consommation et l’épargne, une fois déduits les prélèvements fiscaux et sociaux. Le RDB diffère du revenu disponible évalué à partir des enquêtes auprès des ménages. Voir Sources et méthodes. Le revenu arbitrable (comptabilité nationale) est le revenu disponible brut après déduction des dépenses de consommation dites «pré‑engagées» telles que logement, services de télécommunications, frais de cantine, service de télévision, assurances et services financiers. Le pouvoir d’achat du revenu arbitrable est calculé en utilisant comme déflateur le prix des seules dépenses de consommation non «pré‑engagées». «Les comptes de la Nation en 2019», Insee Première n°1802, mai 2020.', metadata={'authors': '', 'categories': 'Publications grand public', 'collections': 'Les revenus et le patrimoine des ménages', 'date_diffusion': '2021-05-27T16:00:00Z', 'insee_id': 5371201, 'intertitres': \"Figure 1 – Du revenu primaire au revenu disponible des ménages Figure 2 – Du revenu disponible des ménages au pouvoir d'achat Figure 3 – Évolution du pouvoir d’achat du revenu disponible brut (RDB) et du revenu arbitrable Figure 3 – Évolution du pouvoir d’achat du revenu disponible brut (RDB) et du revenu arbitrable\", 'libelleAffichageGeo': 'France', 'source': 'https://www.insee.fr/fr/statistiques/5371201', 'subtitle': '', 'themes': \"Revenus – Niveaux de vie – Pouvoir d'achat/Caractéristiques des entreprises\", 'title': 'Revenu des ménages en comptabilité nationale'}),\n",
       " Document(page_content='Sujet de préoccupation des Français et élément du débat politique, le pouvoir d’achat suscite des controverses récurrentes, en partie liées à l’absence de définition partagée de ce terme. Il est certes facile de s’entendre sur le fait que le pouvoir d’achat doit rendre compte de l’évolution simultanée des revenus et des prix: si les revenus d’un ménage progressent plus rapidement que les prix, il gagne du pouvoir d’achat et pourra consommer ou épargner davantage; dans le cas contraire, il perd du pouvoir d’achat et doit diminuer sa consommation ou son épargne. La difficulté est de donner un sens précis à ces différents termes. La comptabilité nationale utilise des définitions qui ont l’avantage d’être cohérentes entre elles et harmonisées sur le plan international. Mais elle conduit à des évaluations qui sont souvent perçues comme trop optimistes, même lorsqu’on prend soin de bien différencier le pouvoir d’achat global de l’ensemble des ménages et le pouvoir d’achat par unité de consommation, qui est le concept le plus pertinent d’un point de vue individuel.  Plusieurs facteurs peuvent contribuer à ce décalage entre mesure et perception. Il y a d’une part la limite inhérente au raisonnement en moyenne. Même s’il y avait accord complet sur les conventions de mesure, il y aurait toujours une proportion importante de ménages dont le pouvoir d’achat évoluerait moins vite que cette moyenne. Il y a également les biais de perception sur la mesure des prix, bien documentés lors du passage à l’euro. S’y ajoutent des incompréhensions à clarifier sur certaines des conventions de mesure du revenu ou de ses différentes utilisations: la prise en compte de revenus « imputés », le traitement des remboursements d’emprunts, etc', metadata={'authors': '', 'categories': 'Publications grand public', 'collections': \"L'économie française - Comptes et dossiers\", 'date_diffusion': '2019-06-28T16:00:00Z', 'insee_id': 4181441, 'intertitres': '', 'libelleAffichageGeo': 'France', 'source': 'https://www.insee.fr/fr/statistiques/4181441', 'subtitle': '', 'themes': 'Économie générale (inflation, PIB, dette,...)', 'title': 'Quelle(s) mesure(s) du pouvoir d’achat?'}),\n",
       " Document(page_content=\". La taille de chaque ménage en nombre d'unités de consommation est calculée de la façon suivante: le premier adulte compte pour 1 unité de consommation(UC), chaque personne supplémentaire de 14ans et plus compte pour 0,5UC et chaque enfant de moins de 14ans compte pour 0,3UC. Le pouvoir d'achat par unité de consommation permet ainsi de prendre en considération non seulement le nombre de ménages, mais aussi l'évolution de la structure des ménages. C'est pourquoi il constitue l'indicateur qui est le plus pertinent pour mesurer l'évolution du niveau de vie en moyenne sur l'ensemble des ménages. La dépense de consommation finale «pré-engagée» correspond aux dépenses qui sont réalisées dans le cadre d'un contrat difficilement renégociable à court terme. Elle comprend: Le revenu disponible «arbitrable» est défini comme le revenu disponible une fois déduit la dépense de consommation finale «pré-engagée». L'évolution du pouvoir d'achat «arbitrable» rapporte l'évolution du revenu disponible «arbitrable» à celle du prix de la dépense de consommation finale «non pré-engagée». L'évolution du pouvoir d'achat des ménages est ainsi appréhendée sur un champ plus étroit, en se focalisant sur les marges de manœuvre que les ménages estiment conserver pour effectuer librement des choix de consommation et d'épargne. Le taux d'épargne est le rapport entre l'épargne brute (B8g) et le revenu disponible brut(B6g) des ménages. Le taux d'épargne financière est le rapport entre la capacité de financement(B9NF) et le revenu disponible brut(B6g) des ménages. Le secteur des ménages est constitué des personnes physiques composant la population totale résidente. Elles sont, pour la plupart, regroupées dans des «ménages ordinaires» - au sens du recensement de la population - constitués de l'ensemble des occupants d'une même résidence principale\", metadata={'authors': '', 'categories': 'Chiffres détaillés', 'collections': '', 'date_diffusion': '2024-03-19T11:32:14.993Z', 'insee_id': 6793630, 'intertitres': '', 'libelleAffichageGeo': 'France', 'source': 'https://www.insee.fr/fr/statistiques/6793630', 'subtitle': 'Comptes nationaux annuels - base 2014', 'themes': \"Revenus – Niveaux de vie – Pouvoir d'achat\", 'title': \"Revenu et pouvoir d'achat des ménages en2022\"}),\n",
       " Document(page_content='. Pour approcher une notion plus individuelle du pouvoir d’achat, sa progression est rapportée à des unités démographiques (personne, ménage, unité de consommation), ici le nombre d’habitants à Mayotte.', metadata={'authors': '', 'categories': 'Publications grand public', 'collections': 'Insee Flash', 'date_diffusion': '2023-11-17T05:00:00Z', 'insee_id': 7713371, 'intertitres': 'Un PIB en hausse de 11\\xa0% en 2021 Évolution du taux de croissance annuel du PIB en valeur à Mayotte Évolution du taux de croissance annuel du PIB en valeur à Mayotte La production marchande des entreprises en croissance Estimation des approches demande et production du produit intérieur brut (PIB) Les administrations restent le pilier d’une croissance bridée par le déficit commercial Une croissance de la consommation des ménages malgré l’inflation qui affecte le pouvoir d’achat Pour comprendre', 'libelleAffichageGeo': 'Mayotte', 'source': 'https://www.insee.fr/fr/statistiques/7713371', 'subtitle': 'Produit intérieur brut 2021 à Mayotte (résultats provisoires)', 'themes': 'Économie générale (inflation, PIB, dette,...)', 'title': 'Rebond du produit intérieur brut en 2021'})]"
      ]
     },
     "execution_count": 36,
     "metadata": {},
     "output_type": "execute_result"
    }
   ],
   "source": [
    "from typing import Any, List, Optional, Sequence, Dict\n",
    "from langchain.retrievers.document_compressors.base import BaseDocumentCompressor\n",
    "from langchain.schema import Document\n",
    "from pydantic import BaseModel, Field\n",
    "from langchain_core.runnables import RunnableLambda, RunnableParallel , RunnablePassthrough\n",
    "from langchain_community.retrievers import BM25Retriever\n",
    "\n",
    "from langchain_core.callbacks import Callbacks\n",
    "import math\n",
    "from collections import Counter\n",
    "from langchain_core.output_parsers import StrOutputParser\n",
    "\n",
    "# Define the compression function\n",
    "def compress_documents_lambda(documents: Sequence[Document], query: str, k: int = 5, **kwargs: Dict[str, Any]) -> Sequence[Document]:\n",
    "    \"\"\"Compress retrieved documents given the query context.\"\"\"\n",
    "\n",
    "    # Initialize the retriever with the documents\n",
    "    retriever = BM25Retriever.from_documents(documents, k=k, **kwargs)\n",
    "    relevant_docs = retriever.get_relevant_documents(query)\n",
    "    return relevant_docs\n",
    "\n",
    "# Define the complete chain\n",
    "bm25_retriever = (\n",
    "    RunnableParallel(\n",
    "    {\"documents\": retriever, \"query\": RunnablePassthrough()}\n",
    "    ) \n",
    "    | RunnableLambda(lambda r : compress_documents_lambda(documents= r[\"documents\"] , query = r[\"query\"]))\n",
    ")\n",
    "\n",
    "bm25_retriever.invoke(question)"
   ]
  },
  {
   "cell_type": "code",
   "execution_count": 38,
   "metadata": {},
   "outputs": [
    {
     "name": "stderr",
     "output_type": "stream",
     "text": [
      "/opt/mamba/lib/python3.12/site-packages/huggingface_hub/file_download.py:1132: FutureWarning: `resume_download` is deprecated and will be removed in version 1.0.0. Downloads always resume when possible. If you want to force a new download, use `force_download=True`.\n",
      "  warnings.warn(\n"
     ]
    },
    {
     "data": {
      "application/vnd.jupyter.widget-view+json": {
       "model_id": "5dc6f55749f942e48d1a7d4845d976d0",
       "version_major": 2,
       "version_minor": 0
      },
      "text/plain": [
       "config.json:   0%|          | 0.00/805 [00:00<?, ?B/s]"
      ]
     },
     "metadata": {},
     "output_type": "display_data"
    },
    {
     "data": {
      "application/vnd.jupyter.widget-view+json": {
       "model_id": "3006da77e7674e84b68fa3bdbc1c3168",
       "version_major": 2,
       "version_minor": 0
      },
      "text/plain": [
       "pytorch_model.bin:   0%|          | 0.00/1.35G [00:00<?, ?B/s]"
      ]
     },
     "metadata": {},
     "output_type": "display_data"
    },
    {
     "data": {
      "application/vnd.jupyter.widget-view+json": {
       "model_id": "f79d7d25d49f42c38605e9e4a32b6ce6",
       "version_major": 2,
       "version_minor": 0
      },
      "text/plain": [
       "tokenizer_config.json:   0%|          | 0.00/464 [00:00<?, ?B/s]"
      ]
     },
     "metadata": {},
     "output_type": "display_data"
    },
    {
     "data": {
      "application/vnd.jupyter.widget-view+json": {
       "model_id": "e9921e0574074d288b843843ad2a8406",
       "version_major": 2,
       "version_minor": 0
      },
      "text/plain": [
       "sentencepiece.bpe.model:   0%|          | 0.00/809k [00:00<?, ?B/s]"
      ]
     },
     "metadata": {},
     "output_type": "display_data"
    },
    {
     "data": {
      "application/vnd.jupyter.widget-view+json": {
       "model_id": "8cbcf3d3d5644ac196791e4aa87fa54b",
       "version_major": 2,
       "version_minor": 0
      },
      "text/plain": [
       "tokenizer.json:   0%|          | 0.00/2.42M [00:00<?, ?B/s]"
      ]
     },
     "metadata": {},
     "output_type": "display_data"
    },
    {
     "data": {
      "application/vnd.jupyter.widget-view+json": {
       "model_id": "5ddac921bcaf4259a2ace9dd25ebf610",
       "version_major": 2,
       "version_minor": 0
      },
      "text/plain": [
       "special_tokens_map.json:   0%|          | 0.00/298 [00:00<?, ?B/s]"
      ]
     },
     "metadata": {},
     "output_type": "display_data"
    },
    {
     "name": "stderr",
     "output_type": "stream",
     "text": [
      "2024-06-24 14:36:42,178 - INFO - Use pytorch device: cuda\n"
     ]
    }
   ],
   "source": [
    "from langchain.retrievers import EnsembleRetriever\n",
    "from langchain.retrievers import ContextualCompressionRetriever\n",
    "from langchain.retrievers.document_compressors import CrossEncoderReranker\n",
    "from langchain_community.cross_encoders import HuggingFaceCrossEncoder #CrossEncoder \n",
    "\n",
    "model = HuggingFaceCrossEncoder(model_name=\"dangvantuan/CrossEncoder-camembert-large\") #\"antoinelouis/crossencoder-electra-base-french-mmarcoFR\")\n",
    "compressor_1 = CrossEncoderReranker(model=model, top_n=5)\n",
    "\n",
    "compression_retriever_cross_encoder = ContextualCompressionRetriever(\n",
    "    base_compressor=compressor_1, base_retriever=retriever\n",
    ")\n",
    "\n",
    "emsemble_reranking = EnsembleRetriever(retrievers = [compression_retriever_cross_encoder, bm25_retriever], weigths = [0.5, 0.5])\n"
   ]
  },
  {
   "cell_type": "code",
   "execution_count": 39,
   "metadata": {},
   "outputs": [
    {
     "data": {
      "application/vnd.jupyter.widget-view+json": {
       "model_id": "666dc8dd955a4b418b01793a0f99c70c",
       "version_major": 2,
       "version_minor": 0
      },
      "text/plain": [
       "Batches:   0%|          | 0/1 [00:00<?, ?it/s]"
      ]
     },
     "metadata": {},
     "output_type": "display_data"
    },
    {
     "name": "stderr",
     "output_type": "stream",
     "text": [
      "Asking to truncate to max_length but no maximum length is provided and the model has no predefined maximum length. Default to no truncation.\n"
     ]
    },
    {
     "data": {
      "text/plain": [
       "[Document(page_content=\". La taille de chaque ménage en nombre d'unités de consommation est calculée de la façon suivante: le premier adulte compte pour 1 unité de consommation(UC), chaque personne supplémentaire de 14ans et plus compte pour 0,5UC et chaque enfant de moins de 14ans compte pour 0,3UC. Le pouvoir d'achat par unité de consommation permet ainsi de prendre en considération non seulement le nombre de ménages, mais aussi l'évolution de la structure des ménages. C'est pourquoi il constitue l'indicateur qui est le plus pertinent pour mesurer l'évolution du niveau de vie en moyenne sur l'ensemble des ménages. La dépense de consommation finale «pré-engagée» correspond aux dépenses qui sont réalisées dans le cadre d'un contrat difficilement renégociable à court terme. Elle comprend: Le revenu disponible «arbitrable» est défini comme le revenu disponible une fois déduit la dépense de consommation finale «pré-engagée». L'évolution du pouvoir d'achat «arbitrable» rapporte l'évolution du revenu disponible «arbitrable» à celle du prix de la dépense de consommation finale «non pré-engagée». L'évolution du pouvoir d'achat des ménages est ainsi appréhendée sur un champ plus étroit, en se focalisant sur les marges de manœuvre que les ménages estiment conserver pour effectuer librement des choix de consommation et d'épargne. Le taux d'épargne est le rapport entre l'épargne brute (B8g) et le revenu disponible brut(B6g) des ménages. Le taux d'épargne financière est le rapport entre la capacité de financement(B9NF) et le revenu disponible brut(B6g) des ménages. Le secteur des ménages est constitué des personnes physiques composant la population totale résidente. Elles sont, pour la plupart, regroupées dans des «ménages ordinaires» - au sens du recensement de la population - constitués de l'ensemble des occupants d'une même résidence principale\", metadata={'authors': '', 'categories': 'Chiffres détaillés', 'collections': '', 'date_diffusion': '2024-03-19T11:32:14.993Z', 'insee_id': 6793630, 'intertitres': '', 'libelleAffichageGeo': 'France', 'source': 'https://www.insee.fr/fr/statistiques/6793630', 'subtitle': 'Comptes nationaux annuels - base 2014', 'themes': \"Revenus – Niveaux de vie – Pouvoir d'achat\", 'title': \"Revenu et pouvoir d'achat des ménages en2022\"}),\n",
       " Document(page_content='. Depuis 2010, le pouvoir d’achat du RDB a augmenté de 7,5%. Rapporté au nombre d’UC, le pouvoir d’achat du RDB a augmenté plus modérément: il est, en 2019, 1,6% au‑dessus de son niveau de 2010. Enfin le pouvoir d’achat du revenu arbitrable par UC a quasiment stagné depuis 2010 (+ 0,5%).  Le revenu disponible brut (RDB, comptabilité nationale) est le revenu qui reste à la disposition des ménages pour la consommation et l’épargne, une fois déduits les prélèvements fiscaux et sociaux. Le RDB diffère du revenu disponible évalué à partir des enquêtes auprès des ménages. Voir Sources et méthodes. Le revenu arbitrable (comptabilité nationale) est le revenu disponible brut après déduction des dépenses de consommation dites «pré‑engagées» telles que logement, services de télécommunications, frais de cantine, service de télévision, assurances et services financiers. Le pouvoir d’achat du revenu arbitrable est calculé en utilisant comme déflateur le prix des seules dépenses de consommation non «pré‑engagées». «Les comptes de la Nation en 2019», Insee Première n°1802, mai 2020.', metadata={'authors': '', 'categories': 'Publications grand public', 'collections': 'Les revenus et le patrimoine des ménages', 'date_diffusion': '2021-05-27T16:00:00Z', 'insee_id': 5371201, 'intertitres': \"Figure 1 – Du revenu primaire au revenu disponible des ménages Figure 2 – Du revenu disponible des ménages au pouvoir d'achat Figure 3 – Évolution du pouvoir d’achat du revenu disponible brut (RDB) et du revenu arbitrable Figure 3 – Évolution du pouvoir d’achat du revenu disponible brut (RDB) et du revenu arbitrable\", 'libelleAffichageGeo': 'France', 'source': 'https://www.insee.fr/fr/statistiques/5371201', 'subtitle': '', 'themes': \"Revenus – Niveaux de vie – Pouvoir d'achat/Caractéristiques des entreprises\", 'title': 'Revenu des ménages en comptabilité nationale'}),\n",
       " Document(page_content=\"L'Insee mesure l'évolution du pouvoir d'achat qui résulte de la différence entre l’évolution du revenu des ménages et l’évolution de l’indice des prix. Il mesure aussi la pauvreté et le niveau de vie des ménages. Il détermine le niveau de vie médian, le seuil de pauvreté ainsi que le nombre de personnes pauvres et analyse les caractéristiques de ces personnes.\", metadata={'authors': '', 'categories': 'Services', 'collections': '', 'date_diffusion': '2017-01-16T09:31:19.959Z', 'insee_id': 2549359, 'intertitres': \"Pour comprendre...le pouvoir d'achat et l’indice des prix Pour comprendre...la pauvreté\", 'libelleAffichageGeo': '', 'source': 'https://www.insee.fr/fr/information/2549359', 'subtitle': 'Dossier pédagogique', 'themes': '', 'title': \"Pouvoir d'achat - Pauvreté\"}),\n",
       " Document(page_content=\".  À Mayotte, il est calculé à partir de la moyenne de deux estimations : par la demande (consommation finale, investissement et commerce extérieur) et par la production (valeurs ajoutées). Seule l’approche production est utilisée pour les comparaisons avec les régions de métropole, dont le PIB est calculé en régionalisant la valeur ajoutée. Le revenu disponible brut des ménages comprend les revenus d'activité, les revenus du patrimoine, les transferts en provenance d'autres ménages et les prestations sociales (y compris les pensions de retraite et les indemnités de chômage), nets des impôts directs. L'évolution du pouvoir d'achat du revenu disponible brut rapporte l'évolution du revenu disponible brut à celle du prix de la dépense de consommation finale des ménages, mesurée par l'évolution de l'indice des prix à la consommation. Pour approcher une notion plus individuelle du pouvoir d'achat, sa progression est rapportée à des unités démographiques (personne, ménage, unité de consommation), ici le nombre d'habitants à Mayotte. Duplouy B (dir.),«Bilan économique 2015: la croissance se maintient», Insee Conjoncture Réunion n°2, juin 2016; Monteil C, «PIB de Mayotte 2013 - Le pouvoir d’achat individuel progresse de 5 %», Insee analyse Mayotte n°7, novembre 2015;\", metadata={'authors': '', 'categories': 'Publications grand public', 'collections': 'Insee Flash', 'date_diffusion': '2017-10-25T21:00:00Z', 'insee_id': 3134537, 'intertitres': \"Le pouvoir d'achat individuel augmente de 5\\xa0% Le PIB progresse de 10,5 % en 2014 Le pouvoir d'achat individuel augmente de 5,3 % entre 2013 et 2014 Le pouvoir d'achat individuel augmente de 5,3 % entre 2013 et 2014 Forte hausse des rémunérations dans la fonction publique Consommation des ménages et des administrations publiques, moteurs de la croissance La valeur ajoutée des sociétés progresse de 7\\xa0%\", 'libelleAffichageGeo': 'Mayotte', 'source': 'https://www.insee.fr/fr/statistiques/3134537', 'subtitle': 'Produit intérieur brut 2014', 'themes': 'Économie générale (inflation, PIB, dette,...)', 'title': 'Le pouvoir d’achat individuel augmente de 5 % pour la deuxième année consécutive'}),\n",
       " Document(page_content='. Le pouvoir d’achat d’un niveau de vie, c’est la quantité de biens et de services que l’on peut acheter à un niveau donné. «Insertion sociale et professionnelle des jeunes en Martinique», Insee Dossier Martinique n°3, octobre 2016. «Formations et emploi», Insee Références, édition 2013.', metadata={'authors': '', 'categories': 'Publications grand public', 'collections': 'Insee Analyses', 'date_diffusion': '2016-12-20T16:00:00Z', 'insee_id': 2529008, 'intertitres': 'La moitié des jeunes sont scolarisés Le diplôme, un atout sans être un garant Le sous-emploi est souvent un substitut, mais il est mal accepté Plus la sortie de formation est récente, plus un jeune est exposé au sous-emploi Plus la sortie de formation est récente, plus un jeune est exposé au sous-emploi Les nouveaux diplômés sont plus nombreux en sous-emploi Avec le temps, le sous-emploi diminue pour les hauts diplômés Avec le temps, le sous-emploi diminue pour les hauts diplômés De nombreux jeunes martiniquais émigrent vers l’Hexagone Des orientations mal adaptées au marché local de l’emploi Certains jeunes sont éloignés de l’emploi Trois personnes de moins de 29 ans sur dix ne sont ni en emploi, ni en formation L’éloignement des poumons économiques ne facilite pas la recherche d’emploi. Les jeunes éloignés de l’emploi vivent en majorité chez leurs parents Les inégalités sont en hausse chez les jeunes martiniquais Le niveau de vie s’est amélioré, mais les inégalités sont en hausse Les jeunes émancipés sont moins touchés par la pauvreté Les trois quarts des revenus des ménages sont issus d’une activité professionnelle Les ménages vivent majoritairement d’un revenu d’activité Le pouvoir d’achat des jeunes émancipés s’est dégradé Les jeunes non émancipés s’en sortent mieux que les jeunes émancipés', 'libelleAffichageGeo': 'Martinique', 'source': 'https://www.insee.fr/fr/statistiques/2529008', 'subtitle': '', 'themes': 'Éducation – Formation – Compétences', 'title': 'L’insertion sociale et professionnelle des jeunes en Martinique'}),\n",
       " Document(page_content='Sujet de préoccupation des Français et élément du débat politique, le pouvoir d’achat suscite des controverses récurrentes, en partie liées à l’absence de définition partagée de ce terme. Il est certes facile de s’entendre sur le fait que le pouvoir d’achat doit rendre compte de l’évolution simultanée des revenus et des prix: si les revenus d’un ménage progressent plus rapidement que les prix, il gagne du pouvoir d’achat et pourra consommer ou épargner davantage; dans le cas contraire, il perd du pouvoir d’achat et doit diminuer sa consommation ou son épargne. La difficulté est de donner un sens précis à ces différents termes. La comptabilité nationale utilise des définitions qui ont l’avantage d’être cohérentes entre elles et harmonisées sur le plan international. Mais elle conduit à des évaluations qui sont souvent perçues comme trop optimistes, même lorsqu’on prend soin de bien différencier le pouvoir d’achat global de l’ensemble des ménages et le pouvoir d’achat par unité de consommation, qui est le concept le plus pertinent d’un point de vue individuel.  Plusieurs facteurs peuvent contribuer à ce décalage entre mesure et perception. Il y a d’une part la limite inhérente au raisonnement en moyenne. Même s’il y avait accord complet sur les conventions de mesure, il y aurait toujours une proportion importante de ménages dont le pouvoir d’achat évoluerait moins vite que cette moyenne. Il y a également les biais de perception sur la mesure des prix, bien documentés lors du passage à l’euro. S’y ajoutent des incompréhensions à clarifier sur certaines des conventions de mesure du revenu ou de ses différentes utilisations: la prise en compte de revenus « imputés », le traitement des remboursements d’emprunts, etc', metadata={'authors': '', 'categories': 'Publications grand public', 'collections': \"L'économie française - Comptes et dossiers\", 'date_diffusion': '2019-06-28T16:00:00Z', 'insee_id': 4181441, 'intertitres': '', 'libelleAffichageGeo': 'France', 'source': 'https://www.insee.fr/fr/statistiques/4181441', 'subtitle': '', 'themes': 'Économie générale (inflation, PIB, dette,...)', 'title': 'Quelle(s) mesure(s) du pouvoir d’achat?'}),\n",
       " Document(page_content=\". Le pouvoir d'achatcorrespond au volume de biens et services qu'un revenu permet d'acheter.  L'évolution du pouvoir d'achat des ménages est calculée en retranchant au taux de croissance du revenu disponible brut des ménages, le taux de croissance du déflateur de la dépense de consommation finale en comptabilité nationale. Ce dernier diffère quelque peu du taux de croissance de l'indice des prix à la consommation (IPC), principalement parce que son champ est plus large que celui de l'IPC. L’indicateur du climat des affaires est établi à partir des résultats de l’enquête trimestrielle de conjoncture de l’IEDOM au moyen d’une analyse en composantes principales. Il a pour objectif de résumer le maximum de l’information contenue dans chacune des questions de l’enquête. Afin d’en faciliter la lecture, il est centré autour de 100 (moyenne de longue période) et a un écart-type de 10. Si la valeur de celui-ci est supérieure (respectivement inférieure) à 100, l’opinion des chefs d’entreprise sur l’activité est jugée favorable (respectivement défavorable). La cotation des entreprises est attribuée par l’IEDOM. Elle tient non seulement compte de la documentation comptable des entreprises mais aussi d’éléments qualitatifs qui sont portés à sa connaissance par les dirigeants. À situation exceptionnelle, mesures exceptionnelles: depuis avril 2020, l’IEDOM a adapté son processus de cotation des données des bilans arrêtés et s’attache à recueillir, par le biais d’un questionnaire adressé à chaque dirigeant, les éléments d’information sur la situation financière actuelle de leur entreprise. La cotation « Forte » correspond aux toutes cotes de crédit 3, la « Correcte » aux toutes cotes de crédit4, la « Faible » aux toutes cotes de crédit 5, la « Très faible » aux cotes de crédit 6 et la « Menacée » aux cotes de crédit 7 à P\", metadata={'authors': '', 'categories': 'Publications grand public', 'collections': 'Insee Analyses', 'date_diffusion': '2021-10-20T10:01:00Z', 'insee_id': 5544161, 'intertitres': \"Repli important de l'activité économique guadeloupéenne Repli important de l'activité économique guadeloupéenne La consommation des ménages, principal moteur de la croissance, freinée par les restrictions Le PIB chute de 4,9\\xa0% La consommation des ménages chute, celle des administrations publiques résiste La consommation des ménages chute, celle des administrations publiques résiste Des investissements en pause L'investissement diminue fortement L'investissement diminue fortement Importante contraction des échanges extérieurs qui pèsent toutefois peu sur la croissance Les échanges commerciaux se neutralisent Les échanges commerciaux se neutralisent L’activité touristique fortement impactée Encadré 1 − L’impact du premier confinement sur l’économie Encadré 2 − Des entreprises fragilisées, mais résilientes Encadré 3 − Partenariat\", 'libelleAffichageGeo': 'Guadeloupe', 'source': 'https://www.insee.fr/fr/statistiques/5544161', 'subtitle': 'Comptes économiques rapides de la\\xa0Guadeloupe en 2020', 'themes': 'Économie générale (inflation, PIB, dette,...)', 'title': 'La croissance mise à mal par la crise sanitaire'}),\n",
       " Document(page_content='. Pour approcher une notion plus individuelle du pouvoir d’achat, sa progression est rapportée à des unités démographiques (personne, ménage, unité de consommation), ici le nombre d’habitants à Mayotte.', metadata={'authors': '', 'categories': 'Publications grand public', 'collections': 'Insee Flash', 'date_diffusion': '2023-11-17T05:00:00Z', 'insee_id': 7713371, 'intertitres': 'Un PIB en hausse de 11\\xa0% en 2021 Évolution du taux de croissance annuel du PIB en valeur à Mayotte Évolution du taux de croissance annuel du PIB en valeur à Mayotte La production marchande des entreprises en croissance Estimation des approches demande et production du produit intérieur brut (PIB) Les administrations restent le pilier d’une croissance bridée par le déficit commercial Une croissance de la consommation des ménages malgré l’inflation qui affecte le pouvoir d’achat Pour comprendre', 'libelleAffichageGeo': 'Mayotte', 'source': 'https://www.insee.fr/fr/statistiques/7713371', 'subtitle': 'Produit intérieur brut 2021 à Mayotte (résultats provisoires)', 'themes': 'Économie générale (inflation, PIB, dette,...)', 'title': 'Rebond du produit intérieur brut en 2021'})]"
      ]
     },
     "execution_count": 39,
     "metadata": {},
     "output_type": "execute_result"
    }
   ],
   "source": [
    "emsemble_reranking.invoke(question)"
   ]
  },
  {
   "cell_type": "markdown",
   "metadata": {},
   "source": [
    "### Adding a LLM Reranker"
   ]
  },
  {
   "cell_type": "code",
   "execution_count": 1,
   "metadata": {},
   "outputs": [
    {
     "data": {
      "application/vnd.jupyter.widget-view+json": {
       "model_id": "be3ea53f09154e59902b1a5062931d81",
       "version_major": 2,
       "version_minor": 0
      },
      "text/plain": [
       "Loading checkpoint shards:   0%|          | 0/4 [00:00<?, ?it/s]"
      ]
     },
     "metadata": {},
     "output_type": "display_data"
    }
   ],
   "source": [
    "from transformers import (\n",
    "    AutoConfig,\n",
    "    AutoModelForCausalLM,\n",
    "    AutoTokenizer,\n",
    "    pipeline,\n",
    "    BitsAndBytesConfig,\n",
    "    TextStreamer, \n",
    "    pipeline,\n",
    "    TextStreamer\n",
    ")\n",
    "import torch\n",
    "import torch.nn.functional as F\n",
    "\n",
    "model_id = \"meta-llama/Meta-Llama-3-8B-Instruct\"\n",
    "\n",
    "# quantization config \n",
    "quantization_config  = BitsAndBytesConfig(\n",
    "            load_in_4bit=True,\n",
    "            bnb_4bit_quant_type=\"nf4\",\n",
    "            bnb_4bit_compute_dtype=\"float16\",\n",
    "            bnb_4bit_use_double_quant=False,\n",
    "        )\n",
    "\n",
    "config = AutoConfig.from_pretrained(model_id, trust_remote_code=True)\n",
    "\n",
    "tokenizer = AutoTokenizer.from_pretrained(model_id)\n",
    "\n",
    "model = AutoModelForCausalLM.from_pretrained(\n",
    "    model_id,\n",
    "    device_map=\"auto\",\n",
    "    quantization_config=quantization_config,\n",
    "    config=config\n",
    ")"
   ]
  },
  {
   "cell_type": "markdown",
   "metadata": {},
   "source": [
    "#### Fine-grained label reranker "
   ]
  },
  {
   "cell_type": "code",
   "execution_count": 72,
   "metadata": {},
   "outputs": [],
   "source": [
    "# reranking utils function \n",
    "\n",
    "def expected_relevance_values(logits, grades_token_ids, list_grades):\n",
    "    next_token_logits = logits[:, -1, :]\n",
    "    next_token_logits = next_token_logits.cpu()[0]\n",
    "    probabilities = F.softmax(next_token_logits[grades_token_ids], dim=-1).numpy()\n",
    "    return np.dot(np.array(list_grades), probabilities)\n",
    "\n",
    "def peak_relevance_likelihood(logits, grades_token_ids, list_grades):\n",
    "    index_max_grade = np.array(list_grades).argmax()\n",
    "    next_token_logits = logits[:, -1, :]\n",
    "    probabilities = F.softmax(next_token_logits, dim=-1).cpu().numpy()[0]\n",
    "    return probabilities[grades_token_ids[index_max_grade]]\n",
    "\n",
    "def find_sublist_indices(main_list, sublist):\n",
    "    sublist_length = len(sublist)\n",
    "    main_list_length = len(main_list)\n",
    "    \n",
    "    # Helper function to check if sublist matches\n",
    "    def is_sublist_at_index(index):\n",
    "        return main_list[index:index + sublist_length] == sublist\n",
    "    \n",
    "    # Finding the first index\n",
    "    first_index = -1\n",
    "    \n",
    "    for i in range(main_list_length - sublist_length + 1):\n",
    "        if is_sublist_at_index(i):\n",
    "            first_index = i\n",
    "            break\n",
    "\n",
    "    return first_index"
   ]
  },
  {
   "cell_type": "code",
   "execution_count": null,
   "metadata": {},
   "outputs": [],
   "source": [
    "## assessing methods \n",
    "def RG_S(tokenizer, model,query, document, aggregating_method, k=5):\n",
    "\n",
    "    list_grades = list(range(k))\n",
    "    grades_token_ids = [tokenizer(str(grade))[\"input_ids\"][1] for grade in list_grades]\n",
    " \n",
    "    RG_S_template = \"\"\"\n",
    "    Sur une échelle de 0 à {k}, jugez la pertinence entre la requête et le document.\n",
    "    Requête : {query}\n",
    "    Document : {document}\n",
    "    Réponse : \"\"\" \n",
    "\n",
    "    messages = [\n",
    "        {\"role\": \"system\", \"content\": \"Tu es un assistant chatbot expert en Statistique Publique.\"},\n",
    "        {\"role\": \"user\", \"content\": RG_S_template.format(query=query, document=document, k=k)},\n",
    "    ]\n",
    "\n",
    "    input_text = tokenizer.apply_chat_template(\n",
    "        messages,\n",
    "        add_generation_prompt=True,\n",
    "        tokenize=False\n",
    "    )\n",
    "\n",
    "    inputs = tokenizer(input_text, return_tensors='pt').to(model.device)\n",
    "\n",
    "    with torch.no_grad():\n",
    "        outputs = model(**inputs)\n",
    "        logits = outputs.logits\n",
    "\n",
    "    return aggregating_method(logits, grades_token_ids, list_grades)\n",
    "\n",
    "\n",
    "def RG_4L(tokenizer, model,query, document, args):\n",
    "    possible_judgements = [\" Parfaitement Pertinent\", \" Très Pertinent\", \" Assez Pertinent\", \" Non Pertinent\"]\n",
    "    list_grades = np.array([3, 2, 1, 0])\n",
    "    RG_4L_template = \"\"\"\n",
    "    Evaluez la pertinence du document donné par rapport à la question posée.\n",
    "    Répondez uniquement parmi : Parfaitement Pertinent, Très Pertinent, Assez Pertinent ou Non Pertinent.\n",
    "    Requête : {query}\n",
    "    Document : {document}\n",
    "    Réponse : {judgement}\"\"\"\n",
    "\n",
    "    messages = [\n",
    "        {\"role\": \"system\", \"content\": \"Tu es un assistant chatbot expert en Statistique Publique.\"},\n",
    "        {\"role\": \"user\", \"content\": RG_4L_template},\n",
    "    ]\n",
    "\n",
    "    log_probs = []\n",
    "    for judgement in possible_judgements:\n",
    "        input_text = tokenizer.apply_chat_template(\n",
    "            messages,\n",
    "            add_generation_prompt=False,\n",
    "            tokenize=False\n",
    "        ).format(query=query, document=document, judgement=judgement)\n",
    "        log_probs.append(compute_sequence_log_probs(sequence=input_text))\n",
    "\n",
    "    probs = F.softmax(torch.tensor(log_probs), dim=-1).numpy()\n",
    "    return np.dot(probs, list_grades)\n",
    "\n",
    "def RG_3L(tokenizer, model,query, document, args):\n",
    "    possible_judgements = [\" Très Pertinent\", \" Assez Pertinent\", \" Non Pertinent\"]\n",
    "    list_grades = np.array([2, 1, 0])\n",
    "    RG_3L_template = \"\"\"\n",
    "    Evaluez la pertinence du document donné par rapport à la question posée.\n",
    "    Répondez uniquement parmi : Très Pertinent, Assez Pertinent ou Non Pertinent.\n",
    "    Requête : {query}\n",
    "    Document : {document}\n",
    "    Réponse : {judgement}\"\"\"\n",
    "\n",
    "    messages = [\n",
    "        {\"role\": \"system\", \"content\": \"Tu es un assistant chatbot expert en Statistique Publique.\"},\n",
    "        {\"role\": \"user\", \"content\": RG_3L_template},\n",
    "    ]\n",
    "\n",
    "    log_probs = []\n",
    "    for judgement in possible_judgements:\n",
    "        input_text = tokenizer.apply_chat_template(\n",
    "            messages,\n",
    "            add_generation_prompt=False,\n",
    "            tokenize=False\n",
    "        ).format(query=query, document=document, judgement=judgement)\n",
    "        log_probs.append(compute_sequence_log_probs(sequence=input_text))\n",
    "\n",
    "    probs = F.softmax(torch.tensor(log_probs), dim=-1).numpy()\n",
    "    return np.dot(probs, list_grades)\n",
    "    \n",
    "def RG_YN(tokenizer, model,query, document, aggregating_method):\n",
    "    list_judgements = [\" Oui\", \" Non\"]\n",
    "    grades_token_ids = [tokenizer(j)[\"input_ids\"][1] for j in list_judgements]\n",
    "    list_grades = [1, 0]\n",
    "\n",
    "    RG_YN_template = \"\"\"\n",
    "    Pour la requête et le document suivants, jugez s'ils sont pertinents. Répondez UNIQUEMENT par Oui ou Non.\n",
    "    Requête : {query}\n",
    "    Document : {document}\n",
    "    Réponse : \"\"\"\n",
    "\n",
    "    messages = [\n",
    "        {\"role\": \"system\", \"content\": \"Tu es un assistant chatbot expert en Statistique Publique.\"},\n",
    "        {\"role\": \"user\", \"content\": RG_YN_template.format(query=query, document=document)},\n",
    "    ]\n",
    "\n",
    "    input_text = tokenizer.apply_chat_template(\n",
    "        messages,\n",
    "        add_generation_prompt=True,\n",
    "        tokenize=False\n",
    "    )\n",
    "\n",
    "    inputs = tokenizer(input_text, return_tensors='pt').to(model.device)\n",
    "\n",
    "    with torch.no_grad():\n",
    "        outputs = model(**inputs)\n",
    "        logits = outputs.logits\n",
    "\n",
    "    return aggregating_method(logits, grades_token_ids, list_grades)\n"
   ]
  },
  {
   "cell_type": "code",
   "execution_count": 73,
   "metadata": {},
   "outputs": [],
   "source": [
    "def llm_reranking(tokenizer, model,  query, retrieved_documents, assessing_method, aggregating_method):\n",
    "    docs_content = retrieved_documents.copy() #[doc.page_content for doc in retrieved_documents]\n",
    "\n",
    "    scores = []\n",
    "    for document in docs_content:  \n",
    "        score = assessing_method(tokenizer, model, query, document, aggregating_method)\n",
    "        scores.append(score)\n",
    "\n",
    "    docs_with_scores = list(zip(retrieved_documents, scores))\n",
    "    docs_with_scores.sort(key=lambda x: x[1], reverse=True)\n",
    "    sorted_documents = [doc for doc, score in docs_with_scores] #docs_with_scores \n",
    "    return sorted_documents"
   ]
  },
  {
   "cell_type": "code",
   "execution_count": 4,
   "metadata": {},
   "outputs": [
    {
     "name": "stderr",
     "output_type": "stream",
     "text": [
      "We detected that you are passing `past_key_values` as a tuple and this is deprecated and will be removed in v4.43. Please use an appropriate `Cache` class (https://huggingface.co/docs/transformers/v4.41.3/en/internal/generation_utils#transformers.Cache)\n"
     ]
    },
    {
     "data": {
      "text/plain": [
       "0.1433243912179023"
      ]
     },
     "execution_count": 4,
     "metadata": {},
     "output_type": "execute_result"
    }
   ],
   "source": [
    "expected_relevance_values(query=\"Combien y a t il d'habitant en France en 2024?\", document=\"Le nombre d'habitant en Birmanie est de 54 millions de personnes\")"
   ]
  },
  {
   "cell_type": "code",
   "execution_count": 75,
   "metadata": {},
   "outputs": [
    {
     "name": "stdout",
     "output_type": "stream",
     "text": [
      "------------------------\n",
      "Doc 0 th L'évolution du taux de chômage en France de 2014 à 2023 révèle une baisse progressive après un pic en 2015. Bien que la pandémie ait provoqué une hausse temporaire, le taux de chômage a repris sa tendance à la baisse pour atteindre 7,8 % en 2023, selon l'INSEE.\n",
      "Doc 1 th Au cours des dix dernières années, le taux de chômage en France a montré une tendance à la baisse. Après avoir atteint un pic en 2015, il a progressivement diminué, bien que la crise sanitaire de 2020 ait causé une augmentation temporaire. En 2023, le taux de chômage était de 7,8 %.\n",
      "Doc 2 th Selon les données de l'INSEE, le taux de chômage en France a fluctué entre 10 % et 7,8 % au cours des dix dernières années. Après une hausse notable en 2015, des mesures gouvernementales ont contribué à une baisse progressive. Cependant, la pandémie de COVID-19 en 2020 a inversé cette tendance temporairement avant de redescendre en 2023.\n",
      "Doc 3 th Entre 2014 et 2023, le taux de chômage en France a varié considérablement. Après avoir atteint un sommet de 10,5 % en 2015, il a progressivement diminué, atteignant un minimum de 7,8 % en 2023. La pandémie de COVID-19 a temporairement perturbé cette tendance, augmentant le taux de chômage en 2020 et 2021.\n",
      "Doc 4 th Le taux de chômage en France a connu des variations significatives au cours des dix dernières années. En 2014, le taux de chômage s'élevait à environ 10 %. Après un pic en 2015 à près de 10,5 %, il a progressivement diminué pour atteindre 8 % en 2019. La crise sanitaire de 2020 a provoqué une hausse temporaire du chômage, mais les réformes économiques ont permis de ramener le taux à 7,8 % en 2023.\n",
      "------------------------\n",
      "Doc 0 th Selon les données de l'INSEE, le taux de chômage en France a fluctué entre 10 % et 7,8 % au cours des dix dernières années. Après une hausse notable en 2015, des mesures gouvernementales ont contribué à une baisse progressive. Cependant, la pandémie de COVID-19 en 2020 a inversé cette tendance temporairement avant de redescendre en 2023.\n",
      "Doc 1 th Au cours des dix dernières années, le taux de chômage en France a montré une tendance à la baisse. Après avoir atteint un pic en 2015, il a progressivement diminué, bien que la crise sanitaire de 2020 ait causé une augmentation temporaire. En 2023, le taux de chômage était de 7,8 %.\n",
      "Doc 2 th L'évolution du taux de chômage en France de 2014 à 2023 révèle une baisse progressive après un pic en 2015. Bien que la pandémie ait provoqué une hausse temporaire, le taux de chômage a repris sa tendance à la baisse pour atteindre 7,8 % en 2023, selon l'INSEE.\n",
      "Doc 3 th Entre 2014 et 2023, le taux de chômage en France a varié considérablement. Après avoir atteint un sommet de 10,5 % en 2015, il a progressivement diminué, atteignant un minimum de 7,8 % en 2023. La pandémie de COVID-19 a temporairement perturbé cette tendance, augmentant le taux de chômage en 2020 et 2021.\n",
      "Doc 4 th Le taux de chômage en France a connu des variations significatives au cours des dix dernières années. En 2014, le taux de chômage s'élevait à environ 10 %. Après un pic en 2015 à près de 10,5 %, il a progressivement diminué pour atteindre 8 % en 2019. La crise sanitaire de 2020 a provoqué une hausse temporaire du chômage, mais les réformes économiques ont permis de ramener le taux à 7,8 % en 2023.\n",
      "------------------------\n",
      "Doc 0 th Le taux de chômage en France a connu des variations significatives au cours des dix dernières années. En 2014, le taux de chômage s'élevait à environ 10 %. Après un pic en 2015 à près de 10,5 %, il a progressivement diminué pour atteindre 8 % en 2019. La crise sanitaire de 2020 a provoqué une hausse temporaire du chômage, mais les réformes économiques ont permis de ramener le taux à 7,8 % en 2023.\n",
      "Doc 1 th Au cours des dix dernières années, le taux de chômage en France a montré une tendance à la baisse. Après avoir atteint un pic en 2015, il a progressivement diminué, bien que la crise sanitaire de 2020 ait causé une augmentation temporaire. En 2023, le taux de chômage était de 7,8 %.\n",
      "Doc 2 th Entre 2014 et 2023, le taux de chômage en France a varié considérablement. Après avoir atteint un sommet de 10,5 % en 2015, il a progressivement diminué, atteignant un minimum de 7,8 % en 2023. La pandémie de COVID-19 a temporairement perturbé cette tendance, augmentant le taux de chômage en 2020 et 2021.\n",
      "Doc 3 th L'évolution du taux de chômage en France de 2014 à 2023 révèle une baisse progressive après un pic en 2015. Bien que la pandémie ait provoqué une hausse temporaire, le taux de chômage a repris sa tendance à la baisse pour atteindre 7,8 % en 2023, selon l'INSEE.\n",
      "Doc 4 th Selon les données de l'INSEE, le taux de chômage en France a fluctué entre 10 % et 7,8 % au cours des dix dernières années. Après une hausse notable en 2015, des mesures gouvernementales ont contribué à une baisse progressive. Cependant, la pandémie de COVID-19 en 2020 a inversé cette tendance temporairement avant de redescendre en 2023.\n",
      "------------------------\n",
      "Doc 0 th Le taux de chômage en France a connu des variations significatives au cours des dix dernières années. En 2014, le taux de chômage s'élevait à environ 10 %. Après un pic en 2015 à près de 10,5 %, il a progressivement diminué pour atteindre 8 % en 2019. La crise sanitaire de 2020 a provoqué une hausse temporaire du chômage, mais les réformes économiques ont permis de ramener le taux à 7,8 % en 2023.\n",
      "Doc 1 th Entre 2014 et 2023, le taux de chômage en France a varié considérablement. Après avoir atteint un sommet de 10,5 % en 2015, il a progressivement diminué, atteignant un minimum de 7,8 % en 2023. La pandémie de COVID-19 a temporairement perturbé cette tendance, augmentant le taux de chômage en 2020 et 2021.\n",
      "Doc 2 th L'évolution du taux de chômage en France de 2014 à 2023 révèle une baisse progressive après un pic en 2015. Bien que la pandémie ait provoqué une hausse temporaire, le taux de chômage a repris sa tendance à la baisse pour atteindre 7,8 % en 2023, selon l'INSEE.\n",
      "Doc 3 th Au cours des dix dernières années, le taux de chômage en France a montré une tendance à la baisse. Après avoir atteint un pic en 2015, il a progressivement diminué, bien que la crise sanitaire de 2020 ait causé une augmentation temporaire. En 2023, le taux de chômage était de 7,8 %.\n",
      "Doc 4 th Selon les données de l'INSEE, le taux de chômage en France a fluctué entre 10 % et 7,8 % au cours des dix dernières années. Après une hausse notable en 2015, des mesures gouvernementales ont contribué à une baisse progressive. Cependant, la pandémie de COVID-19 en 2020 a inversé cette tendance temporairement avant de redescendre en 2023.\n"
     ]
    }
   ],
   "source": [
    "question = \"Comment le taux de chômage en France a-t-il évolué au cours des dix dernières années ?\"\n",
    "\n",
    "documents = [\n",
    "    \"Le taux de chômage en France a connu des variations significatives au cours des dix dernières années. En 2014, le taux de chômage s'élevait à environ 10 %. Après un pic en 2015 à près de 10,5 %, il a progressivement diminué pour atteindre 8 % en 2019. La crise sanitaire de 2020 a provoqué une hausse temporaire du chômage, mais les réformes économiques ont permis de ramener le taux à 7,8 % en 2023.\",\n",
    "    \"Selon les données de l'INSEE, le taux de chômage en France a fluctué entre 10 % et 7,8 % au cours des dix dernières années. Après une hausse notable en 2015, des mesures gouvernementales ont contribué à une baisse progressive. Cependant, la pandémie de COVID-19 en 2020 a inversé cette tendance temporairement avant de redescendre en 2023.\",\n",
    "    \"Entre 2014 et 2023, le taux de chômage en France a varié considérablement. Après avoir atteint un sommet de 10,5 % en 2015, il a progressivement diminué, atteignant un minimum de 7,8 % en 2023. La pandémie de COVID-19 a temporairement perturbé cette tendance, augmentant le taux de chômage en 2020 et 2021.\",\n",
    "    \"Au cours des dix dernières années, le taux de chômage en France a montré une tendance à la baisse. Après avoir atteint un pic en 2015, il a progressivement diminué, bien que la crise sanitaire de 2020 ait causé une augmentation temporaire. En 2023, le taux de chômage était de 7,8 %.\",\n",
    "    \"L'évolution du taux de chômage en France de 2014 à 2023 révèle une baisse progressive après un pic en 2015. Bien que la pandémie ait provoqué une hausse temporaire, le taux de chômage a repris sa tendance à la baisse pour atteindre 7,8 % en 2023, selon l'INSEE.\",\n",
    "    \"La cuisine française est mondialement reconnue pour sa diversité et son raffinement. Des plats emblématiques comme le coq au vin, la bouillabaisse et le bœuf bourguignon illustrent la richesse gastronomique du pays. Les vins et fromages français sont également très appréciés à l'international.\",\n",
    "    \"Le système éducatif français est structuré en plusieurs niveaux, allant de l'école maternelle à l'université. L'éducation est obligatoire de 3 à 16 ans. Les élèves passent des examens nationaux comme le brevet des collèges et le baccalauréat, qui sont des étapes clés dans leur parcours scolaire.\",\n",
    "    \"La France est l'un des leaders mondiaux dans la production d'énergie nucléaire. Environ 70 % de l'électricité du pays provient de centrales nucléaires. Cette dépendance permet à la France d'avoir une empreinte carbone relativement faible par rapport à d'autres pays européens.\",\n",
    "    \"Le football est le sport le plus populaire en France, avec des millions de licenciés et de nombreux clubs répartis sur tout le territoire. L'équipe nationale, les Bleus, a remporté la Coupe du Monde de la FIFA en 1998 et 2018, ce qui a renforcé l'engouement pour ce sport parmi les Français.\",\n",
    "    \"La France est riche en patrimoine culturel, avec des monuments emblématiques tels que la Tour Eiffel, le Mont Saint-Michel et le Château de Versailles. Le pays abrite également de nombreux musées de renommée mondiale, dont le Louvre et le Musée d'Orsay, qui attirent des millions de visiteurs chaque année.\"\n",
    "]\n",
    "\n",
    "dict_doc_rank = {doc : r for r, doc in enumerate(documents)}\n",
    "\n",
    "for ass_func in [RG_YN, RG_S, RG_3L, RG_4L]:\n",
    "    print(\"------------------------\")\n",
    "    reranked_documents = llm_reranking(\n",
    "        query=question, \n",
    "        retrieved_documents=documents, \n",
    "        assessing_method=ass_func, \n",
    "        aggregating_method=expected_relevance_values\n",
    "        )\n",
    "    for i in range(5):\n",
    "        print(f\"Doc {i} th\", reranked_documents[i])\n",
    "        "
   ]
  },
  {
   "cell_type": "markdown",
   "metadata": {},
   "source": [
    "#### Experiment LLM reranker "
   ]
  }
 ],
 "metadata": {
  "kernelspec": {
   "display_name": "base",
   "language": "python",
   "name": "python3"
  },
  "language_info": {
   "codemirror_mode": {
    "name": "ipython",
    "version": 3
   },
   "file_extension": ".py",
   "mimetype": "text/x-python",
   "name": "python",
   "nbconvert_exporter": "python",
   "pygments_lexer": "ipython3",
   "version": "3.12.4"
  }
 },
 "nbformat": 4,
 "nbformat_minor": 2
}
