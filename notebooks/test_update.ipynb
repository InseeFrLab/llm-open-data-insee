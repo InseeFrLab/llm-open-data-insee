{
 "cells": [
  {
   "cell_type": "markdown",
   "metadata": {},
   "source": [
    "## Generate a Complete Database "
   ]
  },
  {
   "cell_type": "markdown",
   "metadata": {},
   "source": [
    "- date : 24/05/2024\n",
    "- New features : generate a complete database using \"OrdalieTech/Solon-embeddings-large-0.1\" embedding model (config file have been improved)\n",
    "- Expected improvement : improving the retrieval capabilities with a much strong embedding model."
   ]
  },
  {
   "cell_type": "code",
   "execution_count": 1,
   "metadata": {},
   "outputs": [],
   "source": [
    "import sys\n",
    "import os\n",
    "import pandas as pd\n",
    "\n",
    "sys.path.append(os.path.abspath(os.path.join(os.path.dirname(os.path.abspath('')), '..', 'llm-open-data-insee/src')))"
   ]
  },
  {
   "cell_type": "code",
   "execution_count": 3,
   "metadata": {},
   "outputs": [
    {
     "name": "stderr",
     "output_type": "stream",
     "text": [
      "2024-05-24 07:31:45,162 - INFO - The database will be stored in data/chroma_database/chroma_db/\n",
      "2024-05-24 07:31:45,164 - INFO - The path '/home/onyxia/work/llm-open-data-insee/data_complete.csv' exists.\n",
      "2024-05-24 07:31:45,165 - INFO - Start building the database\n",
      "2024-05-24 07:32:07,218 - INFO - Extracting paragraphs and metadata\n",
      "43226it [00:59, 722.25it/s] \n",
      "2024-05-24 07:33:07,247 - INFO - Remove NaN values by empty strings\n",
      "2024-05-24 07:33:07,282 - INFO - Building the list of Document objects\n"
     ]
    },
    {
     "name": "stdout",
     "output_type": "stream",
     "text": [
      "chunck size :  512\n",
      "chunck overlap size :  51\n"
     ]
    },
    {
     "name": "stderr",
     "output_type": "stream",
     "text": [
      "Token indices sequence length is longer than the specified maximum sequence length for this model (525 > 512). Running this sequence through the model will result in indexing errors\n",
      "2024-05-24 07:36:27,580 - INFO - Number of created chuncks : 95249 in the Vector Database\n",
      "2024-05-24 07:36:27,827 - INFO - Storing the Document objects\n",
      "2024-05-24 07:36:28,374 - INFO - Load pretrained SentenceTransformer: OrdalieTech/Solon-embeddings-large-0.1\n",
      "/opt/mamba/lib/python3.12/site-packages/huggingface_hub/file_download.py:1132: FutureWarning: `resume_download` is deprecated and will be removed in version 1.0.0. Downloads always resume when possible. If you want to force a new download, use `force_download=True`.\n",
      "  warnings.warn(\n",
      "2024-05-24 07:36:33,165 - INFO - Anonymized telemetry enabled. See                     https://docs.trychroma.com/telemetry for more information.\n",
      "2024-05-24 07:59:08,755 - INFO - The database has been built\n",
      "/opt/mamba/lib/python3.12/site-packages/langchain_core/_api/deprecation.py:119: LangChainDeprecationWarning: Since Chroma 0.4.x the manual persistence method is no longer supported as docs are automatically persisted.\n",
      "  warn_deprecated(\n"
     ]
    }
   ],
   "source": [
    "from db_building import  build_database_from_csv\n",
    "db = build_database_from_csv('/home/onyxia/work/llm-open-data-insee/data_complete.csv')"
   ]
  },
  {
   "cell_type": "code",
   "execution_count": 5,
   "metadata": {},
   "outputs": [
    {
     "data": {
      "text/plain": [
       "[Document(page_content=\"L’essentiel sur… le chômage fournit des éléments de cadrage pour aborder ces questions, à l’aide de chiffres clés représentés de manière visuelle et d’un court commentaire. Au quatrième trimestre 2023, le nombre de chômeurs au sens du Bureau international du travail (BIT) augmente de 29000 par rapport au trimestre précédent, à 2,3millions de personnes. Le taux de chômage au sens du BIT s'établit à 7,5% de la population active en France (hors Mayotte), stable par rapport au troisième trimestre 2023 dont l’estimation est très légèrement rehaussée (+0,1 point, de 7,4 % à 7,5 %). Le taux de chômage est supérieur de 0,4 point à son niveau de fin 2022, qui était le plus bas depuis 1982 ; il demeure ainsi nettement au-dessous de son pic de mi-2015 (-3,0 points). Le taux de chômage des jeunes est nettement supérieur à celui du reste de la population. En 2023, il atteint 17,2 % en moyenne sur l'année chez les 15-24 ans, contre 6,7 % chez les 25-49 ans et 5,1 % chez les 50 ans ou plus. Le taux de chômage est calculé au sein des seuls actifs. Or, avant 25 ans, la plupart des jeunes sont encore en études et peu sont donc actifs. Rapportée à la population totale, la part des chômeurs parmi les 15-24 ans (7,3 %) se rapproche de celle mesurée parmi les 15-64 ans (5,5 %). En 2023, le taux de chômage des hommes (7,5 %) est proche de celui des femmes (7,2 %). Avant la crise économique de 2008-2009, le taux de chômage des hommes était nettement inférieur à celui des femmes. Entre 2012 et 2016 au contraire, il était devenu légèrement supérieur. Le taux de chômage est plus élevé pour les moins diplômés. En 2023, il atteint 13,3 % pour les actifs ayant au plus le brevet des collèges, contre 5,0 % pour ceux diplômés du supérieur\", metadata={'authors': '', 'categories': 'Chiffres-clés', 'collections': '', 'date_diffusion': '2024-03-18T16:00:15.302Z', 'insee_id': 4805248, 'intertitres': \"1. Combien y a-t-il de chômeurs en France\\xa0? Taux de chômage au sens du BIT Taux de chômage au sens du BIT 2. Qui est le plus touché par le chômage\\xa0? Taux de chômage par âge en\\xa02023 Taux de chômage par âge en 2023 Taux de chômage par sexe Taux de chômage par sexe Taux de chômage par niveau de diplôme en 2023 Taux de chômage par niveau de diplôme en 2023 3. Comment a évolué le chômage depuis 1975\\xa0? Nombre de chômeurs Nombre de chômeurs Taux de chômage Taux de chômage 4. Combien de temps passe-t-on au chômage\\xa0? Répartition des chômeurs selon l'ancienneté au chômage en 2023 Répartition des chômeurs selon l'ancienneté au chômage en 2023 Nombre de chômeurs au sens du BIT et d’inscrits à France Travail en catégorie A Taux de chômage dans l'Union européenne Situation vis à vis du marché du travail des personnes de 15 ans ou plus en 2023 Taux de chômage suivant la durée depuis la fin des études en 2023 Taux de chômage par département en moyenne annuelle en 2022 Situation précédant l'entrée au chômage des chômeurs en 2023 1. Comment est défini le chômage au sens du BIT\\xa0? 2. Quelle source l’Insee utilise pour calculer le chômage\\xa0au niveau national ? 3. Quels indicateurs sont utilisés\\xa0? 4. Quelles sont les limites de la mesure du chômage ? 5. Comment l’Insee mesure le taux de chômage localisé\\xa0? Quelles statistiques pour le chômage ?\", 'libelleAffichageGeo': 'International', 'source': 'https://www.insee.fr/fr/statistiques/4805248', 'subtitle': '', 'themes': 'Chômage', 'title': \"L'essentiel sur... le chômage\"}),\n",
       " Document(page_content='Au troisième trimestre 2023, le nombre de chômeurs au sens du Bureau international du travail (BIT) augmente de 64000 par rapport au trimestre précédent, à 2,3millions de personnes. Le taux de chômage augmente ainsi de 0,2point, à 7,4% de la population active en France (hors Mayotte). Il augmente de 0,2point sur un an et retrouve son niveau du deuxième trimestre 2022, mais reste nettement au-dessous de son pic de mi‑2015 (-3,1 points).  Au troisième trimestre 2023, le nombre de chômeurs au sens du Bureau international du travail (BIT) augmente de 64000 par rapport au trimestre précédent, à 2,3millions de personnes. Le taux de chômage augmente ainsi de 0,2point, à 7,4% de la population active en France (hors Mayotte). Il augmente de 0,2point sur un an et retrouve son niveau du deuxième trimestre 2022, mais reste nettement au-dessous de son pic de mi‑2015 (-3,1 points).  Sur le trimestre, le taux de chômage augmente de 0,7point pour les 15-24ans, à 17,6%, presque à son niveau d’un an auparavant (-0,1 point). Pour les 25-49ans, il augmente de 0,2point sur le trimestre et de 0,3point sur un an, à 6,7%. Enfin, pour les 50 ans ou plus, le taux de chômage est stable sur le trimestre et sur un an, à 5,1%. Sur le trimestre, le taux de chômage des femmes augmente de 0,3 point, à 7,4%, et rejoint le taux de chômage des hommes, qui est quasi stable sur le trimestre (+0,1 point). Parmi les personnes inactives au sens du BIT, 2,0millions souhaitent un emploi sans être considérées au chômage parce qu’elles ne recherchent pas d’emploi ou ne sont pas disponibles: elles constituent le halo autour du chômage. Ce nombre augmente légèrement sur le trimestre (+39000) et nettement sur un an (+164000)', metadata={'authors': '', 'categories': 'Publications grand public', 'collections': 'Informations rapides', 'date_diffusion': '2023-11-15T06:30:00Z', 'insee_id': 7713975, 'intertitres': \"Le taux de chômage augmente de 0,2 point au troisième trimestre 2023, à 7,4\\xa0% Taux de chômage au sens du BIT Taux de chômage au sens du BIT Taux de chômage BIT Le halo autour du chômage augmente légèrement sur le trimestre Personnes dans le halo autour du chômage Personnes dans le halo autour du chômage Le taux de chômage de longue durée est stable Le taux d’emploi des 15-64 ans se replie légèrement Taux d'emploi par âge Taux d'emploi par âge La part du temps partiel dans l’emploi augmente très légèrement Le sous-emploi diminue à peine sur le trimestre Du chômage à la contrainte sur l’offre de travail\\xa0: parts parmi les participants (emploi, chômage, halo) au marché du travail Du chômage à la contrainte sur l’offre de travail\\xa0: parts parmi les participants (emploi, chômage, halo) au marché du travail Nombre moyen d’heures travaillées par semaine et par emploi Nombre moyen d’heures travaillées par semaine et par emploi Le taux d’emploi en CDI est quasi stable sur le trimestre, celui en contrat à durée limitée diminue Taux d'emploi BIT dans la population des 15-64 ans Le taux d’activité se replie très légèrement sur le trimestre Taux d'activité BIT dans la population des 15-64 ans La part des jeunes ni en emploi ni en formation est quasi stable Part des jeunes de 15 à 29 ans qui ne sont ni en emploi ni en formation (NEET) Part des jeunes de 15 à 29 ans qui ne sont ni en emploi ni en formation (NEET) Révisions et prochaine estimation Pour en savoir plus\", 'libelleAffichageGeo': 'France', 'source': 'https://www.insee.fr/fr/statistiques/7713975', 'subtitle': \"Chômage au sens du BIT et indicateurs sur le marché du travail (résultats de l'enquête Emploi) - troisième trimestre 2023\", 'themes': 'Emploi – Population active/Chômage/Conjoncture', 'title': 'Au troisième trimestre 2023, le taux de chômage augmente de 0,2 point'}),\n",
       " Document(page_content='En 2023, la rétropolation des séries de taux de chômage par catégorie socioprofessionnelle a été revue, conduisant à de légers écarts par rapport aux séries publiées dans l’édition précédente de cet ouvrage  En moyenne en 2022, la France hors Mayotte compte 2,2millions de chômeurs au sens du Bureau international du travail (BIT) (figure1). Le taux de chômage s’établit à 7,3% de la population active, soit une baisse de 0,6point par rapport à 2021. Il atteint son plus bas niveau depuis 1982 (7,1%) et se situe 3,0points au-dessous de son niveau de 2015 (10,3%). Cette nette diminution fait suite à plusieurs années de baisse: -0,5point en moyenne par an entre 2016 et 2019, puis un recul en trompe-l’œil en 2020 (-0,4 point), en raison notamment des démarches de recherche d’emploi limitées pendant le premier confinement, et une légère diminution en 2021 (-0,2point). Depuis une dizaine d’années, le taux de chômage des hommes est proche de celui des femmes, alors qu’il était historiquement inférieur. Par ailleurs, en 2022, le taux de chômage recule de nouveau pour les jeunes: -1,6point sur un an pour les 15-24ans, pour s’établir à 17,3%, son plus bas niveau depuis 2001. Il reste plus de deux fois plus élevé que pour la moyenne des actifs. Cependant, peu de jeunes sont comptabilisés comme actifs. Aussi, rapporté à l’ensemble de la population, actifs et inactifs confondus, l’écart avec leurs aînés est plus réduit: la part de chômage est de 7,3% pour les 15‑24ans, contre 5,4% pour les 15-64ans. En 2022, le taux de chômage est plus faible pour les cadres (3,4%) et les professions intermédiaires (4,6%). En revanche, il est plus élevé pour les employés (8,8%) et les ouvriers (10,6%), en particulier lorsque ces derniers sont peu qualifiés (15,3%)', metadata={'authors': '', 'categories': 'Publications grand public', 'collections': 'France, portrait social', 'date_diffusion': '2023-11-23T16:00:00Z', 'insee_id': 7666849, 'intertitres': 'Figure 1 - Chômage au sens du BIT selon les caractéristiques des personnes Figure 2 - Part de chômage au sens du BIT, part de halo autour du chômage et taux de chômage Figure 2 - Part de chômage au sens du BIT, part de halo autour du chômage et taux de chômage Figure 3 - Taux de chômage de longue durée selon l’âge', 'libelleAffichageGeo': 'France', 'source': 'https://www.insee.fr/fr/statistiques/7666849', 'subtitle': '', 'themes': 'Chômage', 'title': 'Chômage'}),\n",
       " Document(page_content='. En moyenne en 2023, 7,3% des personnes actives sont au chômage au sens du BIT(figure 5). Le taux de chômage est stable en moyenne sur l’année, après avoir diminué de manière continue durant septans. Il reste ainsi à son plus bas niveau depuis 1982 (7,1%), 3,0points sous son niveau de 2015. Cette moyenne annuelle masque des profils différents au cours des années 2022 et 2023: en 2022, le taux de chômage a baissé tout au long de l’année pour atteindre 7,1% en fin d’année, alors qu’en 2023, il a au contraire augmenté pour s’établir à 7,5% en fin d’année [Insee, 2024]. En moyenne en 2023, 4,6% des personnes âgées de 15 à 64ans appartiennent au halo autour du chômage: elles souhaitent travailler, mais ne satisfont pas tous les critères en matière de recherche d’emploi ou de disponibilité pour être considérées comme chômeuses au sens du BIT(figure6). Cette part, qui avait nettement augmenté en 2020 sous l’effet de la crise sanitaire (+0,8point) pour ensuite reculer en 2021 (-0,7point) et 2022 (-0,2point), se redresse légèrement en 2023 (+0,2point), si bien qu’elle retrouve presque son niveau de 2019 (+0,1point).  En hausse de 0,8point par rapport à 2022, la part de jeunes relevant du halo reste supérieure à son niveau d’avant-crise: 7,1% des 15-24ans sont dans le halo autour du chômage en 2023, soit 1,3point de plus qu’en 2019. Les femmes relèvent plus souvent que les hommes du halo (5,0% contre 4,2%), alors qu’elles sont moins souvent qu’eux au chômage (part de 5,2% contre 5,8%)', metadata={'authors': '', 'categories': 'Publications grand public', 'collections': 'Insee Première', 'date_diffusion': '2024-03-13T16:00:00Z', 'insee_id': 7936590, 'intertitres': \"En 2023, le taux d’emploi augmente de 0,3 point et atteint son plus haut niveau depuis 1975 Figure 1 - Taux d’emploi par âge depuis 1975 Figure 1 - Taux d’emploi par âge depuis 1975 L’emploi des jeunes ralentit nettement Figure 2 - Taux d'emploi et taux d'activité des 15-64 ans en 2023 et évolution par rapport à 2022 La part des indépendants et celle des emplois à durée limitée se replient Figure 3 - Statut d'emploi, type de contrat et catégorie socioprofessionnelle en 2023 Les emplois occupés sont de plus en plus qualifiés Près d’un cinquième des salariés recourent au télétravail Après cinq années de repli, la part du temps partiel se stabilise Figure 4 - Temps partiel et sous-emploi en 2023 Le sous-emploi recule de nouveau Le chômage se stabilise à 7,3\\xa0% après sept années de baisse Figure 5 - Taux de chômage et taux de chômage de longue durée depuis 1975 Figure 5 - Taux de chômage et taux de chômage de longue durée depuis 1975 Le halo autour du chômage augmente de 0,2\\xa0point sur l’année Figure 6 - Chômage et halo autour du chômage en 2023 et évolution par rapport à 2022 Le taux d’activité est au plus haut depuis 1975 Encadré – Des situations sur le marché du travail très hétérogènes parmi les 50-69\\xa0ans Figure Encadré - Situation sur le marché du travail par âge entre 50 et 69 ans en 2023\", 'libelleAffichageGeo': 'France', 'source': 'https://www.insee.fr/fr/statistiques/7936590', 'subtitle': \"L'emploi augmente modérément, le chômage se stabilise après sept années de baisse\", 'themes': 'Emploi – Population active/Chômage', 'title': 'Une photographie du marché du travail en 2023'})]"
      ]
     },
     "execution_count": 5,
     "metadata": {},
     "output_type": "execute_result"
    }
   ],
   "source": [
    "db.similarity_search(\"Quels sont les chiffres du chômages en 2023\")"
   ]
  },
  {
   "cell_type": "code",
   "execution_count": null,
   "metadata": {},
   "outputs": [],
   "source": []
  }
 ],
 "metadata": {
  "kernelspec": {
   "display_name": "base",
   "language": "python",
   "name": "python3"
  },
  "language_info": {
   "codemirror_mode": {
    "name": "ipython",
    "version": 3
   },
   "file_extension": ".py",
   "mimetype": "text/x-python",
   "name": "python",
   "nbconvert_exporter": "python",
   "pygments_lexer": "ipython3",
   "version": "3.12.2"
  }
 },
 "nbformat": 4,
 "nbformat_minor": 2
}
