{
 "cells": [
  {
   "cell_type": "markdown",
   "metadata": {},
   "source": [
    "# Complete RAG with answer storage"
   ]
  },
  {
   "cell_type": "code",
   "execution_count": 1,
   "metadata": {},
   "outputs": [
    {
     "name": "stderr",
     "output_type": "stream",
     "text": [
      "/opt/mamba/lib/python3.11/site-packages/transformers/utils/generic.py:441: UserWarning: torch.utils._pytree._register_pytree_node is deprecated. Please use torch.utils._pytree.register_pytree_node instead.\n",
      "  _torch_pytree._register_pytree_node(\n",
      "/opt/mamba/lib/python3.11/site-packages/transformers/utils/generic.py:309: UserWarning: torch.utils._pytree._register_pytree_node is deprecated. Please use torch.utils._pytree.register_pytree_node instead.\n",
      "  _torch_pytree._register_pytree_node(\n",
      "/opt/mamba/lib/python3.11/site-packages/transformers/utils/generic.py:309: UserWarning: torch.utils._pytree._register_pytree_node is deprecated. Please use torch.utils._pytree.register_pytree_node instead.\n",
      "  _torch_pytree._register_pytree_node(\n"
     ]
    }
   ],
   "source": [
    "from langchain_community.embeddings import HuggingFaceEmbeddings\n",
    "from langchain.chains import LLMChain\n",
    "from langchain_core.prompts import PromptTemplate\n",
    "from langchain_core.runnables import RunnablePassthrough, RunnableParallel, RunnableLambda\n",
    "from langchain_community.embeddings.sentence_transformer import (\n",
    "    SentenceTransformerEmbeddings,\n",
    ")\n",
    "from langchain.vectorstores import Chroma\n",
    "from transformers import AutoModelForCausalLM, AutoTokenizer, pipeline\n",
    "from langchain_community.llms.huggingface_pipeline import HuggingFacePipeline\n",
    "from langchain_core.output_parsers import StrOutputParser\n",
    "from transformers import AutoConfig, AutoTokenizer, AutoModelForCausalLM, BitsAndBytesConfig, TextStreamer\n",
    "import torch\n",
    "\n",
    "#vector database\n",
    "DB_DIR = 'llm-open-data-insee/src/data/chroma_db'\n",
    "#embedding model \n",
    "EMB_DEVICE = \"cuda\"\n",
    "\n",
    "EMB_MODEL_NAME = \"sentence-transformers/all-MiniLM-L6-v2\"\n",
    "\n",
    "#LLM\n",
    "MODEL_DEVICE = {\"\": 0}\n",
    "#MODEL_NAME = \"tiiuae/falcon-7b\"  #use flash attention (faster Attention computation) and Quantization (smaller model memory usage)\n",
    "\n",
    "MODEL_NAME = \"mistralai/Mistral-7B-Instruct-v0.2\"\n",
    "#MODEL_NAME = \"EleutherAI/gpt-neo-1.3B\"\n",
    "\n",
    "def build_llm_model():\n",
    "    \"\"\"\n",
    "    Create the llm model\n",
    "    \"\"\"\n",
    "    torch.cuda.empty_cache()\n",
    "\n",
    "    #load LLM config \n",
    "    config = AutoConfig.from_pretrained(MODEL_NAME, trust_remote_code=True)\n",
    "    #config.max_position_embeddings = 8096\n",
    "    #load quantization config \n",
    "    quantization_config = BitsAndBytesConfig(\n",
    "            load_in_4bit=True,\n",
    "            bnb_4bit_quant_type=\"nf4\",\n",
    "            bnb_4bit_compute_dtype=\"float16\",\n",
    "            bnb_4bit_use_double_quant=False,\n",
    "        )\n",
    "    #load llm tokenizer \n",
    "    tokenizer = AutoTokenizer.from_pretrained(MODEL_NAME, use_fast=True, device_map='auto') \n",
    "\n",
    "    # Check if tokenizer has a pad_token; if not, set it to eos_token\n",
    "    if tokenizer.pad_token is None:\n",
    "        tokenizer.pad_token = tokenizer.eos_token\n",
    "\n",
    "    #load llm \n",
    "    model = AutoModelForCausalLM.from_pretrained(\n",
    "            MODEL_NAME,\n",
    "            config=config,\n",
    "            quantization_config=quantization_config\n",
    "        )\n",
    "    #Create a pipeline with  tokenizer and model  \n",
    "    pipeline_HF = pipeline(task=\"text-generation\", # TextGenerationPipeline HF pipeline\n",
    "                model=model, \n",
    "                tokenizer=tokenizer,\n",
    "                max_new_tokens=2000,\n",
    "                temperature=0.2, \n",
    "                return_full_text=False, \n",
    "                device_map=\"auto\",\n",
    "                do_sample=True,\n",
    "            )\n",
    "    # Create a LangChain Runnable pipeline \n",
    "\n",
    "    langchain_llm = HuggingFacePipeline(pipeline=pipeline_HF)\n",
    "\n",
    "    return langchain_llm\n",
    "\n",
    "def format_docs(docs) -> str:\n",
    "    \"\"\"\n",
    "    Format the retrieved document before giving their content to complete the prompt \n",
    "    \"\"\"\n",
    "    return \"\\n\\n\".join(doc.page_content for doc in docs) \n",
    "\n",
    "\n",
    "def build_chain(hf_embeddings, vectorstore, retriever, prompt, llm):\n",
    "    \"\"\" \n",
    "    Build a LLM chain based on Langchain package and INSEE data \n",
    "    \"\"\"\n",
    "    #Create a Langchain LLM Chain \n",
    "    rag_chain_from_docs = (\n",
    "        RunnablePassthrough.assign(context=(lambda x: format_docs(x[\"context\"])))\n",
    "        | prompt\n",
    "        | llm \n",
    "        | StrOutputParser()\n",
    "    )\n",
    "    #Create a Langchain LLM Chain which return sources and store them into a log file\n",
    "    rag_chain_with_source = RunnableParallel(\n",
    "        {\"context\": retriever, \"question\": RunnablePassthrough()}\n",
    "    ).assign(answer=rag_chain_from_docs) | RunnableLambda(log_interaction)\n",
    "\n",
    "    return rag_chain_with_source #rag_chain_from_docs\n"
   ]
  },
  {
   "cell_type": "code",
   "execution_count": 2,
   "metadata": {},
   "outputs": [
    {
     "data": {
      "application/vnd.jupyter.widget-view+json": {
       "model_id": "f21a472f50a34b4d9232e89954df995e",
       "version_major": 2,
       "version_minor": 0
      },
      "text/plain": [
       "Loading checkpoint shards:   0%|          | 0/3 [00:00<?, ?it/s]"
      ]
     },
     "metadata": {},
     "output_type": "display_data"
    }
   ],
   "source": [
    "#create prompt for chat template \n",
    "RAG_PROMPT_TEMPLATE = \"\"\"\n",
    "<s>[INST] \n",
    "Tu es un assistant spécialisé dans la statistique publique répondant aux questions d'agent de l'INSEE. \n",
    "Réponds en Français seulement.\n",
    "Utilise les informations obtenues dans le contexte, réponds de manière argumentée à la question posée.\n",
    "La réponse doit être développée et citer ses sources.\n",
    "\n",
    "Si tu ne peux pas induire ta réponse du contexte, ne réponds pas. \n",
    "Voici le contexte sur lequel tu dois baser ta réponse : \n",
    "Contexte: {context}\n",
    "        ---\n",
    "Voici la question à laquelle tu dois répondre : \n",
    "Question: {question}\n",
    "[/INST]\n",
    "\"\"\"\n",
    "    \n",
    "#load Embedding model \n",
    "hf_embeddings = HuggingFaceEmbeddings(model_name=EMB_MODEL_NAME, model_kwargs={\"device\": EMB_DEVICE})\n",
    "#load vector database\n",
    "vectorstore = Chroma(collection_name=\"insee_data\", embedding_function=hf_embeddings, persist_directory=str(DB_DIR))\n",
    "#set up a retriever \n",
    "retriever = vectorstore.as_retriever(search_type=\"mmr\", search_kwargs = {\"score_threshold\" : 0.5, \"k\":10})\n",
    "#generate prompt template\n",
    "prompt = PromptTemplate(input_variables=[\"context\", \"question\"], template=RAG_PROMPT_TEMPLATE)\n",
    "\n",
    "#create a pipeline with tokenizer and LLM\n",
    "llm = build_llm_model()"
   ]
  },
  {
   "cell_type": "markdown",
   "metadata": {},
   "source": [
    "### Save RAG outputs"
   ]
  },
  {
   "cell_type": "code",
   "execution_count": 3,
   "metadata": {},
   "outputs": [],
   "source": [
    "from langchain_core.output_parsers import StrOutputParser\n",
    "from langchain_core.runnables import RunnableConfig, RunnableParallel\n",
    "import json \n",
    "from typing import List\n",
    "from langchain.docstore.document import Document\n",
    "import datetime\n",
    "import os\n",
    "\n",
    "def save_logs(user_query : str = None, retrieved_documents : List[Document] = None, prompt_template : str = None, generated_answer : str = None, embedding_model_name : str = None, LLM_name : str = None, filename=\"./logs/conversation_logs.json\"):\n",
    "   \"\"\"\n",
    "   Save details of a RAG conversation to a json file.\n",
    "\n",
    "   Args:\n",
    "   user_query (str): The user's input query.\n",
    "   retrieved_documents (list[Document]): List of documents retrieved based on the user query.\n",
    "   prompt_template (str): The template used to generate the prompt for the language model.\n",
    "   generated_answer (str): The answer generated by the language model.\n",
    "   RAG_pipeline : (HF pipeline)\n",
    "   filename (str): The filename where the log will be saved.\n",
    "\n",
    "   Returns:\n",
    "   None\n",
    "   \"\"\"\n",
    "   # Ensure the path for the log file exists\n",
    "   if not os.path.exists(os.path.dirname(filename)):\n",
    "      os.makedirs(os.path.dirname(filename))\n",
    "   \n",
    "   retrieved_documents_text = [d.page_content for d in retrieved_documents]\n",
    "   retrieved_documents_metadata = [d.metadata for d in retrieved_documents]\n",
    "\n",
    "   # Prepare the content to be logged as a dictionary\n",
    "   log_entry = {\n",
    "      \"user_query\": user_query,\n",
    "      \"retrieved_docs_text\": retrieved_documents_text,\n",
    "      \"prompt\": prompt_template,\n",
    "      \"generated_answer\": generated_answer,\n",
    "      \"embedding_model\": embedding_model_name,\n",
    "      \"llm\": LLM_name,\n",
    "      \"retrieved_doc_metadata\": retrieved_documents_metadata, \n",
    "      \"timestamp\": datetime.datetime.now().isoformat()\n",
    "   }\n",
    "\n",
    "   # Open the file in append mode and write the dictionary as a JSON object\n",
    "   with open(filename, \"a\", encoding=\"utf-8\") as file:\n",
    "        json.dump(log_entry, file, ensure_ascii=False, indent=4)\n",
    "        file.write(\"\\n\")\n",
    "\n",
    "\n",
    "def log_interaction(result):\n",
    "   \"\"\" \n",
    "   Logs interaction details into a JSON file and returns the original result.\n",
    "   \"\"\"\n",
    "   log_file_path = \"llm-open-data-insee/src/logs/conversation_logs.json\"\n",
    "\n",
    "   # Extracting necessary details from the result\n",
    "   user_query = result[\"question\"]\n",
    "   generated_answer = result[\"answer\"]\n",
    "   retrieved_documents = result[\"context\"]\n",
    "   prompt_template = prompt.template  # Ensure 'prompt' is accessible here\n",
    "   embedding_model_name = EMB_MODEL_NAME\n",
    "   LLM_name = MODEL_NAME\n",
    "\n",
    "   # Call to save the logs\n",
    "   print(f\"saving outputs in {log_file_path}\")\n",
    "   save_logs(user_query, retrieved_documents, prompt_template, generated_answer, \n",
    "            embedding_model_name, LLM_name, filename=log_file_path)\n",
    "\n",
    "   return result"
   ]
  },
  {
   "cell_type": "code",
   "execution_count": 4,
   "metadata": {},
   "outputs": [],
   "source": [
    "llm_chain = build_chain(hf_embeddings, vectorstore, retriever, prompt, llm)"
   ]
  },
  {
   "cell_type": "code",
   "execution_count": 5,
   "metadata": {},
   "outputs": [
    {
     "name": "stderr",
     "output_type": "stream",
     "text": [
      "Setting `pad_token_id` to `eos_token_id`:2 for open-end generation.\n"
     ]
    },
    {
     "name": "stdout",
     "output_type": "stream",
     "text": [
      "saving outputs in llm-open-data-insee/src/logs/conversation_logs.json\n"
     ]
    },
    {
     "data": {
      "text/plain": [
       "{'context': [Document(page_content='. «Fréquentation touristique dans les hôtels, campings et autres hébergements collectifs touristiques en France métropolitaine- Troisième trimestre 2016», Insee Conjoncture, Informations Rapides n°299, novembre 2016.', metadata={'insee_id': 2502407, 'source': 'https://www.insee.fr/fr/statistiques/2502407', 'start_index': 6527, 'title': \"Fréquentation touristique de l'été 2016 : Les deux tiers du repli national imputables à l’Ile-de-France\"}),\n",
       "  Document(page_content='. La France est ainsi la première destination touristique parmi les pays de l’Union européenne. De ce fait, le tourisme revêt un enjeu économique particulièrement important en France. D’affaire ou d’agrément, il contribue à l’activité de nombreux secteurs: hébergement, restauration, culture, loisirs, transport, commerce... L’Insee a mis au point une méthode permettant d’estimer la partie de l’emploi sur un territoire dédiée aux touristes présents. Cette estimation est complétée par des emplois non liés à la présence de touristes sur leur lieu de séjour, notamment les transports et les agences de voyage.  En 2011, le tourisme a généré 1310000emplois en France métropolitaine (encadré et figure 1)', metadata={'insee_id': 1283777, 'source': 'https://www.insee.fr/fr/statistiques/1283777', 'start_index': 1213, 'title': 'Un million d’emplois liés à la présence de touristes'}),\n",
       "  Document(page_content=\".). L’hébergement non marchand caractérise les nuitées passées en résidence secondaire, dans la famille ou chez des amis. «Activité touristique: impact de la crise sanitaire Covid-19 et suivi de la reprise d'activité», Chiffresdétaillés, Insee, octobre2020. «Éclairage sur le tourisme», Point de conjoncture, Insee,octobre 2020. Gidrol J.-C., Girard P., «En juin 2020, 73% de nuitées en moins dans les hôtels qu’en 2019 en France métropolitaine», InseeFocus n°201, août2020. Canonéro B., Girard P., Millet N\", metadata={'insee_id': 4985641, 'source': 'https://www.insee.fr/fr/statistiques/4985641', 'start_index': 10940, 'title': 'La fréquentation touristique se dégrade en septembre, après avoir repris quelques couleurs en juillet-août'}),\n",
       "  Document(page_content='. À titre d’exemple, les nuitées des non-résidents représentaient 38,7% du total en mai-juin-juillet 2019 et 39,6% aux mois de mai-juin-juillet 2018, soit 0,9point d’écart pour la France métropolitaine. Les résultats s’appuient sur trois enquêtes mensuelles réalisées par l’Insee dans le cadre d’un partenariat avec la Direction générale des entreprises (DGE) et les organismes régionaux chargés du tourisme. Elles permettent d’observer la fréquentation et la structure de la clientèle, notamment son origine géographique. - L’enquête de fréquentation dans l’hôtellerie couvre un échantillon de 12000hôtels homologués (1à 5étoiles dans le nouveau classement hôtelier) et non homologués de chaînes de la France métropolitaine et des départements d’Outre-mer', metadata={'insee_id': 4475874, 'source': 'https://www.insee.fr/fr/statistiques/4475874', 'start_index': 5660, 'title': 'Tourisme - Une fréquentation dynamique portée par les campings'}),\n",
       "  Document(page_content=\". Si le taux de chômage du département est structurellement inférieur à celui de la France métropolitaine, il a nettement progressé sous l'effet de la crise et atteint, début 2013, son plus haut niveau depuis trente ans. Les conditions de vie en Haute-Loire sont moins favorables que pour l'ensemble des Français de métropole. En effet, la pauvreté touche davantage le milieu rural, et particulièrement les personnes âgées. De plus, les habitants du département mettent, en moyenne, plus de temps pour accéder aux commerces et services.\", metadata={'insee_id': 1291990, 'source': 'https://www.insee.fr/fr/statistiques/1291990', 'start_index': 726, 'title': 'La Haute-Loire à grands traits'}),\n",
       "  Document(page_content=\". À l’exception de la Bretagne (+12,0%) et des Hauts de France (+9,0%), toutes les régions littorales connaissent un repli de leur fréquentation. La Corse reste toutefois la région métropolitaine affichant la plus forte baisse, loin derrière les autres régions méditerranéennes (-0,8% pour la région Provence-Alpes-Côte d'Azur et -1,1% pour l’Occitanie). Dans les autres hébergements collectifs de tourisme, 75% des nuitées proviennent de touristes qui résident en France métropolitaine. En 2019, leur fréquentation connaît une forte diminution (-12,9% par rapport à l’an passé)\", metadata={'insee_id': 4293989, 'source': 'https://www.insee.fr/fr/statistiques/4293989', 'start_index': 2063, 'title': 'Fort repli de la fréquentation dans les autres hébergements collectifs de tourisme (AHCT)'}),\n",
       "  Document(page_content=\". Le pôle d'emplois métropolitain exerce toujours une attraction sur les territoires voisins, générant des déplacements domicile-travail, toujours plus nombreux et plus lointains du fait du départ de ménages de la Métropole pour résider à ses franges, dans des secteurs où le foncier et l'immobilier sont probablement moins onéreux. En lien avec la dynamique démographique, la croissance de l'emploi reste particulièrement forte dans la Métropole, portée par une économie avant tout présentielle et un tourisme culturel et d'affaires développé.\", metadata={'insee_id': 2114337, 'source': 'https://www.insee.fr/fr/statistiques/2114337', 'start_index': 632, 'title': 'Montpellier Méditerranée Métropole - Diagnostic de territoire'}),\n",
       "  Document(page_content='. En 2017, les exportations de services marchands, hors tourisme, transports et activités financières, ralentissent. Elles progressent néanmoins davantage que les importations, qui sont stables. Ainsi, en 2017, l’excédent commercial s’améliore légèrement et atteint 8,2milliards d’euros. La location-bail, les services informatiques, les activités administratives et de soutien contribuent le plus à cette embellie. Sauf mention contraire, les données nationales se réfèrent à la France métropolitaine et aux cinq départements d’outre-mer (sauf mention contraire Mayotte est inclus dans les données de la France). Les données chiffrées sont parfois arrondies (selon les règles mathématiques)', metadata={'insee_id': 3676856, 'source': 'https://www.insee.fr/fr/statistiques/3676856', 'start_index': 752, 'title': 'Services marchands'}),\n",
       "  Document(page_content='. Au premier rang se trouve l’activité laitière (27% des exploitations en 2010), suivie des élevages hors-sol (23%). Un cinquième du cheptel porcin français est localisé dans le Finistère (1errang national). Le département se situe aussi dans les premières places pour la production de volaille et de lait. La culture légumière (tomates, choux-fleurs, endives, artichauts et échalotes) est également bien développée sur la côte nord du département.  Comme pour l’ensemble de la Bretagne, le tourisme occupe une place prépondérante dans l’économie du Finistère.  Le Finistère est le premier département maritime de France métropolitaine avec plus de 1200km de côtes', metadata={'insee_id': 2587408, 'source': 'https://www.insee.fr/fr/statistiques/2587408', 'start_index': 10313, 'title': 'Finistère: une activité économique étroitement liée à son environnement'}),\n",
       "  Document(page_content='En 2021, les résidents de France métropolitaine ont renoué avec les déplacements touristiques, principalement en France. Les voyages personnels sur le sol français retrouvent dès mai les niveaux observés en 2019, dernière année précédant la crise sanitaire. Ce n’est pas le cas des nuitées à l’étranger ni des nuitées professionnelles. Les voyages courts restent plébiscités, tout comme les séjours dans le sud-est et le nord-ouest de la France ainsi que dans certains pays d’Europe (Espagne et Italie en tête). En 2021, les résidents de France métropolitaine ont réalisé 961,3millions de nuitées à l’occasion de déplacements touristiques, toutes destinations confondues, que ce soit pour motif personnel ou professionnel, et en hébergement marchand ou non marchand (figure1)', metadata={'insee_id': 6539505, 'source': 'https://www.insee.fr/fr/statistiques/6539505', 'start_index': 0, 'title': 'Fort rebond des déplacements touristiques en 2021 mais les déplacements professionnels ou à l’étranger restent très en deçà de l’avant-crise'})],\n",
       " 'question': 'Quels sont les chiffres du tourisme en France métropolitaine?',\n",
       " 'answer': 'Le tourisme en France métropolitaine a généré 1 310 000 emplois en 2011 (source : Insee, Conjoncture, Informations Rapides n°299, novembre 2016). En 2019, la fréquentation de hébergements collectifs de tourisme a connu une forte diminution de 12,9% par rapport à l\\'année précédente (source : Insee, \"Activité touristique : impact de la crise sanitaire Covid-19 et suivi de la reprise d\\'activité\", Chiffresdétaillés, octobre 2020). En 2021, les résidents de France métropolitaine ont réalisé 961,3 millions de nuitées à l\\'occasion de déplacements touristiques, toutes destinations confondues (source : Insee, \"Enquête de fréquentation dans l\\'hôtellerie\", InseeFocus n°201, août 2020).\\n\\nLes nuitées des non-résidents représentaient 38,7% du total en mai-juin-juillet 2019 et 39,6% aux mois de mai-juin-juillet 2018 (source : Insee, \"Éclairage sur le tourisme\", Point de conjoncture, Insee, octobre 2020). Les résultats s\\'appuient sur trois enquêtes mensuelles réalisées par l’Insee dans le cadre d’un partenariat avec la Direction générale des entreprises (DGE) et les organismes régionaux chargés du tourisme. Elles permettent d’observer la fréquentation et la structure de la clientèle, notamment son origine géographique.\\n\\nEn 2019, les exportations de services marchands, hors tourisme, transports et activités financières, ont progressé davant les importations, qui étaient stables. L\\'excédent commercial s\\'améliore légèrement et atteint 8,2 milliards d\\'euros (source : Insee, \"Activité des entreprises, services et marchés de travail\", Chiffresdétaillés, décembre 2019). La location-bail, les services informatiques, les activités administratives et de soutien contribuent le plus à cette amélioration.\\n\\nLe tourisme occupe une place prépondérante dans l\\'économie de certaines régions, comme le Finistère, qui est le premier département maritime de France métropolitaine avec plus de 1200km de côtes (source : Insee, \"Activité économique dans les départements\", Chiffresdétaillés, 2017). En 2021, les résidents de France métropolitaine ont renoué avec les déplacements touristiques, principalement en France, et les voyages personnels sur le sol français retrouvent les niveaux observés en 2019 (source : Insee, \"Enquête de fréquentation dans l\\'hôtellerie\", InseeFocus n°201, août 2020).'}"
      ]
     },
     "execution_count": 5,
     "metadata": {},
     "output_type": "execute_result"
    }
   ],
   "source": [
    "llm_chain.invoke(\"Quels sont les chiffres du tourisme en France métropolitaine?\")"
   ]
  }
 ],
 "metadata": {
  "kernelspec": {
   "display_name": "base",
   "language": "python",
   "name": "python3"
  },
  "language_info": {
   "codemirror_mode": {
    "name": "ipython",
    "version": 3
   },
   "file_extension": ".py",
   "mimetype": "text/x-python",
   "name": "python",
   "nbconvert_exporter": "python",
   "pygments_lexer": "ipython3",
   "version": "3.11.6"
  }
 },
 "nbformat": 4,
 "nbformat_minor": 2
}
