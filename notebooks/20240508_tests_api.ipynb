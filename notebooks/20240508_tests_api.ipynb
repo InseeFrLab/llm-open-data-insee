{
 "cells": [
  {
   "cell_type": "code",
   "execution_count": null,
   "metadata": {},
   "outputs": [],
   "source": [
    "import os\n",
    "import sys\n",
    "import requests\n",
    "\n",
    "from dotenv import load_dotenv\n",
    "import s3fs\n",
    "from fastapi import FastAPI\n",
    "from langchain_core.prompts import PromptTemplate\n",
    "from pydantic import BaseModel\n",
    "import uvicorn\n",
    "\n",
    "PROJECT_PATH = '/home/onyxia/work/llm-open-data-insee/'\n",
    "sys.path.append(os.path.join(PROJECT_PATH, 'src')) \n",
    "\n",
    "from config import RAG_PROMPT_TEMPLATE\n",
    "from model_building import build_llm_model\n",
    "from chain_building import load_retriever, build_chain\n",
    "\n",
    "# Load env variables from .env file\n",
    "load_dotenv()\n",
    "\n",
    "# S3 configuration\n",
    "S3_ENDPOINT_URL = \"https://\" + os.environ[\"AWS_S3_ENDPOINT\"]\n",
    "fs = s3fs.S3FileSystem(client_kwargs={'endpoint_url': S3_ENDPOINT_URL})"
   ]
  },
  {
   "cell_type": "markdown",
   "metadata": {},
   "source": [
    "## Query RAG directly"
   ]
  },
  {
   "cell_type": "code",
   "execution_count": null,
   "metadata": {},
   "outputs": [],
   "source": [
    "from db_building import reload_database_from_local_dir\n",
    "db = reload_database_from_local_dir(persist_directory=\"/home/onyxia/work/llm-open-data-insee/data/chroma_db\")"
   ]
  },
  {
   "cell_type": "code",
   "execution_count": null,
   "metadata": {},
   "outputs": [],
   "source": [
    "# Import Chroma DB from S3\n",
    "from config import RAG_PROMPT_TEMPLATE, EMB_MODEL_NAME, MODEL_NAME\n",
    "\n",
    "\"\"\"DB_PATH_S3 = os.path.join(os.environ[\"S3_BUCKET\"], os.environ[\"DB_KEY_S3\"])\n",
    "DB_PATH_LOCAL = os.path.join(PROJECT_PATH, \"data\", \"chroma_db\")\n",
    "print(\"database : \" , DB_PATH_LOCAL)\n",
    "fs.get(DB_PATH_S3, DB_PATH_LOCAL, recursive=True)\n",
    "\"\"\"\n",
    "# Generate prompt template\n",
    "prompt = PromptTemplate(input_variables=[\"context\", \"question\"], template=RAG_PROMPT_TEMPLATE)\n",
    "# Create a pipeline with tokenizer and LLM\n",
    "retriever = load_retriever(emb_model_name=EMB_MODEL_NAME, persist_directory = DB_PATH_LOCAL)\n",
    "llm = build_llm_model(model_name=MODEL_NAME,\n",
    "                    quantization_config=True, \n",
    "                    config=True, \n",
    "                    token=os.environ[\"HF_TOKEN\"])\n",
    "chain = build_chain(retriever, prompt, llm)"
   ]
  },
  {
   "cell_type": "code",
   "execution_count": null,
   "metadata": {},
   "outputs": [],
   "source": [
    "question = \"Comment la France a-t-elle gérée le COVID? \" \n",
    "response = chain.invoke(question)\n",
    "response"
   ]
  },
  {
   "cell_type": "code",
   "execution_count": null,
   "metadata": {},
   "outputs": [],
   "source": [
    "print(\"Question : \" , response[\"question\"])\n",
    "print(\"Answer : \", response[\"answer\"])\n",
    "print(\"Documents : \", \" \".join([f\"\\nDoc {i} : ({doc.metadata[\"title\"]},{doc.metadata[\"source\"]}) {doc.page_content}\" for i, doc in enumerate(response[\"context\"])])) "
   ]
  },
  {
   "cell_type": "code",
   "execution_count": null,
   "metadata": {},
   "outputs": [],
   "source": [
    "def extract_context_as_dict(response):\n",
    "    dict_context = {}\n",
    "    for i, doc in enumerate(response['context']):\n",
    "        dict_context[i] = doc.metadata\n",
    "        dict_context[i]['content'] = doc.page_content\n",
    "    return dict_context"
   ]
  },
  {
   "cell_type": "markdown",
   "metadata": {},
   "source": [
    "## Query RAG through locally deployed API"
   ]
  },
  {
   "cell_type": "code",
   "execution_count": null,
   "metadata": {},
   "outputs": [],
   "source": [
    "CHATBOT_URL = \"https://user-avouacr-879366-user.user.lab.sspcloud.fr/chat\""
   ]
  },
  {
   "cell_type": "code",
   "execution_count": null,
   "metadata": {},
   "outputs": [],
   "source": [
    "question = \"Je cherche à connaitre le nombre (et eventuellement les caractéristiques) des véhicules 'primes à la conversion' dans plusieurs départements d'occitanie, en particulier l'aveyron.\"\n",
    "query = {\"question\": question}\n",
    "output = requests.post(CHATBOT_URL, json=query)\n",
    "print(output)"
   ]
  },
  {
   "cell_type": "code",
   "execution_count": null,
   "metadata": {},
   "outputs": [],
   "source": [
    "output.json()"
   ]
  }
 ],
 "metadata": {
  "kernelspec": {
   "display_name": "base",
   "language": "python",
   "name": "python3"
  },
  "language_info": {
   "codemirror_mode": {
    "name": "ipython",
    "version": 3
   },
   "file_extension": ".py",
   "mimetype": "text/x-python",
   "name": "python",
   "nbconvert_exporter": "python",
   "pygments_lexer": "ipython3",
   "version": "3.12.3"
  }
 },
 "nbformat": 4,
 "nbformat_minor": 2
}
