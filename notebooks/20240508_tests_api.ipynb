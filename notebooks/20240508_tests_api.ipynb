{
 "cells": [
  {
   "cell_type": "code",
   "execution_count": 8,
   "metadata": {},
   "outputs": [],
   "source": [
    "import os\n",
    "import sys\n",
    "import requests\n",
    "\n",
    "from dotenv import load_dotenv\n",
    "import s3fs\n",
    "from fastapi import FastAPI\n",
    "from langchain_core.prompts import PromptTemplate\n",
    "from pydantic import BaseModel\n",
    "import uvicorn\n",
    "\n",
    "PROJECT_PATH = '/home/onyxia/work/llm-open-data-insee/'\n",
    "sys.path.append(os.path.join(PROJECT_PATH, 'src')) \n",
    "\n",
    "from config import RAG_PROMPT_TEMPLATE\n",
    "from model_building import build_llm_model\n",
    "from chain_building import load_retriever, build_chain\n",
    "\n",
    "# Load env variables from .env file\n",
    "load_dotenv()\n",
    "\n",
    "# S3 configuration\n",
    "S3_ENDPOINT_URL = \"https://\" + os.environ[\"AWS_S3_ENDPOINT\"]\n",
    "fs = s3fs.S3FileSystem(client_kwargs={'endpoint_url': S3_ENDPOINT_URL})"
   ]
  },
  {
   "cell_type": "markdown",
   "metadata": {},
   "source": [
    "## Query RAG directly"
   ]
  },
  {
   "cell_type": "code",
   "execution_count": 5,
   "metadata": {},
   "outputs": [
    {
     "name": "stderr",
     "output_type": "stream",
     "text": [
      "/opt/mamba/lib/python3.12/site-packages/huggingface_hub/file_download.py:1132: FutureWarning: `resume_download` is deprecated and will be removed in version 1.0.0. Downloads always resume when possible. If you want to force a new download, use `force_download=True`.\n",
      "  warnings.warn(\n",
      "`low_cpu_mem_usage` was None, now set to True since model is quantized.\n"
     ]
    },
    {
     "data": {
      "application/vnd.jupyter.widget-view+json": {
       "model_id": "ab9579d68cff4024abe8ed582701eb0d",
       "version_major": 2,
       "version_minor": 0
      },
      "text/plain": [
       "Loading checkpoint shards:   0%|          | 0/3 [00:00<?, ?it/s]"
      ]
     },
     "metadata": {},
     "output_type": "display_data"
    }
   ],
   "source": [
    "# Import Chroma DB from S3\n",
    "DB_PATH_S3 = os.path.join(os.environ[\"S3_BUCKET\"], os.environ[\"DB_KEY_S3\"])\n",
    "DB_PATH_LOCAL = os.path.join(PROJECT_PATH, \"data\", \"chroma_db\")\n",
    "fs.get(DB_PATH_S3, DB_PATH_LOCAL, recursive=True)\n",
    "\n",
    "# Generate prompt template\n",
    "prompt = PromptTemplate(input_variables=[\"context\", \"question\"], template=RAG_PROMPT_TEMPLATE)\n",
    "\n",
    "# Create a pipeline with tokenizer and LLM\n",
    "retriever = load_retriever(DB_PATH_LOCAL)\n",
    "llm = build_llm_model(quantization_config=True, config=True, token=os.environ[\"HF_TOKEN\"])\n",
    "chain = build_chain(retriever, prompt, llm)"
   ]
  },
  {
   "cell_type": "code",
   "execution_count": 27,
   "metadata": {},
   "outputs": [
    {
     "name": "stdout",
     "output_type": "stream",
     "text": [
      "saving outputs in logs/conversation_logs.json\n"
     ]
    },
    {
     "data": {
      "text/plain": [
       "{'context': [Document(page_content='. (2) «Le Lot, un département rural dynamisé par l’industrie et le tourisme», Insee Analyses Occitanie no132, avril 2023. (3) «La Lozère, des atouts pour résister aux crises», Insee Analyses Occitanie no131, avril 2023. (4) «Les dynamiques démographiques dans les départements d’Occitanie», Insee Dossier Occitanie no17, janvier 2023. (5) «L’Occitanie, première région française pour le nombre de résidences secondaires», Insee Analyses Occitanie no107, juillet 2021. (6) «Un habitant sur deux potentiellement exposé à de fortes chaleurs à répétition dans les prochaines années», Insee Analyses Occitanie no92, février 2020. (7) Résultats du recensement agricole 2020.', metadata={'insee_id': 7344780, 'source': 'https://www.insee.fr/fr/statistiques/7344780', 'start_index': 19535, 'title': 'Le Gers, un département rural sous forte influence toulousaine à l’est'}),\n",
       "  Document(page_content='. Elle devance légèrement la Nouvelle-Aquitaine. De même, l’Occitanie se classe au deuxièmerang des régions, derrière la Bretagne, par la présence de commerces de détail de poissons, crustacés et mollusques (4commerces pour 100000habitants). La région abrite les ports du Grau-du-Roi (premierport de chalut), de Sète et d’Agde, premiersports de pêche français de Méditerranée.  Avec 28commerces pour 100000habitants (22 pour la France métropolitaine), l’Occitanie reste sur le podium pour le nombre de boucheries-charcuteries. Il en est de même pour les primeurs (10 pour 100000habitants). Elle est devancée par la Corse et la Normandie pour la densité de boucheries-charcuteries et par la Corse et Provence-Alpes-Côte d’Azur pour les primeurs', metadata={'insee_id': 6522575, 'source': 'https://www.insee.fr/fr/statistiques/6522575', 'start_index': 4142, 'title': 'Poissonneries, primeurs, boucheries…: une forte présence en Occitanie'}),\n",
       "  Document(page_content='. L’Occitanie est la région où la main-d’œuvre disponible pour travailler, en emploi ou à la recherche d’un emploi, augmente le plus entre 2006 et 2013: le nombre d’actifs s’accroît de 12,6actifs pour 1000actifs par an (figure3a), soit un gain annuel de 29900actifs supplémentaires, une hausse deuxfois plus forte qu’en France métropolitaine. Dans le détail, au cours de cette période impactée par la crise, l’emploi en Occitanie augmente de 17900personnes par an et le nombre d’actifs à la recherche d’un emploi (chômeurs) de 11300 par an', metadata={'insee_id': 3709880, 'source': 'https://www.insee.fr/fr/statistiques/3709880', 'start_index': 2435, 'title': 'Un marché du travail dynamique et attractif, mais un chômage qui reste élevé'}),\n",
       "  Document(page_content='. (3) Lardellier R. en collaboration avec Gautier C. et Guyon C. (Météo-France), «Un habitant sur deux potentiellement exposé à de fortes chaleurs à répétition dans les prochaines années», Insee Analyses Occitanie no92, février 2020. (4) Horodenciuc L., Kauffmann P., «Dans le Grand Est, près d’un septième de la population en moins d’ici 2070», Insee Flash no64,novembre2022.', metadata={'insee_id': 7658389, 'source': 'https://www.insee.fr/fr/statistiques/7658389', 'start_index': -1, 'title': 'Un habitant du Grand Est sur six réside dans un territoire qui serait exposé à plus de 11 nuits anormalement chaudes à l’avenir'}),\n",
       "  Document(page_content='L’Occitanie, quatrièmerégion la plus peuplée de province, connaît depuis plus de 50ans une très forte croissance démographique, qui devrait se poursuivre dans les prochaines décennies. Ce dynamisme régional s’accompagne d’une autre réalité, celle d’une précarité marquée dans certains territoires de la région.', metadata={'insee_id': 3559477, 'source': 'https://www.insee.fr/fr/statistiques/3559477', 'start_index': 0, 'title': 'Synthèse'}),\n",
       "  Document(page_content=\"Retrouver l'étude, Insee Analyses Occitanie no146, février 2024\", metadata={'insee_id': 7764209, 'source': 'https://www.insee.fr/fr/information/7764209', 'start_index': 1, 'title': 'Des conditions de vie disparates pour les enfants d’Occitanie'}),\n",
       "  Document(page_content=\". Hild F. et Steinmetz F., «PME et ETI à l'origine de la croissance des grandes entreprises en Occitanie», Insee Analyses Occitanie n°103, février 2021. Bacheré H., «Une forte proportion des emplois créés entre 2009 et 2015 sont portés par les entreprises de taille intermédiaire», Insee Références – Les entreprises en France, novembre 2017.\", metadata={'insee_id': 5056393, 'source': 'https://www.insee.fr/fr/statistiques/5056393', 'start_index': 16105, 'title': 'Après la crise de 2008-2009, dix années marquées par les baisses d’effectifs dans les entreprises pérennes'}),\n",
       "  Document(page_content=\". En revanche, il recule dans le Tarn-et-Garonne (-9%). Les mises en chantier restent stables dans les autres départements de la région.  Avec 2,9millions de nuitées au 4etrimestre 2016, la fréquentation des hôtels d’ Occitanie progresse nettement, de 5,6% par rapport au même trimestre de l'année précédente (figure7). Cette hausse intervient après deuxtrimestres d’évolutions plus modérées (-0,7% et +1,1%). En France métropolitaine, le nombre de nuitées augmente également au 4etrimestre 2016 (+4,9%)\", metadata={'insee_id': 2737370, 'source': 'https://www.insee.fr/fr/statistiques/2737370', 'start_index': 7849, 'title': \"L'emploi salarié marchand poursuit sa hausse au 4 e trimestre 2016\"}),\n",
       "  Document(page_content='. En Occitanie, lors des élections nationales 2022, 275000 mandants ont donné au moins une procuration à 304000 mandataires, certains mandants donnant des procurations à des personnes différentes selon les scrutins.  Ainsi 7% des électeurs ont été mandants au moins une fois en 2022 en Occitanie, un niveau équivalent à la moyenne nationale. La proportion de personnes donnant procuration est plus forte au second tour, notamment lors de l’élection présidentielle, passant en Occitanie de 3% pour le premier tour à 4% pour le second, probablement du fait des vacances scolaires qui ont débuté le 23 avril, veille du second tour. Les jeunes donnent plus souvent une procuration alors que les mandataires sont plus nombreux parmi les inscrits âgés de 50 à 69 ans', metadata={'insee_id': 6652373, 'source': 'https://www.insee.fr/fr/statistiques/6652373', 'start_index': 6358, 'title': \"L'abstention continue de progresser en Occitanie en2022\"}),\n",
       "  Document(page_content='9départements sur 13 principalement ruraux en Occitanie au 1erjanvier 2021.', metadata={'insee_id': 5759164, 'source': 'https://www.insee.fr/fr/statistiques/5759164', 'start_index': 0, 'title': 'L’espace rural (définition 2021)'})],\n",
       " 'question': \"Je cherche à connaitre le nombre (et eventuellement les caractéristiques) des véhicules 'primes à la conversion' dans plusieurs départements d'occitanie, en particulier l'aveyron.\",\n",
       " 'answer': 'Dans le contexte fourni, il n\\'existe pas de données directes sur le nombre de véhicules \"primes à la conversion\" dans les différents départements d\\'Occitanie, including Avéron. The provided sources do not contain this information.\\n\\nHowever, I can share some insights about the economic and demographic context of Occitanie and Avéron that might be relevant to your question.\\n\\nOccitanie is the second most populous region in France and has experienced strong demographic growth over the past 50 years. It is known for its dynamic industry and tourism sectors, with a high number of commercial establishments related to the fishing industry, agriculture, and food processing. Avéron is one of the 9 departments in Occitanie that are primarily rural.\\n\\nAccording to the 2020 agricultural census, there were 112,543 agricultural holdings in Occitanie, with a total agricultural area of 1.8 million hectares. This data might be useful in understanding the agricultural context of the region and the potential presence of agricultural vehicles.\\n\\nAdditionally, the region has seen an increase in the number of active workers between 2006 and 2013, with a gain of 29,900 workers, which could potentially lead to an increase in the number of vehicles on the roads.\\n\\nSources:\\n(1) Insee Analyses Occitanie no132, avril 2023.\\n(2) Insee Analyses Occitanie no131, avril 2023.\\n(3) Insee Dossier Occitanie no17, janvier 2023.\\n(4) Insee Analyses Occitanie no107, juillet 2021.\\n(5) Insee Analyses Occitanie no92, février 2020.\\n(6) Résultats du recensement agricole 2020.'}"
      ]
     },
     "execution_count": 27,
     "metadata": {},
     "output_type": "execute_result"
    }
   ],
   "source": [
    "question = \"Je cherche à connaitre le nombre (et eventuellement les caractéristiques) des véhicules 'primes à la conversion' dans plusieurs départements d'occitanie, en particulier l'aveyron.\"\n",
    "response = chain.invoke(question)\n",
    "response"
   ]
  },
  {
   "cell_type": "code",
   "execution_count": 37,
   "metadata": {},
   "outputs": [],
   "source": [
    "def extract_context_as_dict(response):\n",
    "    dict_context = {}\n",
    "    for i, doc in enumerate(response['context']):\n",
    "        dict_context[i] = doc.metadata\n",
    "        dict_context[i]['content'] = doc.page_content\n",
    "    return dict_context"
   ]
  },
  {
   "cell_type": "markdown",
   "metadata": {},
   "source": [
    "## Query RAG through locally deployed API"
   ]
  },
  {
   "cell_type": "code",
   "execution_count": 38,
   "metadata": {},
   "outputs": [],
   "source": [
    "CHATBOT_URL = \"https://user-avouacr-879366-user.user.lab.sspcloud.fr/chat\""
   ]
  },
  {
   "cell_type": "code",
   "execution_count": 39,
   "metadata": {},
   "outputs": [
    {
     "name": "stdout",
     "output_type": "stream",
     "text": [
      "<Response [200]>\n"
     ]
    }
   ],
   "source": [
    "question = \"Je cherche à connaitre le nombre (et eventuellement les caractéristiques) des véhicules 'primes à la conversion' dans plusieurs départements d'occitanie, en particulier l'aveyron.\"\n",
    "query = {\"question\": question}\n",
    "output = requests.post(CHATBOT_URL, json=query)\n",
    "print(output)"
   ]
  },
  {
   "cell_type": "code",
   "execution_count": 44,
   "metadata": {},
   "outputs": [
    {
     "data": {
      "text/plain": [
       "{'context': {'0': {'insee_id': 7344780,\n",
       "   'source': 'https://www.insee.fr/fr/statistiques/7344780',\n",
       "   'start_index': 19535,\n",
       "   'title': 'Le Gers, un département rural sous forte influence toulousaine à l’est',\n",
       "   'content': '. (2) «Le Lot, un département rural dynamisé par l’industrie et le tourisme», Insee Analyses Occitanie no132, avril 2023. (3) «La Lozère, des atouts pour résister aux crises», Insee Analyses Occitanie no131, avril 2023. (4) «Les dynamiques démographiques dans les départements d’Occitanie», Insee Dossier Occitanie no17, janvier 2023. (5) «L’Occitanie, première région française pour le nombre de résidences secondaires», Insee Analyses Occitanie no107, juillet 2021. (6) «Un habitant sur deux potentiellement exposé à de fortes chaleurs à répétition dans les prochaines années», Insee Analyses Occitanie no92, février 2020. (7) Résultats du recensement agricole 2020.'},\n",
       "  '1': {'insee_id': 6522575,\n",
       "   'source': 'https://www.insee.fr/fr/statistiques/6522575',\n",
       "   'start_index': 4142,\n",
       "   'title': 'Poissonneries, primeurs, boucheries…: une forte présence en Occitanie',\n",
       "   'content': '. Elle devance légèrement la Nouvelle-Aquitaine. De même, l’Occitanie se classe au deuxièmerang des régions, derrière la Bretagne, par la présence de commerces de détail de poissons, crustacés et mollusques (4commerces pour 100000habitants). La région abrite les ports du Grau-du-Roi (premierport de chalut), de Sète et d’Agde, premiersports de pêche français de Méditerranée.  Avec 28commerces pour 100000habitants (22 pour la France métropolitaine), l’Occitanie reste sur le podium pour le nombre de boucheries-charcuteries. Il en est de même pour les primeurs (10 pour 100000habitants). Elle est devancée par la Corse et la Normandie pour la densité de boucheries-charcuteries et par la Corse et Provence-Alpes-Côte d’Azur pour les primeurs'},\n",
       "  '2': {'insee_id': 3709880,\n",
       "   'source': 'https://www.insee.fr/fr/statistiques/3709880',\n",
       "   'start_index': 2435,\n",
       "   'title': 'Un marché du travail dynamique et attractif, mais un chômage qui reste élevé',\n",
       "   'content': '. L’Occitanie est la région où la main-d’œuvre disponible pour travailler, en emploi ou à la recherche d’un emploi, augmente le plus entre 2006 et 2013: le nombre d’actifs s’accroît de 12,6actifs pour 1000actifs par an (figure3a), soit un gain annuel de 29900actifs supplémentaires, une hausse deuxfois plus forte qu’en France métropolitaine. Dans le détail, au cours de cette période impactée par la crise, l’emploi en Occitanie augmente de 17900personnes par an et le nombre d’actifs à la recherche d’un emploi (chômeurs) de 11300 par an'},\n",
       "  '3': {'insee_id': 7658389,\n",
       "   'source': 'https://www.insee.fr/fr/statistiques/7658389',\n",
       "   'start_index': -1,\n",
       "   'title': 'Un habitant du Grand Est sur six réside dans un territoire qui serait exposé à plus de 11 nuits anormalement chaudes à l’avenir',\n",
       "   'content': '. (3) Lardellier R. en collaboration avec Gautier C. et Guyon C. (Météo-France), «Un habitant sur deux potentiellement exposé à de fortes chaleurs à répétition dans les prochaines années», Insee Analyses Occitanie no92, février 2020. (4) Horodenciuc L., Kauffmann P., «Dans le Grand Est, près d’un septième de la population en moins d’ici 2070», Insee Flash no64,novembre2022.'},\n",
       "  '4': {'insee_id': 3559477,\n",
       "   'source': 'https://www.insee.fr/fr/statistiques/3559477',\n",
       "   'start_index': 0,\n",
       "   'title': 'Synthèse',\n",
       "   'content': 'L’Occitanie, quatrièmerégion la plus peuplée de province, connaît depuis plus de 50ans une très forte croissance démographique, qui devrait se poursuivre dans les prochaines décennies. Ce dynamisme régional s’accompagne d’une autre réalité, celle d’une précarité marquée dans certains territoires de la région.'},\n",
       "  '5': {'insee_id': 7764209,\n",
       "   'source': 'https://www.insee.fr/fr/information/7764209',\n",
       "   'start_index': 1,\n",
       "   'title': 'Des conditions de vie disparates pour les enfants d’Occitanie',\n",
       "   'content': \"Retrouver l'étude, Insee Analyses Occitanie no146, février 2024\"},\n",
       "  '6': {'insee_id': 5056393,\n",
       "   'source': 'https://www.insee.fr/fr/statistiques/5056393',\n",
       "   'start_index': 16105,\n",
       "   'title': 'Après la crise de 2008-2009, dix années marquées par les baisses d’effectifs dans les entreprises pérennes',\n",
       "   'content': \". Hild F. et Steinmetz F., «PME et ETI à l'origine de la croissance des grandes entreprises en Occitanie», Insee Analyses Occitanie n°103, février 2021. Bacheré H., «Une forte proportion des emplois créés entre 2009 et 2015 sont portés par les entreprises de taille intermédiaire», Insee Références – Les entreprises en France, novembre 2017.\"},\n",
       "  '7': {'insee_id': 2737370,\n",
       "   'source': 'https://www.insee.fr/fr/statistiques/2737370',\n",
       "   'start_index': 7849,\n",
       "   'title': \"L'emploi salarié marchand poursuit sa hausse au 4 e trimestre 2016\",\n",
       "   'content': \". En revanche, il recule dans le Tarn-et-Garonne (-9%). Les mises en chantier restent stables dans les autres départements de la région.  Avec 2,9millions de nuitées au 4etrimestre 2016, la fréquentation des hôtels d’ Occitanie progresse nettement, de 5,6% par rapport au même trimestre de l'année précédente (figure7). Cette hausse intervient après deuxtrimestres d’évolutions plus modérées (-0,7% et +1,1%). En France métropolitaine, le nombre de nuitées augmente également au 4etrimestre 2016 (+4,9%)\"},\n",
       "  '8': {'insee_id': 6652373,\n",
       "   'source': 'https://www.insee.fr/fr/statistiques/6652373',\n",
       "   'start_index': 6358,\n",
       "   'title': \"L'abstention continue de progresser en Occitanie en2022\",\n",
       "   'content': '. En Occitanie, lors des élections nationales 2022, 275000 mandants ont donné au moins une procuration à 304000 mandataires, certains mandants donnant des procurations à des personnes différentes selon les scrutins.  Ainsi 7% des électeurs ont été mandants au moins une fois en 2022 en Occitanie, un niveau équivalent à la moyenne nationale. La proportion de personnes donnant procuration est plus forte au second tour, notamment lors de l’élection présidentielle, passant en Occitanie de 3% pour le premier tour à 4% pour le second, probablement du fait des vacances scolaires qui ont débuté le 23 avril, veille du second tour. Les jeunes donnent plus souvent une procuration alors que les mandataires sont plus nombreux parmi les inscrits âgés de 50 à 69 ans'},\n",
       "  '9': {'insee_id': 5759164,\n",
       "   'source': 'https://www.insee.fr/fr/statistiques/5759164',\n",
       "   'start_index': 0,\n",
       "   'title': 'L’espace rural (définition 2021)',\n",
       "   'content': '9départements sur 13 principalement ruraux en Occitanie au 1erjanvier 2021.'}},\n",
       " 'question': \"Je cherche à connaitre le nombre (et eventuellement les caractéristiques) des véhicules 'primes à la conversion' dans plusieurs départements d'occitanie, en particulier l'aveyron.\",\n",
       " 'answer': \"Je suis désolé, mais je ne peux pas fournir une réponse précise à votre question en utilisant les informations fournies dans le contexte. Les sources fournies ne contiennent pas de données sur le nombre ou les caractéristiques de véhicules 'primes à la conversion' dans les départements d'Occitanie, et plus particulièrement dans l'Aveyron.\\n\\nCependant, je peux vous fournir des informations sur d'autres aspects de l'économie et de la démographie des départements d'Occitanie. Par exemple, selon les résultats du recensement agricole 2020, l'agriculture est une composante importante de l'économie des départements ruraux d'Occitanie, avec un total de 113 000 exploitations agricoles en 2020. En outre, la population d'Occitanie a connu une forte croissance démographique dans les dernières décennies, avec une population de 5,7 millions d'habitants en 2017, ce qui la place au quatrième rang des régions les plus peuplées de France.\\n\\nSi vous avez des questions supplémentaires sur l'économie ou la démographie des départements d'Occitanie, je serais heureux de vous les répondre. Sinon, je suis désolé de ne pas pouvoir fournir la réponse que vous recherchez.\"}"
      ]
     },
     "execution_count": 44,
     "metadata": {},
     "output_type": "execute_result"
    }
   ],
   "source": [
    "output.json()"
   ]
  },
  {
   "cell_type": "code",
   "execution_count": null,
   "metadata": {},
   "outputs": [],
   "source": []
  },
  {
   "cell_type": "code",
   "execution_count": null,
   "metadata": {},
   "outputs": [],
   "source": []
  },
  {
   "cell_type": "code",
   "execution_count": null,
   "metadata": {},
   "outputs": [],
   "source": []
  }
 ],
 "metadata": {
  "kernelspec": {
   "display_name": "base",
   "language": "python",
   "name": "python3"
  },
  "language_info": {
   "codemirror_mode": {
    "name": "ipython",
    "version": 3
   },
   "file_extension": ".py",
   "mimetype": "text/x-python",
   "name": "python",
   "nbconvert_exporter": "python",
   "pygments_lexer": "ipython3",
   "version": "3.12.2"
  }
 },
 "nbformat": 4,
 "nbformat_minor": 2
}
