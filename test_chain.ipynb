{
 "cells": [
  {
   "cell_type": "code",
   "execution_count": null,
   "id": "e1fb59dd-974b-4e77-821c-629c86fb51d8",
   "metadata": {},
   "outputs": [],
   "source": [
    "import sys\n",
    "sys.path.append(\".\")"
   ]
  },
  {
   "cell_type": "code",
   "execution_count": 1,
   "id": "70b65762-fa57-4f7a-b828-b3a766c986b3",
   "metadata": {},
   "outputs": [],
   "source": [
    "from utils import load_dataframe_from_parquet\n",
    "from doc_building import build_documents_from_dataframe\n",
    "from db_building import build_database_from_dataframe\n",
    "from chain_building import build_chain"
   ]
  },
  {
   "cell_type": "code",
   "execution_count": 2,
   "id": "194c41d9-541b-4c87-b109-998a8f9f3116",
   "metadata": {},
   "outputs": [],
   "source": [
    "df = load_dataframe_from_parquet(\"....../myfile.parquet\")"
   ]
  },
  {
   "cell_type": "code",
   "execution_count": 3,
   "id": "f55fad91-cd41-4828-b938-fd6c91677566",
   "metadata": {},
   "outputs": [],
   "source": [
    "docs = build_documents_from_dataframe(df)"
   ]
  },
  {
   "cell_type": "code",
   "execution_count": 4,
   "id": "054bc2ad-01a5-46df-afbc-aeed59f44510",
   "metadata": {},
   "outputs": [
    {
     "name": "stderr",
     "output_type": "stream",
     "text": [
      "WARNING:sentence_transformers.SentenceTransformer:No sentence-transformers model found with name /home/jupyterhub-users/frole/.cache/torch/sentence_transformers/dangvantuan_sentence-camembert-large. Creating a new one with MEAN pooling.\n"
     ]
    }
   ],
   "source": [
    "db = build_database_from_dataframe(df)"
   ]
  },
  {
   "cell_type": "code",
   "execution_count": 5,
   "id": "b7d12665-20f8-4470-824d-d754a97c08e1",
   "metadata": {},
   "outputs": [
    {
     "name": "stderr",
     "output_type": "stream",
     "text": [
      "WARNING:sentence_transformers.SentenceTransformer:No sentence-transformers model found with name /home/jupyterhub-users/frole/.cache/torch/sentence_transformers/dangvantuan_sentence-camembert-large. Creating a new one with MEAN pooling.\n"
     ]
    },
    {
     "data": {
      "application/vnd.jupyter.widget-view+json": {
       "model_id": "39b0abfbd5154a179980bba6b34a2526",
       "version_major": 2,
       "version_minor": 0
      },
      "text/plain": [
       "Downloading shards:   0%|          | 0/3 [00:00<?, ?it/s]"
      ]
     },
     "metadata": {},
     "output_type": "display_data"
    },
    {
     "data": {
      "application/vnd.jupyter.widget-view+json": {
       "model_id": "54f07e6633774505828bcc83e82128f5",
       "version_major": 2,
       "version_minor": 0
      },
      "text/plain": [
       "Loading checkpoint shards:   0%|          | 0/3 [00:00<?, ?it/s]"
      ]
     },
     "metadata": {},
     "output_type": "display_data"
    }
   ],
   "source": [
    "chain = build_chain()"
   ]
  },
  {
   "cell_type": "code",
   "execution_count": 7,
   "id": "89e2df15-3256-4ff4-9e53-410f8b8215e5",
   "metadata": {},
   "outputs": [
    {
     "name": "stderr",
     "output_type": "stream",
     "text": [
      "Setting `pad_token_id` to `eos_token_id`:2 for open-end generation.\n"
     ]
    },
    {
     "name": "stdout",
     "output_type": "stream",
     "text": [
      ">>> Generation mode GenerationMode.GREEDY_SEARCH\n",
      ">>> in greedy_search []\n"
     ]
    },
    {
     "data": {
      "text/plain": [
       "{'context': [Document(page_content='Santé – handicap – dépendance – tableau de bord de l’économie française', metadata={'id': '5368122'}),\n",
       "  Document(page_content='Santé – handicap – dépendance – tableau de bord de l’économie française', metadata={'id': '5368122'}),\n",
       "  Document(page_content='Santé – handicap – dépendance – tableau de bord de l’économie française', metadata={'id': '5368122'}),\n",
       "  Document(page_content='Pauvreté – précarité – tableau de bord de l’économie française', metadata={'id': '5368091'})],\n",
       " 'question': 'Je cherche des statistiques sur le handicap',\n",
       " 'text': \" et la dépendance dans l'économie française.\\n  Quels documents contiennent des informations pertinentes?\\n\\nAnswer:\\nLes documents avec l'étiquette 'Santé – handicap – dépendance' contiennent des informations pertinentes pour votre recherche. Par exemple, les documents d'id '5368122' contiennent des statistiques sur le handicap et la dépendance dans l'économie française.\"}"
      ]
     },
     "execution_count": 7,
     "metadata": {},
     "output_type": "execute_result"
    }
   ],
   "source": [
    "query = \"Je cherche des statistiques sur le handicap\"\n",
    "chain.invoke(query)"
   ]
  }
 ],
 "metadata": {
  "kernelspec": {
   "display_name": "ragenv",
   "language": "python",
   "name": "ragenv"
  },
  "language_info": {
   "codemirror_mode": {
    "name": "ipython",
    "version": 3
   },
   "file_extension": ".py",
   "mimetype": "text/x-python",
   "name": "python",
   "nbconvert_exporter": "python",
   "pygments_lexer": "ipython3",
   "version": "3.11.2"
  }
 },
 "nbformat": 4,
 "nbformat_minor": 5
}
