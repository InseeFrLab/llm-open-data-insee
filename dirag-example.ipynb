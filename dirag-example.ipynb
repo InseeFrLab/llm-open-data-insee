{
 "cells": [
  {
   "cell_type": "markdown",
   "metadata": {},
   "source": [
    "# Dit RAG ? 🤖\n",
    "\n",
    "## Récupération de la base de données vectorielle\n",
    "\n",
    "On va déjà récupérer la base de données vectorielle des publis DIRAG"
   ]
  },
  {
   "cell_type": "code",
   "execution_count": 1,
   "metadata": {},
   "outputs": [],
   "source": [
    "import os\n",
    "\n",
    "from s3fs import S3FileSystem\n",
    "\n",
    "fs = S3FileSystem(\n",
    "    client_kwargs={\"endpoint_url\": f\"https://{os.environ['AWS_S3_ENDPOINT']}\"},\n",
    "    key=os.environ[\"AWS_ACCESS_KEY_ID\"],\n",
    "    secret=os.environ[\"AWS_SECRET_ACCESS_KEY\"],\n",
    ")"
   ]
  },
  {
   "cell_type": "code",
   "execution_count": 2,
   "metadata": {},
   "outputs": [
    {
     "ename": "OSError",
     "evalue": "[Errno 5] An error occurred (InvalidTokenId) when calling the ListObjectsV2 operation: The security token included in the request is invalid",
     "output_type": "error",
     "traceback": [
      "\u001b[0;31m---------------------------------------------------------------------------\u001b[0m",
      "\u001b[0;31mClientError\u001b[0m                               Traceback (most recent call last)",
      "File \u001b[0;32m/opt/conda/lib/python3.12/site-packages/s3fs/core.py:734\u001b[0m, in \u001b[0;36mS3FileSystem._lsdir\u001b[0;34m(self, path, refresh, max_items, delimiter, prefix, versions)\u001b[0m\n\u001b[1;32m    733\u001b[0m files \u001b[38;5;241m=\u001b[39m []\n\u001b[0;32m--> 734\u001b[0m \u001b[38;5;28;01masync\u001b[39;00m \u001b[38;5;28;01mfor\u001b[39;00m c \u001b[38;5;129;01min\u001b[39;00m \u001b[38;5;28mself\u001b[39m\u001b[38;5;241m.\u001b[39m_iterdir(\n\u001b[1;32m    735\u001b[0m     bucket,\n\u001b[1;32m    736\u001b[0m     max_items\u001b[38;5;241m=\u001b[39mmax_items,\n\u001b[1;32m    737\u001b[0m     delimiter\u001b[38;5;241m=\u001b[39mdelimiter,\n\u001b[1;32m    738\u001b[0m     prefix\u001b[38;5;241m=\u001b[39mprefix,\n\u001b[1;32m    739\u001b[0m     versions\u001b[38;5;241m=\u001b[39mversions,\n\u001b[1;32m    740\u001b[0m ):\n\u001b[1;32m    741\u001b[0m     \u001b[38;5;28;01mif\u001b[39;00m c[\u001b[38;5;124m\"\u001b[39m\u001b[38;5;124mtype\u001b[39m\u001b[38;5;124m\"\u001b[39m] \u001b[38;5;241m==\u001b[39m \u001b[38;5;124m\"\u001b[39m\u001b[38;5;124mdirectory\u001b[39m\u001b[38;5;124m\"\u001b[39m:\n",
      "File \u001b[0;32m/opt/conda/lib/python3.12/site-packages/s3fs/core.py:784\u001b[0m, in \u001b[0;36mS3FileSystem._iterdir\u001b[0;34m(self, bucket, max_items, delimiter, prefix, versions)\u001b[0m\n\u001b[1;32m    777\u001b[0m it \u001b[38;5;241m=\u001b[39m pag\u001b[38;5;241m.\u001b[39mpaginate(\n\u001b[1;32m    778\u001b[0m     Bucket\u001b[38;5;241m=\u001b[39mbucket,\n\u001b[1;32m    779\u001b[0m     Prefix\u001b[38;5;241m=\u001b[39mprefix,\n\u001b[0;32m   (...)\u001b[0m\n\u001b[1;32m    782\u001b[0m     \u001b[38;5;241m*\u001b[39m\u001b[38;5;241m*\u001b[39m\u001b[38;5;28mself\u001b[39m\u001b[38;5;241m.\u001b[39mreq_kw,\n\u001b[1;32m    783\u001b[0m )\n\u001b[0;32m--> 784\u001b[0m \u001b[38;5;28;01masync\u001b[39;00m \u001b[38;5;28;01mfor\u001b[39;00m i \u001b[38;5;129;01min\u001b[39;00m it:\n\u001b[1;32m    785\u001b[0m     \u001b[38;5;28;01mfor\u001b[39;00m l \u001b[38;5;129;01min\u001b[39;00m i\u001b[38;5;241m.\u001b[39mget(\u001b[38;5;124m\"\u001b[39m\u001b[38;5;124mCommonPrefixes\u001b[39m\u001b[38;5;124m\"\u001b[39m, []):\n",
      "File \u001b[0;32m/opt/conda/lib/python3.12/site-packages/aiobotocore/paginate.py:30\u001b[0m, in \u001b[0;36mAioPageIterator.__anext__\u001b[0;34m(self)\u001b[0m\n\u001b[1;32m     29\u001b[0m \u001b[38;5;28;01mwhile\u001b[39;00m \u001b[38;5;28;01mTrue\u001b[39;00m:\n\u001b[0;32m---> 30\u001b[0m     response \u001b[38;5;241m=\u001b[39m \u001b[38;5;28;01mawait\u001b[39;00m \u001b[38;5;28mself\u001b[39m\u001b[38;5;241m.\u001b[39m_make_request(current_kwargs)\n\u001b[1;32m     31\u001b[0m     parsed \u001b[38;5;241m=\u001b[39m \u001b[38;5;28mself\u001b[39m\u001b[38;5;241m.\u001b[39m_extract_parsed_response(response)\n",
      "File \u001b[0;32m/opt/conda/lib/python3.12/site-packages/aiobotocore/client.py:412\u001b[0m, in \u001b[0;36mAioBaseClient._make_api_call\u001b[0;34m(self, operation_name, api_params)\u001b[0m\n\u001b[1;32m    411\u001b[0m     error_class \u001b[38;5;241m=\u001b[39m \u001b[38;5;28mself\u001b[39m\u001b[38;5;241m.\u001b[39mexceptions\u001b[38;5;241m.\u001b[39mfrom_code(error_code)\n\u001b[0;32m--> 412\u001b[0m     \u001b[38;5;28;01mraise\u001b[39;00m error_class(parsed_response, operation_name)\n\u001b[1;32m    413\u001b[0m \u001b[38;5;28;01melse\u001b[39;00m:\n",
      "\u001b[0;31mClientError\u001b[0m: An error occurred (InvalidTokenId) when calling the ListObjectsV2 operation: The security token included in the request is invalid",
      "\nThe above exception was the direct cause of the following exception:\n",
      "\u001b[0;31mOSError\u001b[0m                                   Traceback (most recent call last)",
      "Cell \u001b[0;32mIn[2], line 4\u001b[0m\n\u001b[1;32m      1\u001b[0m s3_path \u001b[38;5;241m=\u001b[39m \u001b[38;5;124m\"\u001b[39m\u001b[38;5;124mprojet-llm-insee-open-data/data/chroma_database/experiment/dirag/\u001b[39m\u001b[38;5;124m\"\u001b[39m\n\u001b[1;32m      2\u001b[0m local_path \u001b[38;5;241m=\u001b[39m \u001b[38;5;124m\"\u001b[39m\u001b[38;5;124mdata/chroma_db_checkpoint/\u001b[39m\u001b[38;5;124m\"\u001b[39m\n\u001b[0;32m----> 4\u001b[0m \u001b[43mfs\u001b[49m\u001b[38;5;241;43m.\u001b[39;49m\u001b[43mdownload\u001b[49m\u001b[43m(\u001b[49m\n\u001b[1;32m      5\u001b[0m \u001b[43m    \u001b[49m\u001b[43mrpath\u001b[49m\u001b[38;5;241;43m=\u001b[39;49m\u001b[43ms3_path\u001b[49m\u001b[43m,\u001b[49m\n\u001b[1;32m      6\u001b[0m \u001b[43m    \u001b[49m\u001b[43mlpath\u001b[49m\u001b[38;5;241;43m=\u001b[39;49m\u001b[43mlocal_path\u001b[49m\u001b[43m,\u001b[49m\n\u001b[1;32m      7\u001b[0m \u001b[43m    \u001b[49m\u001b[43mrecursive\u001b[49m\u001b[38;5;241;43m=\u001b[39;49m\u001b[38;5;28;43;01mTrue\u001b[39;49;00m\u001b[43m,\u001b[49m\n\u001b[1;32m      8\u001b[0m \u001b[43m)\u001b[49m\n",
      "File \u001b[0;32m/opt/conda/lib/python3.12/site-packages/fsspec/spec.py:1767\u001b[0m, in \u001b[0;36mAbstractFileSystem.download\u001b[0;34m(self, rpath, lpath, recursive, **kwargs)\u001b[0m\n\u001b[1;32m   1765\u001b[0m \u001b[38;5;28;01mdef\u001b[39;00m\u001b[38;5;250m \u001b[39m\u001b[38;5;21mdownload\u001b[39m(\u001b[38;5;28mself\u001b[39m, rpath, lpath, recursive\u001b[38;5;241m=\u001b[39m\u001b[38;5;28;01mFalse\u001b[39;00m, \u001b[38;5;241m*\u001b[39m\u001b[38;5;241m*\u001b[39mkwargs):\n\u001b[1;32m   1766\u001b[0m \u001b[38;5;250m    \u001b[39m\u001b[38;5;124;03m\"\"\"Alias of `AbstractFileSystem.get`.\"\"\"\u001b[39;00m\n\u001b[0;32m-> 1767\u001b[0m     \u001b[38;5;28;01mreturn\u001b[39;00m \u001b[38;5;28;43mself\u001b[39;49m\u001b[38;5;241;43m.\u001b[39;49m\u001b[43mget\u001b[49m\u001b[43m(\u001b[49m\u001b[43mrpath\u001b[49m\u001b[43m,\u001b[49m\u001b[43m \u001b[49m\u001b[43mlpath\u001b[49m\u001b[43m,\u001b[49m\u001b[43m \u001b[49m\u001b[43mrecursive\u001b[49m\u001b[38;5;241;43m=\u001b[39;49m\u001b[43mrecursive\u001b[49m\u001b[43m,\u001b[49m\u001b[43m \u001b[49m\u001b[38;5;241;43m*\u001b[39;49m\u001b[38;5;241;43m*\u001b[39;49m\u001b[43mkwargs\u001b[49m\u001b[43m)\u001b[49m\n",
      "File \u001b[0;32m/opt/conda/lib/python3.12/site-packages/fsspec/asyn.py:118\u001b[0m, in \u001b[0;36msync_wrapper.<locals>.wrapper\u001b[0;34m(*args, **kwargs)\u001b[0m\n\u001b[1;32m    115\u001b[0m \u001b[38;5;129m@functools\u001b[39m\u001b[38;5;241m.\u001b[39mwraps(func)\n\u001b[1;32m    116\u001b[0m \u001b[38;5;28;01mdef\u001b[39;00m\u001b[38;5;250m \u001b[39m\u001b[38;5;21mwrapper\u001b[39m(\u001b[38;5;241m*\u001b[39margs, \u001b[38;5;241m*\u001b[39m\u001b[38;5;241m*\u001b[39mkwargs):\n\u001b[1;32m    117\u001b[0m     \u001b[38;5;28mself\u001b[39m \u001b[38;5;241m=\u001b[39m obj \u001b[38;5;129;01mor\u001b[39;00m args[\u001b[38;5;241m0\u001b[39m]\n\u001b[0;32m--> 118\u001b[0m     \u001b[38;5;28;01mreturn\u001b[39;00m \u001b[43msync\u001b[49m\u001b[43m(\u001b[49m\u001b[38;5;28;43mself\u001b[39;49m\u001b[38;5;241;43m.\u001b[39;49m\u001b[43mloop\u001b[49m\u001b[43m,\u001b[49m\u001b[43m \u001b[49m\u001b[43mfunc\u001b[49m\u001b[43m,\u001b[49m\u001b[43m \u001b[49m\u001b[38;5;241;43m*\u001b[39;49m\u001b[43margs\u001b[49m\u001b[43m,\u001b[49m\u001b[43m \u001b[49m\u001b[38;5;241;43m*\u001b[39;49m\u001b[38;5;241;43m*\u001b[39;49m\u001b[43mkwargs\u001b[49m\u001b[43m)\u001b[49m\n",
      "File \u001b[0;32m/opt/conda/lib/python3.12/site-packages/fsspec/asyn.py:103\u001b[0m, in \u001b[0;36msync\u001b[0;34m(loop, func, timeout, *args, **kwargs)\u001b[0m\n\u001b[1;32m    101\u001b[0m     \u001b[38;5;28;01mraise\u001b[39;00m FSTimeoutError \u001b[38;5;28;01mfrom\u001b[39;00m\u001b[38;5;250m \u001b[39m\u001b[38;5;21;01mreturn_result\u001b[39;00m\n\u001b[1;32m    102\u001b[0m \u001b[38;5;28;01melif\u001b[39;00m \u001b[38;5;28misinstance\u001b[39m(return_result, \u001b[38;5;167;01mBaseException\u001b[39;00m):\n\u001b[0;32m--> 103\u001b[0m     \u001b[38;5;28;01mraise\u001b[39;00m return_result\n\u001b[1;32m    104\u001b[0m \u001b[38;5;28;01melse\u001b[39;00m:\n\u001b[1;32m    105\u001b[0m     \u001b[38;5;28;01mreturn\u001b[39;00m return_result\n",
      "File \u001b[0;32m/opt/conda/lib/python3.12/site-packages/fsspec/asyn.py:56\u001b[0m, in \u001b[0;36m_runner\u001b[0;34m(event, coro, result, timeout)\u001b[0m\n\u001b[1;32m     54\u001b[0m     coro \u001b[38;5;241m=\u001b[39m asyncio\u001b[38;5;241m.\u001b[39mwait_for(coro, timeout\u001b[38;5;241m=\u001b[39mtimeout)\n\u001b[1;32m     55\u001b[0m \u001b[38;5;28;01mtry\u001b[39;00m:\n\u001b[0;32m---> 56\u001b[0m     result[\u001b[38;5;241m0\u001b[39m] \u001b[38;5;241m=\u001b[39m \u001b[38;5;28;01mawait\u001b[39;00m coro\n\u001b[1;32m     57\u001b[0m \u001b[38;5;28;01mexcept\u001b[39;00m \u001b[38;5;167;01mException\u001b[39;00m \u001b[38;5;28;01mas\u001b[39;00m ex:\n\u001b[1;32m     58\u001b[0m     result[\u001b[38;5;241m0\u001b[39m] \u001b[38;5;241m=\u001b[39m ex\n",
      "File \u001b[0;32m/opt/conda/lib/python3.12/site-packages/fsspec/asyn.py:633\u001b[0m, in \u001b[0;36mAsyncFileSystem._get\u001b[0;34m(self, rpath, lpath, recursive, callback, maxdepth, **kwargs)\u001b[0m\n\u001b[1;32m    631\u001b[0m source_not_trailing_sep \u001b[38;5;241m=\u001b[39m source_is_str \u001b[38;5;129;01mand\u001b[39;00m \u001b[38;5;129;01mnot\u001b[39;00m trailing_sep(rpath)\n\u001b[1;32m    632\u001b[0m rpath \u001b[38;5;241m=\u001b[39m \u001b[38;5;28mself\u001b[39m\u001b[38;5;241m.\u001b[39m_strip_protocol(rpath)\n\u001b[0;32m--> 633\u001b[0m rpaths \u001b[38;5;241m=\u001b[39m \u001b[38;5;28;01mawait\u001b[39;00m \u001b[38;5;28mself\u001b[39m\u001b[38;5;241m.\u001b[39m_expand_path(\n\u001b[1;32m    634\u001b[0m     rpath, recursive\u001b[38;5;241m=\u001b[39mrecursive, maxdepth\u001b[38;5;241m=\u001b[39mmaxdepth\n\u001b[1;32m    635\u001b[0m )\n\u001b[1;32m    636\u001b[0m \u001b[38;5;28;01mif\u001b[39;00m source_is_str \u001b[38;5;129;01mand\u001b[39;00m (\u001b[38;5;129;01mnot\u001b[39;00m recursive \u001b[38;5;129;01mor\u001b[39;00m maxdepth \u001b[38;5;129;01mis\u001b[39;00m \u001b[38;5;129;01mnot\u001b[39;00m \u001b[38;5;28;01mNone\u001b[39;00m):\n\u001b[1;32m    637\u001b[0m     \u001b[38;5;66;03m# Non-recursive glob does not copy directories\u001b[39;00m\n\u001b[1;32m    638\u001b[0m     rpaths \u001b[38;5;241m=\u001b[39m [\n\u001b[1;32m    639\u001b[0m         p \u001b[38;5;28;01mfor\u001b[39;00m p \u001b[38;5;129;01min\u001b[39;00m rpaths \u001b[38;5;28;01mif\u001b[39;00m \u001b[38;5;129;01mnot\u001b[39;00m (trailing_sep(p) \u001b[38;5;129;01mor\u001b[39;00m \u001b[38;5;28;01mawait\u001b[39;00m \u001b[38;5;28mself\u001b[39m\u001b[38;5;241m.\u001b[39m_isdir(p))\n\u001b[1;32m    640\u001b[0m     ]\n",
      "File \u001b[0;32m/opt/conda/lib/python3.12/site-packages/fsspec/asyn.py:871\u001b[0m, in \u001b[0;36mAsyncFileSystem._expand_path\u001b[0;34m(self, path, recursive, maxdepth)\u001b[0m\n\u001b[1;32m    868\u001b[0m     \u001b[38;5;28;01mraise\u001b[39;00m \u001b[38;5;167;01mValueError\u001b[39;00m(\u001b[38;5;124m\"\u001b[39m\u001b[38;5;124mmaxdepth must be at least 1\u001b[39m\u001b[38;5;124m\"\u001b[39m)\n\u001b[1;32m    870\u001b[0m \u001b[38;5;28;01mif\u001b[39;00m \u001b[38;5;28misinstance\u001b[39m(path, \u001b[38;5;28mstr\u001b[39m):\n\u001b[0;32m--> 871\u001b[0m     out \u001b[38;5;241m=\u001b[39m \u001b[38;5;28;01mawait\u001b[39;00m \u001b[38;5;28mself\u001b[39m\u001b[38;5;241m.\u001b[39m_expand_path([path], recursive, maxdepth)\n\u001b[1;32m    872\u001b[0m \u001b[38;5;28;01melse\u001b[39;00m:\n\u001b[1;32m    873\u001b[0m     out \u001b[38;5;241m=\u001b[39m \u001b[38;5;28mset\u001b[39m()\n",
      "File \u001b[0;32m/opt/conda/lib/python3.12/site-packages/fsspec/asyn.py:894\u001b[0m, in \u001b[0;36mAsyncFileSystem._expand_path\u001b[0;34m(self, path, recursive, maxdepth)\u001b[0m\n\u001b[1;32m    892\u001b[0m     \u001b[38;5;28;01mcontinue\u001b[39;00m\n\u001b[1;32m    893\u001b[0m \u001b[38;5;28;01melif\u001b[39;00m recursive:\n\u001b[0;32m--> 894\u001b[0m     rec \u001b[38;5;241m=\u001b[39m \u001b[38;5;28mset\u001b[39m(\u001b[38;5;28;01mawait\u001b[39;00m \u001b[38;5;28mself\u001b[39m\u001b[38;5;241m.\u001b[39m_find(p, maxdepth\u001b[38;5;241m=\u001b[39mmaxdepth, withdirs\u001b[38;5;241m=\u001b[39m\u001b[38;5;28;01mTrue\u001b[39;00m))\n\u001b[1;32m    895\u001b[0m     out \u001b[38;5;241m|\u001b[39m\u001b[38;5;241m=\u001b[39m rec\n\u001b[1;32m    896\u001b[0m \u001b[38;5;28;01mif\u001b[39;00m p \u001b[38;5;129;01mnot\u001b[39;00m \u001b[38;5;129;01min\u001b[39;00m out \u001b[38;5;129;01mand\u001b[39;00m (recursive \u001b[38;5;129;01mis\u001b[39;00m \u001b[38;5;28;01mFalse\u001b[39;00m \u001b[38;5;129;01mor\u001b[39;00m (\u001b[38;5;28;01mawait\u001b[39;00m \u001b[38;5;28mself\u001b[39m\u001b[38;5;241m.\u001b[39m_exists(p))):\n\u001b[1;32m    897\u001b[0m     \u001b[38;5;66;03m# should only check once, for the root\u001b[39;00m\n",
      "File \u001b[0;32m/opt/conda/lib/python3.12/site-packages/s3fs/core.py:859\u001b[0m, in \u001b[0;36mS3FileSystem._find\u001b[0;34m(self, path, maxdepth, withdirs, detail, prefix, **kwargs)\u001b[0m\n\u001b[1;32m    843\u001b[0m     \u001b[38;5;28;01mreturn\u001b[39;00m \u001b[38;5;28;01mawait\u001b[39;00m \u001b[38;5;28msuper\u001b[39m()\u001b[38;5;241m.\u001b[39m_find(\n\u001b[1;32m    844\u001b[0m         bucket \u001b[38;5;241m+\u001b[39m \u001b[38;5;124m\"\u001b[39m\u001b[38;5;124m/\u001b[39m\u001b[38;5;124m\"\u001b[39m \u001b[38;5;241m+\u001b[39m key,\n\u001b[1;32m    845\u001b[0m         maxdepth\u001b[38;5;241m=\u001b[39mmaxdepth,\n\u001b[0;32m   (...)\u001b[0m\n\u001b[1;32m    848\u001b[0m         \u001b[38;5;241m*\u001b[39m\u001b[38;5;241m*\u001b[39mkwargs,\n\u001b[1;32m    849\u001b[0m     )\n\u001b[1;32m    850\u001b[0m \u001b[38;5;66;03m# TODO: implement find from dircache, if all listings are present\u001b[39;00m\n\u001b[1;32m    851\u001b[0m \u001b[38;5;66;03m# if refresh is False:\u001b[39;00m\n\u001b[1;32m    852\u001b[0m \u001b[38;5;66;03m#     out = incomplete_tree_dirs(self.dircache, path)\u001b[39;00m\n\u001b[0;32m   (...)\u001b[0m\n\u001b[1;32m    857\u001b[0m \u001b[38;5;66;03m#         return super().find(path)\u001b[39;00m\n\u001b[1;32m    858\u001b[0m \u001b[38;5;66;03m#     # else: we refresh anyway, having at least two missing trees\u001b[39;00m\n\u001b[0;32m--> 859\u001b[0m out \u001b[38;5;241m=\u001b[39m \u001b[38;5;28;01mawait\u001b[39;00m \u001b[38;5;28mself\u001b[39m\u001b[38;5;241m.\u001b[39m_lsdir(path, delimiter\u001b[38;5;241m=\u001b[39m\u001b[38;5;124m\"\u001b[39m\u001b[38;5;124m\"\u001b[39m, prefix\u001b[38;5;241m=\u001b[39mprefix, \u001b[38;5;241m*\u001b[39m\u001b[38;5;241m*\u001b[39mkwargs)\n\u001b[1;32m    860\u001b[0m \u001b[38;5;28;01mif\u001b[39;00m (\u001b[38;5;129;01mnot\u001b[39;00m out \u001b[38;5;129;01mand\u001b[39;00m key) \u001b[38;5;129;01mand\u001b[39;00m \u001b[38;5;129;01mnot\u001b[39;00m prefix:\n\u001b[1;32m    861\u001b[0m     \u001b[38;5;28;01mtry\u001b[39;00m:\n",
      "File \u001b[0;32m/opt/conda/lib/python3.12/site-packages/s3fs/core.py:747\u001b[0m, in \u001b[0;36mS3FileSystem._lsdir\u001b[0;34m(self, path, refresh, max_items, delimiter, prefix, versions)\u001b[0m\n\u001b[1;32m    745\u001b[0m     files \u001b[38;5;241m+\u001b[39m\u001b[38;5;241m=\u001b[39m dirs\n\u001b[1;32m    746\u001b[0m \u001b[38;5;28;01mexcept\u001b[39;00m ClientError \u001b[38;5;28;01mas\u001b[39;00m e:\n\u001b[0;32m--> 747\u001b[0m     \u001b[38;5;28;01mraise\u001b[39;00m translate_boto_error(e)\n\u001b[1;32m    749\u001b[0m \u001b[38;5;28;01mif\u001b[39;00m delimiter \u001b[38;5;129;01mand\u001b[39;00m files \u001b[38;5;129;01mand\u001b[39;00m \u001b[38;5;129;01mnot\u001b[39;00m versions:\n\u001b[1;32m    750\u001b[0m     \u001b[38;5;28mself\u001b[39m\u001b[38;5;241m.\u001b[39mdircache[path] \u001b[38;5;241m=\u001b[39m files\n",
      "\u001b[0;31mOSError\u001b[0m: [Errno 5] An error occurred (InvalidTokenId) when calling the ListObjectsV2 operation: The security token included in the request is invalid"
     ]
    }
   ],
   "source": [
    "s3_path = \"projet-llm-insee-open-data/data/chroma_database/experiment/dirag/\"\n",
    "local_path = \"data/chroma_db_checkpoint/\"\n",
    "\n",
    "fs.download(\n",
    "    rpath=s3_path,\n",
    "    lpath=local_path,\n",
    "    recursive=True,\n",
    ")"
   ]
  },
  {
   "cell_type": "markdown",
   "metadata": {},
   "source": [
    "On _load_ la base dans `Python` grâce à `langchain`"
   ]
  },
  {
   "cell_type": "code",
   "execution_count": 3,
   "metadata": {},
   "outputs": [
    {
     "name": "stderr",
     "output_type": "stream",
     "text": [
      "/opt/conda/lib/python3.12/site-packages/tqdm/auto.py:21: TqdmWarning: IProgress not found. Please update jupyter and ipywidgets. See https://ipywidgets.readthedocs.io/en/stable/user_install.html\n",
      "  from .autonotebook import tqdm as notebook_tqdm\n",
      "\u001b[32m2025-02-13 12:50:24.614\u001b[0m | \u001b[1mINFO    \u001b[0m | \u001b[36msrc.db_building.build_database\u001b[0m:\u001b[36mload_vector_database_from_local\u001b[0m:\u001b[36m125\u001b[0m - \u001b[1mLoading Chroma vector database from local session\u001b[0m\n",
      "\u001b[32m2025-02-13 12:50:27.377\u001b[0m | \u001b[1mINFO    \u001b[0m | \u001b[36msrc.db_building.build_database\u001b[0m:\u001b[36mload_vector_database_from_local\u001b[0m:\u001b[36m145\u001b[0m - \u001b[1mDatabase (collection insee_data) reloaded from directory data/chroma_db_checkpoint/\u001b[0m\n"
     ]
    }
   ],
   "source": [
    "from src.db_building.build_database import load_vector_database_from_local\n",
    "\n",
    "db = load_vector_database_from_local(\n",
    "    persist_directory=\"data/chroma_db_checkpoint/\", embedding_model=\"OrdalieTech/Solon-embeddings-large-0.1\"\n",
    ")"
   ]
  },
  {
   "cell_type": "markdown",
   "metadata": {},
   "source": [
    "On vérifie juste que ça fonctionne sur une requête simple"
   ]
  },
  {
   "cell_type": "code",
   "execution_count": 4,
   "metadata": {},
   "outputs": [
    {
     "name": "stderr",
     "output_type": "stream",
     "text": [
      "Batches: 100%|██████████| 1/1 [00:02<00:00,  2.73s/it]\n"
     ]
    },
    {
     "data": {
      "text/plain": [
       "[Document(id='116f4dd4-9e68-4685-a466-59e1db88b52d', metadata={'categorie': 'Publications grand public', 'collection': 'Insee Analyses', 'dateDiffusion': '2017-03-21 16:00', 'libelleAffichageGeo': 'Guadeloupe', 'theme': 'Dynamique des territoires', 'titre': 'Nord Grande-Terre\\xa0: une expansion urbaine, une identité rurale', 'url': 'https://www.insee.fr/fr/statistiques/2661121'}, page_content='. Cette prédominance sectorielle (figure\\xa04) expose l’économie compte tenu de son poids relatif, de l’environnement concurrentiel du secteur et de l’aléa climatique. La résistance de l’agriculture sur le territoire est portée par les grandes cultures (notamment la canne). L’hébergement médico-social et l’action sociale représentent près de 9\\xa0% du total des emplois (7\\xa0% dans le reste de la Guadeloupe) en relation avec le vieillissement de la population et le faible niveau de revenus des ménages.\\n\\nPar ailleurs, le secteur tertiaire est fortement sous-représenté. Les cinq activités que sont «\\xa0information-communication\\xa0», «\\xa0hébergement-restauration\\xa0», «\\xa0services administratifs, scientifiques et techniques\\xa0», «\\xa0activités spécialisées et de soutien\\xa0» et «\\xa0activités immobilières\\xa0» concentrent moins de 10\\xa0% des emplois (contre près de 20\\xa0% ailleurs dans le département). Ainsi, les activités de commerce, transport et services divers concentrent 62\\xa0% des établissements marchands non agricoles de la CANGT (68\\xa0% dans le reste de la région). L’administration publique est également moins présente avec 12\\xa0% des emplois (contre 15\\xa0% dans le reste du département). C’est aussi le cas pour les activités de santé avec 6\\xa0% (8\\xa0% ailleurs en Guadeloupe) dont il faut relativiser l’écart, le CHU de Pointe-à-Pitre étant le premier employeur de Guadeloupe.\\n\\n### Spécialisation, concentration et dépendance de l’emploi\\n\\nOn retrouve une forte concentration de l’emploi. Les cinq plus grands employeurs de la sphère publique regroupent 16\\xa0% des postes du Nord Grande-Terre (sept points de plus que dans le reste du département). Dans la sphère privée, les cinq plus grands établissements concentrent 9\\xa0% du total des postes du territoire, soit près de cinq fois plus qu’ailleurs en Guadeloupe'),\n",
       " Document(id='53fdbd96-59cb-40bc-b2fa-7a50504d53bc', metadata={'categorie': 'Publications grand public', 'collection': 'Insee Analyses', 'dateDiffusion': '2017-03-21 16:00', 'libelleAffichageGeo': 'Guadeloupe', 'theme': 'Dynamique des territoires', 'titre': 'Nord Grande-Terre\\xa0: une expansion urbaine, une identité rurale', 'url': 'https://www.insee.fr/fr/statistiques/2661121'}, page_content='. Cette prédominance sectorielle (figure\\xa04) expose l’économie compte tenu de son poids relatif, de l’environnement concurrentiel du secteur et de l’aléa climatique. La résistance de l’agriculture sur le territoire est portée par les grandes cultures (notamment la canne). L’hébergement médico-social et l’action sociale représentent près de 9\\xa0% du total des emplois (7\\xa0% dans le reste de la Guadeloupe) en relation avec le vieillissement de la population et le faible niveau de revenus des ménages.\\n\\nPar ailleurs, le secteur tertiaire est fortement sous-représenté. Les cinq activités que sont «\\xa0information-communication\\xa0», «\\xa0hébergement-restauration\\xa0», «\\xa0services administratifs, scientifiques et techniques\\xa0», «\\xa0activités spécialisées et de soutien\\xa0» et «\\xa0activités immobilières\\xa0» concentrent moins de 10\\xa0% des emplois (contre près de 20\\xa0% ailleurs dans le département). Ainsi, les activités de commerce, transport et services divers concentrent 62\\xa0% des établissements marchands non agricoles de la CANGT (68\\xa0% dans le reste de la région). L’administration publique est également moins présente avec 12\\xa0% des emplois (contre 15\\xa0% dans le reste du département). C’est aussi le cas pour les activités de santé avec 6\\xa0% (8\\xa0% ailleurs en Guadeloupe) dont il faut relativiser l’écart, le CHU de Pointe-à-Pitre étant le premier employeur de Guadeloupe.\\n\\n### Spécialisation, concentration et dépendance de l’emploi\\n\\nOn retrouve une forte concentration de l’emploi. Les cinq plus grands employeurs de la sphère publique regroupent 16\\xa0% des postes du Nord Grande-Terre (sept points de plus que dans le reste du département). Dans la sphère privée, les cinq plus grands établissements concentrent 9\\xa0% du total des postes du territoire, soit près de cinq fois plus qu’ailleurs en Guadeloupe'),\n",
       " Document(id='3b746383-67e3-4192-a5e9-b102360f725a', metadata={'categorie': 'Publications grand public', 'collection': 'Insee Dossier', 'dateDiffusion': '2017-12-22 17:00', 'libelleAffichageGeo': 'Guadeloupe', 'theme': 'Emploi – Population active', 'titre': 'Métiers en tension en Guadeloupe : Un marché de l’emploi dominé par les seniors', 'url': 'https://www.insee.fr/fr/statistiques/3294516'}, page_content='# Métiers en tension en Guadeloupe : Un marché de l’emploi dominé par les seniors\\n\\nLanwenn LE CORRE\\n## Résumé :\\n\\nAvant - Propos\\n\\nVue d’ensemble - Un marché de l’emploi dominé par les seniors\\n\\nAgriculture, marine, pêche - Une forte proportion de seniors dans un secteur fragile\\n\\nBâtiment, travaux publics - Un manque d’attrait des métiers du gros œuvre\\n\\nMaintenance - Un besoin de profils aussi bien spécialistes que polyvalents pour des métiers en constante évolution\\n\\nGestion, administrations des entreprises - Vers un besoin de qualification et de compétences plus élevées\\n\\nServices aux particuliers et aux collectivités - Le'),\n",
       " Document(id='32e8abd9-074c-4e9d-8ed4-9467a6b1922e', metadata={'categorie': 'Publications grand public', 'collection': 'Insee Dossier', 'dateDiffusion': '2017-12-22 17:00', 'libelleAffichageGeo': 'Guadeloupe', 'theme': 'Emploi – Population active', 'titre': 'Métiers en tension en Guadeloupe : Un marché de l’emploi dominé par les seniors', 'url': 'https://www.insee.fr/fr/statistiques/3294516'}, page_content='# Métiers en tension en Guadeloupe : Un marché de l’emploi dominé par les seniors\\n\\nLanwenn LE CORRE\\n## Résumé :\\n\\nAvant - Propos\\n\\nVue d’ensemble - Un marché de l’emploi dominé par les seniors\\n\\nAgriculture, marine, pêche - Une forte proportion de seniors dans un secteur fragile\\n\\nBâtiment, travaux publics - Un manque d’attrait des métiers du gros œuvre\\n\\nMaintenance - Un besoin de profils aussi bien spécialistes que polyvalents pour des métiers en constante évolution\\n\\nGestion, administrations des entreprises - Vers un besoin de qualification et de compétences plus élevées\\n\\nServices aux particuliers et aux collectivités - Le')]"
      ]
     },
     "execution_count": 4,
     "metadata": {},
     "output_type": "execute_result"
    }
   ],
   "source": [
    "db.similarity_search(\"quel est le secteur dominant en guadeloupe?\")"
   ]
  },
  {
   "cell_type": "markdown",
   "metadata": {},
   "source": [
    "On transforme en `retriever` langchain"
   ]
  },
  {
   "cell_type": "code",
   "execution_count": 7,
   "metadata": {},
   "outputs": [],
   "source": [
    "from src.db_building import load_retriever\n",
    "\n",
    "retriever, vectorstore = load_retriever(\n",
    "    vectorstore=db,\n",
    "    retriever_params={\"search_type\": \"similarity\", \"search_kwargs\": {\"k\": 10}},\n",
    ")"
   ]
  },
  {
   "cell_type": "code",
   "execution_count": null,
   "metadata": {},
   "outputs": [
    {
     "name": "stderr",
     "output_type": "stream",
     "text": [
      "Batches: 100%|██████████| 1/1 [00:00<00:00, 16.85it/s]\n"
     ]
    },
    {
     "data": {
      "text/html": [
       "<div>\n",
       "<style scoped>\n",
       "    .dataframe tbody tr th:only-of-type {\n",
       "        vertical-align: middle;\n",
       "    }\n",
       "\n",
       "    .dataframe tbody tr th {\n",
       "        vertical-align: top;\n",
       "    }\n",
       "\n",
       "    .dataframe thead th {\n",
       "        text-align: right;\n",
       "    }\n",
       "</style>\n",
       "<table border=\"1\" class=\"dataframe\">\n",
       "  <thead>\n",
       "    <tr style=\"text-align: right;\">\n",
       "      <th></th>\n",
       "      <th>categorie</th>\n",
       "      <th>collection</th>\n",
       "      <th>dateDiffusion</th>\n",
       "      <th>libelleAffichageGeo</th>\n",
       "      <th>theme</th>\n",
       "      <th>titre</th>\n",
       "      <th>url</th>\n",
       "    </tr>\n",
       "  </thead>\n",
       "  <tbody>\n",
       "    <tr>\n",
       "      <th>0</th>\n",
       "      <td>Communiqués de presse</td>\n",
       "      <td></td>\n",
       "      <td>2016-05-20 10:36</td>\n",
       "      <td>Guyane</td>\n",
       "      <td></td>\n",
       "      <td>Les aides publiques aux entreprises soutiennen...</td>\n",
       "      <td>https://www.insee.fr/fr/information/2128527</td>\n",
       "    </tr>\n",
       "    <tr>\n",
       "      <th>1</th>\n",
       "      <td>Communiqués de presse</td>\n",
       "      <td></td>\n",
       "      <td>2016-05-20 10:36</td>\n",
       "      <td>Guyane</td>\n",
       "      <td></td>\n",
       "      <td>Les aides publiques aux entreprises soutiennen...</td>\n",
       "      <td>https://www.insee.fr/fr/information/2128527</td>\n",
       "    </tr>\n",
       "    <tr>\n",
       "      <th>2</th>\n",
       "      <td>Publications grand public</td>\n",
       "      <td>Insee Analyses</td>\n",
       "      <td>2015-06-09 15:00</td>\n",
       "      <td>Guyane</td>\n",
       "      <td>Caractéristiques des entreprises</td>\n",
       "      <td>Les aides publiques à l’emploi, au financement...</td>\n",
       "      <td>https://www.insee.fr/fr/statistiques/1285882</td>\n",
       "    </tr>\n",
       "    <tr>\n",
       "      <th>3</th>\n",
       "      <td>Publications grand public</td>\n",
       "      <td>Insee Analyses</td>\n",
       "      <td>2015-06-09 15:00</td>\n",
       "      <td>Guyane</td>\n",
       "      <td>Caractéristiques des entreprises</td>\n",
       "      <td>Les aides publiques à l’emploi, au financement...</td>\n",
       "      <td>https://www.insee.fr/fr/statistiques/1285882</td>\n",
       "    </tr>\n",
       "    <tr>\n",
       "      <th>4</th>\n",
       "      <td>Publications grand public</td>\n",
       "      <td>Insee Analyses</td>\n",
       "      <td>2014-11-18 15:59</td>\n",
       "      <td>Guyane</td>\n",
       "      <td>Mondialisation, compétitivité et innovation</td>\n",
       "      <td>En Guyane, six entreprises sur dix ont innové ...</td>\n",
       "      <td>https://www.insee.fr/fr/statistiques/1285698</td>\n",
       "    </tr>\n",
       "    <tr>\n",
       "      <th>5</th>\n",
       "      <td>Publications grand public</td>\n",
       "      <td>Insee Analyses</td>\n",
       "      <td>2014-11-18 15:59</td>\n",
       "      <td>Guyane</td>\n",
       "      <td>Mondialisation, compétitivité et innovation</td>\n",
       "      <td>En Guyane, six entreprises sur dix ont innové ...</td>\n",
       "      <td>https://www.insee.fr/fr/statistiques/1285698</td>\n",
       "    </tr>\n",
       "    <tr>\n",
       "      <th>6</th>\n",
       "      <td>Publications grand public</td>\n",
       "      <td>Insee Analyses</td>\n",
       "      <td>2016-05-20 16:00</td>\n",
       "      <td>Guyane</td>\n",
       "      <td>Démographie et créations des entreprises</td>\n",
       "      <td>Les aides publiques aux entreprises soutiennen...</td>\n",
       "      <td>https://www.insee.fr/fr/statistiques/2019605</td>\n",
       "    </tr>\n",
       "    <tr>\n",
       "      <th>7</th>\n",
       "      <td>Publications grand public</td>\n",
       "      <td>Insee Analyses</td>\n",
       "      <td>2016-05-20 16:00</td>\n",
       "      <td>Guyane</td>\n",
       "      <td>Démographie et créations des entreprises</td>\n",
       "      <td>Les aides publiques aux entreprises soutiennen...</td>\n",
       "      <td>https://www.insee.fr/fr/statistiques/2019605</td>\n",
       "    </tr>\n",
       "    <tr>\n",
       "      <th>8</th>\n",
       "      <td>Publications grand public</td>\n",
       "      <td>Insee Analyses</td>\n",
       "      <td>2015-06-09 15:00</td>\n",
       "      <td>Guyane</td>\n",
       "      <td>Caractéristiques des entreprises</td>\n",
       "      <td>Les aides publiques à l’emploi, au financement...</td>\n",
       "      <td>https://www.insee.fr/fr/statistiques/1285882</td>\n",
       "    </tr>\n",
       "    <tr>\n",
       "      <th>9</th>\n",
       "      <td>Publications grand public</td>\n",
       "      <td>Insee Analyses</td>\n",
       "      <td>2015-06-09 15:00</td>\n",
       "      <td>Guyane</td>\n",
       "      <td>Caractéristiques des entreprises</td>\n",
       "      <td>Les aides publiques à l’emploi, au financement...</td>\n",
       "      <td>https://www.insee.fr/fr/statistiques/1285882</td>\n",
       "    </tr>\n",
       "  </tbody>\n",
       "</table>\n",
       "</div>"
      ],
      "text/plain": [
       "                   categorie      collection     dateDiffusion  \\\n",
       "0      Communiqués de presse                  2016-05-20 10:36   \n",
       "1      Communiqués de presse                  2016-05-20 10:36   \n",
       "2  Publications grand public  Insee Analyses  2015-06-09 15:00   \n",
       "3  Publications grand public  Insee Analyses  2015-06-09 15:00   \n",
       "4  Publications grand public  Insee Analyses  2014-11-18 15:59   \n",
       "5  Publications grand public  Insee Analyses  2014-11-18 15:59   \n",
       "6  Publications grand public  Insee Analyses  2016-05-20 16:00   \n",
       "7  Publications grand public  Insee Analyses  2016-05-20 16:00   \n",
       "8  Publications grand public  Insee Analyses  2015-06-09 15:00   \n",
       "9  Publications grand public  Insee Analyses  2015-06-09 15:00   \n",
       "\n",
       "  libelleAffichageGeo                                        theme  \\\n",
       "0              Guyane                                                \n",
       "1              Guyane                                                \n",
       "2              Guyane             Caractéristiques des entreprises   \n",
       "3              Guyane             Caractéristiques des entreprises   \n",
       "4              Guyane  Mondialisation, compétitivité et innovation   \n",
       "5              Guyane  Mondialisation, compétitivité et innovation   \n",
       "6              Guyane     Démographie et créations des entreprises   \n",
       "7              Guyane     Démographie et créations des entreprises   \n",
       "8              Guyane             Caractéristiques des entreprises   \n",
       "9              Guyane             Caractéristiques des entreprises   \n",
       "\n",
       "                                               titre  \\\n",
       "0  Les aides publiques aux entreprises soutiennen...   \n",
       "1  Les aides publiques aux entreprises soutiennen...   \n",
       "2  Les aides publiques à l’emploi, au financement...   \n",
       "3  Les aides publiques à l’emploi, au financement...   \n",
       "4  En Guyane, six entreprises sur dix ont innové ...   \n",
       "5  En Guyane, six entreprises sur dix ont innové ...   \n",
       "6  Les aides publiques aux entreprises soutiennen...   \n",
       "7  Les aides publiques aux entreprises soutiennen...   \n",
       "8  Les aides publiques à l’emploi, au financement...   \n",
       "9  Les aides publiques à l’emploi, au financement...   \n",
       "\n",
       "                                            url  \n",
       "0   https://www.insee.fr/fr/information/2128527  \n",
       "1   https://www.insee.fr/fr/information/2128527  \n",
       "2  https://www.insee.fr/fr/statistiques/1285882  \n",
       "3  https://www.insee.fr/fr/statistiques/1285882  \n",
       "4  https://www.insee.fr/fr/statistiques/1285698  \n",
       "5  https://www.insee.fr/fr/statistiques/1285698  \n",
       "6  https://www.insee.fr/fr/statistiques/2019605  \n",
       "7  https://www.insee.fr/fr/statistiques/2019605  \n",
       "8  https://www.insee.fr/fr/statistiques/1285882  \n",
       "9  https://www.insee.fr/fr/statistiques/1285882  "
      ]
     },
     "execution_count": 12,
     "metadata": {},
     "output_type": "execute_result"
    }
   ],
   "source": [
    "retrieved_docs = retriever.invoke(\"subventions aux entreprises\")\n"
   ]
  },
  {
   "cell_type": "markdown",
   "metadata": {},
   "source": [
    "## Chain RAG vllm"
   ]
  },
  {
   "cell_type": "code",
   "execution_count": null,
   "metadata": {},
   "outputs": [],
   "source": [
    "import requests\n",
    "\n",
    "available_models = (\n",
    "    requests.get(\"https://projet-llm-insee-open-data-vllm.user.lab.sspcloud.fr/v1/models\").json().get(\"data\")\n",
    ")\n",
    "available_models = [model[\"id\"] for model in available_models]\n",
    "\n",
    "available_models"
   ]
  },
  {
   "cell_type": "code",
   "execution_count": null,
   "metadata": {},
   "outputs": [],
   "source": [
    "from langchain_core.output_parsers import StrOutputParser\n",
    "from langchain_core.runnables import RunnablePassthrough\n",
    "\n",
    "from src.utils import create_prompt_from_instructions, format_docs\n",
    "\n",
    "system_instructions = \"\"\"\n",
    "Tu es un assistant spécialisé dans la statistique publique.\n",
    "Tu réponds à des questions concernant les données de l'Insee, l'institut national statistique Français.\n",
    "\n",
    "Réponds en FRANCAIS UNIQUEMENT. Utilise une mise en forme au format markdown.\n",
    "\n",
    "En utilisant UNIQUEMENT les informations présentes dans le contexte, réponds de manière argumentée à la question posée.\n",
    "\n",
    "La réponse doit être développée et citer l'ensemble de ses sources (titre et url de la publication) qui sont référencées à la fin.\n",
    "Cite notamment l'url d'origine de la publication, dans un format markdown. un lien hypertext vers l'url de la source serait apprécié.\n",
    "\n",
    "Cite 10 sources maximum.\n",
    "\n",
    "Tu n'es pas obligé d'utiliser les sources les moins pertinentes.\n",
    "\n",
    "Si tu ne peux pas induire ta réponse du contexte, ne réponds pas.\n",
    "\n",
    "Voici le contexte sur lequel tu dois baser ta réponse :\n",
    "Contexte: {context}\n",
    "\"\"\"\n",
    "\n",
    "question_instructions = \"\"\"\n",
    "Voici la question à laquelle tu dois répondre :\n",
    "Question: {question}\n",
    "\n",
    "Réponse:\n",
    "\"\"\""
   ]
  },
  {
   "cell_type": "code",
   "execution_count": null,
   "metadata": {},
   "outputs": [],
   "source": [
    "from openai import OpenAI\n",
    "\n",
    "# Set OpenAI's API key and API base to use vLLM's API server.\n",
    "openai_api_key = \"EMPTY\"\n",
    "openai_api_base = \"https://projet-llm-insee-open-data-vllm.user.lab.sspcloud.fr/v1/\"\n",
    "\n",
    "client = OpenAI(\n",
    "    api_key=openai_api_key,\n",
    "    base_url=openai_api_base,\n",
    ")\n",
    "\n",
    "\n",
    "def statbot_from_vllm_api(\n",
    "    question, retriever, client, system_instructions=system_instructions, question_instructions=question_instructions\n",
    "):\n",
    "    prompt = create_prompt_from_instructions(system_instructions, question_instructions)\n",
    "    context = format_docs(retriever.invoke(question))\n",
    "\n",
    "    question_with_context = prompt.format(question=question, context=context)\n",
    "\n",
    "    chat_response = client.chat.completions.create(\n",
    "        model=available_models[0],\n",
    "        messages=[\n",
    "            {\"role\": \"system\", \"content\": system_instructions},\n",
    "            {\"role\": \"user\", \"content\": question_with_context},\n",
    "        ],\n",
    "    )\n",
    "    return chat_response, chat_response.choices[0].message.content"
   ]
  },
  {
   "cell_type": "code",
   "execution_count": null,
   "metadata": {},
   "outputs": [],
   "source": [
    "from IPython.display import Markdown, display\n",
    "\n",
    "_, answer = statbot_from_vllm_api(\n",
    "    \"Quelles sont les subventions spécifiques aux DOMS et leur effet sur le tissu productif ?\", retriever, client\n",
    ")\n",
    "display(Markdown(answer.replace(\"   \", \"\")))"
   ]
  },
  {
   "cell_type": "code",
   "execution_count": null,
   "metadata": {},
   "outputs": [],
   "source": [
    "_, answer = statbot_from_vllm_api(\"La Guadeloupe est-elle défavorisée par rapport à la Métropole ?\", retriever, client)\n",
    "display(Markdown(answer.replace(\"   \", \"\")))"
   ]
  },
  {
   "cell_type": "code",
   "execution_count": null,
   "metadata": {},
   "outputs": [],
   "source": [
    "_, answer = statbot_from_vllm_api(\"y a quoi à manger à la cantine ce soir?\", retriever, client)\n",
    "display(Markdown(answer.replace(\"   \", \"\")))"
   ]
  },
  {
   "cell_type": "markdown",
   "metadata": {},
   "source": [
    "## Chain RAG locale"
   ]
  },
  {
   "cell_type": "code",
   "execution_count": null,
   "metadata": {},
   "outputs": [],
   "source": [
    "from langchain_community.llms import VLLM\n",
    "\n",
    "from src.config import MODEL_TO_ARGS\n",
    "\n",
    "LLM_MODEL = \"mistralai/Mistral-7B-Instruct-v0.3\"\n",
    "\n",
    "llm = VLLM(model=LLM_MODEL, **MODEL_TO_ARGS.get(LLM_MODEL, {}))"
   ]
  },
  {
   "cell_type": "code",
   "execution_count": null,
   "metadata": {},
   "outputs": [],
   "source": [
    "system_instructions = \"\"\"\n",
    "Tu es un assistant spécialisé dans la statistique publique.\n",
    "Tu réponds à des questions concernant les données de l'Insee, l'institut national statistique Français.\n",
    "\n",
    "Réponds en FRANCAIS UNIQUEMENT. Utilise une mise en forme au format markdown.\n",
    "\n",
    "En utilisant UNIQUEMENT les informations présentes dans le contexte, réponds de manière argumentée à la question posée.\n",
    "\n",
    "La réponse doit être développée et citer ses sources (titre et url de la publication) qui sont référencées à la fin.\n",
    "Cite notamment l'url d'origine de la publication, dans un format markdown.\n",
    "\n",
    "Cite 5 sources maximum.\n",
    "\n",
    "Tu n'es pas obligé d'utiliser les sources les moins pertinentes.\n",
    "\n",
    "Si tu ne peux pas induire ta réponse du contexte, ne réponds pas.\n",
    "\n",
    "Voici le contexte sur lequel tu dois baser ta réponse :\n",
    "Contexte: {context}\n",
    "\"\"\"\n",
    "\n",
    "question_instructions = \"\"\"\n",
    "Voici la question à laquelle tu dois répondre :\n",
    "Question: {question}\n",
    "\n",
    "Réponse:\n",
    "\"\"\"\n",
    "\n",
    "prompt = create_prompt_from_instructions(system_instructions, question_instructions)\n",
    "\n",
    "rag_chain = {\"context\": retriever | format_docs, \"question\": RunnablePassthrough()} | prompt | llm | StrOutputParser()"
   ]
  },
  {
   "cell_type": "code",
   "execution_count": null,
   "metadata": {},
   "outputs": [],
   "source": [
    "from IPython.display import Markdown, display\n",
    "\n",
    "answer = rag_chain.invoke(\"Quel est le niveau de vie en Guadeloupe?\")\n",
    "\n",
    "display(Markdown(answer.replace(\"   \", \"\")))"
   ]
  }
 ],
 "metadata": {
  "kernelspec": {
   "display_name": "base",
   "language": "python",
   "name": "python3"
  },
  "language_info": {
   "codemirror_mode": {
    "name": "ipython",
    "version": 3
   },
   "file_extension": ".py",
   "mimetype": "text/x-python",
   "name": "python",
   "nbconvert_exporter": "python",
   "pygments_lexer": "ipython3",
   "version": "3.12.7"
  }
 },
 "nbformat": 4,
 "nbformat_minor": 2
}
